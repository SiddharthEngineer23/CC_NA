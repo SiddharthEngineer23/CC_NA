{
 "cells": [
  {
   "attachments": {},
   "cell_type": "markdown",
   "metadata": {},
   "source": [
    "# Change Point Detection Analysis\n",
    "\n",
    "This notebook will analysis the different methods to compute change point detection in the following files. One point of analysis is how to calculate the laplacian. Different ways of calculating the laplacian changes the results of the change point detection. \n",
    "\n",
    "To start our analysis we must first build our networks"
   ]
  },
  {
   "attachments": {},
   "cell_type": "markdown",
   "metadata": {},
   "source": [
    "### Loading in data:"
   ]
  },
  {
   "cell_type": "code",
   "execution_count": 113,
   "metadata": {},
   "outputs": [],
   "source": [
    "import pandas as pd\n",
    "import numpy as np\n",
    "import networkx as nx\n",
    "from typing import Set, Tuple, List"
   ]
  },
  {
   "cell_type": "code",
   "execution_count": 114,
   "metadata": {},
   "outputs": [],
   "source": [
    "def obtain_country_and_policies(df : pd.DataFrame) -> Tuple[Set, Set]:\n",
    "    county_nodes = set(df[\"ISO2\"].unique())\n",
    "    policy_nodes = set(df[\"CTS_Name\"].unique())\n",
    "    \n",
    "    return (county_nodes, policy_nodes)\n",
    "\n",
    "# Load in Subsidy data\n",
    "subsidy = pd.read_csv('input/policy/Fossil_Fuel_Subsidies.csv', index_col=0, keep_default_na=False, na_values=\"\")\n",
    "sub_country_nodes, sub_policy_nodes = obtain_country_and_policies(subsidy)\n",
    "# print(\"Number of Countries:\", len(subsidy_country_nodes))\n",
    "# print(\"Number of Subsidies:\", len(subsidy_policy_nodes))\n",
    "\n",
    "\n",
    "# Load in green bonds\n",
    "green_bonds = pd.read_csv(\"input/policy/Green_Bonds.csv\", index_col=0, keep_default_na=False, na_values=\"\")\n",
    "# Filtered Down to countries\n",
    "green_bonds = green_bonds[np.logical_not(green_bonds[\"ISO2\"].isna())]\n",
    "bond_country_nodes, bond_policy_nodes = obtain_country_and_policies(green_bonds)\n",
    "\n",
    "\n",
    "# Load in Taxes\n",
    "taxes = pd.read_csv(\"input/policy/Environmental_Taxes.csv\", index_col=0, keep_default_na=False, na_values=\"\")\n",
    "tax_country_nodes, tax_policy_nodes = obtain_country_and_policies(taxes)\n",
    "\n",
    "\n",
    "# Load in Expenditures:\n",
    "expenditures = pd.read_csv(\"input/policy/Environmental_Protection_Expenditures.csv\", index_col=0, keep_default_na=False, na_values=\"\")\n",
    "exp_country_nodes, exp_policy_nodes = obtain_country_and_policies(expenditures)"
   ]
  },
  {
   "attachments": {},
   "cell_type": "markdown",
   "metadata": {},
   "source": [
    "### Creating Multigraph\n",
    "\n",
    "We will be constructing a dataset that includes all policy types and all \n",
    "\n",
    "We will create a multigraph that has attributes for each edge and node allowing us to develop our entire graph at once. Each node will have an attribute called policy, which denotes what category of policy that node is in. For country nodes, the policy attribute can have multiple values as a country can participate in multiple different policy types, but for the policy nodes there can only be one value for that policy attribute\n",
    "\n",
    "Edges will have a single attribute, the year. Given a year, the graph will return the edges and connection between policies and countries in a given year."
   ]
  },
  {
   "attachments": {},
   "cell_type": "markdown",
   "metadata": {},
   "source": [
    "Now we need to add the nodes to the graph. We will first add all the country nodes with each node having an attribute called policy that lists what policies this country have implemented. With this list we can filter down the nodes to countries that have or are currently investing in a specific policy. "
   ]
  },
  {
   "cell_type": "code",
   "execution_count": 115,
   "metadata": {},
   "outputs": [],
   "source": [
    "G = nx.MultiGraph()\n",
    "\n",
    "# Territories are included in this.\n",
    "all_countries = tax_country_nodes | exp_country_nodes | bond_country_nodes | sub_country_nodes\n",
    "country_node_attributes = {}\n",
    "\n",
    "for country in all_countries:\n",
    "    policies = []\n",
    "    if country in tax_country_nodes:\n",
    "        policies.append(\"Environmental Taxes\")\n",
    "    if country in exp_country_nodes:\n",
    "        policies.append(\"Environmental Protection Expenditures\")\n",
    "    if country in bond_country_nodes:\n",
    "        policies.append(\"Green Bonds\")\n",
    "    if country in sub_country_nodes:\n",
    "        policies.append(\"Environmental Subsidies\")\n",
    "        \n",
    "    country_node_attributes[country] = {\"bipartite\" : 0, \"policies\" : policies}\n",
    "    \n",
    "G.add_nodes_from(all_countries)\n",
    "nx.set_node_attributes(G,country_node_attributes)\n",
    "    \n",
    "# Now we will add the policy nodes using a very similar approach:\n",
    "all_policies = tax_policy_nodes | exp_policy_nodes  | bond_policy_nodes  | sub_policy_nodes\n",
    "policy_node_attributes = {}\n",
    "\n",
    "for policy in all_policies:\n",
    "    policies = []\n",
    "    if policy in tax_policy_nodes:\n",
    "        policies.append(\"Environmental Taxes\")\n",
    "    elif policy in exp_policy_nodes:\n",
    "        policies.append(\"Environmental Protection Expenditures\")\n",
    "    elif policy in bond_policy_nodes:\n",
    "        policies.append(\"Green Bonds\")\n",
    "    elif policy in sub_policy_nodes:\n",
    "        policies.append(\"Environmental Subsidies\")\n",
    "        \n",
    "    policy_node_attributes[policy] = {\"bipartite\" : 1, \"policies\" : policies}\n",
    "    \n",
    "G.add_nodes_from(all_policies)\n",
    "nx.set_node_attributes(G, policy_node_attributes)"
   ]
  },
  {
   "attachments": {},
   "cell_type": "markdown",
   "metadata": {},
   "source": [
    "Now we need to add the edges between all the policies and their nodes"
   ]
  },
  {
   "cell_type": "code",
   "execution_count": 116,
   "metadata": {},
   "outputs": [],
   "source": [
    "def add_edges(G : nx.MultiGraph, df : pd.DataFrame, countries : Set[str], policies : Set[str]) -> List[int]:\n",
    "    \"\"\"Adds the edge data from the dataframe into the graph. Returns the list of years that this policy is invested in\n",
    "    \n",
    "    Returns a list of years where there were policies implemented\n",
    "    \"\"\"\n",
    "    \n",
    "    # obtain the columns that correspond to the year\n",
    "    years = df.filter(regex= \"F\\d\\d\\d\\d\", axis = 1).columns\n",
    "    df_temp = df.set_index(keys = [\"ISO2\", \"CTS_Name\"])\n",
    "    return_years = []\n",
    "    \n",
    "    edge_key = 0\n",
    "    for year in years:\n",
    "        year_edge_list = []\n",
    "        for ind in df_temp.index:\n",
    "            country = ind[0]\n",
    "            policy = ind[1]\n",
    "            weight = df_temp.loc[ind].at[year]\n",
    "            \n",
    "            if weight > 0:\n",
    "                edge_data = {\"weight\" : weight, \"year\" : int(year[1:])}\n",
    "                \n",
    "                edge = (country, policy, edge_key, edge_data) #create edge\n",
    "                year_edge_list.append(edge)\n",
    "                edge_key += 1\n",
    "\n",
    "        # Take out years with no policies\n",
    "        if not (len(year_edge_list) == 0):         \n",
    "            G.add_edges_from(year_edge_list)\n",
    "            return_years.append(int(year[1:]))\n",
    "    return return_years\n",
    "\n",
    "taxes_sub = taxes[taxes.Unit == \"Percent of GDP\"].fillna(0)\n",
    "tax_years = add_edges(G, taxes_sub, tax_country_nodes, tax_policy_nodes)\n",
    "\n",
    "green_bonds_sub = green_bonds.fillna(0)\n",
    "bond_years = add_edges(G, green_bonds_sub, bond_country_nodes, bond_policy_nodes)\n",
    "\n",
    "subsidy_sub = subsidy_sub = subsidy[subsidy[\"Unit\"] == \"Percent of GDP\"]\n",
    "subsidy_years = add_edges(G, subsidy_sub, sub_country_nodes, sub_policy_nodes)\n",
    "\n",
    "\n",
    "exp_sub = expenditures[expenditures[\"Unit\"] == \"Percent of GDP\"]\n",
    "exp_years = add_edges(G, exp_sub, exp_country_nodes, exp_policy_nodes)\n",
    "\n"
   ]
  },
  {
   "attachments": {},
   "cell_type": "markdown",
   "metadata": {},
   "source": [
    "Now that we have created a graph containing all the data, lets create methods to subgraph this multigraph so we can analysis specific policies or specific years"
   ]
  },
  {
   "cell_type": "code",
   "execution_count": 117,
   "metadata": {},
   "outputs": [],
   "source": [
    "def return_subgraph_year(G : nx.MultiGraph, year : int) -> nx.MultiGraph:\n",
    "    \"\"\"Helper function to return the subgraph of G for the specificed year\"\"\"\n",
    "    \n",
    "    # If a node has no edge, it will be removed. We don't want this so we make a copy of the nodes and will add them back into the graph latter.\n",
    "    sub_graph = nx.MultiGraph()\n",
    "    \n",
    "    # Add nodes to subgraph\n",
    "    nodes = G.nodes(data=True)\n",
    "    sub_graph.add_nodes_from(nodes)\n",
    "    \n",
    "    # Add edges to subgraph\n",
    "    edges = [(u, v, key, data) for u, v, key, data in G.edges(keys=True, data=True) if data[\"year\"] == year]\n",
    "    sub_graph.add_edges_from(edges)\n",
    "    \n",
    "    return sub_graph\n",
    "\n",
    "def return_subgraph_policy(G : nx.MultiGraph, filter_policy : str) -> nx.MultiGraph:\n",
    "    \"\"\"Helper function to return the subgraph of G for the specificed year\"\"\"\n",
    "    \n",
    "    sub_graph = nx.MultiGraph()\n",
    "    \n",
    "    # Adds subset of Nodes that are affiliated with a specific policy (Countries that take part in a type of policy)\n",
    "    nodes = [(node, data) for node, data in G.nodes(data=True) if filter_policy in data[\"policies\"]]\n",
    "    sub_graph.add_nodes_from(nodes)\n",
    "    \n",
    "    # Adds Edges between nodes \n",
    "    node_names = sub_graph.nodes()\n",
    "    edges = [(node_country, node_policy, key, data) for node_country, node_policy, key, data in G.edges(keys=True, data=True) if node_policy in node_names]\n",
    "    sub_graph.add_edges_from(edges)\n",
    "\n",
    "    return sub_graph"
   ]
  },
  {
   "attachments": {},
   "cell_type": "markdown",
   "metadata": {},
   "source": [
    "### Create Bidirectional Lookup table"
   ]
  },
  {
   "cell_type": "code",
   "execution_count": 118,
   "metadata": {},
   "outputs": [],
   "source": [
    "# Creates a Two-way look up table\n",
    "class TwoWayDict(dict):\n",
    "    \n",
    "    def __setitem__(self, key, value):\n",
    "        # Remove any previous connections with these values\n",
    "        if key in self:\n",
    "            del self[key]\n",
    "        if value in self:\n",
    "            del self[value]\n",
    "        dict.__setitem__(self, key, value)\n",
    "        dict.__setitem__(self, value, key)\n",
    "\n",
    "    def __delitem__(self, key):\n",
    "        dict.__delitem__(self, self[key])\n",
    "        dict.__delitem__(self, key)\n",
    "\n",
    "    def __len__(self):\n",
    "        \"\"\"Returns the number of connections\"\"\"\n",
    "        return dict.__len__(self) // 2\n",
    "    \n",
    "    def from_dict(self, user_dict):\n",
    "        for key, value in user_dict.items():\n",
    "            dict.__setitem__(self, key, value)\n",
    "            dict.__setitem__(self, value, key)\n",
    "    "
   ]
  },
  {
   "cell_type": "code",
   "execution_count": 119,
   "metadata": {},
   "outputs": [],
   "source": [
    "# Create Country Name Lookup Table\n",
    "country_name_conversion = pd.read_csv(\"input/wikipedia-iso-country-codes.csv\")\n",
    "country_name_conversion.rename(columns = {\"English short name lower case\" : \"Country Name\", \"Alpha-2 code\" : \"ISO2\", \"Alpha-3 code\" : \"ISO3\"}, inplace = True)\n",
    "\n",
    "two_way_country_lookup = TwoWayDict()\n",
    "oneway_lookup = country_name_conversion.set_index(\"Country Name\")[\"ISO2\"].to_dict()\n",
    "two_way_country_lookup.from_dict(oneway_lookup)"
   ]
  },
  {
   "attachments": {},
   "cell_type": "markdown",
   "metadata": {},
   "source": [
    "### Change Point Detection"
   ]
  },
  {
   "cell_type": "code",
   "execution_count": 120,
   "metadata": {},
   "outputs": [],
   "source": [
    "from typing import Callable\n",
    "\n",
    "def standard_laplacian(G: nx.MultiGraph) -> np.ndarray:\n",
    "    return nx.normalized_laplacian_matrix(G).toarray()\n",
    "\n",
    "\n",
    "def signless_laplacian(G:  nx.MultiGraph) -> np.ndarray:\n",
    "    A = nx.adjacency_matrix(G)\n",
    "    D = np.diag(nx.laplacian_matrix(G).diagonal())\n",
    "\n",
    "    return A + D\n",
    "\n",
    "# TODO: Ask Dr. Srini about this.\n",
    "def normalized_signless_laplacian(G:  nx.MultiGraph) -> np.ndarray:\n",
    "\n",
    "    laplac = signless_laplacian(G)\n",
    "    \n",
    "    max_value = np.max(laplac)\n",
    "    return laplac / max_value\n",
    "    # D = np.diag(nx.laplacian_matrix(G).diagonal())\n",
    "    # squared_D = np.linalg.matrix_power(D, 2)\n",
    "    # inv_D = np.linalg.inv(squared_D)\n",
    "    \n",
    "    # norm_laplac = inv_D @ laplac @ inv_D\n",
    "\n",
    "    # return norm_laplac\n",
    "\n",
    "\n",
    "\n",
    "# TODO: Add citation to the paper I got this information from\n",
    "def compute_year_signature(G : nx.MultiGraph, laplacian_func: Callable) -> np.ndarray:\n",
    "    \"\"\"_summary_\n",
    "\n",
    "    Args:\n",
    "        G (nx.MultiGraph): A Multigraph subgraph that depicts a specific year of a graph.\n",
    "        \n",
    "        laplacian_func (Callable): Either the normal laplacian or the signless laplacian\n",
    "\n",
    "    Returns:\n",
    "        np.ndarray: Returns a numpy array containing a numeric signature of a year\n",
    "    \"\"\"\n",
    "    \n",
    "    laplacian = laplacian_func(G)\n",
    "    singular_values = np.linalg.svd(laplacian)[1]\n",
    "    l2_norm = np.linalg.norm(singular_values, ord = 2)\n",
    "    norm_singluar_values = singular_values / l2_norm\n",
    "    \n",
    "    return norm_singluar_values\n",
    "    \n",
    "\n",
    "def change_point_detection(windowSize: int, G : nx.MultiGraph, years : List[int], laplacian_func: Callable) -> Tuple[List[float], List[int]]:\n",
    "    \"\"\"\n",
    "    Given series of network graphs\n",
    "\n",
    "    Args:\n",
    "        windowSize (int): _description_\n",
    "        G (MultiGraph): A networkx Multigraph that has a single policy attribute across all nodes\n",
    "        years (List[int]): A list of years to compute change detection over\n",
    "\n",
    "    Returns:\n",
    "        _type_: _description_\n",
    "    \"\"\"\n",
    "\n",
    "    dict_signatures = {}\n",
    "    # Compute the signatures for each person\n",
    "    for year in years:\n",
    "        sub_G = return_subgraph_year(G, year)\n",
    "        dict_signatures[year] = compute_year_signature(sub_G, laplacian_func)\n",
    "\n",
    "\n",
    "    window_dicts = {}\n",
    "    for i in range(len(years) - windowSize):\n",
    "        year_subset = years[i:i+windowSize]\n",
    "\n",
    "        weights_avg_list = []\n",
    "\n",
    "        for year in year_subset:\n",
    "            weights_avg_list.append(dict_signatures[year])\n",
    "    \n",
    "        weights_avg = np.stack(weights_avg_list, axis = 1).mean(axis = 1)\n",
    "\n",
    "        window_dicts[years[windowSize + i]] = weights_avg / np.linalg.norm(weights_avg, ord = 2)\n",
    "        \n",
    "\n",
    "    Z_list = []\n",
    "    year_list = []\n",
    "\n",
    "    for year in window_dicts.keys():\n",
    "        baseline = window_dicts[year]\n",
    "        single_year = dict_signatures[year]\n",
    "\n",
    "        Z = 1-np.transpose(single_year) @ baseline\n",
    "\n",
    "        Z_list.append(Z)\n",
    "        year_list.append(year)\n",
    "\n",
    "    return (Z_list, year_list)\n",
    "    "
   ]
  },
  {
   "cell_type": "code",
   "execution_count": 121,
   "metadata": {},
   "outputs": [],
   "source": [
    "policy_G = return_subgraph_policy(G, \"Green Bonds\")\n",
    "year_G = return_subgraph_year(policy_G, 2021)"
   ]
  },
  {
   "cell_type": "code",
   "execution_count": 122,
   "metadata": {},
   "outputs": [
    {
     "name": "stderr",
     "output_type": "stream",
     "text": [
      "/var/folders/19/6hz5c0tn7g317trnm9tqf_900000gn/T/ipykernel_73839/3517448403.py:8: FutureWarning: adjacency_matrix will return a scipy.sparse array instead of a matrix in Networkx 3.0.\n",
      "  A = nx.adjacency_matrix(G)\n",
      "<class 'networkx.utils.decorators.argmap'> compilation 4:4: FutureWarning: laplacian_matrix will return a scipy.sparse array instead of a matrix in Networkx 3.0.\n",
      "<class 'networkx.utils.decorators.argmap'> compilation 8:4: FutureWarning: normalized_laplacian_matrix will return a scipy.sparse array instead of a matrix in Networkx 3.0.\n"
     ]
    },
    {
     "data": {
      "text/plain": [
       "<matplotlib.legend.Legend at 0x138e719d0>"
      ]
     },
     "execution_count": 122,
     "metadata": {},
     "output_type": "execute_result"
    },
    {
     "data": {
      "image/png": "[encoded data removed]",
      "text/plain": [
       "<Figure size 640x480 with 2 Axes>"
      ]
     },
     "metadata": {},
     "output_type": "display_data"
    }
   ],
   "source": [
    "import matplotlib.pyplot as plt\n",
    "from copy import deepcopy\n",
    "\n",
    "# (\"Environmental Taxes\")\n",
    "# (\"Environmental Protection Expenditures\")\n",
    "# (\"Green Bonds\")\n",
    "# (\"Environmental Subsidies\")\n",
    "\n",
    "window_size = 5\n",
    "# sub_G = return_subgraph_policy(G, \"Green Bonds\")\n",
    "G_copy = deepcopy(G)\n",
    "years = bond_years\n",
    "\n",
    "Z_list_signless, year_list_signless = change_point_detection(window_size, G_copy, years, normalized_signless_laplacian)\n",
    "Z_list_stand, year_list_stand = change_point_detection(window_size, G_copy, years, standard_laplacian)\n",
    "\n",
    "\n",
    "fig, ax1 = plt.subplots()\n",
    "\n",
    "ax1.plot(year_list_stand, Z_list_stand, label = \"Standard\",  c = \"C0\")\n",
    "ax1.set_xlabel(\"Year\")\n",
    "ax1.set_ylabel(\"Standard Scale\")\n",
    "\n",
    "ax2 = ax1.twinx()\n",
    "ax2.plot(year_list_signless, Z_list_signless, label = \"Signless\", c = \"C1\")\n",
    "ax2.set_ylabel(\"Signless Scale\")\n",
    "\n",
    "ax1.set_title(\"Standard versus Signless Laplacian \\nin Change Point Detection\")\n",
    "fig.legend(loc = 1)\n"
   ]
  },
  {
   "attachments": {},
   "cell_type": "markdown",
   "metadata": {},
   "source": [
    "From the graphs above it appears that the signless laplacian places more weight on the change in the year 2000. This is very interesting."
   ]
  },
  {
   "cell_type": "code",
   "execution_count": 123,
   "metadata": {},
   "outputs": [
    {
     "data": {
      "text/html": [
       "<div>\n",
       "<style scoped>\n",
       "    .dataframe tbody tr th:only-of-type {\n",
       "        vertical-align: middle;\n",
       "    }\n",
       "\n",
       "    .dataframe tbody tr th {\n",
       "        vertical-align: top;\n",
       "    }\n",
       "\n",
       "    .dataframe thead th {\n",
       "        text-align: right;\n",
       "    }\n",
       "</style>\n",
       "<table border=\"1\" class=\"dataframe\">\n",
       "  <thead>\n",
       "    <tr style=\"text-align: right;\">\n",
       "      <th></th>\n",
       "      <th>Country</th>\n",
       "      <th>ISO2</th>\n",
       "      <th>ISO3</th>\n",
       "      <th>Indicator</th>\n",
       "      <th>Unit</th>\n",
       "      <th>Source</th>\n",
       "      <th>F1985</th>\n",
       "      <th>F1986</th>\n",
       "      <th>F1987</th>\n",
       "      <th>F1990</th>\n",
       "      <th>F1991</th>\n",
       "      <th>F1992</th>\n",
       "      <th>F1993</th>\n",
       "      <th>F1994</th>\n",
       "      <th>F1999</th>\n",
       "      <th>F2000</th>\n",
       "      <th>F2002</th>\n",
       "      <th>F2003</th>\n",
       "      <th>F2004</th>\n",
       "      <th>F2007</th>\n",
       "    </tr>\n",
       "    <tr>\n",
       "      <th>ObjectId</th>\n",
       "      <th></th>\n",
       "      <th></th>\n",
       "      <th></th>\n",
       "      <th></th>\n",
       "      <th></th>\n",
       "      <th></th>\n",
       "      <th></th>\n",
       "      <th></th>\n",
       "      <th></th>\n",
       "      <th></th>\n",
       "      <th></th>\n",
       "      <th></th>\n",
       "      <th></th>\n",
       "      <th></th>\n",
       "      <th></th>\n",
       "      <th></th>\n",
       "      <th></th>\n",
       "      <th></th>\n",
       "      <th></th>\n",
       "      <th></th>\n",
       "    </tr>\n",
       "  </thead>\n",
       "  <tbody>\n",
       "    <tr>\n",
       "      <th>29</th>\n",
       "      <td>France</td>\n",
       "      <td>FR</td>\n",
       "      <td>FRA</td>\n",
       "      <td>Green Bond Issuances by Country</td>\n",
       "      <td>US Dollars</td>\n",
       "      <td>Refinitiv. Accessed on 2022-03-29; Country aut...</td>\n",
       "      <td>NaN</td>\n",
       "      <td>0.3</td>\n",
       "      <td>NaN</td>\n",
       "      <td>0.0</td>\n",
       "      <td>NaN</td>\n",
       "      <td>NaN</td>\n",
       "      <td>NaN</td>\n",
       "      <td>NaN</td>\n",
       "      <td>NaN</td>\n",
       "      <td>NaN</td>\n",
       "      <td>NaN</td>\n",
       "      <td>NaN</td>\n",
       "      <td>NaN</td>\n",
       "      <td>NaN</td>\n",
       "    </tr>\n",
       "    <tr>\n",
       "      <th>32</th>\n",
       "      <td>Germany</td>\n",
       "      <td>DE</td>\n",
       "      <td>DEU</td>\n",
       "      <td>Green Bond Issuances by Country</td>\n",
       "      <td>US Dollars</td>\n",
       "      <td>Refinitiv. Accessed on 2022-03-29; Country aut...</td>\n",
       "      <td>NaN</td>\n",
       "      <td>NaN</td>\n",
       "      <td>NaN</td>\n",
       "      <td>NaN</td>\n",
       "      <td>0.029179</td>\n",
       "      <td>0.035015</td>\n",
       "      <td>0.017508</td>\n",
       "      <td>NaN</td>\n",
       "      <td>NaN</td>\n",
       "      <td>0.027218</td>\n",
       "      <td>NaN</td>\n",
       "      <td>0.349752</td>\n",
       "      <td>NaN</td>\n",
       "      <td>NaN</td>\n",
       "    </tr>\n",
       "    <tr>\n",
       "      <th>44</th>\n",
       "      <td>Italy</td>\n",
       "      <td>IT</td>\n",
       "      <td>ITA</td>\n",
       "      <td>Green Bond Issuances by Country</td>\n",
       "      <td>US Dollars</td>\n",
       "      <td>Refinitiv. Accessed on 2022-03-29; Country aut...</td>\n",
       "      <td>NaN</td>\n",
       "      <td>NaN</td>\n",
       "      <td>NaN</td>\n",
       "      <td>NaN</td>\n",
       "      <td>NaN</td>\n",
       "      <td>NaN</td>\n",
       "      <td>NaN</td>\n",
       "      <td>NaN</td>\n",
       "      <td>0.048174</td>\n",
       "      <td>0.026103</td>\n",
       "      <td>NaN</td>\n",
       "      <td>NaN</td>\n",
       "      <td>NaN</td>\n",
       "      <td>NaN</td>\n",
       "    </tr>\n",
       "    <tr>\n",
       "      <th>88</th>\n",
       "      <td>Switzerland</td>\n",
       "      <td>CH</td>\n",
       "      <td>CHE</td>\n",
       "      <td>Green Bond Issuances by Country</td>\n",
       "      <td>US Dollars</td>\n",
       "      <td>Refinitiv. Accessed on 2022-03-29; Country aut...</td>\n",
       "      <td>NaN</td>\n",
       "      <td>NaN</td>\n",
       "      <td>NaN</td>\n",
       "      <td>NaN</td>\n",
       "      <td>NaN</td>\n",
       "      <td>0.108531</td>\n",
       "      <td>0.168143</td>\n",
       "      <td>0.109745</td>\n",
       "      <td>NaN</td>\n",
       "      <td>NaN</td>\n",
       "      <td>0.108061</td>\n",
       "      <td>NaN</td>\n",
       "      <td>NaN</td>\n",
       "      <td>NaN</td>\n",
       "    </tr>\n",
       "  </tbody>\n",
       "</table>\n",
       "</div>"
      ],
      "text/plain": [
       "              Country ISO2 ISO3                        Indicator        Unit   \n",
       "ObjectId                                                                       \n",
       "29             France   FR  FRA  Green Bond Issuances by Country  US Dollars  \\\n",
       "32            Germany   DE  DEU  Green Bond Issuances by Country  US Dollars   \n",
       "44              Italy   IT  ITA  Green Bond Issuances by Country  US Dollars   \n",
       "88        Switzerland   CH  CHE  Green Bond Issuances by Country  US Dollars   \n",
       "\n",
       "                                                     Source  F1985  F1986   \n",
       "ObjectId                                                                    \n",
       "29        Refinitiv. Accessed on 2022-03-29; Country aut...    NaN    0.3  \\\n",
       "32        Refinitiv. Accessed on 2022-03-29; Country aut...    NaN    NaN   \n",
       "44        Refinitiv. Accessed on 2022-03-29; Country aut...    NaN    NaN   \n",
       "88        Refinitiv. Accessed on 2022-03-29; Country aut...    NaN    NaN   \n",
       "\n",
       "          F1987  F1990     F1991     F1992     F1993     F1994     F1999   \n",
       "ObjectId                                                                   \n",
       "29          NaN    0.0       NaN       NaN       NaN       NaN       NaN  \\\n",
       "32          NaN    NaN  0.029179  0.035015  0.017508       NaN       NaN   \n",
       "44          NaN    NaN       NaN       NaN       NaN       NaN  0.048174   \n",
       "88          NaN    NaN       NaN  0.108531  0.168143  0.109745       NaN   \n",
       "\n",
       "             F2000     F2002     F2003  F2004  F2007  \n",
       "ObjectId                                              \n",
       "29             NaN       NaN       NaN    NaN    NaN  \n",
       "32        0.027218       NaN  0.349752    NaN    NaN  \n",
       "44        0.026103       NaN       NaN    NaN    NaN  \n",
       "88             NaN  0.108061       NaN    NaN    NaN  "
      ]
     },
     "execution_count": 123,
     "metadata": {},
     "output_type": "execute_result"
    }
   ],
   "source": [
    "cols = green_bonds.columns[[0,1,2,3,4,5,12,13,14,15,16,17,18,19,20,21,22,23, 24, 25]]\n",
    "\n",
    "test_data = green_bonds[cols]\n",
    "test_data[test_data.filter(regex=\"F199\\d\").isna().sum(axis = 1) < 6]"
   ]
  },
  {
   "cell_type": "code",
   "execution_count": 124,
   "metadata": {},
   "outputs": [
    {
     "data": {
      "text/plain": [
       "MultiEdgeDataView([('US', 'Green Bonds Issuances', {'weight': 61.4917, 'year': 2021}), ('AR', 'Green Bonds Issuances', {'weight': 0.8956597, 'year': 2021}), ('VG', 'Green Bonds Issuances', {'weight': 4.794233, 'year': 2021}), ('PT', 'Green Bonds Issuances', {'weight': 2.377421, 'year': 2021}), ('LU', 'Green Bonds Issuances', {'weight': 10.34347, 'year': 2021}), ('ZA', 'Green Bonds Issuances', {'weight': 0.0805788, 'year': 2021}), ('MY', 'Green Bonds Issuances', {'weight': 0.1529637, 'year': 2021}), ('ID', 'Green Bonds Issuances', {'weight': 2.14904, 'year': 2021}), ('UA', 'Green Bonds Issuances', {'weight': 1.65, 'year': 2021}), ('DK', 'Green Bonds Issuances', {'weight': 7.263042, 'year': 2021}), ('AT', 'Green Bonds Issuances', {'weight': 2.861149, 'year': 2021}), ('ES', 'Green Bonds Issuances', {'weight': 19.37708, 'year': 2021}), ('ES', 'Green Bonds', {'weight': 5.660527, 'year': 2021}), ('JP', 'Green Bonds Issuances', {'weight': 17.15026, 'year': 2021}), ('IN', 'Green Bonds Issuances', {'weight': 5.04372, 'year': 2021}), ('CN', 'Green Bonds Issuances', {'weight': 72.27219, 'year': 2021}), ('CZ', 'Green Bonds Issuances', {'weight': 0.9622896, 'year': 2021}), ('TR', 'Green Bonds Issuances', {'weight': 1.896237, 'year': 2021}), ('GR', 'Green Bonds Issuances', {'weight': 1.60759, 'year': 2021}), ('TH', 'Green Bonds Issuances', {'weight': 0.892413, 'year': 2021}), ('LV', 'Green Bonds Issuances', {'weight': 0.1698158, 'year': 2021}), ('NO', 'Green Bonds Issuances', {'weight': 13.80367, 'year': 2021}), ('IS', 'Green Bonds Issuances', {'weight': 1.018895, 'year': 2021}), ('VN', 'Green Bonds Issuances', {'weight': 0.2, 'year': 2021}), ('BD', 'Green Bonds Issuances', {'weight': 0.3496503, 'year': 2021}), ('AE', 'Green Bonds Issuances', {'weight': 0.593267, 'year': 2021}), ('JE', 'Green Bonds Issuances', {'weight': 0.3962369, 'year': 2021}), ('DE', 'Green Bonds Issuances', {'weight': 71.70096, 'year': 2021}), ('DE', 'Green Bonds', {'weight': 14.15132, 'year': 2021}), ('BE', 'Green Bonds Issuances', {'weight': 3.370447, 'year': 2021}), ('IL', 'Green Bonds Issuances', {'weight': 1.0, 'year': 2021}), ('KR', 'Green Bonds Issuances', {'weight': 26.6735, 'year': 2021}), ('KR', 'Green Bonds', {'weight': 0.7924738, 'year': 2021}), ('CO', 'Green Bonds Issuances', {'weight': 0.5341986, 'year': 2021}), ('CO', 'Green Bonds', {'weight': 0.3811928, 'year': 2021}), ('CH', 'Green Bonds Issuances', {'weight': 1.817689, 'year': 2021}), ('FI', 'Green Bonds Issuances', {'weight': 4.035055, 'year': 2021}), ('AU', 'Green Bonds Issuances', {'weight': 5.011424, 'year': 2021}), ('NL', 'Green Bonds Issuances', {'weight': 35.37054, 'year': 2021}), ('PK', 'Green Bonds Issuances', {'weight': 0.5, 'year': 2021}), ('MX', 'Green Bonds Issuances', {'weight': 0.0707396, 'year': 2021}), ('SG', 'Green Bonds Issuances', {'weight': 5.568563, 'year': 2021}), ('MO', 'Green Bonds Issuances', {'weight': 1.031513, 'year': 2021}), ('FR', 'Green Bonds Issuances', {'weight': 47.52436, 'year': 2021}), ('FR', 'Green Bonds', {'weight': 16.06005, 'year': 2021}), ('PL', 'Green Bonds Issuances', {'weight': 1.132105, 'year': 2021}), ('MU', 'Green Bonds Issuances', {'weight': 6.042, 'year': 2021}), ('GG', 'Green Bonds Issuances', {'weight': 0.0210322, 'year': 2021}), ('IT', 'Green Bonds Issuances', {'weight': 23.71761, 'year': 2021}), ('IT', 'Green Bonds', {'weight': 15.28342, 'year': 2021}), ('CL', 'Green Bonds Issuances', {'weight': 5.8718, 'year': 2021}), ('HK', 'Green Bonds Issuances', {'weight': 16.72891, 'year': 2021}), ('HK', 'Green Bonds', {'weight': 8.771686, 'year': 2021}), ('TW', 'Green Bonds Issuances', {'weight': 0.8654534, 'year': 2021}), ('KY', 'Green Bonds Issuances', {'weight': 10.23071, 'year': 2021}), ('PH', 'Green Bonds Issuances', {'weight': 0.0972195, 'year': 2021}), ('SK', 'Green Bonds Issuances', {'weight': 0.4528421, 'year': 2021}), ('RS', 'Green Bonds Issuances', {'weight': 2.264211, 'year': 2021}), ('RS', 'Green Bonds', {'weight': 2.264211, 'year': 2021}), ('NZ', 'Green Bonds Issuances', {'weight': 1.39616, 'year': 2021}), ('SE', 'Green Bonds Issuances', {'weight': 18.0517, 'year': 2021}), ('CA', 'Green Bonds Issuances', {'weight': 14.47387, 'year': 2021}), ('RO', 'Green Bonds Issuances', {'weight': 0.4831267, 'year': 2021}), ('BM', 'Green Bonds Issuances', {'weight': 1.95, 'year': 2021}), ('LI', 'Green Bonds Issuances', {'weight': 0.6792632, 'year': 2021}), ('BR', 'Green Bonds Issuances', {'weight': 1.058682, 'year': 2021}), ('GB', 'Green Bonds Issuances', {'weight': 40.07301, 'year': 2021}), ('GB', 'Green Bonds', {'weight': 21.74386, 'year': 2021}), ('IE', 'Green Bonds Issuances', {'weight': 5.1524, 'year': 2021}), ('HU', 'Green Bonds Issuances', {'weight': 0.8961061, 'year': 2021}), ('HU', 'Green Bonds', {'weight': 0.4566329, 'year': 2021}), ('GE', 'Green Bonds Issuances', {'weight': 1.0, 'year': 2021}), ('RU', 'Green Bonds Issuances', {'weight': 1.062672, 'year': 2021})])"
      ]
     },
     "execution_count": 124,
     "metadata": {},
     "output_type": "execute_result"
    }
   ],
   "source": [
    "policy_G = return_subgraph_policy(G, \"Green Bonds\")\n",
    "year_G = return_subgraph_year(policy_G, 2021)\n",
    "year_G.edges(data = True)"
   ]
  },
  {
   "attachments": {},
   "cell_type": "markdown",
   "metadata": {},
   "source": [
    "# How to Use New Graph"
   ]
  },
  {
   "attachments": {},
   "cell_type": "markdown",
   "metadata": {},
   "source": [
    "This week I was able to create a graph that contained all the nodes and edges across all the graphs and years. It is very simple to subset and is much faster to create than creating many smaller separate graphs. Here is how it works:\n",
    "\n",
    "The first thing you need to know is the attributes in the graph as they are the metadata that tells us what type of policy or year a node / edge is apart of. The attributes for nodes are different from edges. The node attribute has two keys, the bipartite key, which is 0 for country and 1 for policy (like we had it before), and the policies key, which is a list of policies a node takes part in. Here are two examples:\n",
    "\n",
    "***US Node:***\n",
    "\n",
    "`` \"US\" : {'bipartite': 0, 'policies': ['Environmental Taxes', 'Green Bonds', 'Environmental Subsidies']} ``\n",
    "\n",
    "***A Policy Node from the Tax Policy Category:***\n",
    "\n",
    "`` \"Taxes on Energy (Including Fuel for Transport)\" : {'bipartite': 1, 'policies': ['Environmental Taxes']} ``"
   ]
  },
  {
   "attachments": {},
   "cell_type": "markdown",
   "metadata": {},
   "source": [
    "\n",
    "These examples illustrate a key point. First, a country node, like the US, can belong to multiple policies, while a policy node can only belond to a single type of policy. We will get to the importance in one second.\n",
    "\n",
    "The edge attribute is a bit more complex though. The edge attributes consists of the weight, which is simply the weight of the edge, and year, which is the year in which this data comes from:\n",
    "\n",
    "***US to Green Bonds Issuance Edge:***\n",
    "\n",
    "``('US', 'Green Bonds Issuances', {'weight': 61.4917, 'year': 2021})``\n",
    "\n",
    "You might be wondering why their is no policy attribute here, and the answer is we don't need it from the key observation we made early. Since policy nodes are always bound to a single policy and can't coexist in two different policies, if we subset our data to only include policy nodes of a specific type, lets say green bonds, then only the edges that connect to a node in green bonds will stay. Since all the none green bond nodes will disappear, the edges to connecting all these nodes will also disappear. So when we subset by a policy on the whole graph, we are left with the correct graph for that policy.\n",
    "\n",
    "To subset we can use the two functions I made:"
   ]
  },
  {
   "cell_type": "code",
   "execution_count": 125,
   "metadata": {},
   "outputs": [],
   "source": [
    "# Subsets the graph to single policy the options are (Environmental Taxes, Environmental Protection Expenditures, Green Bonds, Environmental Subsidies)\n",
    "policy_G = return_subgraph_policy(G, \"Green Bonds\")\n",
    "\n",
    "# Subsets the graph to single year\n",
    "year_G = return_subgraph_year(G, 2021)"
   ]
  },
  {
   "attachments": {},
   "cell_type": "markdown",
   "metadata": {},
   "source": [
    "Using the above functions we can subset a graph to a single policy or to a single year. We can even combine them to subset to a single policy and single year:"
   ]
  },
  {
   "cell_type": "code",
   "execution_count": 126,
   "metadata": {},
   "outputs": [],
   "source": [
    "policy_G = return_subgraph_policy(G, \"Green Bonds\")\n",
    "year_policy_G = return_subgraph_year(policy_G, 2021)"
   ]
  },
  {
   "attachments": {},
   "cell_type": "markdown",
   "metadata": {},
   "source": [
    "By using this method we have much more flexibility than before and can easily create graphs we were never able to make before. But the last thing missing is a few key variables. \n",
    "\n",
    "If you played around with the year function graph you might figured out you can put in absolutly any integer and the function will work. If there is no corresponding year to your input, it will just return a graph with all the nodes from your specified policy (or entire graph) but with no edges."
   ]
  },
  {
   "cell_type": "code",
   "execution_count": 127,
   "metadata": {},
   "outputs": [
    {
     "name": "stdout",
     "output_type": "stream",
     "text": [
      "Number of Nodes : 240, Number of Edges : 0\n"
     ]
    }
   ],
   "source": [
    "year_G = return_subgraph_year(G, year = 20000000)\n",
    "\n",
    "num_nodes = len(year_G.nodes())\n",
    "num_edges = len(year_G.edges())\n",
    "\n",
    "print(f\"Number of Nodes : {num_nodes}, Number of Edges : {num_edges}\")"
   ]
  },
  {
   "attachments": {},
   "cell_type": "markdown",
   "metadata": {},
   "source": [
    "So to solve this problem I created a list of all the valid years for each type of policy. They are all set types so you can manipulate them fairly easily if you want to Union or And different policiy years:"
   ]
  },
  {
   "cell_type": "code",
   "execution_count": 128,
   "metadata": {},
   "outputs": [
    {
     "name": "stdout",
     "output_type": "stream",
     "text": [
      "Tax Years: [1995, 1996, 1997, 1998, 1999, 2000, 2001, 2002, 2003, 2004, 2005, 2006, 2007, 2008, 2009, 2010, 2011, 2012, 2013, 2014, 2015, 2016, 2017, 2018, 2019, 2020, 2021]\n",
      "\n",
      "Expenditure Years: [1995, 1996, 1997, 1998, 1999, 2000, 2001, 2002, 2003, 2004, 2005, 2006, 2007, 2008, 2009, 2010, 2011, 2012, 2013, 2014, 2015, 2016, 2017, 2018, 2019, 2020, 2021]\n",
      "\n",
      "Green Bond Years: [1985, 1986, 1987, 1991, 1992, 1993, 1994, 1999, 2000, 2002, 2003, 2004, 2008, 2010, 2011, 2012, 2013, 2014, 2015, 2016, 2017, 2018, 2019, 2020, 2021]\n",
      "\n",
      "Subsidy Years: [2015, 2016, 2017, 2018, 2019, 2020, 2021, 2022, 2023, 2024, 2025]\n",
      "\n"
     ]
    }
   ],
   "source": [
    "print(f\"Tax Years: {tax_years}\\n\")\n",
    "print(f\"Expenditure Years: {exp_years}\\n\")\n",
    "print(f\"Green Bond Years: {bond_years}\\n\")\n",
    "print(f\"Subsidy Years: {subsidy_years}\\n\")"
   ]
  },
  {
   "attachments": {},
   "cell_type": "markdown",
   "metadata": {},
   "source": [
    "Hopefully this works out and can easily be integrated with your work. Also hope this all makes sense.\n",
    "\n",
    "The last thing I wanted to say is I currenlty haven't set up the graph to take in a list of years or policies to subset a graph currently. So you can't make a single graph with the years [2020 - 2023] or so on"
   ]
  },
  {
   "attachments": {},
   "cell_type": "markdown",
   "metadata": {},
   "source": [
    "### Two way Look up\n",
    "\n",
    "Also I almost forgot to mention that I made a two way lookup table for country names and ISO names. I made a brand new class and downloaded data from the web. I think I am just going to send this notebook to you so if you want to download the csv for the look up table you can at https://gist.github.com/radcliff/f09c0f88344a7fcef373"
   ]
  },
  {
   "cell_type": "code",
   "execution_count": 129,
   "metadata": {},
   "outputs": [
    {
     "data": {
      "text/plain": [
       "'United States Of America'"
      ]
     },
     "execution_count": 129,
     "metadata": {},
     "output_type": "execute_result"
    }
   ],
   "source": [
    "two_way_country_lookup[\"US\"]"
   ]
  },
  {
   "cell_type": "code",
   "execution_count": 130,
   "metadata": {},
   "outputs": [
    {
     "data": {
      "text/plain": [
       "'US'"
      ]
     },
     "execution_count": 130,
     "metadata": {},
     "output_type": "execute_result"
    }
   ],
   "source": [
    "two_way_country_lookup['United States Of America']"
   ]
  }
 ],
 "metadata": {
  "kernelspec": {
   "display_name": "climate_policy_network_sci",
   "language": "python",
   "name": "python3"
  },
  "language_info": {
   "codemirror_mode": {
    "name": "ipython",
    "version": 3
   },
   "file_extension": ".py",
   "mimetype": "text/x-python",
   "name": "python",
   "nbconvert_exporter": "python",
   "pygments_lexer": "ipython3",
   "version": "3.11.3"
  },
  "orig_nbformat": 4
 },
 "nbformat": 4,
 "nbformat_minor": 2
}
