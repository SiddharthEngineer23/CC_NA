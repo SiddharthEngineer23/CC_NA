{
 "cells": [
  {
   "cell_type": "code",
   "execution_count": 3,
   "metadata": {},
   "outputs": [],
   "source": [
    "import pandas as pd\n",
    "import numpy as np\n",
    "import networkx as nx\n",
    "from networkx.algorithms import bipartite\n",
    "import matplotlib.pyplot as plt\n",
    "from helper import country_count, butterflies, caterpillars"
   ]
  },
  {
   "cell_type": "code",
   "execution_count": 4,
   "metadata": {},
   "outputs": [],
   "source": [
    "name = \"Green_Bonds\"\n",
    "data = pd.read_csv(\"input/policy/\" + name + \".csv\", index_col=0, keep_default_na=False, na_values=\"\")\n",
    "data = data[np.logical_not(data[\"ISO2\"].isna())] #filter down"
   ]
  },
  {
   "cell_type": "code",
   "execution_count": 5,
   "metadata": {},
   "outputs": [
    {
     "ename": "KeyError",
     "evalue": "'AF'",
     "output_type": "error",
     "traceback": [
      "\u001b[0;31m---------------------------------------------------------------------------\u001b[0m",
      "\u001b[0;31mKeyError\u001b[0m                                  Traceback (most recent call last)",
      "File \u001b[0;32m~/opt/miniconda3/envs/climate_policy_network_sci/lib/python3.11/site-packages/pandas/core/indexes/base.py:3652\u001b[0m, in \u001b[0;36mIndex.get_loc\u001b[0;34m(self, key)\u001b[0m\n\u001b[1;32m   3651\u001b[0m \u001b[39mtry\u001b[39;00m:\n\u001b[0;32m-> 3652\u001b[0m     \u001b[39mreturn\u001b[39;00m \u001b[39mself\u001b[39;49m\u001b[39m.\u001b[39;49m_engine\u001b[39m.\u001b[39;49mget_loc(casted_key)\n\u001b[1;32m   3653\u001b[0m \u001b[39mexcept\u001b[39;00m \u001b[39mKeyError\u001b[39;00m \u001b[39mas\u001b[39;00m err:\n",
      "File \u001b[0;32m~/opt/miniconda3/envs/climate_policy_network_sci/lib/python3.11/site-packages/pandas/_libs/index.pyx:147\u001b[0m, in \u001b[0;36mpandas._libs.index.IndexEngine.get_loc\u001b[0;34m()\u001b[0m\n",
      "File \u001b[0;32m~/opt/miniconda3/envs/climate_policy_network_sci/lib/python3.11/site-packages/pandas/_libs/index.pyx:176\u001b[0m, in \u001b[0;36mpandas._libs.index.IndexEngine.get_loc\u001b[0;34m()\u001b[0m\n",
      "File \u001b[0;32mpandas/_libs/hashtable_class_helper.pxi:7080\u001b[0m, in \u001b[0;36mpandas._libs.hashtable.PyObjectHashTable.get_item\u001b[0;34m()\u001b[0m\n",
      "File \u001b[0;32mpandas/_libs/hashtable_class_helper.pxi:7088\u001b[0m, in \u001b[0;36mpandas._libs.hashtable.PyObjectHashTable.get_item\u001b[0;34m()\u001b[0m\n",
      "\u001b[0;31mKeyError\u001b[0m: 'AF'",
      "\nThe above exception was the direct cause of the following exception:\n",
      "\u001b[0;31mKeyError\u001b[0m                                  Traceback (most recent call last)",
      "Cell \u001b[0;32mIn[5], line 9\u001b[0m\n\u001b[1;32m      7\u001b[0m edge_list \u001b[39m=\u001b[39m []\n\u001b[1;32m      8\u001b[0m country \u001b[39m=\u001b[39m \u001b[39m\"\u001b[39m\u001b[39mAF\u001b[39m\u001b[39m\"\u001b[39m\n\u001b[0;32m----> 9\u001b[0m subset \u001b[39m=\u001b[39m reindexed\u001b[39m.\u001b[39;49mloc[country]\n\u001b[1;32m     10\u001b[0m policy \u001b[39m=\u001b[39m \u001b[39m\"\u001b[39m\u001b[39mGENB_G14\u001b[39m\u001b[39m\"\u001b[39m\n\u001b[1;32m     11\u001b[0m weight \u001b[39m=\u001b[39m subset\u001b[39m.\u001b[39mloc[policy][year] \u001b[39m#edge weights are bond values\u001b[39;00m\n",
      "File \u001b[0;32m~/opt/miniconda3/envs/climate_policy_network_sci/lib/python3.11/site-packages/pandas/core/indexing.py:1103\u001b[0m, in \u001b[0;36m_LocationIndexer.__getitem__\u001b[0;34m(self, key)\u001b[0m\n\u001b[1;32m   1100\u001b[0m axis \u001b[39m=\u001b[39m \u001b[39mself\u001b[39m\u001b[39m.\u001b[39maxis \u001b[39mor\u001b[39;00m \u001b[39m0\u001b[39m\n\u001b[1;32m   1102\u001b[0m maybe_callable \u001b[39m=\u001b[39m com\u001b[39m.\u001b[39mapply_if_callable(key, \u001b[39mself\u001b[39m\u001b[39m.\u001b[39mobj)\n\u001b[0;32m-> 1103\u001b[0m \u001b[39mreturn\u001b[39;00m \u001b[39mself\u001b[39;49m\u001b[39m.\u001b[39;49m_getitem_axis(maybe_callable, axis\u001b[39m=\u001b[39;49maxis)\n",
      "File \u001b[0;32m~/opt/miniconda3/envs/climate_policy_network_sci/lib/python3.11/site-packages/pandas/core/indexing.py:1343\u001b[0m, in \u001b[0;36m_LocIndexer._getitem_axis\u001b[0;34m(self, key, axis)\u001b[0m\n\u001b[1;32m   1341\u001b[0m \u001b[39m# fall thru to straight lookup\u001b[39;00m\n\u001b[1;32m   1342\u001b[0m \u001b[39mself\u001b[39m\u001b[39m.\u001b[39m_validate_key(key, axis)\n\u001b[0;32m-> 1343\u001b[0m \u001b[39mreturn\u001b[39;00m \u001b[39mself\u001b[39;49m\u001b[39m.\u001b[39;49m_get_label(key, axis\u001b[39m=\u001b[39;49maxis)\n",
      "File \u001b[0;32m~/opt/miniconda3/envs/climate_policy_network_sci/lib/python3.11/site-packages/pandas/core/indexing.py:1293\u001b[0m, in \u001b[0;36m_LocIndexer._get_label\u001b[0;34m(self, label, axis)\u001b[0m\n\u001b[1;32m   1291\u001b[0m \u001b[39mdef\u001b[39;00m \u001b[39m_get_label\u001b[39m(\u001b[39mself\u001b[39m, label, axis: AxisInt):\n\u001b[1;32m   1292\u001b[0m     \u001b[39m# GH#5567 this will fail if the label is not present in the axis.\u001b[39;00m\n\u001b[0;32m-> 1293\u001b[0m     \u001b[39mreturn\u001b[39;00m \u001b[39mself\u001b[39;49m\u001b[39m.\u001b[39;49mobj\u001b[39m.\u001b[39;49mxs(label, axis\u001b[39m=\u001b[39;49maxis)\n",
      "File \u001b[0;32m~/opt/miniconda3/envs/climate_policy_network_sci/lib/python3.11/site-packages/pandas/core/generic.py:4088\u001b[0m, in \u001b[0;36mNDFrame.xs\u001b[0;34m(self, key, axis, level, drop_level)\u001b[0m\n\u001b[1;32m   4085\u001b[0m     index \u001b[39m=\u001b[39m \u001b[39mself\u001b[39m\u001b[39m.\u001b[39mindex\n\u001b[1;32m   4087\u001b[0m \u001b[39mif\u001b[39;00m \u001b[39misinstance\u001b[39m(index, MultiIndex):\n\u001b[0;32m-> 4088\u001b[0m     loc, new_index \u001b[39m=\u001b[39m index\u001b[39m.\u001b[39;49m_get_loc_level(key, level\u001b[39m=\u001b[39;49m\u001b[39m0\u001b[39;49m)\n\u001b[1;32m   4089\u001b[0m     \u001b[39mif\u001b[39;00m \u001b[39mnot\u001b[39;00m drop_level:\n\u001b[1;32m   4090\u001b[0m         \u001b[39mif\u001b[39;00m lib\u001b[39m.\u001b[39mis_integer(loc):\n",
      "File \u001b[0;32m~/opt/miniconda3/envs/climate_policy_network_sci/lib/python3.11/site-packages/pandas/core/indexes/multi.py:3059\u001b[0m, in \u001b[0;36mMultiIndex._get_loc_level\u001b[0;34m(self, key, level)\u001b[0m\n\u001b[1;32m   3057\u001b[0m         \u001b[39mreturn\u001b[39;00m indexer, maybe_mi_droplevels(indexer, ilevels)\n\u001b[1;32m   3058\u001b[0m \u001b[39melse\u001b[39;00m:\n\u001b[0;32m-> 3059\u001b[0m     indexer \u001b[39m=\u001b[39m \u001b[39mself\u001b[39;49m\u001b[39m.\u001b[39;49m_get_level_indexer(key, level\u001b[39m=\u001b[39;49mlevel)\n\u001b[1;32m   3060\u001b[0m     \u001b[39mif\u001b[39;00m (\n\u001b[1;32m   3061\u001b[0m         \u001b[39misinstance\u001b[39m(key, \u001b[39mstr\u001b[39m)\n\u001b[1;32m   3062\u001b[0m         \u001b[39mand\u001b[39;00m \u001b[39mself\u001b[39m\u001b[39m.\u001b[39mlevels[level]\u001b[39m.\u001b[39m_supports_partial_string_indexing\n\u001b[1;32m   3063\u001b[0m     ):\n\u001b[1;32m   3064\u001b[0m         \u001b[39m# check to see if we did an exact lookup vs sliced\u001b[39;00m\n\u001b[1;32m   3065\u001b[0m         check \u001b[39m=\u001b[39m \u001b[39mself\u001b[39m\u001b[39m.\u001b[39mlevels[level]\u001b[39m.\u001b[39mget_loc(key)\n",
      "File \u001b[0;32m~/opt/miniconda3/envs/climate_policy_network_sci/lib/python3.11/site-packages/pandas/core/indexes/multi.py:3160\u001b[0m, in \u001b[0;36mMultiIndex._get_level_indexer\u001b[0;34m(self, key, level, indexer)\u001b[0m\n\u001b[1;32m   3157\u001b[0m         \u001b[39mreturn\u001b[39;00m \u001b[39mslice\u001b[39m(i, j, step)\n\u001b[1;32m   3159\u001b[0m \u001b[39melse\u001b[39;00m:\n\u001b[0;32m-> 3160\u001b[0m     idx \u001b[39m=\u001b[39m \u001b[39mself\u001b[39;49m\u001b[39m.\u001b[39;49m_get_loc_single_level_index(level_index, key)\n\u001b[1;32m   3162\u001b[0m     \u001b[39mif\u001b[39;00m level \u001b[39m>\u001b[39m \u001b[39m0\u001b[39m \u001b[39mor\u001b[39;00m \u001b[39mself\u001b[39m\u001b[39m.\u001b[39m_lexsort_depth \u001b[39m==\u001b[39m \u001b[39m0\u001b[39m:\n\u001b[1;32m   3163\u001b[0m         \u001b[39m# Desired level is not sorted\u001b[39;00m\n\u001b[1;32m   3164\u001b[0m         \u001b[39mif\u001b[39;00m \u001b[39misinstance\u001b[39m(idx, \u001b[39mslice\u001b[39m):\n\u001b[1;32m   3165\u001b[0m             \u001b[39m# test_get_loc_partial_timestamp_multiindex\u001b[39;00m\n",
      "File \u001b[0;32m~/opt/miniconda3/envs/climate_policy_network_sci/lib/python3.11/site-packages/pandas/core/indexes/multi.py:2752\u001b[0m, in \u001b[0;36mMultiIndex._get_loc_single_level_index\u001b[0;34m(self, level_index, key)\u001b[0m\n\u001b[1;32m   2750\u001b[0m     \u001b[39mreturn\u001b[39;00m \u001b[39m-\u001b[39m\u001b[39m1\u001b[39m\n\u001b[1;32m   2751\u001b[0m \u001b[39melse\u001b[39;00m:\n\u001b[0;32m-> 2752\u001b[0m     \u001b[39mreturn\u001b[39;00m level_index\u001b[39m.\u001b[39;49mget_loc(key)\n",
      "File \u001b[0;32m~/opt/miniconda3/envs/climate_policy_network_sci/lib/python3.11/site-packages/pandas/core/indexes/base.py:3654\u001b[0m, in \u001b[0;36mIndex.get_loc\u001b[0;34m(self, key)\u001b[0m\n\u001b[1;32m   3652\u001b[0m     \u001b[39mreturn\u001b[39;00m \u001b[39mself\u001b[39m\u001b[39m.\u001b[39m_engine\u001b[39m.\u001b[39mget_loc(casted_key)\n\u001b[1;32m   3653\u001b[0m \u001b[39mexcept\u001b[39;00m \u001b[39mKeyError\u001b[39;00m \u001b[39mas\u001b[39;00m err:\n\u001b[0;32m-> 3654\u001b[0m     \u001b[39mraise\u001b[39;00m \u001b[39mKeyError\u001b[39;00m(key) \u001b[39mfrom\u001b[39;00m \u001b[39merr\u001b[39;00m\n\u001b[1;32m   3655\u001b[0m \u001b[39mexcept\u001b[39;00m \u001b[39mTypeError\u001b[39;00m:\n\u001b[1;32m   3656\u001b[0m     \u001b[39m# If we have a listlike key, _check_indexing_error will raise\u001b[39;00m\n\u001b[1;32m   3657\u001b[0m     \u001b[39m#  InvalidIndexError. Otherwise we fall through and re-raise\u001b[39;00m\n\u001b[1;32m   3658\u001b[0m     \u001b[39m#  the TypeError.\u001b[39;00m\n\u001b[1;32m   3659\u001b[0m     \u001b[39mself\u001b[39m\u001b[39m.\u001b[39m_check_indexing_error(key)\n",
      "\u001b[0;31mKeyError\u001b[0m: 'AF'"
     ]
    }
   ],
   "source": [
    "years = [year for year in data.columns if len(year) == 5 and year[0] == 'F']\n",
    "\n",
    "#create temporal\n",
    "reindexed = data.set_index([\"ISO2\", \"CTS_Code\"], inplace = False)\n",
    "temporal = {}\n",
    "year = \"F2020\"\n",
    "edge_list = []\n",
    "country = \"AF\"\n",
    "subset = reindexed.loc[country]\n",
    "policy = \"GENB_G14\"\n",
    "weight = subset.loc[policy][year] #edge weights are bond values"
   ]
  },
  {
   "cell_type": "code",
   "execution_count": 21,
   "metadata": {},
   "outputs": [
    {
     "ename": "NameError",
     "evalue": "name 'policy' is not defined",
     "output_type": "error",
     "traceback": [
      "\u001b[0;31m---------------------------------------------------------------------------\u001b[0m",
      "\u001b[0;31mNameError\u001b[0m                                 Traceback (most recent call last)",
      "Cell \u001b[0;32mIn[21], line 2\u001b[0m\n\u001b[1;32m      1\u001b[0m \u001b[39mif\u001b[39;00m weight \u001b[39m>\u001b[39m \u001b[39m0\u001b[39m:\n\u001b[0;32m----> 2\u001b[0m     edge \u001b[39m=\u001b[39m (country, policy, weight) \u001b[39m#create edge\u001b[39;00m\n\u001b[1;32m      3\u001b[0m     edge_list\u001b[39m.\u001b[39mappend(edge)\n\u001b[1;32m      4\u001b[0m temporal[\u001b[39mint\u001b[39m(year[\u001b[39m1\u001b[39m:])] \u001b[39m=\u001b[39m edge_list\n",
      "\u001b[0;31mNameError\u001b[0m: name 'policy' is not defined"
     ]
    }
   ],
   "source": [
    "if weight > 0:\n",
    "    edge = (country, policy, weight) #create edge\n",
    "    edge_list.append(edge)\n",
    "temporal[int(year[1:])] = edge_list"
   ]
  },
  {
   "attachments": {},
   "cell_type": "markdown",
   "metadata": {},
   "source": [
    "### Green Bonds"
   ]
  },
  {
   "attachments": {},
   "cell_type": "markdown",
   "metadata": {},
   "source": [
    "##### Intro"
   ]
  },
  {
   "cell_type": "code",
   "execution_count": 4,
   "metadata": {},
   "outputs": [],
   "source": [
    "green_bonds = pd.read_csv(\"input/policy/Green_Bonds.csv\", index_col=0, keep_default_na=False, na_values=\"\")\n",
    "\n",
    "# Filtered Down to countries\n",
    "green_bonds = green_bonds[np.logical_not(green_bonds[\"ISO2\"].isna())]\n",
    "\n",
    "green_bond_country_nodes = green_bonds.ISO2.unique()\n",
    "\n",
    "# Need to figure out the differences between these bonds\n",
    "bonds_nodes = green_bonds[\"CTS_Name\"].unique()"
   ]
  },
  {
   "attachments": {},
   "cell_type": "markdown",
   "metadata": {},
   "source": [
    "Looks likes most years no one invested in bonds. Still very few countries invest in bonds but each year it seems the number increases."
   ]
  },
  {
   "cell_type": "code",
   "execution_count": 13,
   "metadata": {},
   "outputs": [
    {
     "data": {
      "image/png": "[encoded data removed]",
      "text/plain": [
       "<Figure size 432x288 with 1 Axes>"
      ]
     },
     "metadata": {
      "needs_background": "light"
     },
     "output_type": "display_data"
    }
   ],
   "source": [
    "# Get the data\n",
    "num_countries = green_bonds[green_bonds.columns[12:]].count().to_list()\n",
    "years = [int(year[1:]) for year in green_bonds.columns[12:]]\n",
    "\n",
    "# Plot\n",
    "fig,ax = plt.subplots()\n",
    "ax.scatter(years, num_countries)\n",
    "ax.set_title(\"Number of Countries using Green Bonds by year\")\n",
    "ax.set_ylabel(\"Number of Countries\")\n",
    "ax.set_xlabel(\"Year\")\n",
    "\n",
    "plt.show()"
   ]
  },
  {
   "attachments": {},
   "cell_type": "markdown",
   "metadata": {},
   "source": [
    "Furthermore we can break the graph down into its two different categories"
   ]
  },
  {
   "cell_type": "code",
   "execution_count": 24,
   "metadata": {},
   "outputs": [
    {
     "data": {
      "image/png": "[encoded data removed]",
      "text/plain": [
       "<Figure size 640x480 with 1 Axes>"
      ]
     },
     "metadata": {},
     "output_type": "display_data"
    }
   ],
   "source": [
    "# Get the data\n",
    "issuances = green_bonds[green_bonds[\"CTS_Name\"] == \"Green Bonds Issuances\"]\n",
    "\n",
    "# Calculate Variables\n",
    "issuance_count = issuances[issuances.columns[12:]].count()\n",
    "nonissuance_count = num_countries - issuance_count\n",
    "y = np.vstack([nonissuance_count, issuance_count])\n",
    "\n",
    "# Plot\n",
    "fig,ax = plt.subplots()\n",
    "# Using years var from last cell\n",
    "ax.stackplot(years, y, labels = [\"Nonissuance Green Bonds\", \"Issuance Green Bonds\",])\n",
    "ax.set_title(\"Number of Countries using Green Bonds by year\")\n",
    "ax.set_ylabel(\"Number of Countries\")\n",
    "ax.set_xlabel(\"Year\")\n",
    "ax.legend(loc = \"upper left\")\n",
    "\n",
    "plt.show()"
   ]
  },
  {
   "attachments": {},
   "cell_type": "markdown",
   "metadata": {},
   "source": [
    "##### Graph Building"
   ]
  },
  {
   "attachments": {},
   "cell_type": "markdown",
   "metadata": {},
   "source": [
    "Initializing the nodes in our bipartite graph. Country nodes are on the left and green bond policies are on the right."
   ]
  },
  {
   "cell_type": "code",
   "execution_count": 25,
   "metadata": {},
   "outputs": [],
   "source": [
    "B = nx.Graph()\n",
    "B.add_nodes_from(green_bond_country_nodes, bipartite=0)\n",
    "B.add_nodes_from(bonds_nodes, bipartite=1)"
   ]
  },
  {
   "attachments": {},
   "cell_type": "markdown",
   "metadata": {},
   "source": [
    "We are creating the edge_lists for every single year. This can allow for quick creation of graphs for any specific year."
   ]
  },
  {
   "cell_type": "code",
   "execution_count": 26,
   "metadata": {},
   "outputs": [],
   "source": [
    "green_bonds_temp = green_bonds.set_index([\"ISO2\", \"CTS_Name\"], inplace = False)\n",
    "dict = {}\n",
    "for year in green_bonds.columns[12:]: #create edge lists for each year\n",
    "    edge_list = []\n",
    "    for country in green_bond_country_nodes: #find every country-bond combo\n",
    "        subset = green_bonds_temp.loc[country]\n",
    "        for bond in subset.index: #bond\n",
    "            weight = subset.loc[bond][year] #edge weights are bond values\n",
    "            if weight > 0:\n",
    "                edge = (country, bond, weight) #create edge\n",
    "                edge_list.append(edge)\n",
    "    dict[int(year[1:])] = edge_list"
   ]
  },
  {
   "attachments": {},
   "cell_type": "markdown",
   "metadata": {},
   "source": [
    "Let's create a graph for 2015 and see what it looks like:"
   ]
  },
  {
   "cell_type": "code",
   "execution_count": 27,
   "metadata": {},
   "outputs": [
    {
     "name": "stdout",
     "output_type": "stream",
     "text": [
      "Number of Edges: 73\n",
      "Number of Possible Edges: 152\n"
     ]
    }
   ],
   "source": [
    "B.remove_edges_from(B.edges)\n",
    "B.add_weighted_edges_from(dict[2021])\n",
    "print(\"Number of Edges:\", B.number_of_edges())\n",
    "print(\"Number of Possible Edges:\", len(green_bond_country_nodes) * len(bonds_nodes))"
   ]
  },
  {
   "attachments": {},
   "cell_type": "markdown",
   "metadata": {},
   "source": [
    "Let's also create some global measures for our graphs. First, let's find the number of countries implementing any policies at all in a given year. Then let's create an algorithm for counting the number of butterflies and caterpillars. We define a caterpillar as a pair of nodes in each bipartite which have 3/4 of the potential edges between them. A butterfly is a pari of nodes in each bipartite which have 4/4 potential edges. We require two helper methods for iterating through pairs of policy nodes. All code can be found in helper.py but the results are printed below."
   ]
  },
  {
   "cell_type": "code",
   "execution_count": 28,
   "metadata": {},
   "outputs": [
    {
     "name": "stdout",
     "output_type": "stream",
     "text": [
      "Country Count: 63\n",
      "Butterflies: 45\n",
      "Caterpillars: 710\n"
     ]
    }
   ],
   "source": [
    "print(\"Country Count:\", country_count(B, green_bond_country_nodes))\n",
    "print(\"Butterflies:\", butterflies(B))\n",
    "print(\"Caterpillars:\", caterpillars(B))"
   ]
  },
  {
   "attachments": {},
   "cell_type": "markdown",
   "metadata": {},
   "source": [
    "##### Analysis"
   ]
  },
  {
   "attachments": {},
   "cell_type": "markdown",
   "metadata": {},
   "source": [
    "Temporal graph creation:"
   ]
  },
  {
   "cell_type": "code",
   "execution_count": 29,
   "metadata": {},
   "outputs": [],
   "source": [
    "results = []\n",
    "for year in years[22:]:\n",
    "    B.remove_edges_from(B.edges)\n",
    "    B.add_weighted_edges_from(dict[year])\n",
    "    countries = country_count(B, green_bond_country_nodes) #participating countries\n",
    "    results.append({\"Year\": year, \"Countries\": countries, \"Edges\": B.number_of_edges(), \"Butterflies\": butterflies(B),\\\n",
    "                    \"Caterpillars\": caterpillars(B), \"Ratio\": 4 * butterflies(B) / caterpillars(B)})\n",
    "bonds_time = pd.DataFrame(results)"
   ]
  },
  {
   "cell_type": "code",
   "execution_count": 30,
   "metadata": {},
   "outputs": [
    {
     "data": {
      "text/plain": [
       "Text(0.5, 1.0, 'Butterfly Caterpillar Ratio for Green Bonds Graph')"
      ]
     },
     "execution_count": 30,
     "metadata": {},
     "output_type": "execute_result"
    },
    {
     "data": {
      "image/png": "[encoded data removed]",
      "text/plain": [
       "<Figure size 640x480 with 1 Axes>"
      ]
     },
     "metadata": {},
     "output_type": "display_data"
    }
   ],
   "source": [
    "plt.plot(bonds_time.Year, bonds_time.Ratio)\n",
    "plt.xlabel('Year')\n",
    "plt.ylabel('Ratio')\n",
    "plt.title('Butterfly Caterpillar Ratio for Green Bonds Graph')"
   ]
  },
  {
   "attachments": {},
   "cell_type": "markdown",
   "metadata": {},
   "source": [
    "Things to implement temporally: (loop through every year, show how these change)\n",
    "- number of nodes (remove those without any edges)\n",
    "- number of edges (weighted)\n",
    "- number of trianges -> metamorphis coefficient\n",
    "- change point detection\n",
    "- any other correlation measures\n",
    "\n",
    "Node based metrics:\n",
    "- harmonic, closeness, degree, & eigenvector centralities\n",
    "- you can show how it changes over time\n",
    "\n",
    "Clustering:\n",
    "- find out how to cluster bipartite graphs\n",
    "- change point detection"
   ]
  },
  {
   "attachments": {},
   "cell_type": "markdown",
   "metadata": {},
   "source": [
    "# Fossil Fuel Subsidies"
   ]
  },
  {
   "attachments": {},
   "cell_type": "markdown",
   "metadata": {},
   "source": [
    "##### Data Import\n",
    "Note that we need to keep values titled \"NA\" because that's Namibia's ISO2 code. Also, Kosovo doesn't have an ISO3 so we can't use that."
   ]
  },
  {
   "cell_type": "code",
   "execution_count": 31,
   "metadata": {},
   "outputs": [
    {
     "data": {
      "text/html": [
       "<div>\n",
       "<style scoped>\n",
       "    .dataframe tbody tr th:only-of-type {\n",
       "        vertical-align: middle;\n",
       "    }\n",
       "\n",
       "    .dataframe tbody tr th {\n",
       "        vertical-align: top;\n",
       "    }\n",
       "\n",
       "    .dataframe thead th {\n",
       "        text-align: right;\n",
       "    }\n",
       "</style>\n",
       "<table border=\"1\" class=\"dataframe\">\n",
       "  <thead>\n",
       "    <tr style=\"text-align: right;\">\n",
       "      <th></th>\n",
       "      <th>Country</th>\n",
       "      <th>ISO2</th>\n",
       "      <th>ISO3</th>\n",
       "      <th>Indicator</th>\n",
       "      <th>Source</th>\n",
       "      <th>CTS_Code</th>\n",
       "      <th>CTS_Name</th>\n",
       "      <th>CTS_Full_Descriptor</th>\n",
       "      <th>Unit</th>\n",
       "      <th>F2015</th>\n",
       "      <th>F2016</th>\n",
       "      <th>F2017</th>\n",
       "      <th>F2018</th>\n",
       "      <th>F2019</th>\n",
       "      <th>F2020</th>\n",
       "      <th>F2021</th>\n",
       "      <th>F2022</th>\n",
       "      <th>F2023</th>\n",
       "      <th>F2024</th>\n",
       "      <th>F2025</th>\n",
       "    </tr>\n",
       "    <tr>\n",
       "      <th>ObjectId</th>\n",
       "      <th></th>\n",
       "      <th></th>\n",
       "      <th></th>\n",
       "      <th></th>\n",
       "      <th></th>\n",
       "      <th></th>\n",
       "      <th></th>\n",
       "      <th></th>\n",
       "      <th></th>\n",
       "      <th></th>\n",
       "      <th></th>\n",
       "      <th></th>\n",
       "      <th></th>\n",
       "      <th></th>\n",
       "      <th></th>\n",
       "      <th></th>\n",
       "      <th></th>\n",
       "      <th></th>\n",
       "      <th></th>\n",
       "      <th></th>\n",
       "    </tr>\n",
       "  </thead>\n",
       "  <tbody>\n",
       "    <tr>\n",
       "      <th>1</th>\n",
       "      <td>Afghanistan, Islamic Rep. of</td>\n",
       "      <td>AF</td>\n",
       "      <td>AFG</td>\n",
       "      <td>Explicit Fossil Fuel Subsidies - Coal</td>\n",
       "      <td>Parry, Ian; Black, Simon; Vernon, Nate. Septem...</td>\n",
       "      <td>ECGFTEC</td>\n",
       "      <td>Explicit; Coal</td>\n",
       "      <td>Environment, Climate Change, Government Policy...</td>\n",
       "      <td>Percent of GDP</td>\n",
       "      <td>0.0</td>\n",
       "      <td>0.0</td>\n",
       "      <td>0.0</td>\n",
       "      <td>0.000000</td>\n",
       "      <td>0.000000</td>\n",
       "      <td>0.000000</td>\n",
       "      <td>0.000000</td>\n",
       "      <td>0.000000</td>\n",
       "      <td>0.000000</td>\n",
       "      <td>0.000000</td>\n",
       "      <td>0.000000</td>\n",
       "    </tr>\n",
       "    <tr>\n",
       "      <th>2</th>\n",
       "      <td>Afghanistan, Islamic Rep. of</td>\n",
       "      <td>AF</td>\n",
       "      <td>AFG</td>\n",
       "      <td>Explicit Fossil Fuel Subsidies - Coal</td>\n",
       "      <td>Parry, Ian; Black, Simon; Vernon, Nate. Septem...</td>\n",
       "      <td>ECGFTEC</td>\n",
       "      <td>Explicit; Coal</td>\n",
       "      <td>Environment, Climate Change, Government Policy...</td>\n",
       "      <td>US Dollars</td>\n",
       "      <td>0.0</td>\n",
       "      <td>0.0</td>\n",
       "      <td>0.0</td>\n",
       "      <td>0.000000</td>\n",
       "      <td>0.000000</td>\n",
       "      <td>0.000000</td>\n",
       "      <td>0.000000</td>\n",
       "      <td>0.000000</td>\n",
       "      <td>0.000000</td>\n",
       "      <td>0.000000</td>\n",
       "      <td>0.000000</td>\n",
       "    </tr>\n",
       "    <tr>\n",
       "      <th>3</th>\n",
       "      <td>Afghanistan, Islamic Rep. of</td>\n",
       "      <td>AF</td>\n",
       "      <td>AFG</td>\n",
       "      <td>Explicit Fossil Fuel Subsidies - Electricity</td>\n",
       "      <td>Parry, Ian; Black, Simon; Vernon, Nate. Septem...</td>\n",
       "      <td>ECGFTET</td>\n",
       "      <td>Explicit; Electricity</td>\n",
       "      <td>Environment, Climate Change, Government Policy...</td>\n",
       "      <td>Percent of GDP</td>\n",
       "      <td>0.0</td>\n",
       "      <td>0.0</td>\n",
       "      <td>0.0</td>\n",
       "      <td>0.083287</td>\n",
       "      <td>0.375834</td>\n",
       "      <td>0.075661</td>\n",
       "      <td>0.252216</td>\n",
       "      <td>0.247982</td>\n",
       "      <td>0.270226</td>\n",
       "      <td>0.271118</td>\n",
       "      <td>0.245831</td>\n",
       "    </tr>\n",
       "  </tbody>\n",
       "</table>\n",
       "</div>"
      ],
      "text/plain": [
       "                               Country ISO2 ISO3   \n",
       "ObjectId                                           \n",
       "1         Afghanistan, Islamic Rep. of   AF  AFG  \\\n",
       "2         Afghanistan, Islamic Rep. of   AF  AFG   \n",
       "3         Afghanistan, Islamic Rep. of   AF  AFG   \n",
       "\n",
       "                                             Indicator   \n",
       "ObjectId                                                 \n",
       "1                Explicit Fossil Fuel Subsidies - Coal  \\\n",
       "2                Explicit Fossil Fuel Subsidies - Coal   \n",
       "3         Explicit Fossil Fuel Subsidies - Electricity   \n",
       "\n",
       "                                                     Source CTS_Code   \n",
       "ObjectId                                                               \n",
       "1         Parry, Ian; Black, Simon; Vernon, Nate. Septem...  ECGFTEC  \\\n",
       "2         Parry, Ian; Black, Simon; Vernon, Nate. Septem...  ECGFTEC   \n",
       "3         Parry, Ian; Black, Simon; Vernon, Nate. Septem...  ECGFTET   \n",
       "\n",
       "                       CTS_Name   \n",
       "ObjectId                          \n",
       "1                Explicit; Coal  \\\n",
       "2                Explicit; Coal   \n",
       "3         Explicit; Electricity   \n",
       "\n",
       "                                        CTS_Full_Descriptor            Unit   \n",
       "ObjectId                                                                      \n",
       "1         Environment, Climate Change, Government Policy...  Percent of GDP  \\\n",
       "2         Environment, Climate Change, Government Policy...      US Dollars   \n",
       "3         Environment, Climate Change, Government Policy...  Percent of GDP   \n",
       "\n",
       "          F2015  F2016  F2017     F2018     F2019     F2020     F2021   \n",
       "ObjectId                                                                \n",
       "1           0.0    0.0    0.0  0.000000  0.000000  0.000000  0.000000  \\\n",
       "2           0.0    0.0    0.0  0.000000  0.000000  0.000000  0.000000   \n",
       "3           0.0    0.0    0.0  0.083287  0.375834  0.075661  0.252216   \n",
       "\n",
       "             F2022     F2023     F2024     F2025  \n",
       "ObjectId                                          \n",
       "1         0.000000  0.000000  0.000000  0.000000  \n",
       "2         0.000000  0.000000  0.000000  0.000000  \n",
       "3         0.247982  0.270226  0.271118  0.245831  "
      ]
     },
     "execution_count": 31,
     "metadata": {},
     "output_type": "execute_result"
    }
   ],
   "source": [
    "subsidy = pd.read_csv('input/policy/Fossil_Fuel_Subsidies.csv', index_col=0, keep_default_na=False, na_values=\"\")\n",
    "subsidy.head(3)"
   ]
  },
  {
   "cell_type": "code",
   "execution_count": 32,
   "metadata": {},
   "outputs": [
    {
     "name": "stdout",
     "output_type": "stream",
     "text": [
      "Number of Countries: 197\n",
      "Number of Subsidies: 21\n"
     ]
    }
   ],
   "source": [
    "country_nodes = subsidy.ISO2.unique()\n",
    "policy_nodes = subsidy.CTS_Code.unique()\n",
    "print(\"Number of Countries:\", len(country_nodes))\n",
    "print(\"Number of Subsidies:\", len(policy_nodes))"
   ]
  },
  {
   "attachments": {},
   "cell_type": "markdown",
   "metadata": {},
   "source": [
    "Another question would be how do we create groups of subsidies. We'll call the fossil fuel subsidy bi-partite graph S."
   ]
  },
  {
   "cell_type": "code",
   "execution_count": 33,
   "metadata": {},
   "outputs": [],
   "source": [
    "S = nx.Graph()\n",
    "S.add_nodes_from(country_nodes, bipartite=0)\n",
    "S.add_nodes_from(policy_nodes, bipartite=1)"
   ]
  },
  {
   "attachments": {},
   "cell_type": "markdown",
   "metadata": {},
   "source": [
    "Note that the following countries do not have the Petroleum field. We'll simply not draw edges."
   ]
  },
  {
   "cell_type": "code",
   "execution_count": 34,
   "metadata": {},
   "outputs": [
    {
     "name": "stdout",
     "output_type": "stream",
     "text": [
      "AI 20\n",
      "{'Implicit; Petroleum'}\n",
      "MH 20\n",
      "{'Implicit; Petroleum'}\n",
      "PW 20\n",
      "{'Implicit; Petroleum'}\n",
      "SM 20\n",
      "{'Implicit; Petroleum'}\n",
      "TV 20\n",
      "{'Implicit; Petroleum'}\n"
     ]
    }
   ],
   "source": [
    "full = set(subsidy[subsidy.ISO2 == \"AF\"].CTS_Name)\n",
    "subsidy_sub = subsidy[subsidy.Unit == \"Percent of GDP\"]\n",
    "for country in country_nodes:\n",
    "    subset = subsidy_sub[subsidy_sub.ISO2 == country]\n",
    "    if len(subset) < 21:\n",
    "        print(country, len(subset))\n",
    "        partial = set(subsidy[subsidy.ISO2 == country].CTS_Name)\n",
    "        print(full - partial)"
   ]
  },
  {
   "attachments": {},
   "cell_type": "markdown",
   "metadata": {},
   "source": [
    "Loop through every country/policy combination and add an edge if the value for specified year was greater than 0."
   ]
  },
  {
   "cell_type": "code",
   "execution_count": 35,
   "metadata": {},
   "outputs": [],
   "source": [
    "df_temp = subsidy[subsidy.Unit == \"Percent of GDP\"]\n",
    "df_temp.set_index([\"ISO2\", \"CTS_Code\"], inplace = True)\n",
    "dict = {}\n",
    "\n",
    "for year in subsidy.columns[9:]:\n",
    "    edge_list = []\n",
    "    for country in country_nodes:\n",
    "        subset = df_temp.loc[country]\n",
    "        for policy_code in subset.index:\n",
    "            weight = subset.loc[policy_code][year]\n",
    "            if weight > 0:\n",
    "                edge = (country, policy_code, weight)\n",
    "                edge_list.append(edge)\n",
    "    dict[int(year[1:])] = edge_list\n",
    "\n",
    "S.add_weighted_edges_from(edge_list)"
   ]
  },
  {
   "cell_type": "code",
   "execution_count": 36,
   "metadata": {},
   "outputs": [
    {
     "name": "stdout",
     "output_type": "stream",
     "text": [
      "Number of Edges: 2958\n",
      "Number of Possible Edges: 4137\n"
     ]
    }
   ],
   "source": [
    "print(\"Number of Edges:\", S.number_of_edges())\n",
    "print(\"Number of Possible Edges:\", len(country_nodes) * len(policy_nodes))"
   ]
  },
  {
   "cell_type": "markdown",
   "metadata": {},
   "source": [
    "### Analysis"
   ]
  },
  {
   "cell_type": "code",
   "execution_count": null,
   "metadata": {},
   "outputs": [],
   "source": [
    "results = []\n",
    "years = [int(year[1:]) for year in subsidy.columns[9:]]\n",
    "for year in years:\n",
    "    S.remove_edges_from(S.edges)\n",
    "    S.add_weighted_edges_from(dict[year])\n",
    "    results.append({\"Year\": year, \"Countries\": country_count(S, country_nodes), \"Edges\": S.number_of_edges(), \"Butterflies\": butterflies(S),\\\n",
    "                    \"Caterpillars\": caterpillars(S), \"Ratio\": 4 * butterflies(S) / caterpillars(S)})\n",
    "subsidy_time = pd.DataFrame(results)"
   ]
  },
  {
   "cell_type": "code",
   "execution_count": null,
   "metadata": {},
   "outputs": [
    {
     "data": {
      "text/html": [
       "<div>\n",
       "<style scoped>\n",
       "    .dataframe tbody tr th:only-of-type {\n",
       "        vertical-align: middle;\n",
       "    }\n",
       "\n",
       "    .dataframe tbody tr th {\n",
       "        vertical-align: top;\n",
       "    }\n",
       "\n",
       "    .dataframe thead th {\n",
       "        text-align: right;\n",
       "    }\n",
       "</style>\n",
       "<table border=\"1\" class=\"dataframe\">\n",
       "  <thead>\n",
       "    <tr style=\"text-align: right;\">\n",
       "      <th></th>\n",
       "      <th>Year</th>\n",
       "      <th>Countries</th>\n",
       "      <th>Edges</th>\n",
       "      <th>Butterflies</th>\n",
       "      <th>Caterpillars</th>\n",
       "      <th>Ratio</th>\n",
       "    </tr>\n",
       "  </thead>\n",
       "  <tbody>\n",
       "    <tr>\n",
       "      <th>0</th>\n",
       "      <td>2015</td>\n",
       "      <td>188</td>\n",
       "      <td>2625</td>\n",
       "      <td>1042378</td>\n",
       "      <td>5239483</td>\n",
       "      <td>0.795787</td>\n",
       "    </tr>\n",
       "    <tr>\n",
       "      <th>1</th>\n",
       "      <td>2016</td>\n",
       "      <td>188</td>\n",
       "      <td>2638</td>\n",
       "      <td>1047575</td>\n",
       "      <td>5273580</td>\n",
       "      <td>0.794584</td>\n",
       "    </tr>\n",
       "    <tr>\n",
       "      <th>2</th>\n",
       "      <td>2017</td>\n",
       "      <td>189</td>\n",
       "      <td>2704</td>\n",
       "      <td>1115783</td>\n",
       "      <td>5582115</td>\n",
       "      <td>0.799541</td>\n",
       "    </tr>\n",
       "    <tr>\n",
       "      <th>3</th>\n",
       "      <td>2018</td>\n",
       "      <td>190</td>\n",
       "      <td>2825</td>\n",
       "      <td>1268430</td>\n",
       "      <td>6215032</td>\n",
       "      <td>0.816363</td>\n",
       "    </tr>\n",
       "    <tr>\n",
       "      <th>4</th>\n",
       "      <td>2019</td>\n",
       "      <td>191</td>\n",
       "      <td>3034</td>\n",
       "      <td>1584275</td>\n",
       "      <td>7442802</td>\n",
       "      <td>0.851440</td>\n",
       "    </tr>\n",
       "    <tr>\n",
       "      <th>5</th>\n",
       "      <td>2020</td>\n",
       "      <td>190</td>\n",
       "      <td>2859</td>\n",
       "      <td>1320783</td>\n",
       "      <td>6413289</td>\n",
       "      <td>0.823779</td>\n",
       "    </tr>\n",
       "    <tr>\n",
       "      <th>6</th>\n",
       "      <td>2021</td>\n",
       "      <td>191</td>\n",
       "      <td>2870</td>\n",
       "      <td>1336347</td>\n",
       "      <td>6467542</td>\n",
       "      <td>0.826495</td>\n",
       "    </tr>\n",
       "    <tr>\n",
       "      <th>7</th>\n",
       "      <td>2022</td>\n",
       "      <td>191</td>\n",
       "      <td>2877</td>\n",
       "      <td>1341583</td>\n",
       "      <td>6488692</td>\n",
       "      <td>0.827028</td>\n",
       "    </tr>\n",
       "    <tr>\n",
       "      <th>8</th>\n",
       "      <td>2023</td>\n",
       "      <td>191</td>\n",
       "      <td>2915</td>\n",
       "      <td>1399480</td>\n",
       "      <td>6711951</td>\n",
       "      <td>0.834023</td>\n",
       "    </tr>\n",
       "    <tr>\n",
       "      <th>9</th>\n",
       "      <td>2024</td>\n",
       "      <td>191</td>\n",
       "      <td>2914</td>\n",
       "      <td>1404496</td>\n",
       "      <td>6723779</td>\n",
       "      <td>0.835540</td>\n",
       "    </tr>\n",
       "    <tr>\n",
       "      <th>10</th>\n",
       "      <td>2025</td>\n",
       "      <td>191</td>\n",
       "      <td>2958</td>\n",
       "      <td>1481792</td>\n",
       "      <td>7008498</td>\n",
       "      <td>0.845712</td>\n",
       "    </tr>\n",
       "  </tbody>\n",
       "</table>\n",
       "</div>"
      ],
      "text/plain": [
       "    Year  Countries  Edges  Butterflies  Caterpillars     Ratio\n",
       "0   2015        188   2625      1042378       5239483  0.795787\n",
       "1   2016        188   2638      1047575       5273580  0.794584\n",
       "2   2017        189   2704      1115783       5582115  0.799541\n",
       "3   2018        190   2825      1268430       6215032  0.816363\n",
       "4   2019        191   3034      1584275       7442802  0.851440\n",
       "5   2020        190   2859      1320783       6413289  0.823779\n",
       "6   2021        191   2870      1336347       6467542  0.826495\n",
       "7   2022        191   2877      1341583       6488692  0.827028\n",
       "8   2023        191   2915      1399480       6711951  0.834023\n",
       "9   2024        191   2914      1404496       6723779  0.835540\n",
       "10  2025        191   2958      1481792       7008498  0.845712"
      ]
     },
     "metadata": {},
     "output_type": "display_data"
    }
   ],
   "source": [
    "subsidy_time"
   ]
  },
  {
   "cell_type": "code",
   "execution_count": null,
   "metadata": {},
   "outputs": [
    {
     "data": {
      "text/plain": [
       "Text(0.5, 1.0, 'Butterfly Caterpillar Ratio for Fossil Fuel Subsidy Graph')"
      ]
     },
     "metadata": {},
     "output_type": "display_data"
    },
    {
     "data": {
      "image/png": "[encoded data removed]",
      "text/plain": [
       "<Figure size 640x480 with 1 Axes>"
      ]
     },
     "metadata": {},
     "output_type": "display_data"
    }
   ],
   "source": [
    "plt.plot(subsidy_time.Year, subsidy_time.Ratio)\n",
    "plt.xlabel('Year')\n",
    "plt.ylabel('Ratio')\n",
    "plt.title('Butterfly Caterpillar Ratio for Fossil Fuel Subsidy Graph')"
   ]
  },
  {
   "attachments": {},
   "cell_type": "markdown",
   "metadata": {},
   "source": [
    "### Change Point Detection\n",
    "\n",
    "NEED TO FINISH"
   ]
  },
  {
   "attachments": {},
   "cell_type": "markdown",
   "metadata": {},
   "source": [
    "### Clustering\n",
    "\n",
    "NEED TO FINSIH"
   ]
  },
  {
   "attachments": {},
   "cell_type": "markdown",
   "metadata": {},
   "source": [
    "# Green Bonds"
   ]
  },
  {
   "attachments": {},
   "cell_type": "markdown",
   "metadata": {},
   "source": [
    "### Intro"
   ]
  },
  {
   "cell_type": "code",
   "execution_count": 6,
   "metadata": {},
   "outputs": [],
   "source": [
    "green_bonds = pd.read_csv(\"input/policy/Green_Bonds.csv\", index_col=0, keep_default_na=False, na_values=\"\")\n",
    "\n",
    "# Filtered Down to countries\n",
    "green_bonds = green_bonds[np.logical_not(green_bonds[\"ISO2\"].isna())]\n",
    "\n",
    "green_bond_country_nodes = green_bonds.ISO2.unique()\n",
    "# Need to figure out the differences between these bonds\n",
    "bonds_nodes = green_bonds[\"CTS_Name\"].unique()"
   ]
  },
  {
   "attachments": {},
   "cell_type": "markdown",
   "metadata": {},
   "source": [
    "Looks likes most years no one invested in bonds. Still very few countries invest in bonds but each year it seems the number increases."
   ]
  },
  {
   "cell_type": "code",
   "execution_count": 7,
   "metadata": {},
   "outputs": [
    {
     "data": {
      "image/png": "[encoded data removed]",
      "text/plain": [
       "<Figure size 640x480 with 1 Axes>"
      ]
     },
     "metadata": {},
     "output_type": "display_data"
    }
   ],
   "source": [
    "# Get the data\n",
    "num_countries = green_bonds[green_bonds.columns[12:]].count().to_list()\n",
    "years = [int(year[1:]) for year in green_bonds.columns[12:]]\n",
    "\n",
    "# Plot\n",
    "fig,ax = plt.subplots()\n",
    "ax.scatter(years, num_countries)\n",
    "ax.set_title(\"Number of Countries using Green Bonds by year\")\n",
    "ax.set_ylabel(\"Number of Countries\")\n",
    "ax.set_xlabel(\"Year\")\n",
    "\n",
    "plt.show()"
   ]
  },
  {
   "attachments": {},
   "cell_type": "markdown",
   "metadata": {},
   "source": [
    "Furthermore we can break the graph down into its two different categories"
   ]
  },
  {
   "cell_type": "code",
   "execution_count": 39,
   "metadata": {},
   "outputs": [
    {
     "data": {
      "image/png": "[encoded data removed]",
      "text/plain": [
       "<Figure size 640x480 with 1 Axes>"
      ]
     },
     "metadata": {},
     "output_type": "display_data"
    }
   ],
   "source": [
    "# Get the data\n",
    "issuances = green_bonds[green_bonds[\"CTS_Name\"] == \"Green Bonds Issuances\"]\n",
    "\n",
    "\n",
    "# Calculate Variables\n",
    "issuance_count = issuances[issuances.columns[12:]].count()\n",
    "nonissuance_count = num_countries - issuance_count\n",
    "y = np.vstack([nonissuance_count, issuance_count])\n",
    "\n",
    "# Plot\n",
    "fig,ax = plt.subplots()\n",
    "# Using years var from last cell\n",
    "ax.stackplot(years, y, labels = [\"Nonissuance Green Bonds\", \"Issuance Green Bonds\",])\n",
    "ax.set_title(\"Number of Countries using Green Bonds by year\")\n",
    "ax.set_ylabel(\"Number of Countries\")\n",
    "ax.set_xlabel(\"Year\")\n",
    "ax.legend(loc = \"upper left\")\n",
    "\n",
    "plt.show()"
   ]
  },
  {
   "cell_type": "code",
   "execution_count": 40,
   "metadata": {},
   "outputs": [
    {
     "data": {
      "image/png": "[encoded data removed]",
      "text/plain": [
       "<Figure size 640x480 with 1 Axes>"
      ]
     },
     "metadata": {},
     "output_type": "display_data"
    }
   ],
   "source": [
    "# Get the data\n",
    "issuances = green_bonds[green_bonds[\"CTS_Name\"] == \"Green Bonds Issuances\"]\n",
    "nonissuances = green_bonds[green_bonds[\"CTS_Name\"] == \"Green Bonds\"]\n",
    "\n",
    "# Calculate Variables\n",
    "issuance_money = issuances[issuances.columns[12:]].fillna(0).sum()\n",
    "nonissuance_money = nonissuances[nonissuances.columns[12:]].fillna(0).sum()\n",
    "y = np.vstack([nonissuance_money, issuance_money])\n",
    "\n",
    "# Plot\n",
    "fig,ax = plt.subplots()\n",
    "# Using years var from last cell\n",
    "ax.stackplot(years, y, labels = [\"Nonissuance Green Bonds\", \"Issuance Green Bonds\",])\n",
    "ax.set_title(\"Number of Countries using Green Bonds by year\")\n",
    "ax.set_ylabel(\"Number of Countries\")\n",
    "ax.set_xlabel(\"Year\")\n",
    "ax.legend(loc = \"upper left\")\n",
    "\n",
    "plt.show()"
   ]
  },
  {
   "attachments": {},
   "cell_type": "markdown",
   "metadata": {},
   "source": [
    "### Graph Building"
   ]
  },
  {
   "attachments": {},
   "cell_type": "markdown",
   "metadata": {},
   "source": [
    "Initializing the nodes in our bipartite graph. Country nodes are on the left and green bond policies are on the right."
   ]
  },
  {
   "cell_type": "code",
   "execution_count": 8,
   "metadata": {},
   "outputs": [],
   "source": [
    "B = nx.Graph()\n",
    "B.add_nodes_from(green_bond_country_nodes, bipartite=0)\n",
    "B.add_nodes_from(bonds_nodes, bipartite=1)"
   ]
  },
  {
   "attachments": {},
   "cell_type": "markdown",
   "metadata": {},
   "source": [
    "We are creating the edge_lists for every single year. This can allow for quick creation of graphs for any specific year."
   ]
  },
  {
   "cell_type": "code",
   "execution_count": 9,
   "metadata": {},
   "outputs": [],
   "source": [
    "green_bonds_temp = green_bonds.set_index([\"ISO2\", \"CTS_Name\"], inplace = False)\n",
    "green_bond_years = []\n",
    "green_bond_dict = {}\n",
    "\n",
    "for year in green_bonds.columns[12:]: #create edge lists for each year\n",
    "    edge_list = []\n",
    "    for country in green_bond_country_nodes: #find every country-bond combo\n",
    "        subset = green_bonds_temp.loc[country]\n",
    "        for bond in subset.index: #bond\n",
    "            weight = subset.loc[bond][year] #edge weights are bond values\n",
    "            if weight > 0:\n",
    "                edge = (country, bond, weight) #create edge\n",
    "                edge_list.append(edge)\n",
    "    # Take out years with no policies\n",
    "    if not (len(edge_list) == 0):\n",
    "        green_bond_years.append(int(year[1:]))\n",
    "        green_bond_dict[int(year[1:])] = edge_list\n",
    "\n"
   ]
  },
  {
   "attachments": {},
   "cell_type": "markdown",
   "metadata": {},
   "source": [
    "Let's create a graph for 2015 and see what it looks like:"
   ]
  },
  {
   "cell_type": "code",
   "execution_count": 10,
   "metadata": {},
   "outputs": [
    {
     "name": "stdout",
     "output_type": "stream",
     "text": [
      "Number of Edges: 20\n",
      "Number of Possible Edges: 152\n"
     ]
    }
   ],
   "source": [
    "B.remove_edges_from(B.edges)\n",
    "B.add_weighted_edges_from(green_bond_dict[2015])\n",
    "print(\"Number of Edges:\", B.number_of_edges())\n",
    "print(\"Number of Possible Edges:\", len(green_bond_country_nodes) * len(bonds_nodes))"
   ]
  },
  {
   "attachments": {},
   "cell_type": "markdown",
   "metadata": {},
   "source": [
    "Let's also create a method to see the number of countries implementing any policies at all:"
   ]
  },
  {
   "cell_type": "code",
   "execution_count": 18,
   "metadata": {},
   "outputs": [
    {
     "name": "stdout",
     "output_type": "stream",
     "text": [
      "Participating Countries: 20\n"
     ]
    }
   ],
   "source": [
    "def country_count(B, country_nodes):\n",
    "    deg_policy, deg_country = bipartite.degrees(B, country_nodes)\n",
    "    sum = 0\n",
    "    for c, d in deg_country:\n",
    "        if d > 0:\n",
    "            sum += 1\n",
    "    return sum\n",
    "print(\"Participating Countries:\", country_count(B, green_bond_country_nodes))"
   ]
  },
  {
   "attachments": {},
   "cell_type": "markdown",
   "metadata": {},
   "source": [
    "### Change Point Detection:"
   ]
  },
  {
   "cell_type": "code",
   "execution_count": 12,
   "metadata": {},
   "outputs": [
    {
     "name": "stderr",
     "output_type": "stream",
     "text": [
      "Traceback (most recent call last):\n",
      "  File \"/Users/robert/opt/miniconda3/envs/climate_policy_network_sci/lib/python3.11/site-packages/debugpy/_vendored/pydevd/_pydevd_bundle/pydevd_vars.py\", line 624, in change_attr_expression\n",
      "    value = eval(expression, frame.f_globals, frame.f_locals)\n",
      "            ^^^^^^^^^^^^^^^^^^^^^^^^^^^^^^^^^^^^^^^^^^^^^^^^^\n",
      "  File \"<string>\", line 1, in <module>\n",
      "NameError: name 'array' is not defined\n",
      "<class 'networkx.utils.decorators.argmap'> compilation 4:4: FutureWarning: normalized_laplacian_matrix will return a scipy.sparse array instead of a matrix in Networkx 3.0.\n",
      "<class 'networkx.utils.decorators.argmap'> compilation 4:4: FutureWarning: normalized_laplacian_matrix will return a scipy.sparse array instead of a matrix in Networkx 3.0.\n"
     ]
    }
   ],
   "source": [
    "windowSize = 6\n",
    "\n",
    "\n",
    "def change_point_detection(windowSize, G, years, edge_dict):\n",
    "\n",
    "    dict_signatures = {}\n",
    "    for year in years:\n",
    "        G.remove_edges_from(G.edges)\n",
    "        G.add_weighted_edges_from(edge_dict[year])\n",
    "\n",
    "        # Create the signless Laplacian but found the normalized laplacian to be better\n",
    "        # A = nx.adjacency_matrix(B)\n",
    "        # D = np.diag(nx.laplacian_matrix(B).diagonal())\n",
    "\n",
    "        laplacian = nx.normalized_laplacian_matrix(G).toarray()\n",
    "        singular_values = np.linalg.svd(laplacian)[1]\n",
    "        l2_norm = np.linalg.norm(singular_values, ord = 2)\n",
    "        \n",
    "        \n",
    "        norm_singluar_values = singular_values / l2_norm\n",
    "\n",
    "        dict_signatures[year] = norm_singluar_values\n",
    "\n",
    "    \n",
    "\n",
    "    window_dicts = {}\n",
    "    for i in range(len(years) - windowSize):\n",
    "        year_subset = years[i:i+windowSize]\n",
    "\n",
    "        # Choose one random signature to start our weights_avg\n",
    "        weights_avg = np.zeros(dict_signatures[2018].shape)\n",
    "\n",
    "        for year in year_subset:\n",
    "            weights_avg += dict_signatures[year] * (1/windowSize)\n",
    "\n",
    "        window_dicts[years[windowSize + i]] = weights_avg / np.linalg.norm(weights_avg, ord = 2)\n",
    "\n",
    "\n",
    "    Z_list = []\n",
    "    year_list = []\n",
    "\n",
    "    for year in window_dicts.keys():\n",
    "        baseline = window_dicts[year]\n",
    "        single_year = dict_signatures[year]\n",
    "        Z = 1-np.transpose(single_year) @ baseline\n",
    "\n",
    "        Z_list.append(Z)\n",
    "        year_list.append(year)\n",
    "\n",
    "    return [Z_list, year_list]\n",
    "    \n",
    "Z_list, year_list = change_point_detection(windowSize, B, green_bond_years, green_bond_dict)\n",
    "\n",
    "    \n"
   ]
  },
  {
   "attachments": {},
   "cell_type": "markdown",
   "metadata": {},
   "source": [
    "Successfully was able to show that the biggest change was in 2010s. Need to update method to take out laplacians that are 0, but I feel like this is important information."
   ]
  },
  {
   "cell_type": "code",
   "execution_count": 23,
   "metadata": {},
   "outputs": [
    {
     "data": {
      "image/png": "[encoded data removed]",
      "text/plain": [
       "<Figure size 432x288 with 1 Axes>"
      ]
     },
     "metadata": {
      "needs_background": "light"
     },
     "output_type": "display_data"
    }
   ],
   "source": [
    "fig,ax = plt.subplots()\n",
    "# Using years var from last cell\n",
    "ax.plot(year_list, Z_list)\n",
    "ax.set_title(\"Change Point Detection for Green Bonds \\n Window of 6 years\")\n",
    "ax.set_ylabel(\"Change Value\")\n",
    "ax.set_xlabel(\"Year\")\n",
    "\n",
    "plt.show()\n"
   ]
  },
  {
   "attachments": {},
   "cell_type": "markdown",
   "metadata": {},
   "source": [
    "### Clustering"
   ]
  },
  {
   "attachments": {},
   "cell_type": "markdown",
   "metadata": {},
   "source": [
    "This code maps each policy and country to its corresponding numerical id that will be used in the BINE code"
   ]
  },
  {
   "cell_type": "code",
   "execution_count": 50,
   "metadata": {},
   "outputs": [],
   "source": [
    "green_bond_node_mapping = {}\n",
    "\n",
    "# Mapping for contries\n",
    "i = 0\n",
    "for country in green_bonds[\"ISO2\"].unique():\n",
    "    green_bond_node_mapping[country] = f\"u{i}\"\n",
    "    i += 1\n",
    "\n",
    "# Mapping for policies\n",
    "j = 0\n",
    "for policy in green_bonds[\"CTS_Name\"].unique():\n",
    "    green_bond_node_mapping[policy] = f\"i{j}\"\n",
    "    j += 1\n",
    "\n",
    "# Reverses the mapping to be id to name\n",
    "inv_green_bond_mapping = {v: k for k, v in green_bond_node_mapping.items()}"
   ]
  },
  {
   "attachments": {},
   "cell_type": "markdown",
   "metadata": {},
   "source": [
    "There are 2 parts to the next code block:\n",
    "\n",
    "1. First, we create edgelists for each graph in a format the BINE algorithm can read\n",
    "1. Second we read each edgelist and create a command to run in the terminal that obtains the BINE embeddings\n",
    "\n",
    "Note: The reason we have to write these commands to a new text file is because we need to run an old version of python for BINE algorithm to work."
   ]
  },
  {
   "cell_type": "code",
   "execution_count": 51,
   "metadata": {},
   "outputs": [],
   "source": [
    "import os\n",
    "\n",
    "# Create graphs BINE can read\n",
    "for year in green_bond_years:\n",
    "    B.remove_edges_from(B.edges)\n",
    "    B.add_weighted_edges_from(green_bond_dict[year])\n",
    "\n",
    "    # Relabels our graph from name to id to work on BINE code\n",
    "    B_integer = nx.relabel_nodes(B, green_bond_node_mapping)\n",
    "\n",
    "    fileName = f\"BiNE-master/data/greenbonds/greenbonds_{year}_edgelist.dat\"\n",
    "    nx.write_weighted_edgelist(B_integer, fileName, delimiter = \"\\t\")\n",
    "\n",
    "# Create commands to run BINE file.\n",
    "with open(\"Green_bond_commands.txt\", \"w\") as f:\n",
    "    for year in green_bond_years:\n",
    "        command = f\"python train.py --train-data ../data/greenbonds/greenbonds_{year}_edgelist.dat --lam 0.025 --d 10 --max-iter 100 --large 2 --vectors-u ../data/greenbonds/vectors_u_{year}.dat --vectors-v ../data/greenbonds/vectors_v_{year}.dat &&\"\n",
    "        f.write(command)\n"
   ]
  },
  {
   "attachments": {},
   "cell_type": "markdown",
   "metadata": {},
   "source": [
    "Now that we have feature representations of our countries we can complete a cluster analysis with them. \n",
    "\n",
    "Between the code block above and the code block below, we must run the commands file to obtain all the BINE embeddings. After we obtain the BINE embeddings, we then can read them into a pandas file for simple analysis."
   ]
  },
  {
   "cell_type": "code",
   "execution_count": 52,
   "metadata": {},
   "outputs": [],
   "source": [
    "bine_embeddings_bonds_dict = {}\n",
    "\n",
    "for year in green_bond_years:\n",
    "\n",
    "    out_mat = []\n",
    "    cols = []\n",
    "    countries = []\n",
    "\n",
    "    # This code is only opening the BINE embeddings for a specific year.\n",
    "    with open(f\"BiNE-master/data/greenbonds/vectors_u_{year}.dat\", \"r\") as f:\n",
    "        for line in f:\n",
    "            data = line.split()\n",
    "\n",
    "            # Parses what country our embedding is of.\n",
    "            countries.append(data[0])\n",
    "\n",
    "            # Obtains the embedding for country\n",
    "            values = [float(elt) for elt in data[1:]]\n",
    "\n",
    "            # Reshapes the embedding\n",
    "            col = np.array(values).reshape((len(values),1))\n",
    "            cols.append(col)\n",
    "\n",
    "        out_mat = np.concatenate(cols, axis =1)\n",
    "\n",
    "    # Changes ids of countries to their actual country names\n",
    "    country_names = [inv_green_bond_mapping[country] for country in countries]\n",
    "\n",
    "    pandas_bine_embeddings_bonds = pd.DataFrame(out_mat, columns = country_names)\n",
    "\n",
    "    bine_embeddings_bonds_dict[year] = pandas_bine_embeddings_bonds"
   ]
  },
  {
   "attachments": {},
   "cell_type": "markdown",
   "metadata": {},
   "source": [
    "Lets view what each embedding looks like for each country"
   ]
  },
  {
   "cell_type": "code",
   "execution_count": 53,
   "metadata": {},
   "outputs": [
    {
     "data": {
      "text/html": [
       "<div>\n",
       "<style scoped>\n",
       "    .dataframe tbody tr th:only-of-type {\n",
       "        vertical-align: middle;\n",
       "    }\n",
       "\n",
       "    .dataframe tbody tr th {\n",
       "        vertical-align: top;\n",
       "    }\n",
       "\n",
       "    .dataframe thead th {\n",
       "        text-align: right;\n",
       "    }\n",
       "</style>\n",
       "<table border=\"1\" class=\"dataframe\">\n",
       "  <thead>\n",
       "    <tr style=\"text-align: right;\">\n",
       "      <th></th>\n",
       "      <th>TW</th>\n",
       "      <th>TH</th>\n",
       "      <th>UA</th>\n",
       "      <th>GB</th>\n",
       "      <th>SG</th>\n",
       "      <th>SK</th>\n",
       "      <th>ZA</th>\n",
       "      <th>ES</th>\n",
       "      <th>SE</th>\n",
       "      <th>CH</th>\n",
       "      <th>...</th>\n",
       "      <th>GG</th>\n",
       "      <th>HU</th>\n",
       "      <th>FI</th>\n",
       "      <th>FR</th>\n",
       "      <th>GE</th>\n",
       "      <th>NZ</th>\n",
       "      <th>LI</th>\n",
       "      <th>IS</th>\n",
       "      <th>IN</th>\n",
       "      <th>PH</th>\n",
       "    </tr>\n",
       "  </thead>\n",
       "  <tbody>\n",
       "    <tr>\n",
       "      <th>0</th>\n",
       "      <td>0.360465</td>\n",
       "      <td>0.191613</td>\n",
       "      <td>0.374990</td>\n",
       "      <td>0.366984</td>\n",
       "      <td>0.326026</td>\n",
       "      <td>0.019438</td>\n",
       "      <td>0.300085</td>\n",
       "      <td>0.437258</td>\n",
       "      <td>0.177176</td>\n",
       "      <td>0.275612</td>\n",
       "      <td>...</td>\n",
       "      <td>0.435629</td>\n",
       "      <td>0.174318</td>\n",
       "      <td>0.399621</td>\n",
       "      <td>0.825742</td>\n",
       "      <td>0.219181</td>\n",
       "      <td>0.611400</td>\n",
       "      <td>0.074630</td>\n",
       "      <td>0.589186</td>\n",
       "      <td>0.217322</td>\n",
       "      <td>0.411551</td>\n",
       "    </tr>\n",
       "    <tr>\n",
       "      <th>1</th>\n",
       "      <td>0.444382</td>\n",
       "      <td>0.359464</td>\n",
       "      <td>0.514755</td>\n",
       "      <td>0.412164</td>\n",
       "      <td>0.370195</td>\n",
       "      <td>0.099489</td>\n",
       "      <td>0.357959</td>\n",
       "      <td>0.582137</td>\n",
       "      <td>0.595769</td>\n",
       "      <td>0.102700</td>\n",
       "      <td>...</td>\n",
       "      <td>0.095939</td>\n",
       "      <td>0.136924</td>\n",
       "      <td>0.089223</td>\n",
       "      <td>0.473211</td>\n",
       "      <td>0.300738</td>\n",
       "      <td>0.110892</td>\n",
       "      <td>0.141813</td>\n",
       "      <td>0.132007</td>\n",
       "      <td>0.531118</td>\n",
       "      <td>0.006947</td>\n",
       "    </tr>\n",
       "    <tr>\n",
       "      <th>2</th>\n",
       "      <td>0.291791</td>\n",
       "      <td>0.462747</td>\n",
       "      <td>0.215559</td>\n",
       "      <td>0.288005</td>\n",
       "      <td>0.097702</td>\n",
       "      <td>0.224796</td>\n",
       "      <td>0.267987</td>\n",
       "      <td>0.138990</td>\n",
       "      <td>0.152244</td>\n",
       "      <td>0.186718</td>\n",
       "      <td>...</td>\n",
       "      <td>0.515764</td>\n",
       "      <td>0.472511</td>\n",
       "      <td>0.494365</td>\n",
       "      <td>0.488093</td>\n",
       "      <td>0.216870</td>\n",
       "      <td>0.022645</td>\n",
       "      <td>0.310646</td>\n",
       "      <td>0.056521</td>\n",
       "      <td>0.129541</td>\n",
       "      <td>0.341459</td>\n",
       "    </tr>\n",
       "    <tr>\n",
       "      <th>3</th>\n",
       "      <td>0.189160</td>\n",
       "      <td>0.089318</td>\n",
       "      <td>0.445759</td>\n",
       "      <td>0.600941</td>\n",
       "      <td>0.465359</td>\n",
       "      <td>0.465045</td>\n",
       "      <td>0.389689</td>\n",
       "      <td>0.474116</td>\n",
       "      <td>0.543860</td>\n",
       "      <td>0.312516</td>\n",
       "      <td>...</td>\n",
       "      <td>0.286948</td>\n",
       "      <td>0.119323</td>\n",
       "      <td>0.113977</td>\n",
       "      <td>0.212222</td>\n",
       "      <td>0.467627</td>\n",
       "      <td>0.501111</td>\n",
       "      <td>0.408074</td>\n",
       "      <td>0.236087</td>\n",
       "      <td>0.150022</td>\n",
       "      <td>0.477939</td>\n",
       "    </tr>\n",
       "    <tr>\n",
       "      <th>4</th>\n",
       "      <td>0.202341</td>\n",
       "      <td>0.265240</td>\n",
       "      <td>0.179494</td>\n",
       "      <td>0.730669</td>\n",
       "      <td>0.125221</td>\n",
       "      <td>0.205035</td>\n",
       "      <td>0.333070</td>\n",
       "      <td>0.624475</td>\n",
       "      <td>0.244820</td>\n",
       "      <td>0.195991</td>\n",
       "      <td>...</td>\n",
       "      <td>0.083416</td>\n",
       "      <td>0.247145</td>\n",
       "      <td>0.507063</td>\n",
       "      <td>0.302105</td>\n",
       "      <td>0.163908</td>\n",
       "      <td>0.388923</td>\n",
       "      <td>0.173432</td>\n",
       "      <td>0.147939</td>\n",
       "      <td>0.114294</td>\n",
       "      <td>0.468409</td>\n",
       "    </tr>\n",
       "    <tr>\n",
       "      <th>5</th>\n",
       "      <td>0.297113</td>\n",
       "      <td>0.009597</td>\n",
       "      <td>0.318254</td>\n",
       "      <td>0.596196</td>\n",
       "      <td>0.079796</td>\n",
       "      <td>0.483082</td>\n",
       "      <td>0.098642</td>\n",
       "      <td>0.412613</td>\n",
       "      <td>0.248311</td>\n",
       "      <td>0.400416</td>\n",
       "      <td>...</td>\n",
       "      <td>0.258407</td>\n",
       "      <td>0.056514</td>\n",
       "      <td>0.177707</td>\n",
       "      <td>0.391584</td>\n",
       "      <td>0.132818</td>\n",
       "      <td>0.110197</td>\n",
       "      <td>0.199281</td>\n",
       "      <td>0.088239</td>\n",
       "      <td>0.154224</td>\n",
       "      <td>0.477313</td>\n",
       "    </tr>\n",
       "    <tr>\n",
       "      <th>6</th>\n",
       "      <td>0.248897</td>\n",
       "      <td>0.310248</td>\n",
       "      <td>0.443670</td>\n",
       "      <td>0.543106</td>\n",
       "      <td>0.305086</td>\n",
       "      <td>0.258153</td>\n",
       "      <td>0.379340</td>\n",
       "      <td>0.368601</td>\n",
       "      <td>0.623421</td>\n",
       "      <td>0.230195</td>\n",
       "      <td>...</td>\n",
       "      <td>0.291302</td>\n",
       "      <td>0.342805</td>\n",
       "      <td>0.436529</td>\n",
       "      <td>0.635330</td>\n",
       "      <td>0.569585</td>\n",
       "      <td>0.234954</td>\n",
       "      <td>0.377983</td>\n",
       "      <td>0.355192</td>\n",
       "      <td>0.393546</td>\n",
       "      <td>0.174080</td>\n",
       "    </tr>\n",
       "    <tr>\n",
       "      <th>7</th>\n",
       "      <td>0.421303</td>\n",
       "      <td>0.441547</td>\n",
       "      <td>0.237482</td>\n",
       "      <td>0.344165</td>\n",
       "      <td>0.560335</td>\n",
       "      <td>0.330991</td>\n",
       "      <td>0.323784</td>\n",
       "      <td>0.249185</td>\n",
       "      <td>0.372659</td>\n",
       "      <td>0.531087</td>\n",
       "      <td>...</td>\n",
       "      <td>0.511372</td>\n",
       "      <td>0.451836</td>\n",
       "      <td>0.435732</td>\n",
       "      <td>0.437856</td>\n",
       "      <td>0.027417</td>\n",
       "      <td>0.240800</td>\n",
       "      <td>0.423283</td>\n",
       "      <td>0.310697</td>\n",
       "      <td>0.439654</td>\n",
       "      <td>0.098117</td>\n",
       "    </tr>\n",
       "    <tr>\n",
       "      <th>8</th>\n",
       "      <td>0.406833</td>\n",
       "      <td>0.429686</td>\n",
       "      <td>0.178031</td>\n",
       "      <td>0.429180</td>\n",
       "      <td>0.073603</td>\n",
       "      <td>0.373213</td>\n",
       "      <td>0.424688</td>\n",
       "      <td>0.213430</td>\n",
       "      <td>0.231858</td>\n",
       "      <td>0.396977</td>\n",
       "      <td>...</td>\n",
       "      <td>0.223349</td>\n",
       "      <td>0.445486</td>\n",
       "      <td>0.224320</td>\n",
       "      <td>0.566230</td>\n",
       "      <td>0.461801</td>\n",
       "      <td>0.062713</td>\n",
       "      <td>0.322293</td>\n",
       "      <td>0.161961</td>\n",
       "      <td>0.286096</td>\n",
       "      <td>0.017653</td>\n",
       "    </tr>\n",
       "    <tr>\n",
       "      <th>9</th>\n",
       "      <td>0.277664</td>\n",
       "      <td>0.351197</td>\n",
       "      <td>0.117629</td>\n",
       "      <td>0.473230</td>\n",
       "      <td>0.547377</td>\n",
       "      <td>0.424705</td>\n",
       "      <td>0.185385</td>\n",
       "      <td>0.348375</td>\n",
       "      <td>0.333194</td>\n",
       "      <td>0.414905</td>\n",
       "      <td>...</td>\n",
       "      <td>0.114262</td>\n",
       "      <td>0.458137</td>\n",
       "      <td>0.109560</td>\n",
       "      <td>0.326086</td>\n",
       "      <td>0.259462</td>\n",
       "      <td>0.379224</td>\n",
       "      <td>0.517734</td>\n",
       "      <td>0.591490</td>\n",
       "      <td>0.596646</td>\n",
       "      <td>0.138657</td>\n",
       "    </tr>\n",
       "  </tbody>\n",
       "</table>\n",
       "<p>10 rows × 63 columns</p>\n",
       "</div>"
      ],
      "text/plain": [
       "         TW        TH        UA        GB        SG        SK        ZA   \n",
       "0  0.360465  0.191613  0.374990  0.366984  0.326026  0.019438  0.300085  \\\n",
       "1  0.444382  0.359464  0.514755  0.412164  0.370195  0.099489  0.357959   \n",
       "2  0.291791  0.462747  0.215559  0.288005  0.097702  0.224796  0.267987   \n",
       "3  0.189160  0.089318  0.445759  0.600941  0.465359  0.465045  0.389689   \n",
       "4  0.202341  0.265240  0.179494  0.730669  0.125221  0.205035  0.333070   \n",
       "5  0.297113  0.009597  0.318254  0.596196  0.079796  0.483082  0.098642   \n",
       "6  0.248897  0.310248  0.443670  0.543106  0.305086  0.258153  0.379340   \n",
       "7  0.421303  0.441547  0.237482  0.344165  0.560335  0.330991  0.323784   \n",
       "8  0.406833  0.429686  0.178031  0.429180  0.073603  0.373213  0.424688   \n",
       "9  0.277664  0.351197  0.117629  0.473230  0.547377  0.424705  0.185385   \n",
       "\n",
       "         ES        SE        CH  ...        GG        HU        FI        FR   \n",
       "0  0.437258  0.177176  0.275612  ...  0.435629  0.174318  0.399621  0.825742  \\\n",
       "1  0.582137  0.595769  0.102700  ...  0.095939  0.136924  0.089223  0.473211   \n",
       "2  0.138990  0.152244  0.186718  ...  0.515764  0.472511  0.494365  0.488093   \n",
       "3  0.474116  0.543860  0.312516  ...  0.286948  0.119323  0.113977  0.212222   \n",
       "4  0.624475  0.244820  0.195991  ...  0.083416  0.247145  0.507063  0.302105   \n",
       "5  0.412613  0.248311  0.400416  ...  0.258407  0.056514  0.177707  0.391584   \n",
       "6  0.368601  0.623421  0.230195  ...  0.291302  0.342805  0.436529  0.635330   \n",
       "7  0.249185  0.372659  0.531087  ...  0.511372  0.451836  0.435732  0.437856   \n",
       "8  0.213430  0.231858  0.396977  ...  0.223349  0.445486  0.224320  0.566230   \n",
       "9  0.348375  0.333194  0.414905  ...  0.114262  0.458137  0.109560  0.326086   \n",
       "\n",
       "         GE        NZ        LI        IS        IN        PH  \n",
       "0  0.219181  0.611400  0.074630  0.589186  0.217322  0.411551  \n",
       "1  0.300738  0.110892  0.141813  0.132007  0.531118  0.006947  \n",
       "2  0.216870  0.022645  0.310646  0.056521  0.129541  0.341459  \n",
       "3  0.467627  0.501111  0.408074  0.236087  0.150022  0.477939  \n",
       "4  0.163908  0.388923  0.173432  0.147939  0.114294  0.468409  \n",
       "5  0.132818  0.110197  0.199281  0.088239  0.154224  0.477313  \n",
       "6  0.569585  0.234954  0.377983  0.355192  0.393546  0.174080  \n",
       "7  0.027417  0.240800  0.423283  0.310697  0.439654  0.098117  \n",
       "8  0.461801  0.062713  0.322293  0.161961  0.286096  0.017653  \n",
       "9  0.259462  0.379224  0.517734  0.591490  0.596646  0.138657  \n",
       "\n",
       "[10 rows x 63 columns]"
      ]
     },
     "execution_count": 53,
     "metadata": {},
     "output_type": "execute_result"
    }
   ],
   "source": [
    "pandas_bine_embeddings_bonds = bine_embeddings_bonds_dict[2021]\n",
    "pandas_bine_embeddings_bonds"
   ]
  },
  {
   "attachments": {},
   "cell_type": "markdown",
   "metadata": {},
   "source": [
    "Before we officially cluster, I will use the Shilloute Score to see how many cluster we should use in our K-Means clustering"
   ]
  },
  {
   "cell_type": "code",
   "execution_count": 54,
   "metadata": {},
   "outputs": [
    {
     "data": {
      "image/png": "[encoded data removed]",
      "text/plain": [
       "<Figure size 640x480 with 1 Axes>"
      ]
     },
     "metadata": {},
     "output_type": "display_data"
    }
   ],
   "source": [
    "from sklearn.cluster import KMeans\n",
    "from sklearn.decomposition import PCA\n",
    "from sklearn.metrics import silhouette_score\n",
    "\n",
    "# First we obtain the clusterings on the BINE embeddings using K\n",
    "\n",
    "X = pandas_bine_embeddings_bonds.transpose()\n",
    "\n",
    "silscore_x = []\n",
    "silscore_y = []\n",
    "\n",
    "for k in range(2,40):\n",
    "    clusterer = KMeans(n_clusters = k, random_state=10, n_init=10)\n",
    "    clustering= clusterer.fit(X)\n",
    "    score = silhouette_score(X, clustering.labels_)\n",
    "\n",
    "    silscore_x.append(k)\n",
    "    silscore_y.append(score)\n",
    "\n",
    "\n",
    "fig, ax = plt.subplots()\n",
    "scatter = ax.plot(silscore_x, silscore_y)\n",
    "ax.set_title(\"Shilhouette Score Plot Green Bonds\")\n",
    "ax.set_ylabel(\"Shilhouette Score\")\n",
    "ax.set_xlabel(\"Number of Clusters\")\n",
    "plt.show()\n",
    "\n"
   ]
  },
  {
   "attachments": {},
   "cell_type": "markdown",
   "metadata": {},
   "source": [
    "From the above shilhouette scores it seems that the best number of clusters is 22, which means there will be about 3 countries per cluster. The clusters will then be pretty small. This also might be because the greenbonds is a pretty sparse dataset."
   ]
  },
  {
   "attachments": {},
   "cell_type": "markdown",
   "metadata": {},
   "source": [
    "Now that we have examined a good clustering of the data, we can visualize our clutering. First we will try the optimal 22 clusters and then try a simplier one like 3 clusters."
   ]
  },
  {
   "attachments": {},
   "cell_type": "markdown",
   "metadata": {},
   "source": [
    "As a baseline we can also look at the clustering if we just look at the column of each adjacency matrix"
   ]
  },
  {
   "cell_type": "code",
   "execution_count": 55,
   "metadata": {},
   "outputs": [],
   "source": [
    "columns = []\n",
    "B.remove_edges_from(B.edges)\n",
    "B.add_weighted_edges_from(green_bond_dict[2021])\n",
    "countries_in_green_bonds = []\n",
    "\n",
    "for node in B.nodes(data=True):\n",
    "\n",
    "    # obtains nodes in partition 0, which is the country nodes\n",
    "    if node[1][\"bipartite\"] == 0:\n",
    "\n",
    "        col = np.zeros((2,1))\n",
    "        # Obtains list of all edges that country is in\n",
    "        for connect in B.edges(node[0], data = True):\n",
    "            # Gets weight for Green Bonds Issuances\n",
    "            if connect[1] == \"Green Bonds Issuances\":\n",
    "                col[0,0] = connect[2][\"weight\"]\n",
    "            # Gets weight for NonGreen Bonds Issuances\n",
    "            else:\n",
    "                col[1,0] = connect[2][\"weight\"]\n",
    "\n",
    "        if not (col.sum() == 0):\n",
    "            countries_in_green_bonds.append(node[0])\n",
    "            columns.append(col)\n",
    "\n",
    "sorted_indicies = np.argsort(np.array(countries_in_green_bonds))\n",
    "graph_data = np.concatenate(columns, axis = 1)[:,sorted_indicies]"
   ]
  },
  {
   "attachments": {},
   "cell_type": "markdown",
   "metadata": {},
   "source": [
    "First we can make the clustering for the year 2021 using the normal clusters"
   ]
  },
  {
   "cell_type": "code",
   "execution_count": 56,
   "metadata": {},
   "outputs": [
    {
     "data": {
      "image/png": "[encoded data removed]",
      "text/plain": [
       "<Figure size 640x480 with 1 Axes>"
      ]
     },
     "metadata": {},
     "output_type": "display_data"
    }
   ],
   "source": [
    "clustering_b = KMeans(n_clusters = 3, n_init= 10).fit(graph_data.transpose())\n",
    "# clustering.labels_\n",
    "\n",
    "fig,ax = plt.subplots()\n",
    "# Using years var from last cell\n",
    "scatter = ax.scatter(graph_data[0, :], graph_data[1,:], c = clustering_b.labels_)\n",
    "ax.set_title(\"Countries Clustering in Greenbond Bond Investments in 2021 \")\n",
    "ax.set_ylabel(\"Nonissuance Green Bonds\")\n",
    "ax.set_xlabel(\"Issuance Green Bonds\")\n",
    "legend1 = ax.legend(*scatter.legend_elements(),\n",
    "                    loc=\"upper left\", title=\"Classes\")\n",
    "ax.add_artist(legend1)\n",
    "\n",
    "plt.show()"
   ]
  },
  {
   "attachments": {},
   "cell_type": "markdown",
   "metadata": {},
   "source": [
    "The following is helper code to get a mapping between the country name abbreviations and the full country name"
   ]
  },
  {
   "cell_type": "code",
   "execution_count": 57,
   "metadata": {},
   "outputs": [],
   "source": [
    "i = 0 \n",
    "country_abv_to_full = {}\n",
    "    \n",
    "country_ab = green_bonds[\"ISO2\"].unique()\n",
    "country_list = green_bonds[\"Country\"].unique()\n",
    "\n",
    "for i in range(len(country_ab)):\n",
    "    country_abv_to_full[country_ab[i]] = country_list[i]\n"
   ]
  },
  {
   "attachments": {},
   "cell_type": "markdown",
   "metadata": {},
   "source": [
    "This code takes the labels of the countries"
   ]
  },
  {
   "cell_type": "code",
   "execution_count": 58,
   "metadata": {},
   "outputs": [
    {
     "name": "stdout",
     "output_type": "stream",
     "text": [
      "Italy\n"
     ]
    }
   ],
   "source": [
    "for abv in np.array(country_names)[clustering.labels_[np.argsort(np.array(country_names))] == 38]:\n",
    "    print(country_abv_to_full[abv])"
   ]
  },
  {
   "cell_type": "code",
   "execution_count": 59,
   "metadata": {},
   "outputs": [
    {
     "name": "stdout",
     "output_type": "stream",
     "text": [
      "Ireland\n",
      "China, P.R.: Macao\n",
      "Norway\n"
     ]
    }
   ],
   "source": [
    "bine_labels = np.array(clustering.labels_)[np.argsort(np.array(country_names))]\n",
    "sorted_countries = np.array(country_names)[np.argsort(np.array(country_names))]\n",
    "for abv in sorted_countries[bine_labels == 0]:\n",
    "    print(country_abv_to_full[abv])"
   ]
  },
  {
   "cell_type": "code",
   "execution_count": 60,
   "metadata": {},
   "outputs": [
    {
     "name": "stdout",
     "output_type": "stream",
     "text": [
      "Japan\n"
     ]
    }
   ],
   "source": [
    "relabeled_bine_labels = np.zeros(bine_labels.shape)\n",
    "\n",
    "i = 0\n",
    "for label in bine_labels:\n",
    "    if label ==1 :\n",
    "        relabeled_bine_labels[i] = 0\n",
    "    elif label == 0:\n",
    "        relabeled_bine_labels[i] = 1\n",
    "    else:\n",
    "        relabeled_bine_labels[i] =2 \n",
    "\n",
    "    i+=1\n",
    "\n",
    "for abv in sorted_countries[relabeled_bine_labels == 0]:\n",
    "    print(country_abv_to_full[abv])\n"
   ]
  },
  {
   "attachments": {},
   "cell_type": "markdown",
   "metadata": {},
   "source": [
    "### Largest Change in Countries\n",
    "\n",
    "Now that we have completed change point detection, we want to be able to analysis what caused the large change between years. For this we need to analysis how much a country changed between years. We can easily accomplish this by calculating the similarity between policies for countries in a range of years and find which country had the largest change between years. We don't use the bine embeddings of countries here because we don't have bine embeddings for every country. A country that is not implementing a policy will not have an embedding which causes challenges when calculating the change over time."
   ]
  },
  {
   "cell_type": "code",
   "execution_count": 61,
   "metadata": {},
   "outputs": [],
   "source": [
    "yearly_adjacency_dict = {}\n",
    "sorted_greenbond_countries = np.sort(green_bond_country_nodes)\n",
    "\n",
    "for year in green_bond_years:\n",
    "    columns = []\n",
    "    B.remove_edges_from(B.edges)\n",
    "    B.add_weighted_edges_from(green_bond_dict[year])\n",
    "    countries_in_green_bonds = []\n",
    "\n",
    "    for node in B.nodes(data=True):\n",
    "\n",
    "        # obtains nodes in partition 0, which is the country nodes\n",
    "        if node[1][\"bipartite\"] == 0:\n",
    "\n",
    "            col = np.zeros((2,1))\n",
    "            # Obtains list of all edges that country is in\n",
    "            for connect in B.edges(node[0], data = True):\n",
    "                # Gets weight for Green Bonds Issuances\n",
    "                if connect[1] == \"Green Bonds Issuances\":\n",
    "                    col[0,0] = connect[2][\"weight\"]\n",
    "                # Gets weight for NonGreen Bonds Issuances\n",
    "                else:\n",
    "                    col[1,0] = connect[2][\"weight\"]\n",
    "\n",
    "            countries_in_green_bonds.append(node[0])\n",
    "            columns.append(col)\n",
    "\n",
    "    sorted_indicies = np.argsort(np.array(countries_in_green_bonds))\n",
    "    graph_data = np.concatenate(columns, axis = 1)[:,sorted_indicies]\n",
    "    \n",
    "\n",
    "    yearly_adjacency_dict[year] = graph_data\n",
    "\n"
   ]
  },
  {
   "attachments": {},
   "cell_type": "markdown",
   "metadata": {},
   "source": [
    "Now that we have a dataframe that stores all of the matrices, we can now compute the differences between years with a given window size."
   ]
  },
  {
   "cell_type": "code",
   "execution_count": 62,
   "metadata": {},
   "outputs": [],
   "source": [
    "window_dicts = {}\n",
    "\n",
    "def country_difference(windowSize, adjacency_dict, years, countries):\n",
    "    \n",
    "    window_dicts = {}\n",
    "    for i in range(len(years) - windowSize):\n",
    "        year_subset = years[i:i+windowSize]\n",
    "\n",
    "        # Choose one random signature to start our weights_avg\n",
    "        weights_avg = np.zeros(adjacency_dict[years[0]].shape)\n",
    "\n",
    "        for year in year_subset:\n",
    "            weights_avg += adjacency_dict[year] * (1/windowSize)\n",
    "\n",
    "        window_dicts[years[windowSize + i]] = weights_avg / np.linalg.norm(weights_avg, ord = 2)\n",
    "\n",
    "\n",
    "    country_change = {}\n",
    "\n",
    "    for year in window_dicts.keys():\n",
    "        baseline = window_dicts[year]\n",
    "        single_year = adjacency_dict[year]\n",
    "        \n",
    "        change = np.power(baseline - single_year, 2).sum(axis = 0)\n",
    "        sort_indices = np.argsort(change)[::-1]\n",
    "        info = (countries[sort_indices], change[sort_indices])\n",
    "\n",
    "        country_change[year] = info\n",
    "\n",
    "    return country_change\n",
    "\n",
    "\n",
    "country_change = country_difference(6,yearly_adjacency_dict, green_bond_years, sorted_greenbond_countries)\n"
   ]
  },
  {
   "cell_type": "code",
   "execution_count": 63,
   "metadata": {},
   "outputs": [
    {
     "data": {
      "image/png": "[encoded data removed]",
      "text/plain": [
       "<Figure size 640x480 with 1 Axes>"
      ]
     },
     "metadata": {},
     "output_type": "display_data"
    }
   ],
   "source": [
    "year = 2014\n",
    "\n",
    "countryOrder_abv, changeScore = country_change[year]\n",
    "\n",
    "countryOrder = [country_abv_to_full[country] for country in countryOrder_abv[changeScore > 0]]\n",
    "changeScore = changeScore[changeScore > 0]\n",
    "\n",
    "fig, ax = plt.subplots()\n",
    "ax.barh(countryOrder[:15], changeScore[:15])\n",
    "ax.set_title(f\"Most Change in Policies in {year}\")\n",
    "ax.set_ylabel(\"Countries\")\n",
    "ax.set_xlabel(\"Change (Euclidean Distance)\")\n",
    "plt.show()"
   ]
  },
  {
   "cell_type": "code",
   "execution_count": 64,
   "metadata": {},
   "outputs": [
    {
     "data": {
      "text/plain": [
       "array(['FR', 'DE', 'US', 'SE', 'NL', 'CA', 'ES', 'IT', 'AT', 'AU', 'PE',\n",
       "       'JP', 'KY', 'GB', 'NZ', 'CN', 'KR', 'VG', 'ZA', 'NO', 'IE', 'PA',\n",
       "       'PH', 'CR', 'GE', 'SC', 'SG', 'FJ', 'FI', 'SI', 'EG', 'EE', 'DK',\n",
       "       'SK', 'CZ', 'CO', 'GR', 'TH', 'CL', 'CH', 'TR', 'BR', 'BM', 'BE',\n",
       "       'BD', 'TW', 'UA', 'AR', 'GG', 'HU', 'HK', 'PK', 'PL', 'PT', 'NG',\n",
       "       'NA', 'MY', 'MX', 'MU', 'MO', 'MH', 'MA', 'LV', 'LU', 'LT', 'LI',\n",
       "       'RO', 'VN', 'RS', 'JE', 'RU', 'IS', 'IN', 'IL', 'ID', 'AE'],\n",
       "      dtype=object)"
      ]
     },
     "execution_count": 64,
     "metadata": {},
     "output_type": "execute_result"
    }
   ],
   "source": [
    "countryOrder_abv"
   ]
  },
  {
   "cell_type": "code",
   "execution_count": 65,
   "metadata": {},
   "outputs": [
    {
     "data": {
      "text/html": [
       "<div>\n",
       "<style scoped>\n",
       "    .dataframe tbody tr th:only-of-type {\n",
       "        vertical-align: middle;\n",
       "    }\n",
       "\n",
       "    .dataframe tbody tr th {\n",
       "        vertical-align: top;\n",
       "    }\n",
       "\n",
       "    .dataframe thead th {\n",
       "        text-align: right;\n",
       "    }\n",
       "</style>\n",
       "<table border=\"1\" class=\"dataframe\">\n",
       "  <thead>\n",
       "    <tr style=\"text-align: right;\">\n",
       "      <th></th>\n",
       "      <th>ISO2</th>\n",
       "      <th>Indicator</th>\n",
       "      <th>F2012</th>\n",
       "      <th>F2013</th>\n",
       "      <th>F2014</th>\n",
       "      <th>F2015</th>\n",
       "      <th>F2016</th>\n",
       "      <th>F2017</th>\n",
       "    </tr>\n",
       "    <tr>\n",
       "      <th>ObjectId</th>\n",
       "      <th></th>\n",
       "      <th></th>\n",
       "      <th></th>\n",
       "      <th></th>\n",
       "      <th></th>\n",
       "      <th></th>\n",
       "      <th></th>\n",
       "      <th></th>\n",
       "    </tr>\n",
       "  </thead>\n",
       "  <tbody>\n",
       "    <tr>\n",
       "      <th>17</th>\n",
       "      <td>CN</td>\n",
       "      <td>Green Bond Issuances by Country</td>\n",
       "      <td>NaN</td>\n",
       "      <td>NaN</td>\n",
       "      <td>0.156816</td>\n",
       "      <td>0.994109</td>\n",
       "      <td>31.30316</td>\n",
       "      <td>31.25946</td>\n",
       "    </tr>\n",
       "  </tbody>\n",
       "</table>\n",
       "</div>"
      ],
      "text/plain": [
       "         ISO2                        Indicator  F2012  F2013     F2014   \n",
       "ObjectId                                                                 \n",
       "17         CN  Green Bond Issuances by Country    NaN    NaN  0.156816  \\\n",
       "\n",
       "             F2015     F2016     F2017  \n",
       "ObjectId                                \n",
       "17        0.994109  31.30316  31.25946  "
      ]
     },
     "execution_count": 65,
     "metadata": {},
     "output_type": "execute_result"
    }
   ],
   "source": [
    "green_bonds[green_bonds[\"ISO2\"] == \"CN\"][[\"ISO2\",\"Indicator\",\"F2012\",\"F2013\", \"F2014\", \"F2015\", \"F2016\", \"F2017\"]]\n"
   ]
  },
  {
   "cell_type": "code",
   "execution_count": 66,
   "metadata": {},
   "outputs": [
    {
     "data": {
      "text/html": [
       "<div>\n",
       "<style scoped>\n",
       "    .dataframe tbody tr th:only-of-type {\n",
       "        vertical-align: middle;\n",
       "    }\n",
       "\n",
       "    .dataframe tbody tr th {\n",
       "        vertical-align: top;\n",
       "    }\n",
       "\n",
       "    .dataframe thead th {\n",
       "        text-align: right;\n",
       "    }\n",
       "</style>\n",
       "<table border=\"1\" class=\"dataframe\">\n",
       "  <thead>\n",
       "    <tr style=\"text-align: right;\">\n",
       "      <th></th>\n",
       "      <th>ISO2</th>\n",
       "      <th>Indicator</th>\n",
       "      <th>F2012</th>\n",
       "      <th>F2013</th>\n",
       "      <th>F2014</th>\n",
       "      <th>F2015</th>\n",
       "      <th>F2016</th>\n",
       "      <th>F2017</th>\n",
       "    </tr>\n",
       "    <tr>\n",
       "      <th>ObjectId</th>\n",
       "      <th></th>\n",
       "      <th></th>\n",
       "      <th></th>\n",
       "      <th></th>\n",
       "      <th></th>\n",
       "      <th></th>\n",
       "      <th></th>\n",
       "      <th></th>\n",
       "    </tr>\n",
       "  </thead>\n",
       "  <tbody>\n",
       "    <tr>\n",
       "      <th>17</th>\n",
       "      <td>CN</td>\n",
       "      <td>Green Bond Issuances by Country</td>\n",
       "      <td>NaN</td>\n",
       "      <td>NaN</td>\n",
       "      <td>0.156816</td>\n",
       "      <td>0.994109</td>\n",
       "      <td>31.30316</td>\n",
       "      <td>31.25946</td>\n",
       "    </tr>\n",
       "  </tbody>\n",
       "</table>\n",
       "</div>"
      ],
      "text/plain": [
       "         ISO2                        Indicator  F2012  F2013     F2014   \n",
       "ObjectId                                                                 \n",
       "17         CN  Green Bond Issuances by Country    NaN    NaN  0.156816  \\\n",
       "\n",
       "             F2015     F2016     F2017  \n",
       "ObjectId                                \n",
       "17        0.994109  31.30316  31.25946  "
      ]
     },
     "execution_count": 66,
     "metadata": {},
     "output_type": "execute_result"
    }
   ],
   "source": [
    "green_bonds[green_bonds[\"ISO2\"] == \"CN\"][[\"ISO2\",\"Indicator\",\"F2012\",\"F2013\", \"F2014\", \"F2015\", \"F2016\", \"F2017\"]]"
   ]
  },
  {
   "cell_type": "code",
   "execution_count": 67,
   "metadata": {},
   "outputs": [
    {
     "data": {
      "text/html": [
       "<div>\n",
       "<style scoped>\n",
       "    .dataframe tbody tr th:only-of-type {\n",
       "        vertical-align: middle;\n",
       "    }\n",
       "\n",
       "    .dataframe tbody tr th {\n",
       "        vertical-align: top;\n",
       "    }\n",
       "\n",
       "    .dataframe thead th {\n",
       "        text-align: right;\n",
       "    }\n",
       "</style>\n",
       "<table border=\"1\" class=\"dataframe\">\n",
       "  <thead>\n",
       "    <tr style=\"text-align: right;\">\n",
       "      <th></th>\n",
       "      <th>ISO2</th>\n",
       "      <th>Indicator</th>\n",
       "      <th>F2012</th>\n",
       "      <th>F2013</th>\n",
       "      <th>F2014</th>\n",
       "      <th>F2015</th>\n",
       "    </tr>\n",
       "    <tr>\n",
       "      <th>ObjectId</th>\n",
       "      <th></th>\n",
       "      <th></th>\n",
       "      <th></th>\n",
       "      <th></th>\n",
       "      <th></th>\n",
       "      <th></th>\n",
       "    </tr>\n",
       "  </thead>\n",
       "  <tbody>\n",
       "    <tr>\n",
       "      <th>96</th>\n",
       "      <td>US</td>\n",
       "      <td>Green Bond Issuances by Country</td>\n",
       "      <td>NaN</td>\n",
       "      <td>0.5</td>\n",
       "      <td>2.1438</td>\n",
       "      <td>8.262994</td>\n",
       "    </tr>\n",
       "  </tbody>\n",
       "</table>\n",
       "</div>"
      ],
      "text/plain": [
       "         ISO2                        Indicator  F2012  F2013   F2014     F2015\n",
       "ObjectId                                                                      \n",
       "96         US  Green Bond Issuances by Country    NaN    0.5  2.1438  8.262994"
      ]
     },
     "execution_count": 67,
     "metadata": {},
     "output_type": "execute_result"
    }
   ],
   "source": [
    "green_bonds[green_bonds[\"ISO2\"] == \"US\"][[\"ISO2\",\"Indicator\",\"F2012\",\"F2013\", \"F2014\", \"F2015\"]]"
   ]
  },
  {
   "attachments": {},
   "cell_type": "markdown",
   "metadata": {},
   "source": [
    "# Environmental Taxes"
   ]
  },
  {
   "attachments": {},
   "cell_type": "markdown",
   "metadata": {},
   "source": [
    "First lets load in the data and take a quick peak.  The final table is a table about how many measures each country implements."
   ]
  },
  {
   "cell_type": "code",
   "execution_count": 68,
   "metadata": {},
   "outputs": [
    {
     "name": "stdout",
     "output_type": "stream",
     "text": [
      "There are 124 unique countries that are implementing environmental taxes\n",
      "Each country typically reports 10 different measures, but there are a few that report less than 10 measures\n"
     ]
    },
    {
     "data": {
      "text/plain": [
       "count\n",
       "10    118\n",
       "8       3\n",
       "6       1\n",
       "5       1\n",
       "4       1\n",
       "Name: count, dtype: int64"
      ]
     },
     "execution_count": 68,
     "metadata": {},
     "output_type": "execute_result"
    }
   ],
   "source": [
    "taxes = pd.read_csv(\"input/policy/Environmental_Taxes.csv\", index_col=0, keep_default_na=False, na_values=\"\")\n",
    "\n",
    "num_countries = len(taxes[\"Country\"].unique())\n",
    "print(f\"There are {num_countries} unique countries that are implementing environmental taxes\")\n",
    "print(\"Each country typically reports 10 different measures, but there are a few that report less than 10 measures\")\n",
    "\n",
    "taxes.Country.value_counts().value_counts()"
   ]
  },
  {
   "cell_type": "code",
   "execution_count": 69,
   "metadata": {},
   "outputs": [
    {
     "name": "stdout",
     "output_type": "stream",
     "text": [
      "Number of Countries: 197\n",
      "Number of Subsidies: 21\n"
     ]
    }
   ],
   "source": [
    "tax_country_nodes = taxes.ISO2.unique()\n",
    "tax_policy_nodes = taxes.CTS_Code.unique()\n",
    "print(\"Number of Countries:\", len(country_nodes))\n",
    "print(\"Number of Subsidies:\", len(policy_nodes))\n",
    "\n",
    "T = nx.Graph()\n",
    "T.add_nodes_from(country_nodes, bipartite=0)\n",
    "T.add_nodes_from(policy_nodes, bipartite=1)"
   ]
  },
  {
   "cell_type": "code",
   "execution_count": 70,
   "metadata": {},
   "outputs": [
    {
     "name": "stderr",
     "output_type": "stream",
     "text": [
      "/var/folders/19/6hz5c0tn7g317trnm9tqf_900000gn/T/ipykernel_7817/1921600594.py:10: DeprecationWarning: The truth value of an empty array is ambiguous. Returning False, but in future this will result in an error. Use `array.size > 0` to check that an array is not empty.\n",
      "  if weight > 0:\n"
     ]
    }
   ],
   "source": [
    "tax_edge_dict = {}\n",
    "\n",
    "taxes_sub = taxes[taxes.Unit == \"Percent of GDP\"]\n",
    "for year in taxes_sub.columns[10:]:\n",
    "    edge_list = []\n",
    "    for country in tax_country_nodes:\n",
    "        subset = taxes_sub[taxes_sub.ISO2 == country]\n",
    "        for policy in tax_policy_nodes:\n",
    "            weight = subset[subset.CTS_Code == policy][year].values\n",
    "            if weight > 0:\n",
    "                edge = (country, policy, weight[0])\n",
    "                edge_list.append(edge)\n",
    "    tax_edge_dict[int(year[1:])] = edge_list"
   ]
  },
  {
   "cell_type": "code",
   "execution_count": 71,
   "metadata": {},
   "outputs": [
    {
     "ename": "NameError",
     "evalue": "name 'edges' is not defined",
     "output_type": "error",
     "traceback": [
      "\u001b[0;31m---------------------------------------------------------------------------\u001b[0m",
      "\u001b[0;31mNameError\u001b[0m                                 Traceback (most recent call last)",
      "Cell \u001b[0;32mIn[71], line 1\u001b[0m\n\u001b[0;32m----> 1\u001b[0m T\u001b[39m.\u001b[39madd_weighted_edges_from(edges)\n\u001b[1;32m      2\u001b[0m \u001b[39mprint\u001b[39m(\u001b[39m\"\u001b[39m\u001b[39mNumber of Edges:\u001b[39m\u001b[39m\"\u001b[39m, T\u001b[39m.\u001b[39mnumber_of_edges())\n\u001b[1;32m      3\u001b[0m \u001b[39mprint\u001b[39m(\u001b[39m\"\u001b[39m\u001b[39mNumber of Possible Edges:\u001b[39m\u001b[39m\"\u001b[39m, \u001b[39mlen\u001b[39m(country_nodes) \u001b[39m*\u001b[39m \u001b[39mlen\u001b[39m(policy_nodes))\n",
      "\u001b[0;31mNameError\u001b[0m: name 'edges' is not defined"
     ]
    }
   ],
   "source": [
    "T.add_weighted_edges_from(edges)\n",
    "print(\"Number of Edges:\", T.number_of_edges())\n",
    "print(\"Number of Possible Edges:\", len(country_nodes) * len(policy_nodes))"
   ]
  },
  {
   "attachments": {},
   "cell_type": "markdown",
   "metadata": {},
   "source": [
    "### Analysis"
   ]
  },
  {
   "cell_type": "code",
   "execution_count": 72,
   "metadata": {},
   "outputs": [
    {
     "data": {
      "image/png": "[encoded data removed]",
      "text/plain": [
       "<Figure size 640x480 with 1 Axes>"
      ]
     },
     "metadata": {},
     "output_type": "display_data"
    },
    {
     "data": {
      "image/png": "[encoded data removed]",
      "text/plain": [
       "<Figure size 640x480 with 1 Axes>"
      ]
     },
     "metadata": {},
     "output_type": "display_data"
    }
   ],
   "source": [
    "taxes_no_zeros = taxes_sub.fillna(0)\n",
    "graph_years = []\n",
    "graph_count = []\n",
    "graph_country_count = []\n",
    "\n",
    "for year in taxes_sub.columns[10:]:\n",
    "    implement_count = (taxes_no_zeros[year] > 0).sum()\n",
    "\n",
    "    b = taxes_no_zeros[year] > 0\n",
    "    countries = taxes[taxes[\"Unit\"] == \"Percent of GDP\"][\"ISO2\"]\n",
    "    num_countries = len(countries[b].unique())\n",
    "\n",
    "    graph_years.append(int(year[1:]))\n",
    "    graph_count.append(implement_count)\n",
    "    graph_country_count.append(num_countries)\n",
    "\n",
    "# Plot\n",
    "fig,ax = plt.subplots()\n",
    "# Using years var from last cell\n",
    "ax.plot(graph_years, graph_count)\n",
    "ax.set_title(\"Number of Tax Policies being Implemented\")\n",
    "ax.set_ylabel(\"Number of Policies Implemented\")\n",
    "ax.set_xlabel(\"Year\")\n",
    "\n",
    "plt.show()\n",
    "\n",
    "# Plot\n",
    "fig,ax = plt.subplots()\n",
    "# Using years var from last cell\n",
    "ax.plot(graph_years, graph_country_count)\n",
    "ax.set_title(\"Number of Countries Implementing Tax Policies\")\n",
    "ax.set_ylabel(\"Number of Countries implementing\")\n",
    "ax.set_xlabel(\"Year\")\n",
    "\n",
    "plt.show()\n"
   ]
  },
  {
   "attachments": {},
   "cell_type": "markdown",
   "metadata": {},
   "source": [
    "Another simple analysis I want to have is how many countries are implementing tax policies each year."
   ]
  },
  {
   "cell_type": "code",
   "execution_count": 73,
   "metadata": {},
   "outputs": [
    {
     "data": {
      "image/png": "[encoded data removed]",
      "text/plain": [
       "<Figure size 640x480 with 1 Axes>"
      ]
     },
     "metadata": {},
     "output_type": "display_data"
    }
   ],
   "source": [
    "fig,ax = plt.subplots()\n",
    "# Using years var from last cell\n",
    "ax.plot(year_list, Z_list)\n",
    "ax.set_title(\"Change Point Detection for Green Bonds \\n Window of 6 years\")\n",
    "ax.set_ylabel(\"Change Value\")\n",
    "ax.set_xlabel(\"Year\")\n",
    "\n",
    "plt.show()"
   ]
  },
  {
   "attachments": {},
   "cell_type": "markdown",
   "metadata": {},
   "source": [
    "### Change Point "
   ]
  },
  {
   "cell_type": "code",
   "execution_count": 74,
   "metadata": {},
   "outputs": [
    {
     "name": "stderr",
     "output_type": "stream",
     "text": [
      "<class 'networkx.utils.decorators.argmap'> compilation 4:4: FutureWarning: normalized_laplacian_matrix will return a scipy.sparse array instead of a matrix in Networkx 3.0.\n"
     ]
    },
    {
     "data": {
      "image/png": "[encoded data removed]",
      "text/plain": [
       "<Figure size 640x480 with 1 Axes>"
      ]
     },
     "metadata": {},
     "output_type": "display_data"
    }
   ],
   "source": [
    "tax_years = []\n",
    "for key in tax_edge_dict.keys():\n",
    "    tax_years.append(key)\n",
    "\n",
    "windowSize = 2\n",
    "Z_list, year_list = change_point_detection(windowSize, T, tax_years, tax_edge_dict)\n",
    "\n",
    "fig,ax = plt.subplots()\n",
    "# Using years var from last cell\n",
    "ax.plot(year_list, Z_list)\n",
    "ax.set_title(\"Change Point Detection Taxes\")\n",
    "ax.set_ylabel(\"Change Value\")\n",
    "ax.set_xlabel(\"Year\")\n",
    "\n",
    "plt.show()"
   ]
  },
  {
   "attachments": {},
   "cell_type": "markdown",
   "metadata": {},
   "source": [
    "### Clustering"
   ]
  },
  {
   "cell_type": "code",
   "execution_count": 75,
   "metadata": {},
   "outputs": [],
   "source": [
    "taxes_node_mapping = {}\n",
    "\n",
    "i = 0\n",
    "for country in taxes[\"ISO2\"].unique():\n",
    "    taxes_node_mapping[country] = f\"u{i}\"\n",
    "    i += 1\n",
    "\n",
    "\n",
    "j = 0\n",
    "for policy in taxes[\"CTS_Code\"].unique():\n",
    "    taxes_node_mapping[policy] = f\"i{j}\"\n",
    "    j += 1\n",
    "\n",
    "inv_taxes_mapping = {v: k for k, v in taxes_node_mapping.items()}"
   ]
  },
  {
   "cell_type": "code",
   "execution_count": 76,
   "metadata": {},
   "outputs": [],
   "source": [
    "# Create files \n",
    "for year in tax_years:\n",
    "    T.remove_edges_from(T.edges)\n",
    "    T.add_weighted_edges_from(tax_edge_dict[year])\n",
    "\n",
    "    T_integer = nx.relabel_nodes(T, taxes_node_mapping)\n",
    "\n",
    "    fileName = f\"BiNE-master/data/taxes/taxes_{year}_edgelist.dat\"\n",
    "    nx.write_weighted_edgelist(T_integer, fileName, delimiter = \"\\t\")\n",
    "\n",
    "with open(\"Taxes_commands.txt\", \"w\") as f:\n",
    "    for year in tax_years:\n",
    "        command = f\"python train.py --train-data ../data/taxes/taxes_{year}_edgelist.dat --lam 0.025 --max-iter 100 --large 2 --vectors-u ../data/taxes/vectors_u_{year}.dat --vectors-v ../data/taxes/vectors_v_{year}.dat &&\"\n",
    "        f.write(command)"
   ]
  },
  {
   "attachments": {},
   "cell_type": "markdown",
   "metadata": {},
   "source": [
    "# Environmental Protection Expenditures"
   ]
  },
  {
   "cell_type": "code",
   "execution_count": 77,
   "metadata": {},
   "outputs": [
    {
     "data": {
      "text/html": [
       "<div>\n",
       "<style scoped>\n",
       "    .dataframe tbody tr th:only-of-type {\n",
       "        vertical-align: middle;\n",
       "    }\n",
       "\n",
       "    .dataframe tbody tr th {\n",
       "        vertical-align: top;\n",
       "    }\n",
       "\n",
       "    .dataframe thead th {\n",
       "        text-align: right;\n",
       "    }\n",
       "</style>\n",
       "<table border=\"1\" class=\"dataframe\">\n",
       "  <thead>\n",
       "    <tr style=\"text-align: right;\">\n",
       "      <th></th>\n",
       "      <th>Country</th>\n",
       "      <th>ISO2</th>\n",
       "      <th>ISO3</th>\n",
       "      <th>Indicator</th>\n",
       "      <th>Source</th>\n",
       "      <th>CTS_Code</th>\n",
       "      <th>CTS_Name</th>\n",
       "      <th>CTS_Full_Descriptor</th>\n",
       "      <th>Unit</th>\n",
       "      <th>F1995</th>\n",
       "      <th>...</th>\n",
       "      <th>F2012</th>\n",
       "      <th>F2013</th>\n",
       "      <th>F2014</th>\n",
       "      <th>F2015</th>\n",
       "      <th>F2016</th>\n",
       "      <th>F2017</th>\n",
       "      <th>F2018</th>\n",
       "      <th>F2019</th>\n",
       "      <th>F2020</th>\n",
       "      <th>F2021</th>\n",
       "    </tr>\n",
       "    <tr>\n",
       "      <th>ObjectId</th>\n",
       "      <th></th>\n",
       "      <th></th>\n",
       "      <th></th>\n",
       "      <th></th>\n",
       "      <th></th>\n",
       "      <th></th>\n",
       "      <th></th>\n",
       "      <th></th>\n",
       "      <th></th>\n",
       "      <th></th>\n",
       "      <th></th>\n",
       "      <th></th>\n",
       "      <th></th>\n",
       "      <th></th>\n",
       "      <th></th>\n",
       "      <th></th>\n",
       "      <th></th>\n",
       "      <th></th>\n",
       "      <th></th>\n",
       "      <th></th>\n",
       "      <th></th>\n",
       "    </tr>\n",
       "  </thead>\n",
       "  <tbody>\n",
       "    <tr>\n",
       "      <th>1</th>\n",
       "      <td>Afghanistan, Islamic Rep. of</td>\n",
       "      <td>AF</td>\n",
       "      <td>AFG</td>\n",
       "      <td>Expenditure on biodiversity &amp; landscape protec...</td>\n",
       "      <td>International Monetary Fund (IMF), Statistics ...</td>\n",
       "      <td>GENB_G14</td>\n",
       "      <td>Expenditure on Biodiversity &amp; Landscape Protec...</td>\n",
       "      <td>Government and Public Sector Finance, Expendit...</td>\n",
       "      <td>Domestic Currency</td>\n",
       "      <td>NaN</td>\n",
       "      <td>...</td>\n",
       "      <td>NaN</td>\n",
       "      <td>NaN</td>\n",
       "      <td>NaN</td>\n",
       "      <td>NaN</td>\n",
       "      <td>1.243785e+08</td>\n",
       "      <td>1.258269e+09</td>\n",
       "      <td>NaN</td>\n",
       "      <td>NaN</td>\n",
       "      <td>NaN</td>\n",
       "      <td>NaN</td>\n",
       "    </tr>\n",
       "    <tr>\n",
       "      <th>2</th>\n",
       "      <td>Afghanistan, Islamic Rep. of</td>\n",
       "      <td>AF</td>\n",
       "      <td>AFG</td>\n",
       "      <td>Expenditure on biodiversity &amp; landscape protec...</td>\n",
       "      <td>International Monetary Fund (IMF), Statistics ...</td>\n",
       "      <td>GENB_G14</td>\n",
       "      <td>Expenditure on Biodiversity &amp; Landscape Protec...</td>\n",
       "      <td>Government and Public Sector Finance, Expendit...</td>\n",
       "      <td>Percent of GDP</td>\n",
       "      <td>NaN</td>\n",
       "      <td>...</td>\n",
       "      <td>NaN</td>\n",
       "      <td>NaN</td>\n",
       "      <td>NaN</td>\n",
       "      <td>NaN</td>\n",
       "      <td>9.433491e-03</td>\n",
       "      <td>9.134202e-02</td>\n",
       "      <td>NaN</td>\n",
       "      <td>NaN</td>\n",
       "      <td>NaN</td>\n",
       "      <td>NaN</td>\n",
       "    </tr>\n",
       "    <tr>\n",
       "      <th>3</th>\n",
       "      <td>Afghanistan, Islamic Rep. of</td>\n",
       "      <td>AF</td>\n",
       "      <td>AFG</td>\n",
       "      <td>Expenditure on environment protection</td>\n",
       "      <td>International Monetary Fund (IMF), Statistics ...</td>\n",
       "      <td>GEN_G14</td>\n",
       "      <td>Environmental Protection Expenditures</td>\n",
       "      <td>Government and Public Sector Finance, Expendit...</td>\n",
       "      <td>Domestic Currency</td>\n",
       "      <td>NaN</td>\n",
       "      <td>...</td>\n",
       "      <td>2.846995e+09</td>\n",
       "      <td>3.344665e+09</td>\n",
       "      <td>2.204964e+09</td>\n",
       "      <td>1.122601e+09</td>\n",
       "      <td>1.702933e+09</td>\n",
       "      <td>2.377937e+09</td>\n",
       "      <td>NaN</td>\n",
       "      <td>NaN</td>\n",
       "      <td>NaN</td>\n",
       "      <td>NaN</td>\n",
       "    </tr>\n",
       "    <tr>\n",
       "      <th>4</th>\n",
       "      <td>Afghanistan, Islamic Rep. of</td>\n",
       "      <td>AF</td>\n",
       "      <td>AFG</td>\n",
       "      <td>Expenditure on environment protection</td>\n",
       "      <td>International Monetary Fund (IMF), Statistics ...</td>\n",
       "      <td>GEN_G14</td>\n",
       "      <td>Environmental Protection Expenditures</td>\n",
       "      <td>Government and Public Sector Finance, Expendit...</td>\n",
       "      <td>Percent of GDP</td>\n",
       "      <td>NaN</td>\n",
       "      <td>...</td>\n",
       "      <td>2.754469e-01</td>\n",
       "      <td>2.994793e-01</td>\n",
       "      <td>1.863813e-01</td>\n",
       "      <td>9.152359e-02</td>\n",
       "      <td>1.291590e-01</td>\n",
       "      <td>1.726226e-01</td>\n",
       "      <td>NaN</td>\n",
       "      <td>NaN</td>\n",
       "      <td>NaN</td>\n",
       "      <td>NaN</td>\n",
       "    </tr>\n",
       "    <tr>\n",
       "      <th>5</th>\n",
       "      <td>Afghanistan, Islamic Rep. of</td>\n",
       "      <td>AF</td>\n",
       "      <td>AFG</td>\n",
       "      <td>Expenditure on environmental protection n.e.c.</td>\n",
       "      <td>International Monetary Fund (IMF), Statistics ...</td>\n",
       "      <td>GENO_G14</td>\n",
       "      <td>Expenditure on Environmental Protection Not El...</td>\n",
       "      <td>Government and Public Sector Finance, Expendit...</td>\n",
       "      <td>Domestic Currency</td>\n",
       "      <td>NaN</td>\n",
       "      <td>...</td>\n",
       "      <td>NaN</td>\n",
       "      <td>NaN</td>\n",
       "      <td>NaN</td>\n",
       "      <td>NaN</td>\n",
       "      <td>9.669078e+07</td>\n",
       "      <td>8.846917e+07</td>\n",
       "      <td>NaN</td>\n",
       "      <td>NaN</td>\n",
       "      <td>NaN</td>\n",
       "      <td>NaN</td>\n",
       "    </tr>\n",
       "  </tbody>\n",
       "</table>\n",
       "<p>5 rows × 36 columns</p>\n",
       "</div>"
      ],
      "text/plain": [
       "                               Country ISO2 ISO3   \n",
       "ObjectId                                           \n",
       "1         Afghanistan, Islamic Rep. of   AF  AFG  \\\n",
       "2         Afghanistan, Islamic Rep. of   AF  AFG   \n",
       "3         Afghanistan, Islamic Rep. of   AF  AFG   \n",
       "4         Afghanistan, Islamic Rep. of   AF  AFG   \n",
       "5         Afghanistan, Islamic Rep. of   AF  AFG   \n",
       "\n",
       "                                                  Indicator   \n",
       "ObjectId                                                      \n",
       "1         Expenditure on biodiversity & landscape protec...  \\\n",
       "2         Expenditure on biodiversity & landscape protec...   \n",
       "3                     Expenditure on environment protection   \n",
       "4                     Expenditure on environment protection   \n",
       "5            Expenditure on environmental protection n.e.c.   \n",
       "\n",
       "                                                     Source  CTS_Code   \n",
       "ObjectId                                                                \n",
       "1         International Monetary Fund (IMF), Statistics ...  GENB_G14  \\\n",
       "2         International Monetary Fund (IMF), Statistics ...  GENB_G14   \n",
       "3         International Monetary Fund (IMF), Statistics ...   GEN_G14   \n",
       "4         International Monetary Fund (IMF), Statistics ...   GEN_G14   \n",
       "5         International Monetary Fund (IMF), Statistics ...  GENO_G14   \n",
       "\n",
       "                                                   CTS_Name   \n",
       "ObjectId                                                      \n",
       "1         Expenditure on Biodiversity & Landscape Protec...  \\\n",
       "2         Expenditure on Biodiversity & Landscape Protec...   \n",
       "3                     Environmental Protection Expenditures   \n",
       "4                     Environmental Protection Expenditures   \n",
       "5         Expenditure on Environmental Protection Not El...   \n",
       "\n",
       "                                        CTS_Full_Descriptor   \n",
       "ObjectId                                                      \n",
       "1         Government and Public Sector Finance, Expendit...  \\\n",
       "2         Government and Public Sector Finance, Expendit...   \n",
       "3         Government and Public Sector Finance, Expendit...   \n",
       "4         Government and Public Sector Finance, Expendit...   \n",
       "5         Government and Public Sector Finance, Expendit...   \n",
       "\n",
       "                       Unit  F1995  ...         F2012         F2013   \n",
       "ObjectId                            ...                               \n",
       "1         Domestic Currency    NaN  ...           NaN           NaN  \\\n",
       "2            Percent of GDP    NaN  ...           NaN           NaN   \n",
       "3         Domestic Currency    NaN  ...  2.846995e+09  3.344665e+09   \n",
       "4            Percent of GDP    NaN  ...  2.754469e-01  2.994793e-01   \n",
       "5         Domestic Currency    NaN  ...           NaN           NaN   \n",
       "\n",
       "                 F2014         F2015         F2016         F2017  F2018   \n",
       "ObjectId                                                                  \n",
       "1                  NaN           NaN  1.243785e+08  1.258269e+09    NaN  \\\n",
       "2                  NaN           NaN  9.433491e-03  9.134202e-02    NaN   \n",
       "3         2.204964e+09  1.122601e+09  1.702933e+09  2.377937e+09    NaN   \n",
       "4         1.863813e-01  9.152359e-02  1.291590e-01  1.726226e-01    NaN   \n",
       "5                  NaN           NaN  9.669078e+07  8.846917e+07    NaN   \n",
       "\n",
       "          F2019  F2020  F2021  \n",
       "ObjectId                       \n",
       "1           NaN    NaN    NaN  \n",
       "2           NaN    NaN    NaN  \n",
       "3           NaN    NaN    NaN  \n",
       "4           NaN    NaN    NaN  \n",
       "5           NaN    NaN    NaN  \n",
       "\n",
       "[5 rows x 36 columns]"
      ]
     },
     "execution_count": 77,
     "metadata": {},
     "output_type": "execute_result"
    }
   ],
   "source": [
    "expenditures = pd.read_csv(\"input/policy/Environmental_Protection_Expenditures.csv\", index_col=0, keep_default_na=False, na_values=\"\")\n",
    "expenditures.head(5)"
   ]
  },
  {
   "cell_type": "code",
   "execution_count": 78,
   "metadata": {},
   "outputs": [
    {
     "name": "stdout",
     "output_type": "stream",
     "text": [
      "Number of countries: 197\n",
      "Number of expenditures: 21\n"
     ]
    }
   ],
   "source": [
    "exp_country_nodes = expenditures.ISO2.unique()\n",
    "exp_policy_nodes = expenditures.CTS_Code.unique()\n",
    "print(\"Number of countries:\", len(country_nodes))\n",
    "print(\"Number of expenditures:\", len(policy_nodes))\n",
    "\n",
    "E = nx.Graph()\n",
    "E.add_nodes_from(country_nodes, bipartite=0)\n",
    "E.add_nodes_from(policy_nodes, bipartite=1)"
   ]
  },
  {
   "cell_type": "code",
   "execution_count": 79,
   "metadata": {},
   "outputs": [],
   "source": [
    "expenditure_edge_dict = {}\n",
    "\n",
    "exp_sub = expenditures[expenditures.Unit == \"Percent of GDP\"]\n",
    "for year in exp_sub.columns[9:]:\n",
    "    edge_list = []\n",
    "    for country in exp_country_nodes:\n",
    "        subset = exp_sub[exp_sub.ISO2 == country]\n",
    "        for policy in exp_policy_nodes:\n",
    "            weight = subset[subset.CTS_Code == policy][year].values\n",
    "            if weight.size > 0 and weight > 0:\n",
    "                edge = (country, policy, weight[0])\n",
    "                edge_list.append(edge)\n",
    "    expenditure_edge_dict[int(year[1:])] = edge_list\n",
    "    \n"
   ]
  },
  {
   "cell_type": "code",
   "execution_count": 80,
   "metadata": {},
   "outputs": [
    {
     "name": "stdout",
     "output_type": "stream",
     "text": [
      "Number of possible edges: 4137\n"
     ]
    },
    {
     "ename": "NameError",
     "evalue": "name 'edges' is not defined",
     "output_type": "error",
     "traceback": [
      "\u001b[0;31m---------------------------------------------------------------------------\u001b[0m",
      "\u001b[0;31mNameError\u001b[0m                                 Traceback (most recent call last)",
      "Cell \u001b[0;32mIn[80], line 2\u001b[0m\n\u001b[1;32m      1\u001b[0m \u001b[39mprint\u001b[39m(\u001b[39m\"\u001b[39m\u001b[39mNumber of possible edges:\u001b[39m\u001b[39m\"\u001b[39m, \u001b[39mlen\u001b[39m(country_nodes) \u001b[39m*\u001b[39m \u001b[39mlen\u001b[39m(policy_nodes))\n\u001b[0;32m----> 2\u001b[0m \u001b[39mprint\u001b[39m(\u001b[39m\"\u001b[39m\u001b[39mNumber of edges:\u001b[39m\u001b[39m\"\u001b[39m, \u001b[39mlen\u001b[39m(edges))\n",
      "\u001b[0;31mNameError\u001b[0m: name 'edges' is not defined"
     ]
    }
   ],
   "source": [
    "print(\"Number of possible edges:\", len(country_nodes) * len(policy_nodes))\n",
    "print(\"Number of edges:\", len(edges))"
   ]
  },
  {
   "attachments": {},
   "cell_type": "markdown",
   "metadata": {},
   "source": [
    "### Change Point Detection"
   ]
  },
  {
   "cell_type": "code",
   "execution_count": 81,
   "metadata": {},
   "outputs": [
    {
     "name": "stderr",
     "output_type": "stream",
     "text": [
      "<class 'networkx.utils.decorators.argmap'> compilation 4:4: FutureWarning: normalized_laplacian_matrix will return a scipy.sparse array instead of a matrix in Networkx 3.0.\n"
     ]
    },
    {
     "data": {
      "image/png": "[encoded data removed]",
      "text/plain": [
       "<Figure size 640x480 with 1 Axes>"
      ]
     },
     "metadata": {},
     "output_type": "display_data"
    }
   ],
   "source": [
    "expenditures_years = []\n",
    "for key in expenditure_edge_dict.keys():\n",
    "    expenditures_years.append(key)\n",
    "\n",
    "windowSize = 3\n",
    "Z_list, year_list = change_point_detection(windowSize, E, expenditures_years, expenditure_edge_dict)\n",
    "\n",
    "\n",
    "fig,ax = plt.subplots()\n",
    "# Using years var from last cell\n",
    "ax.plot(year_list, Z_list)\n",
    "ax.set_title(\"Change Point Detection Expenditures\")\n",
    "ax.set_ylabel(\"Change Value\")\n",
    "ax.set_xlabel(\"Year\")\n",
    "\n",
    "plt.show()"
   ]
  },
  {
   "attachments": {},
   "cell_type": "markdown",
   "metadata": {},
   "source": [
    "### Generator for Arbitrary Dataset"
   ]
  },
  {
   "attachments": {},
   "cell_type": "markdown",
   "metadata": {},
   "source": [
    "Disregard for now. Every dataset requires different pre-processing."
   ]
  },
  {
   "cell_type": "code",
   "execution_count": null,
   "metadata": {},
   "outputs": [],
   "source": [
    "frame = pd.read_csv('input/policy/Fossil_Fuel_Subsidies.csv', index_col=0, keep_default_na=False, na_values=\"\")\n",
    "country_nodes = frame.ISO2.unique()\n",
    "policy_nodes = frame.CTS_Code.unique()\n",
    "G = nx.Graph()\n",
    "G.add_nodes_from(country_nodes, bipartite=0)\n",
    "G.add_nodes_from(policy_nodes, bipartite=1)\n",
    "years = [int(col[1:]) for col in frame.columns if len(col) == 5 and col[0] == 'F' and col[1:].isdigit()]\n",
    "index = [i for i in range(len(frame.columns)) if frame.columns[i] == 'F' + str(years[0])][0]"
   ]
  },
  {
   "attachments": {},
   "cell_type": "markdown",
   "metadata": {},
   "source": [
    "### Analysis"
   ]
  },
  {
   "cell_type": "code",
   "execution_count": 82,
   "metadata": {},
   "outputs": [
    {
     "name": "stdout",
     "output_type": "stream",
     "text": [
      "{'ID', 'PH', 'AT', 'PL', 'ZA', 'JE', 'SE', 'KR', 'AR', 'LU', 'Green Bonds Issuances', 'IS', 'HU', 'DK', 'CA', 'MO', 'GG', 'FI', 'CN', 'JP', 'AU', 'FR', 'RS', 'SK', 'NZ', 'TH', 'CO', 'CZ', 'UA', 'LV', 'MU', 'ES', 'IT', 'PT', 'BR', 'RO', 'KY', 'IL', 'MX', 'DE', 'BE', 'BD', 'IE', 'NL', 'MY', 'IN', 'TR', 'AE', 'BM', 'PK', 'RU', 'VG', 'LI', 'SG', 'GE', 'HK', 'CL', 'TW', 'GR', 'Green Bonds', 'GB', 'US', 'VN', 'NO', 'CH'}\n",
      "{'CR'}\n",
      "{'EG'}\n",
      "{'EE'}\n",
      "{'FJ'}\n",
      "{'LT'}\n",
      "{'MH'}\n",
      "{'MA'}\n",
      "{'NA'}\n",
      "{'NG'}\n",
      "{'PA'}\n",
      "{'PE'}\n",
      "{'SC'}\n",
      "{'SI'}\n"
     ]
    }
   ],
   "source": [
    "for comp in nx.connected_components(B):\n",
    "    print(comp)"
   ]
  },
  {
   "cell_type": "code",
   "execution_count": 83,
   "metadata": {},
   "outputs": [],
   "source": [
    "G = nx.Graph()\n",
    "G.add_nodes_from(country_nodes, bipartite=0)\n",
    "G.add_nodes_from(policy_nodes, bipartite=1)"
   ]
  },
  {
   "attachments": {},
   "cell_type": "markdown",
   "metadata": {},
   "source": [
    "### IP"
   ]
  },
  {
   "cell_type": "code",
   "execution_count": 84,
   "metadata": {},
   "outputs": [
    {
     "name": "stdout",
     "output_type": "stream",
     "text": [
      "Running temporal graph...\n",
      "Temporal Metrics:\n",
      "     Year  Countries  Edges  Butterflies  Caterpillars     Ratio\n",
      "0   1995         30    128         2329         11253  0.206967\n",
      "1   1996         31    132         2592         12216  0.212181\n",
      "2   1997         31    131         2505         11929  0.209992\n",
      "3   1998         31    132         2592         12216  0.212181\n",
      "4   1999         33    133         2481         12078  0.205415\n",
      "5   2000         38    144         2803         13945  0.201004\n",
      "6   2001         45    209         6681         31343  0.213158\n",
      "7   2002         62    230         7271         36119  0.201307\n",
      "8   2003         61    228         7130         35468  0.201026\n",
      "9   2004         63    236         7803         38362  0.203404\n",
      "10  2005         66    251         8974         43766  0.205045\n",
      "11  2006         69    256         8968         44725  0.200514\n",
      "12  2007         69    262         9794         47742  0.205144\n",
      "13  2008         79    286        10795         55031  0.196162\n",
      "14  2009         78    296        11878         59717  0.198905\n",
      "15  2010         82    302        11887         60920  0.195125\n",
      "16  2011         84    314        12753         65757  0.193941\n",
      "17  2012         86    319        13257         68235  0.194284\n",
      "18  2013         86    349        16537         83352  0.198400\n",
      "19  2014         90    389        20439        103240  0.197976\n",
      "20  2015         95    439        26883        133484  0.201395\n",
      "21  2016         96    467        32123        154982  0.207269\n",
      "22  2017        101    485        33720        165170  0.204153\n",
      "23  2018        100    495        35308        172385  0.204821\n",
      "24  2019         99    502        37353        179599  0.207980\n",
      "25  2020         91    472        33734        160257  0.210499\n",
      "26  2021          1      3            0             0  0.000000\n"
     ]
    }
   ],
   "source": [
    "from helper import CCNA, IP\n",
    "print(\"Running temporal graph...\")\n",
    "obj = CCNA(\"Environmental_Protection_Expenditures\")\n",
    "print(\"Temporal Metrics:\\n\", obj.temporal_metrics())"
   ]
  },
  {
   "cell_type": "code",
   "execution_count": 85,
   "metadata": {},
   "outputs": [
    {
     "name": "stdout",
     "output_type": "stream",
     "text": [
      "Building directed graph...\n",
      "Directed Graph Values:\n",
      " {'Nodes': 128, 'Edges': 8686, 'Clustering': 0.5832986130944743, 'Countries': 128, 'Policies': 7}\n"
     ]
    }
   ],
   "source": [
    "print(\"Building directed graph...\")\n",
    "G = obj.influence_graph()\n",
    "metrics = {\"Nodes\": G.number_of_nodes(), \"Edges\": G.number_of_edges(), \"Clustering\": nx.average_clustering(G),\\\n",
    "           \"Countries\": len(obj.countries), \"Policies\": len(obj.policies)}\n",
    "print(\"Directed Graph Values:\\n\", metrics)"
   ]
  },
  {
   "cell_type": "code",
   "execution_count": 86,
   "metadata": {},
   "outputs": [
    {
     "name": "stdout",
     "output_type": "stream",
     "text": [
      "Loading graph into IP algorithm...\n",
      "IP algorithm initialized.\n"
     ]
    },
    {
     "name": "stderr",
     "output_type": "stream",
     "text": [
      "/Users/robert/Desktop/CC_NN_Project_Final_Folder/CC_NA/helper.py:190: FutureWarning: adjacency_matrix will return a scipy.sparse array instead of a matrix in Networkx 3.0.\n",
      "  adjacency = np.zeros((self.N, self.N)) + nx.adjacency_matrix(self.G)\n"
     ]
    }
   ],
   "source": [
    "# Initializing IP values\n",
    "print(\"Loading graph into IP algorithm...\")\n",
    "ip_obj = IP(G)\n",
    "print(\"IP algorithm initialized.\")"
   ]
  },
  {
   "cell_type": "code",
   "execution_count": 87,
   "metadata": {},
   "outputs": [
    {
     "name": "stdout",
     "output_type": "stream",
     "text": [
      "Running 20 iterations...\n"
     ]
    }
   ],
   "source": [
    "# Computing influence and passivity\n",
    "M = 20\n",
    "print(\"Running\", M, \"iterations...\")\n",
    "ip_obj.iterate(M)\n",
    "influence = ip_obj.influence[M - 1]\n",
    "passivity = ip_obj.passivity[M - 1]"
   ]
  },
  {
   "cell_type": "code",
   "execution_count": 88,
   "metadata": {},
   "outputs": [
    {
     "data": {
      "text/html": [
       "<div>\n",
       "<style scoped>\n",
       "    .dataframe tbody tr th:only-of-type {\n",
       "        vertical-align: middle;\n",
       "    }\n",
       "\n",
       "    .dataframe tbody tr th {\n",
       "        vertical-align: top;\n",
       "    }\n",
       "\n",
       "    .dataframe thead th {\n",
       "        text-align: right;\n",
       "    }\n",
       "</style>\n",
       "<table border=\"1\" class=\"dataframe\">\n",
       "  <thead>\n",
       "    <tr style=\"text-align: right;\">\n",
       "      <th></th>\n",
       "      <th>Country</th>\n",
       "      <th>Influence</th>\n",
       "      <th>Passivity</th>\n",
       "    </tr>\n",
       "  </thead>\n",
       "  <tbody>\n",
       "    <tr>\n",
       "      <th>93</th>\n",
       "      <td>KW</td>\n",
       "      <td>0.018743</td>\n",
       "      <td>0.007819</td>\n",
       "    </tr>\n",
       "    <tr>\n",
       "      <th>59</th>\n",
       "      <td>IR</td>\n",
       "      <td>0.016657</td>\n",
       "      <td>0.007819</td>\n",
       "    </tr>\n",
       "    <tr>\n",
       "      <th>116</th>\n",
       "      <td>OM</td>\n",
       "      <td>0.014529</td>\n",
       "      <td>0.007819</td>\n",
       "    </tr>\n",
       "    <tr>\n",
       "      <th>87</th>\n",
       "      <td>BI</td>\n",
       "      <td>0.013079</td>\n",
       "      <td>0.007770</td>\n",
       "    </tr>\n",
       "    <tr>\n",
       "      <th>21</th>\n",
       "      <td>BD</td>\n",
       "      <td>0.013011</td>\n",
       "      <td>0.007819</td>\n",
       "    </tr>\n",
       "    <tr>\n",
       "      <th>36</th>\n",
       "      <td>DE</td>\n",
       "      <td>0.012502</td>\n",
       "      <td>0.007808</td>\n",
       "    </tr>\n",
       "    <tr>\n",
       "      <th>10</th>\n",
       "      <td>KE</td>\n",
       "      <td>0.012423</td>\n",
       "      <td>0.007950</td>\n",
       "    </tr>\n",
       "    <tr>\n",
       "      <th>89</th>\n",
       "      <td>EE</td>\n",
       "      <td>0.012332</td>\n",
       "      <td>0.007806</td>\n",
       "    </tr>\n",
       "    <tr>\n",
       "      <th>127</th>\n",
       "      <td>ES</td>\n",
       "      <td>0.012248</td>\n",
       "      <td>0.007827</td>\n",
       "    </tr>\n",
       "    <tr>\n",
       "      <th>48</th>\n",
       "      <td>AT</td>\n",
       "      <td>0.012248</td>\n",
       "      <td>0.007827</td>\n",
       "    </tr>\n",
       "  </tbody>\n",
       "</table>\n",
       "</div>"
      ],
      "text/plain": [
       "    Country  Influence  Passivity\n",
       "93       KW   0.018743   0.007819\n",
       "59       IR   0.016657   0.007819\n",
       "116      OM   0.014529   0.007819\n",
       "87       BI   0.013079   0.007770\n",
       "21       BD   0.013011   0.007819\n",
       "36       DE   0.012502   0.007808\n",
       "10       KE   0.012423   0.007950\n",
       "89       EE   0.012332   0.007806\n",
       "127      ES   0.012248   0.007827\n",
       "48       AT   0.012248   0.007827"
      ]
     },
     "execution_count": 88,
     "metadata": {},
     "output_type": "execute_result"
    }
   ],
   "source": [
    "pd.DataFrame({\"Country\": ip_obj.countries, \"Influence\": influence, \"Passivity\": passivity}).sort_values('Influence', ascending=False).head(10)"
   ]
  },
  {
   "cell_type": "code",
   "execution_count": 89,
   "metadata": {},
   "outputs": [
    {
     "name": "stderr",
     "output_type": "stream",
     "text": [
      "/var/folders/19/6hz5c0tn7g317trnm9tqf_900000gn/T/ipykernel_7817/3167368643.py:11: RuntimeWarning: divide by zero encountered in log\n",
      "  plt.plot(x, np.log(y_i))\n",
      "/var/folders/19/6hz5c0tn7g317trnm9tqf_900000gn/T/ipykernel_7817/3167368643.py:12: RuntimeWarning: divide by zero encountered in log\n",
      "  plt.plot(x, np.log(y_p))\n"
     ]
    },
    {
     "data": {
      "text/plain": [
       "Text(0.5, 1.0, 'Convergence of IP Algorithm')"
      ]
     },
     "execution_count": 89,
     "metadata": {},
     "output_type": "execute_result"
    },
    {
     "data": {
      "image/png": "[encoded data removed]",
      "text/plain": [
       "<Figure size 640x480 with 1 Axes>"
      ]
     },
     "metadata": {},
     "output_type": "display_data"
    }
   ],
   "source": [
    "I_diffs = []\n",
    "P_diffs = []\n",
    "for m in range(M):\n",
    "    I_diff = ((ip_obj.influence[m] - influence)**2).mean()\n",
    "    P_diff = ((ip_obj.passivity[m] - passivity)**2).mean()\n",
    "    I_diffs.append(I_diff)\n",
    "    P_diffs.append(P_diff)\n",
    "x = range(M)\n",
    "y_i = np.array(I_diffs)\n",
    "y_p = np.array(P_diffs)\n",
    "plt.plot(x, np.log(y_i))\n",
    "plt.plot(x, np.log(y_p))\n",
    "plt.xlabel(\"Number of Iterations\")\n",
    "plt.ylabel(\"Mean Squared Difference (Log Scale)\")\n",
    "plt.title(\"Convergence of IP Algorithm\")"
   ]
  },
  {
   "attachments": {},
   "cell_type": "markdown",
   "metadata": {},
   "source": [
    "### Clustering"
   ]
  },
  {
   "cell_type": "code",
   "execution_count": 90,
   "metadata": {},
   "outputs": [],
   "source": [
    "expenditures_node_mapping = {}\n",
    "\n",
    "i = 0\n",
    "for country in expenditures[\"ISO2\"].unique():\n",
    "    expenditures_node_mapping[country] = f\"u{i}\"\n",
    "    i += 1\n",
    "\n",
    "\n",
    "j = 0\n",
    "for policy in expenditures[\"CTS_Code\"].unique():\n",
    "    expenditures_node_mapping[policy] = f\"i{j}\"\n",
    "    j += 1\n",
    "\n",
    "inv_taxes_mapping = {v: k for k, v in expenditures_node_mapping.items()}"
   ]
  },
  {
   "cell_type": "code",
   "execution_count": 91,
   "metadata": {},
   "outputs": [],
   "source": [
    "# Create files \n",
    "for year in expenditures_years:\n",
    "    E.remove_edges_from(E.edges)\n",
    "    E.add_weighted_edges_from(expenditure_edge_dict[year])\n",
    "\n",
    "    E_integer = nx.relabel_nodes(E, expenditures_node_mapping)\n",
    "\n",
    "    fileName = f\"BiNE-master/data/expenditures/expenditures_{year}_edgelist.dat\"\n",
    "    nx.write_weighted_edgelist(E_integer, fileName, delimiter = \"\\t\")\n",
    "\n",
    "# Writes command line prompt to file\n",
    "with open(\"Expenditures_commands.txt\", \"w\") as f:\n",
    "    for year in tax_years:\n",
    "        command = f\"python train.py --train-data ../data/expenditures/expenditures_{year}_edgelist.dat --lam 0.025 --max-iter 100 --large 2 --vectors-u ../data/expenditures/vectors_u_{year}.dat --vectors-v ../data/expenditures/vectors_v_{year}.dat &&\"\n",
    "        f.write(command)"
   ]
  }
 ],
 "metadata": {
  "kernelspec": {
   "display_name": "Python 3",
   "language": "python",
   "name": "python3"
  },
  "language_info": {
   "codemirror_mode": {
    "name": "ipython",
    "version": 3
   },
   "file_extension": ".py",
   "mimetype": "text/x-python",
   "name": "python",
   "nbconvert_exporter": "python",
   "pygments_lexer": "ipython3",
   "version": "3.11.3"
  },
  "orig_nbformat": 4
 },
 "nbformat": 4,
 "nbformat_minor": 2
}
