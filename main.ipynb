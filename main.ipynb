{
 "cells": [
  {
   "cell_type": "code",
   "execution_count": 84,
   "metadata": {},
   "outputs": [],
   "source": [
    "import pandas as pd\n",
    "import numpy as np\n",
    "import networkx as nx\n",
    "from networkx.algorithms import bipartite\n",
    "import matplotlib.pyplot as plt"
   ]
  },
  {
   "attachments": {},
   "cell_type": "markdown",
   "metadata": {},
   "source": [
    "### Fossil Fuel Subsidies"
   ]
  },
  {
   "attachments": {},
   "cell_type": "markdown",
   "metadata": {},
   "source": [
    "Note that we need to keep values titled \"NA\" because that's Namibia's ISO2 code. Also, Kosovo doesn't have an ISO3 so we can't use that."
   ]
  },
  {
   "cell_type": "code",
   "execution_count": 39,
   "metadata": {},
   "outputs": [
    {
     "data": {
      "text/html": [
       "<div>\n",
       "<style scoped>\n",
       "    .dataframe tbody tr th:only-of-type {\n",
       "        vertical-align: middle;\n",
       "    }\n",
       "\n",
       "    .dataframe tbody tr th {\n",
       "        vertical-align: top;\n",
       "    }\n",
       "\n",
       "    .dataframe thead th {\n",
       "        text-align: right;\n",
       "    }\n",
       "</style>\n",
       "<table border=\"1\" class=\"dataframe\">\n",
       "  <thead>\n",
       "    <tr style=\"text-align: right;\">\n",
       "      <th></th>\n",
       "      <th>Country</th>\n",
       "      <th>ISO2</th>\n",
       "      <th>ISO3</th>\n",
       "      <th>Indicator</th>\n",
       "      <th>Source</th>\n",
       "      <th>CTS_Code</th>\n",
       "      <th>CTS_Name</th>\n",
       "      <th>CTS_Full_Descriptor</th>\n",
       "      <th>Unit</th>\n",
       "      <th>F2015</th>\n",
       "      <th>F2016</th>\n",
       "      <th>F2017</th>\n",
       "      <th>F2018</th>\n",
       "      <th>F2019</th>\n",
       "      <th>F2020</th>\n",
       "      <th>F2021</th>\n",
       "      <th>F2022</th>\n",
       "      <th>F2023</th>\n",
       "      <th>F2024</th>\n",
       "      <th>F2025</th>\n",
       "    </tr>\n",
       "    <tr>\n",
       "      <th>ObjectId</th>\n",
       "      <th></th>\n",
       "      <th></th>\n",
       "      <th></th>\n",
       "      <th></th>\n",
       "      <th></th>\n",
       "      <th></th>\n",
       "      <th></th>\n",
       "      <th></th>\n",
       "      <th></th>\n",
       "      <th></th>\n",
       "      <th></th>\n",
       "      <th></th>\n",
       "      <th></th>\n",
       "      <th></th>\n",
       "      <th></th>\n",
       "      <th></th>\n",
       "      <th></th>\n",
       "      <th></th>\n",
       "      <th></th>\n",
       "      <th></th>\n",
       "    </tr>\n",
       "  </thead>\n",
       "  <tbody>\n",
       "    <tr>\n",
       "      <th>1</th>\n",
       "      <td>Afghanistan, Islamic Rep. of</td>\n",
       "      <td>AF</td>\n",
       "      <td>AFG</td>\n",
       "      <td>Explicit Fossil Fuel Subsidies - Coal</td>\n",
       "      <td>Parry, Ian; Black, Simon; Vernon, Nate. Septem...</td>\n",
       "      <td>ECGFTEC</td>\n",
       "      <td>Explicit; Coal</td>\n",
       "      <td>Environment, Climate Change, Government Policy...</td>\n",
       "      <td>Percent of GDP</td>\n",
       "      <td>0.0</td>\n",
       "      <td>0.0</td>\n",
       "      <td>0.0</td>\n",
       "      <td>0.000000</td>\n",
       "      <td>0.000000</td>\n",
       "      <td>0.000000</td>\n",
       "      <td>0.000000</td>\n",
       "      <td>0.000000</td>\n",
       "      <td>0.000000</td>\n",
       "      <td>0.000000</td>\n",
       "      <td>0.000000</td>\n",
       "    </tr>\n",
       "    <tr>\n",
       "      <th>2</th>\n",
       "      <td>Afghanistan, Islamic Rep. of</td>\n",
       "      <td>AF</td>\n",
       "      <td>AFG</td>\n",
       "      <td>Explicit Fossil Fuel Subsidies - Coal</td>\n",
       "      <td>Parry, Ian; Black, Simon; Vernon, Nate. Septem...</td>\n",
       "      <td>ECGFTEC</td>\n",
       "      <td>Explicit; Coal</td>\n",
       "      <td>Environment, Climate Change, Government Policy...</td>\n",
       "      <td>US Dollars</td>\n",
       "      <td>0.0</td>\n",
       "      <td>0.0</td>\n",
       "      <td>0.0</td>\n",
       "      <td>0.000000</td>\n",
       "      <td>0.000000</td>\n",
       "      <td>0.000000</td>\n",
       "      <td>0.000000</td>\n",
       "      <td>0.000000</td>\n",
       "      <td>0.000000</td>\n",
       "      <td>0.000000</td>\n",
       "      <td>0.000000</td>\n",
       "    </tr>\n",
       "    <tr>\n",
       "      <th>3</th>\n",
       "      <td>Afghanistan, Islamic Rep. of</td>\n",
       "      <td>AF</td>\n",
       "      <td>AFG</td>\n",
       "      <td>Explicit Fossil Fuel Subsidies - Electricity</td>\n",
       "      <td>Parry, Ian; Black, Simon; Vernon, Nate. Septem...</td>\n",
       "      <td>ECGFTET</td>\n",
       "      <td>Explicit; Electricity</td>\n",
       "      <td>Environment, Climate Change, Government Policy...</td>\n",
       "      <td>Percent of GDP</td>\n",
       "      <td>0.0</td>\n",
       "      <td>0.0</td>\n",
       "      <td>0.0</td>\n",
       "      <td>0.083287</td>\n",
       "      <td>0.375834</td>\n",
       "      <td>0.075661</td>\n",
       "      <td>0.252216</td>\n",
       "      <td>0.247982</td>\n",
       "      <td>0.270226</td>\n",
       "      <td>0.271118</td>\n",
       "      <td>0.245831</td>\n",
       "    </tr>\n",
       "  </tbody>\n",
       "</table>\n",
       "</div>"
      ],
      "text/plain": [
       "                               Country ISO2 ISO3  \\\n",
       "ObjectId                                           \n",
       "1         Afghanistan, Islamic Rep. of   AF  AFG   \n",
       "2         Afghanistan, Islamic Rep. of   AF  AFG   \n",
       "3         Afghanistan, Islamic Rep. of   AF  AFG   \n",
       "\n",
       "                                             Indicator  \\\n",
       "ObjectId                                                 \n",
       "1                Explicit Fossil Fuel Subsidies - Coal   \n",
       "2                Explicit Fossil Fuel Subsidies - Coal   \n",
       "3         Explicit Fossil Fuel Subsidies - Electricity   \n",
       "\n",
       "                                                     Source CTS_Code  \\\n",
       "ObjectId                                                               \n",
       "1         Parry, Ian; Black, Simon; Vernon, Nate. Septem...  ECGFTEC   \n",
       "2         Parry, Ian; Black, Simon; Vernon, Nate. Septem...  ECGFTEC   \n",
       "3         Parry, Ian; Black, Simon; Vernon, Nate. Septem...  ECGFTET   \n",
       "\n",
       "                       CTS_Name  \\\n",
       "ObjectId                          \n",
       "1                Explicit; Coal   \n",
       "2                Explicit; Coal   \n",
       "3         Explicit; Electricity   \n",
       "\n",
       "                                        CTS_Full_Descriptor            Unit  \\\n",
       "ObjectId                                                                      \n",
       "1         Environment, Climate Change, Government Policy...  Percent of GDP   \n",
       "2         Environment, Climate Change, Government Policy...      US Dollars   \n",
       "3         Environment, Climate Change, Government Policy...  Percent of GDP   \n",
       "\n",
       "          F2015  F2016  F2017     F2018     F2019     F2020     F2021  \\\n",
       "ObjectId                                                                \n",
       "1           0.0    0.0    0.0  0.000000  0.000000  0.000000  0.000000   \n",
       "2           0.0    0.0    0.0  0.000000  0.000000  0.000000  0.000000   \n",
       "3           0.0    0.0    0.0  0.083287  0.375834  0.075661  0.252216   \n",
       "\n",
       "             F2022     F2023     F2024     F2025  \n",
       "ObjectId                                          \n",
       "1         0.000000  0.000000  0.000000  0.000000  \n",
       "2         0.000000  0.000000  0.000000  0.000000  \n",
       "3         0.247982  0.270226  0.271118  0.245831  "
      ]
     },
     "execution_count": 39,
     "metadata": {},
     "output_type": "execute_result"
    }
   ],
   "source": [
    "subsidy = pd.read_csv('input/policy/Fossil_Fuel_Subsidies.csv', index_col=0, keep_default_na=False, na_values=\"\")\n",
    "subsidy.head(3)"
   ]
  },
  {
   "cell_type": "code",
   "execution_count": 40,
   "metadata": {},
   "outputs": [
    {
     "name": "stdout",
     "output_type": "stream",
     "text": [
      "Number of Countries: 197\n",
      "Number of Subsidies: 21\n"
     ]
    }
   ],
   "source": [
    "country_nodes = subsidy.ISO2.unique()\n",
    "policy_nodes = subsidy.CTS_Code.unique()\n",
    "print(\"Number of Countries:\", len(country_nodes))\n",
    "print(\"Number of Subsidies:\", len(policy_nodes))"
   ]
  },
  {
   "attachments": {},
   "cell_type": "markdown",
   "metadata": {},
   "source": [
    "Another question would be how do we create groups of subsidies. We'll call the fossil fuel subsidy bi-partite graph S."
   ]
  },
  {
   "cell_type": "code",
   "execution_count": 41,
   "metadata": {},
   "outputs": [],
   "source": [
    "S = nx.Graph()\n",
    "S.add_nodes_from(country_nodes, bipartite=0)\n",
    "S.add_nodes_from(policy_nodes, bipartite=1)"
   ]
  },
  {
   "attachments": {},
   "cell_type": "markdown",
   "metadata": {},
   "source": [
    "Note that the following countries do not have the Petroleum field. We'll simply not draw edges."
   ]
  },
  {
   "cell_type": "code",
   "execution_count": 42,
   "metadata": {},
   "outputs": [
    {
     "name": "stdout",
     "output_type": "stream",
     "text": [
      "AI 20\n",
      "{'Implicit; Petroleum'}\n",
      "MH 20\n",
      "{'Implicit; Petroleum'}\n",
      "PW 20\n",
      "{'Implicit; Petroleum'}\n",
      "SM 20\n",
      "{'Implicit; Petroleum'}\n",
      "TV 20\n",
      "{'Implicit; Petroleum'}\n"
     ]
    }
   ],
   "source": [
    "full = set(subsidy[subsidy.ISO2 == \"AF\"].CTS_Name)\n",
    "subsidy_sub = subsidy[subsidy.Unit == \"Percent of GDP\"]\n",
    "for country in country_nodes:\n",
    "    subset = subsidy_sub[subsidy_sub.ISO2 == country]\n",
    "    if len(subset) < 21:\n",
    "        print(country, len(subset))\n",
    "        partial = set(subsidy[subsidy.ISO2 == country].CTS_Name)\n",
    "        print(full - partial)"
   ]
  },
  {
   "attachments": {},
   "cell_type": "markdown",
   "metadata": {},
   "source": [
    "Loop through every country/policy combination and add an edge if the value for specified year was greater than 0."
   ]
  },
  {
   "cell_type": "code",
   "execution_count": 43,
   "metadata": {},
   "outputs": [],
   "source": [
    "df_temp = subsidy[subsidy.Unit == \"Percent of GDP\"]\n",
    "df_temp.set_index([\"ISO2\", \"CTS_Code\"], inplace = True)\n",
    "edge_list = []\n",
    "year = \"F2018\"\n",
    "\n",
    "for country in country_nodes:\n",
    "    subset = df_temp.loc[country]\n",
    "    for policy_code in subset.index:\n",
    "        weight = subset.loc[policy_code][year]\n",
    "        if weight > 0:\n",
    "            edge = (country, policy_code, weight)\n",
    "            edge_list.append(edge)\n",
    "\n",
    "S.add_weighted_edges_from(edge_list)"
   ]
  },
  {
   "cell_type": "code",
   "execution_count": 44,
   "metadata": {},
   "outputs": [
    {
     "name": "stdout",
     "output_type": "stream",
     "text": [
      "Number of Edges: 2825\n",
      "Number of Possible Edges: 4137\n"
     ]
    }
   ],
   "source": [
    "print(\"Number of Edges:\", S.number_of_edges())\n",
    "print(\"Number of Possible Edges:\", len(country_nodes) * len(policy_nodes))"
   ]
  },
  {
   "attachments": {},
   "cell_type": "markdown",
   "metadata": {},
   "source": [
    "### Green Bonds"
   ]
  },
  {
   "attachments": {},
   "cell_type": "markdown",
   "metadata": {},
   "source": [
    "##### Intro"
   ]
  },
  {
   "cell_type": "code",
   "execution_count": 2,
   "metadata": {},
   "outputs": [],
   "source": [
    "green_bonds = pd.read_csv(\"input/policy/Green_Bonds.csv\", index_col=0, keep_default_na=False, na_values=\"\")\n",
    "\n",
    "# Filtered Down to countries\n",
    "green_bonds = green_bonds[np.logical_not(green_bonds[\"ISO2\"].isna())]\n",
    "\n",
    "green_bond_country_nodes = green_bonds.ISO2.unique()\n",
    "\n",
    "# Need to figure out the differences between these bonds\n",
    "bonds_nodes = green_bonds[\"CTS_Name\"].unique()"
   ]
  },
  {
   "attachments": {},
   "cell_type": "markdown",
   "metadata": {},
   "source": [
    "Looks likes most years no one invested in bonds. Still very few countries invest in bonds but each year it seems the number increases."
   ]
  },
  {
   "cell_type": "code",
   "execution_count": 3,
   "metadata": {},
   "outputs": [
    {
     "data": {
      "image/png": "[encoded data removed]",
      "text/plain": [
       "<Figure size 640x480 with 1 Axes>"
      ]
     },
     "metadata": {},
     "output_type": "display_data"
    }
   ],
   "source": [
    "# Get the data\n",
    "num_countries = green_bonds[green_bonds.columns[12:]].count().to_list()\n",
    "years = [int(year[1:]) for year in green_bonds.columns[12:]]\n",
    "\n",
    "# Plot\n",
    "fig,ax = plt.subplots()\n",
    "ax.scatter(years, num_countries)\n",
    "ax.set_title(\"Number of Countries using Green Bonds by year\")\n",
    "ax.set_ylabel(\"Number of Countries\")\n",
    "ax.set_xlabel(\"Year\")\n",
    "\n",
    "plt.show()"
   ]
  },
  {
   "attachments": {},
   "cell_type": "markdown",
   "metadata": {},
   "source": [
    "Furthermore we can break the graph down into its two different categories"
   ]
  },
  {
   "cell_type": "code",
   "execution_count": 4,
   "metadata": {},
   "outputs": [
    {
     "data": {
      "image/png": "[encoded data removed]",
      "text/plain": [
       "<Figure size 640x480 with 1 Axes>"
      ]
     },
     "metadata": {},
     "output_type": "display_data"
    }
   ],
   "source": [
    "# Get the data\n",
    "issuances = green_bonds[green_bonds[\"CTS_Name\"] == \"Green Bonds Issuances\"]\n",
    "\n",
    "# Calculate Variables\n",
    "issuance_count = issuances[issuances.columns[12:]].count()\n",
    "nonissuance_count = num_countries - issuance_count\n",
    "y = np.vstack([nonissuance_count, issuance_count])\n",
    "\n",
    "# Plot\n",
    "fig,ax = plt.subplots()\n",
    "# Using years var from last cell\n",
    "ax.stackplot(years, y, labels = [\"Nonissuance Green Bonds\", \"Issuance Green Bonds\",])\n",
    "ax.set_title(\"Number of Countries using Green Bonds by year\")\n",
    "ax.set_ylabel(\"Number of Countries\")\n",
    "ax.set_xlabel(\"Year\")\n",
    "ax.legend(loc = \"upper left\")\n",
    "\n",
    "plt.show()"
   ]
  },
  {
   "attachments": {},
   "cell_type": "markdown",
   "metadata": {},
   "source": [
    "##### Graph Building"
   ]
  },
  {
   "attachments": {},
   "cell_type": "markdown",
   "metadata": {},
   "source": [
    "Initializing the nodes in our bipartite graph. Country nodes are on the left and green bond policies are on the right."
   ]
  },
  {
   "cell_type": "code",
   "execution_count": 60,
   "metadata": {},
   "outputs": [],
   "source": [
    "B = nx.Graph()\n",
    "B.add_nodes_from(green_bond_country_nodes, bipartite=0)\n",
    "B.add_nodes_from(bonds_nodes, bipartite=1)"
   ]
  },
  {
   "attachments": {},
   "cell_type": "markdown",
   "metadata": {},
   "source": [
    "We are creating the edge_lists for every single year. This can allow for quick creation of graphs for any specific year."
   ]
  },
  {
   "cell_type": "code",
   "execution_count": 56,
   "metadata": {},
   "outputs": [],
   "source": [
    "green_bonds_temp = green_bonds.set_index([\"ISO2\", \"CTS_Name\"], inplace = False)\n",
    "dict = {}\n",
    "for year in green_bonds.columns[12:]: #create edge lists for each year\n",
    "    edge_list = []\n",
    "    for country in green_bond_country_nodes: #find every country-bond combo\n",
    "        subset = green_bonds_temp.loc[country]\n",
    "        for bond in subset.index: #bond\n",
    "            weight = subset.loc[bond][year] #edge weights are bond values\n",
    "            if weight > 0:\n",
    "                edge = (country, bond, weight) #create edge\n",
    "                edge_list.append(edge)\n",
    "    dict[int(year[1:])] = edge_list"
   ]
  },
  {
   "attachments": {},
   "cell_type": "markdown",
   "metadata": {},
   "source": [
    "Let's create a graph for 2015 and see what it looks like:"
   ]
  },
  {
   "cell_type": "code",
   "execution_count": 81,
   "metadata": {},
   "outputs": [
    {
     "name": "stdout",
     "output_type": "stream",
     "text": [
      "Number of Edges: 20\n",
      "Number of Possible Edges: 152\n"
     ]
    }
   ],
   "source": [
    "B.remove_edges_from(B.edges)\n",
    "B.add_weighted_edges_from(dict[2015])\n",
    "print(\"Number of Edges:\", B.number_of_edges())\n",
    "print(\"Number of Possible Edges:\", len(green_bond_country_nodes) * len(bonds_nodes))"
   ]
  },
  {
   "attachments": {},
   "cell_type": "markdown",
   "metadata": {},
   "source": [
    "Let's also create a method to see the number of countries implementing any policies at all:"
   ]
  },
  {
   "cell_type": "code",
   "execution_count": 95,
   "metadata": {},
   "outputs": [
    {
     "name": "stdout",
     "output_type": "stream",
     "text": [
      "Participating Countries: 20\n"
     ]
    }
   ],
   "source": [
    "def country_count(B, country_nodes):\n",
    "    deg_policy, deg_country = bipartite.degrees(B, country_nodes)\n",
    "    sum = 0\n",
    "    for c, d in deg_country:\n",
    "        if d > 0:\n",
    "            sum += 1\n",
    "    return sum\n",
    "print(\"Participating Countries:\", country_count(B, green_bond_country_nodes))"
   ]
  },
  {
   "attachments": {},
   "cell_type": "markdown",
   "metadata": {},
   "source": [
    "##### Analysis"
   ]
  },
  {
   "attachments": {},
   "cell_type": "markdown",
   "metadata": {},
   "source": [
    "Temporal graph creation:"
   ]
  },
  {
   "cell_type": "code",
   "execution_count": 96,
   "metadata": {},
   "outputs": [
    {
     "data": {
      "text/html": [
       "<div>\n",
       "<style scoped>\n",
       "    .dataframe tbody tr th:only-of-type {\n",
       "        vertical-align: middle;\n",
       "    }\n",
       "\n",
       "    .dataframe tbody tr th {\n",
       "        vertical-align: top;\n",
       "    }\n",
       "\n",
       "    .dataframe thead th {\n",
       "        text-align: right;\n",
       "    }\n",
       "</style>\n",
       "<table border=\"1\" class=\"dataframe\">\n",
       "  <thead>\n",
       "    <tr style=\"text-align: right;\">\n",
       "      <th></th>\n",
       "      <th>Year</th>\n",
       "      <th>Countries</th>\n",
       "      <th>Edges</th>\n",
       "    </tr>\n",
       "  </thead>\n",
       "  <tbody>\n",
       "    <tr>\n",
       "      <th>0</th>\n",
       "      <td>1985</td>\n",
       "      <td>2</td>\n",
       "      <td>2</td>\n",
       "    </tr>\n",
       "    <tr>\n",
       "      <th>1</th>\n",
       "      <td>1986</td>\n",
       "      <td>1</td>\n",
       "      <td>1</td>\n",
       "    </tr>\n",
       "    <tr>\n",
       "      <th>2</th>\n",
       "      <td>1987</td>\n",
       "      <td>1</td>\n",
       "      <td>1</td>\n",
       "    </tr>\n",
       "    <tr>\n",
       "      <th>3</th>\n",
       "      <td>1990</td>\n",
       "      <td>0</td>\n",
       "      <td>0</td>\n",
       "    </tr>\n",
       "    <tr>\n",
       "      <th>4</th>\n",
       "      <td>1991</td>\n",
       "      <td>1</td>\n",
       "      <td>1</td>\n",
       "    </tr>\n",
       "    <tr>\n",
       "      <th>5</th>\n",
       "      <td>1992</td>\n",
       "      <td>2</td>\n",
       "      <td>2</td>\n",
       "    </tr>\n",
       "    <tr>\n",
       "      <th>6</th>\n",
       "      <td>1993</td>\n",
       "      <td>2</td>\n",
       "      <td>2</td>\n",
       "    </tr>\n",
       "    <tr>\n",
       "      <th>7</th>\n",
       "      <td>1994</td>\n",
       "      <td>1</td>\n",
       "      <td>1</td>\n",
       "    </tr>\n",
       "    <tr>\n",
       "      <th>8</th>\n",
       "      <td>1999</td>\n",
       "      <td>1</td>\n",
       "      <td>1</td>\n",
       "    </tr>\n",
       "    <tr>\n",
       "      <th>9</th>\n",
       "      <td>2000</td>\n",
       "      <td>2</td>\n",
       "      <td>2</td>\n",
       "    </tr>\n",
       "    <tr>\n",
       "      <th>10</th>\n",
       "      <td>2002</td>\n",
       "      <td>2</td>\n",
       "      <td>2</td>\n",
       "    </tr>\n",
       "    <tr>\n",
       "      <th>11</th>\n",
       "      <td>2003</td>\n",
       "      <td>4</td>\n",
       "      <td>4</td>\n",
       "    </tr>\n",
       "    <tr>\n",
       "      <th>12</th>\n",
       "      <td>2004</td>\n",
       "      <td>1</td>\n",
       "      <td>1</td>\n",
       "    </tr>\n",
       "    <tr>\n",
       "      <th>13</th>\n",
       "      <td>2007</td>\n",
       "      <td>0</td>\n",
       "      <td>0</td>\n",
       "    </tr>\n",
       "    <tr>\n",
       "      <th>14</th>\n",
       "      <td>2008</td>\n",
       "      <td>1</td>\n",
       "      <td>1</td>\n",
       "    </tr>\n",
       "    <tr>\n",
       "      <th>15</th>\n",
       "      <td>2009</td>\n",
       "      <td>0</td>\n",
       "      <td>0</td>\n",
       "    </tr>\n",
       "    <tr>\n",
       "      <th>16</th>\n",
       "      <td>2010</td>\n",
       "      <td>1</td>\n",
       "      <td>1</td>\n",
       "    </tr>\n",
       "    <tr>\n",
       "      <th>17</th>\n",
       "      <td>2011</td>\n",
       "      <td>1</td>\n",
       "      <td>1</td>\n",
       "    </tr>\n",
       "    <tr>\n",
       "      <th>18</th>\n",
       "      <td>2012</td>\n",
       "      <td>4</td>\n",
       "      <td>4</td>\n",
       "    </tr>\n",
       "    <tr>\n",
       "      <th>19</th>\n",
       "      <td>2013</td>\n",
       "      <td>8</td>\n",
       "      <td>8</td>\n",
       "    </tr>\n",
       "    <tr>\n",
       "      <th>20</th>\n",
       "      <td>2014</td>\n",
       "      <td>18</td>\n",
       "      <td>18</td>\n",
       "    </tr>\n",
       "    <tr>\n",
       "      <th>21</th>\n",
       "      <td>2015</td>\n",
       "      <td>20</td>\n",
       "      <td>20</td>\n",
       "    </tr>\n",
       "    <tr>\n",
       "      <th>22</th>\n",
       "      <td>2016</td>\n",
       "      <td>31</td>\n",
       "      <td>32</td>\n",
       "    </tr>\n",
       "    <tr>\n",
       "      <th>23</th>\n",
       "      <td>2017</td>\n",
       "      <td>40</td>\n",
       "      <td>43</td>\n",
       "    </tr>\n",
       "    <tr>\n",
       "      <th>24</th>\n",
       "      <td>2018</td>\n",
       "      <td>42</td>\n",
       "      <td>48</td>\n",
       "    </tr>\n",
       "    <tr>\n",
       "      <th>25</th>\n",
       "      <td>2019</td>\n",
       "      <td>51</td>\n",
       "      <td>58</td>\n",
       "    </tr>\n",
       "    <tr>\n",
       "      <th>26</th>\n",
       "      <td>2020</td>\n",
       "      <td>55</td>\n",
       "      <td>61</td>\n",
       "    </tr>\n",
       "    <tr>\n",
       "      <th>27</th>\n",
       "      <td>2021</td>\n",
       "      <td>63</td>\n",
       "      <td>73</td>\n",
       "    </tr>\n",
       "  </tbody>\n",
       "</table>\n",
       "</div>"
      ],
      "text/plain": [
       "    Year  Countries  Edges\n",
       "0   1985          2      2\n",
       "1   1986          1      1\n",
       "2   1987          1      1\n",
       "3   1990          0      0\n",
       "4   1991          1      1\n",
       "5   1992          2      2\n",
       "6   1993          2      2\n",
       "7   1994          1      1\n",
       "8   1999          1      1\n",
       "9   2000          2      2\n",
       "10  2002          2      2\n",
       "11  2003          4      4\n",
       "12  2004          1      1\n",
       "13  2007          0      0\n",
       "14  2008          1      1\n",
       "15  2009          0      0\n",
       "16  2010          1      1\n",
       "17  2011          1      1\n",
       "18  2012          4      4\n",
       "19  2013          8      8\n",
       "20  2014         18     18\n",
       "21  2015         20     20\n",
       "22  2016         31     32\n",
       "23  2017         40     43\n",
       "24  2018         42     48\n",
       "25  2019         51     58\n",
       "26  2020         55     61\n",
       "27  2021         63     73"
      ]
     },
     "execution_count": 96,
     "metadata": {},
     "output_type": "execute_result"
    }
   ],
   "source": [
    "results = []\n",
    "for year in years:\n",
    "    B.remove_edges_from(B.edges)\n",
    "    B.add_weighted_edges_from(dict[year])\n",
    "    countries = country_count(B, green_bond_country_nodes) #participating countries\n",
    "    results.append({\"Year\": year, \"Countries\": countries, \"Edges\": B.number_of_edges()})\n",
    "pd.DataFrame(results)"
   ]
  },
  {
   "attachments": {},
   "cell_type": "markdown",
   "metadata": {},
   "source": [
    "Things to implement temporally: (loop through every year, show how these change)\n",
    "- number of nodes (remove those without any edges)\n",
    "- number of edges (weighted)\n",
    "- number of trianges -> metamorphis coefficient\n",
    "- change point detection\n",
    "- any other correlation measures\n",
    "\n",
    "Node based metrics:\n",
    "- harmonic, closeness, degree, & eigenvector centralities\n",
    "- you can show how it changes over time\n",
    "\n",
    "Clustering:\n",
    "- find out how to cluster bipartite graphs\n",
    "- change point detection"
   ]
  },
  {
   "attachments": {},
   "cell_type": "markdown",
   "metadata": {},
   "source": [
    "### Environmental Taxes"
   ]
  },
  {
   "attachments": {},
   "cell_type": "markdown",
   "metadata": {},
   "source": [
    "First lets load in the data and take a quick peak.  The final table is a table about how many measures each country implements."
   ]
  },
  {
   "cell_type": "code",
   "execution_count": 104,
   "metadata": {},
   "outputs": [
    {
     "name": "stdout",
     "output_type": "stream",
     "text": [
      "There are 124 unique countries that are implementing environmental taxes\n",
      "Each country typically reports 10 different measures, but there are a few that report less than 10 measures\n"
     ]
    },
    {
     "data": {
      "text/plain": [
       "10    118\n",
       "8       3\n",
       "6       1\n",
       "5       1\n",
       "4       1\n",
       "Name: Country, dtype: int64"
      ]
     },
     "execution_count": 104,
     "metadata": {},
     "output_type": "execute_result"
    }
   ],
   "source": [
    "taxes = pd.read_csv(\"input/policy/Environmental_Taxes.csv\")\n",
    "\n",
    "num_countries = len(taxes[\"Country\"].unique())\n",
    "print(f\"There are {num_countries} unique countries that are implementing environmental taxes\")\n",
    "print(\"Each country typically reports 10 different measures, but there are a few that report less than 10 measures\")\n",
    "\n",
    "taxes.Country.value_counts().value_counts()"
   ]
  },
  {
   "cell_type": "code",
   "execution_count": 105,
   "metadata": {},
   "outputs": [
    {
     "name": "stdout",
     "output_type": "stream",
     "text": [
      "Number of Countries: 124\n",
      "Number of Subsidies: 5\n"
     ]
    }
   ],
   "source": [
    "country_nodes = taxes.ISO2.unique()\n",
    "policy_nodes = taxes.CTS_Code.unique()\n",
    "print(\"Number of Countries:\", len(country_nodes))\n",
    "print(\"Number of Subsidies:\", len(policy_nodes))\n",
    "\n",
    "T = nx.Graph()\n",
    "T.add_nodes_from(country_nodes, bipartite=0)\n",
    "T.add_nodes_from(policy_nodes, bipartite=1)"
   ]
  },
  {
   "cell_type": "code",
   "execution_count": 106,
   "metadata": {},
   "outputs": [
    {
     "name": "stderr",
     "output_type": "stream",
     "text": [
      "/var/folders/pf/50hvlj9x3gq8h7y4md057b3r0000gn/T/ipykernel_95744/2768913331.py:8: DeprecationWarning: The truth value of an empty array is ambiguous. Returning False, but in future this will result in an error. Use `array.size > 0` to check that an array is not empty.\n",
      "  if weight > 0:\n"
     ]
    }
   ],
   "source": [
    "edges = []\n",
    "year = \"F2018\"\n",
    "taxes_sub = taxes[taxes.Unit == \"Percent of GDP\"]\n",
    "for country in country_nodes:\n",
    "    subset = taxes_sub[taxes_sub.ISO2 == country]\n",
    "    for policy in policy_nodes:\n",
    "        weight = subset[subset.CTS_Code == policy][year].values\n",
    "        if weight > 0:\n",
    "            edge = (country, policy, weight[0])\n",
    "            edges.append(edge)"
   ]
  },
  {
   "cell_type": "code",
   "execution_count": 107,
   "metadata": {},
   "outputs": [
    {
     "name": "stdout",
     "output_type": "stream",
     "text": [
      "Number of Edges: 415\n",
      "Number of Possible Edges: 620\n"
     ]
    }
   ],
   "source": [
    "T.add_weighted_edges_from(edges)\n",
    "print(\"Number of Edges:\", T.number_of_edges())\n",
    "print(\"Number of Possible Edges:\", len(country_nodes) * len(policy_nodes))"
   ]
  },
  {
   "attachments": {},
   "cell_type": "markdown",
   "metadata": {},
   "source": [
    "### Environmental Protection Expenditures"
   ]
  },
  {
   "cell_type": "code",
   "execution_count": 108,
   "metadata": {},
   "outputs": [
    {
     "data": {
      "text/html": [
       "<div>\n",
       "<style scoped>\n",
       "    .dataframe tbody tr th:only-of-type {\n",
       "        vertical-align: middle;\n",
       "    }\n",
       "\n",
       "    .dataframe tbody tr th {\n",
       "        vertical-align: top;\n",
       "    }\n",
       "\n",
       "    .dataframe thead th {\n",
       "        text-align: right;\n",
       "    }\n",
       "</style>\n",
       "<table border=\"1\" class=\"dataframe\">\n",
       "  <thead>\n",
       "    <tr style=\"text-align: right;\">\n",
       "      <th></th>\n",
       "      <th>Country</th>\n",
       "      <th>ISO2</th>\n",
       "      <th>ISO3</th>\n",
       "      <th>Indicator</th>\n",
       "      <th>Source</th>\n",
       "      <th>CTS_Code</th>\n",
       "      <th>CTS_Name</th>\n",
       "      <th>CTS_Full_Descriptor</th>\n",
       "      <th>Unit</th>\n",
       "      <th>F1995</th>\n",
       "      <th>...</th>\n",
       "      <th>F2012</th>\n",
       "      <th>F2013</th>\n",
       "      <th>F2014</th>\n",
       "      <th>F2015</th>\n",
       "      <th>F2016</th>\n",
       "      <th>F2017</th>\n",
       "      <th>F2018</th>\n",
       "      <th>F2019</th>\n",
       "      <th>F2020</th>\n",
       "      <th>F2021</th>\n",
       "    </tr>\n",
       "    <tr>\n",
       "      <th>ObjectId</th>\n",
       "      <th></th>\n",
       "      <th></th>\n",
       "      <th></th>\n",
       "      <th></th>\n",
       "      <th></th>\n",
       "      <th></th>\n",
       "      <th></th>\n",
       "      <th></th>\n",
       "      <th></th>\n",
       "      <th></th>\n",
       "      <th></th>\n",
       "      <th></th>\n",
       "      <th></th>\n",
       "      <th></th>\n",
       "      <th></th>\n",
       "      <th></th>\n",
       "      <th></th>\n",
       "      <th></th>\n",
       "      <th></th>\n",
       "      <th></th>\n",
       "      <th></th>\n",
       "    </tr>\n",
       "  </thead>\n",
       "  <tbody>\n",
       "    <tr>\n",
       "      <th>1</th>\n",
       "      <td>Afghanistan, Islamic Rep. of</td>\n",
       "      <td>AF</td>\n",
       "      <td>AFG</td>\n",
       "      <td>Expenditure on biodiversity &amp; landscape protec...</td>\n",
       "      <td>International Monetary Fund (IMF), Statistics ...</td>\n",
       "      <td>GENB_G14</td>\n",
       "      <td>Expenditure on Biodiversity &amp; Landscape Protec...</td>\n",
       "      <td>Government and Public Sector Finance, Expendit...</td>\n",
       "      <td>Domestic Currency</td>\n",
       "      <td>NaN</td>\n",
       "      <td>...</td>\n",
       "      <td>NaN</td>\n",
       "      <td>NaN</td>\n",
       "      <td>NaN</td>\n",
       "      <td>NaN</td>\n",
       "      <td>1.243785e+08</td>\n",
       "      <td>1.258269e+09</td>\n",
       "      <td>NaN</td>\n",
       "      <td>NaN</td>\n",
       "      <td>NaN</td>\n",
       "      <td>NaN</td>\n",
       "    </tr>\n",
       "    <tr>\n",
       "      <th>2</th>\n",
       "      <td>Afghanistan, Islamic Rep. of</td>\n",
       "      <td>AF</td>\n",
       "      <td>AFG</td>\n",
       "      <td>Expenditure on biodiversity &amp; landscape protec...</td>\n",
       "      <td>International Monetary Fund (IMF), Statistics ...</td>\n",
       "      <td>GENB_G14</td>\n",
       "      <td>Expenditure on Biodiversity &amp; Landscape Protec...</td>\n",
       "      <td>Government and Public Sector Finance, Expendit...</td>\n",
       "      <td>Percent of GDP</td>\n",
       "      <td>NaN</td>\n",
       "      <td>...</td>\n",
       "      <td>NaN</td>\n",
       "      <td>NaN</td>\n",
       "      <td>NaN</td>\n",
       "      <td>NaN</td>\n",
       "      <td>9.433491e-03</td>\n",
       "      <td>9.134202e-02</td>\n",
       "      <td>NaN</td>\n",
       "      <td>NaN</td>\n",
       "      <td>NaN</td>\n",
       "      <td>NaN</td>\n",
       "    </tr>\n",
       "    <tr>\n",
       "      <th>3</th>\n",
       "      <td>Afghanistan, Islamic Rep. of</td>\n",
       "      <td>AF</td>\n",
       "      <td>AFG</td>\n",
       "      <td>Expenditure on environment protection</td>\n",
       "      <td>International Monetary Fund (IMF), Statistics ...</td>\n",
       "      <td>GEN_G14</td>\n",
       "      <td>Environmental Protection Expenditures</td>\n",
       "      <td>Government and Public Sector Finance, Expendit...</td>\n",
       "      <td>Domestic Currency</td>\n",
       "      <td>NaN</td>\n",
       "      <td>...</td>\n",
       "      <td>2.846995e+09</td>\n",
       "      <td>3.344665e+09</td>\n",
       "      <td>2.204964e+09</td>\n",
       "      <td>1.122601e+09</td>\n",
       "      <td>1.702933e+09</td>\n",
       "      <td>2.377937e+09</td>\n",
       "      <td>NaN</td>\n",
       "      <td>NaN</td>\n",
       "      <td>NaN</td>\n",
       "      <td>NaN</td>\n",
       "    </tr>\n",
       "    <tr>\n",
       "      <th>4</th>\n",
       "      <td>Afghanistan, Islamic Rep. of</td>\n",
       "      <td>AF</td>\n",
       "      <td>AFG</td>\n",
       "      <td>Expenditure on environment protection</td>\n",
       "      <td>International Monetary Fund (IMF), Statistics ...</td>\n",
       "      <td>GEN_G14</td>\n",
       "      <td>Environmental Protection Expenditures</td>\n",
       "      <td>Government and Public Sector Finance, Expendit...</td>\n",
       "      <td>Percent of GDP</td>\n",
       "      <td>NaN</td>\n",
       "      <td>...</td>\n",
       "      <td>2.754469e-01</td>\n",
       "      <td>2.994793e-01</td>\n",
       "      <td>1.863813e-01</td>\n",
       "      <td>9.152359e-02</td>\n",
       "      <td>1.291590e-01</td>\n",
       "      <td>1.726226e-01</td>\n",
       "      <td>NaN</td>\n",
       "      <td>NaN</td>\n",
       "      <td>NaN</td>\n",
       "      <td>NaN</td>\n",
       "    </tr>\n",
       "    <tr>\n",
       "      <th>5</th>\n",
       "      <td>Afghanistan, Islamic Rep. of</td>\n",
       "      <td>AF</td>\n",
       "      <td>AFG</td>\n",
       "      <td>Expenditure on environmental protection n.e.c.</td>\n",
       "      <td>International Monetary Fund (IMF), Statistics ...</td>\n",
       "      <td>GENO_G14</td>\n",
       "      <td>Expenditure on Environmental Protection Not El...</td>\n",
       "      <td>Government and Public Sector Finance, Expendit...</td>\n",
       "      <td>Domestic Currency</td>\n",
       "      <td>NaN</td>\n",
       "      <td>...</td>\n",
       "      <td>NaN</td>\n",
       "      <td>NaN</td>\n",
       "      <td>NaN</td>\n",
       "      <td>NaN</td>\n",
       "      <td>9.669078e+07</td>\n",
       "      <td>8.846917e+07</td>\n",
       "      <td>NaN</td>\n",
       "      <td>NaN</td>\n",
       "      <td>NaN</td>\n",
       "      <td>NaN</td>\n",
       "    </tr>\n",
       "  </tbody>\n",
       "</table>\n",
       "<p>5 rows × 36 columns</p>\n",
       "</div>"
      ],
      "text/plain": [
       "                               Country ISO2 ISO3  \\\n",
       "ObjectId                                           \n",
       "1         Afghanistan, Islamic Rep. of   AF  AFG   \n",
       "2         Afghanistan, Islamic Rep. of   AF  AFG   \n",
       "3         Afghanistan, Islamic Rep. of   AF  AFG   \n",
       "4         Afghanistan, Islamic Rep. of   AF  AFG   \n",
       "5         Afghanistan, Islamic Rep. of   AF  AFG   \n",
       "\n",
       "                                                  Indicator  \\\n",
       "ObjectId                                                      \n",
       "1         Expenditure on biodiversity & landscape protec...   \n",
       "2         Expenditure on biodiversity & landscape protec...   \n",
       "3                     Expenditure on environment protection   \n",
       "4                     Expenditure on environment protection   \n",
       "5            Expenditure on environmental protection n.e.c.   \n",
       "\n",
       "                                                     Source  CTS_Code  \\\n",
       "ObjectId                                                                \n",
       "1         International Monetary Fund (IMF), Statistics ...  GENB_G14   \n",
       "2         International Monetary Fund (IMF), Statistics ...  GENB_G14   \n",
       "3         International Monetary Fund (IMF), Statistics ...   GEN_G14   \n",
       "4         International Monetary Fund (IMF), Statistics ...   GEN_G14   \n",
       "5         International Monetary Fund (IMF), Statistics ...  GENO_G14   \n",
       "\n",
       "                                                   CTS_Name  \\\n",
       "ObjectId                                                      \n",
       "1         Expenditure on Biodiversity & Landscape Protec...   \n",
       "2         Expenditure on Biodiversity & Landscape Protec...   \n",
       "3                     Environmental Protection Expenditures   \n",
       "4                     Environmental Protection Expenditures   \n",
       "5         Expenditure on Environmental Protection Not El...   \n",
       "\n",
       "                                        CTS_Full_Descriptor  \\\n",
       "ObjectId                                                      \n",
       "1         Government and Public Sector Finance, Expendit...   \n",
       "2         Government and Public Sector Finance, Expendit...   \n",
       "3         Government and Public Sector Finance, Expendit...   \n",
       "4         Government and Public Sector Finance, Expendit...   \n",
       "5         Government and Public Sector Finance, Expendit...   \n",
       "\n",
       "                       Unit  F1995  ...         F2012         F2013  \\\n",
       "ObjectId                            ...                               \n",
       "1         Domestic Currency    NaN  ...           NaN           NaN   \n",
       "2            Percent of GDP    NaN  ...           NaN           NaN   \n",
       "3         Domestic Currency    NaN  ...  2.846995e+09  3.344665e+09   \n",
       "4            Percent of GDP    NaN  ...  2.754469e-01  2.994793e-01   \n",
       "5         Domestic Currency    NaN  ...           NaN           NaN   \n",
       "\n",
       "                 F2014         F2015         F2016         F2017  F2018  \\\n",
       "ObjectId                                                                  \n",
       "1                  NaN           NaN  1.243785e+08  1.258269e+09    NaN   \n",
       "2                  NaN           NaN  9.433491e-03  9.134202e-02    NaN   \n",
       "3         2.204964e+09  1.122601e+09  1.702933e+09  2.377937e+09    NaN   \n",
       "4         1.863813e-01  9.152359e-02  1.291590e-01  1.726226e-01    NaN   \n",
       "5                  NaN           NaN  9.669078e+07  8.846917e+07    NaN   \n",
       "\n",
       "          F2019  F2020  F2021  \n",
       "ObjectId                       \n",
       "1           NaN    NaN    NaN  \n",
       "2           NaN    NaN    NaN  \n",
       "3           NaN    NaN    NaN  \n",
       "4           NaN    NaN    NaN  \n",
       "5           NaN    NaN    NaN  \n",
       "\n",
       "[5 rows x 36 columns]"
      ]
     },
     "execution_count": 108,
     "metadata": {},
     "output_type": "execute_result"
    }
   ],
   "source": [
    "expenditures = pd.read_csv(\"input/policy/Environmental_Protection_Expenditures.csv\", index_col=0, keep_default_na=False, na_values=\"\")\n",
    "expenditures.head(5)"
   ]
  },
  {
   "cell_type": "code",
   "execution_count": 109,
   "metadata": {},
   "outputs": [
    {
     "name": "stdout",
     "output_type": "stream",
     "text": [
      "Number of countries: 129\n",
      "Number of expenditures: 7\n"
     ]
    }
   ],
   "source": [
    "country_nodes = expenditures.ISO2.unique()\n",
    "policy_nodes = expenditures.CTS_Code.unique()\n",
    "print(\"Number of countries:\", len(country_nodes))\n",
    "print(\"Number of expenditures:\", len(policy_nodes))\n",
    "\n",
    "E = nx.Graph()\n",
    "E.add_nodes_from(country_nodes, bipartite=0)\n",
    "E.add_nodes_from(policy_nodes, bipartite=1)"
   ]
  },
  {
   "cell_type": "code",
   "execution_count": 110,
   "metadata": {},
   "outputs": [],
   "source": [
    "edges = []\n",
    "year = \"F2018\"\n",
    "\n",
    "exp_sub = expenditures[expenditures.Unit == \"Percent of GDP\"]\n",
    "for country in country_nodes:\n",
    "    subset = exp_sub[exp_sub.ISO2 == country]\n",
    "    for policy in policy_nodes:\n",
    "        weight = subset[subset.CTS_Code == policy][year].values\n",
    "        if weight.size > 0 and weight > 0:\n",
    "            edge = (country, policy, weight[0])\n",
    "            edges.append(edge)"
   ]
  },
  {
   "cell_type": "code",
   "execution_count": 111,
   "metadata": {},
   "outputs": [
    {
     "name": "stdout",
     "output_type": "stream",
     "text": [
      "Number of possible edges: 903\n",
      "Number of edges: 495\n"
     ]
    }
   ],
   "source": [
    "print(\"Number of possible edges:\", len(country_nodes) * len(policy_nodes))\n",
    "print(\"Number of edges:\", len(edges))"
   ]
  },
  {
   "attachments": {},
   "cell_type": "markdown",
   "metadata": {},
   "source": [
    "### Analysis"
   ]
  },
  {
   "cell_type": "code",
   "execution_count": 112,
   "metadata": {},
   "outputs": [
    {
     "name": "stdout",
     "output_type": "stream",
     "text": [
      "{'AR'}\n",
      "{'CA', 'NZ', 'AE', 'Green Bonds Issuances', 'GB', 'US', 'MX', 'FR', 'BR', 'CN', 'NL', 'EE', 'HK', 'DK', 'SE', 'NO', 'AU', 'IN', 'JP', 'DE', 'LV'}\n",
      "{'AT'}\n",
      "{'BD'}\n",
      "{'BE'}\n",
      "{'BM'}\n",
      "{'VG'}\n",
      "{'KY'}\n",
      "{'CL'}\n",
      "{'MO'}\n",
      "{'CO'}\n",
      "{'CR'}\n",
      "{'CZ'}\n",
      "{'EG'}\n",
      "{'FJ'}\n",
      "{'FI'}\n",
      "{'GE'}\n",
      "{'GR'}\n",
      "{'GG'}\n",
      "{'HU'}\n",
      "{'IS'}\n",
      "{'ID'}\n",
      "{'IE'}\n",
      "{'IL'}\n",
      "{'IT'}\n",
      "{'JE'}\n",
      "{'KR'}\n",
      "{'LI'}\n",
      "{'LT'}\n",
      "{'LU'}\n",
      "{'MY'}\n",
      "{'MH'}\n",
      "{'MU'}\n",
      "{'MA'}\n",
      "{'NA'}\n",
      "{'NG'}\n",
      "{'PK'}\n",
      "{'PA'}\n",
      "{'PE'}\n",
      "{'PH'}\n",
      "{'PL'}\n",
      "{'PT'}\n",
      "{'RO'}\n",
      "{'RU'}\n",
      "{'RS'}\n",
      "{'SC'}\n",
      "{'SG'}\n",
      "{'SK'}\n",
      "{'SI'}\n",
      "{'ZA'}\n",
      "{'ES'}\n",
      "{'CH'}\n",
      "{'TW'}\n",
      "{'TH'}\n",
      "{'TR'}\n",
      "{'UA'}\n",
      "{'VN'}\n",
      "{'Green Bonds'}\n"
     ]
    }
   ],
   "source": [
    "for comp in nx.connected_components(B):\n",
    "    print(comp)"
   ]
  }
 ],
 "metadata": {
  "kernelspec": {
   "display_name": "Python 3",
   "language": "python",
   "name": "python3"
  },
  "language_info": {
   "codemirror_mode": {
    "name": "ipython",
    "version": 3
   },
   "file_extension": ".py",
   "mimetype": "text/x-python",
   "name": "python",
   "nbconvert_exporter": "python",
   "pygments_lexer": "ipython3",
   "version": "3.9.6"
  },
  "orig_nbformat": 4,
  "vscode": {
   "interpreter": {
    "hash": "40d3a090f54c6569ab1632332b64b2c03c39dcf918b08424e98f38b5ae0af88f"
   }
  }
 },
 "nbformat": 4,
 "nbformat_minor": 2
}
