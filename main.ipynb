{
 "cells": [
  {
   "cell_type": "code",
   "execution_count": 2,
   "metadata": {},
   "outputs": [],
   "source": [
    "import pandas as pd\n",
    "import numpy as np\n",
    "import networkx as nx\n",
    "from networkx.algorithms import bipartite\n",
    "import matplotlib.pyplot as plt"
   ]
  },
  {
   "attachments": {},
   "cell_type": "markdown",
   "metadata": {},
   "source": [
    "# Fossil Fuel Subsidies"
   ]
  },
  {
   "attachments": {},
   "cell_type": "markdown",
   "metadata": {},
   "source": [
    "Note that we need to keep values titled \"NA\" because that's Namibia's ISO2 code. Also, Kosovo doesn't have an ISO3 so we can't use that."
   ]
  },
  {
   "cell_type": "code",
   "execution_count": 3,
   "metadata": {},
   "outputs": [
    {
     "data": {
      "text/html": [
       "<div>\n",
       "<style scoped>\n",
       "    .dataframe tbody tr th:only-of-type {\n",
       "        vertical-align: middle;\n",
       "    }\n",
       "\n",
       "    .dataframe tbody tr th {\n",
       "        vertical-align: top;\n",
       "    }\n",
       "\n",
       "    .dataframe thead th {\n",
       "        text-align: right;\n",
       "    }\n",
       "</style>\n",
       "<table border=\"1\" class=\"dataframe\">\n",
       "  <thead>\n",
       "    <tr style=\"text-align: right;\">\n",
       "      <th></th>\n",
       "      <th>Country</th>\n",
       "      <th>ISO2</th>\n",
       "      <th>ISO3</th>\n",
       "      <th>Indicator</th>\n",
       "      <th>Source</th>\n",
       "      <th>CTS_Code</th>\n",
       "      <th>CTS_Name</th>\n",
       "      <th>CTS_Full_Descriptor</th>\n",
       "      <th>Unit</th>\n",
       "      <th>F2015</th>\n",
       "      <th>F2016</th>\n",
       "      <th>F2017</th>\n",
       "      <th>F2018</th>\n",
       "      <th>F2019</th>\n",
       "      <th>F2020</th>\n",
       "      <th>F2021</th>\n",
       "      <th>F2022</th>\n",
       "      <th>F2023</th>\n",
       "      <th>F2024</th>\n",
       "      <th>F2025</th>\n",
       "    </tr>\n",
       "    <tr>\n",
       "      <th>ObjectId</th>\n",
       "      <th></th>\n",
       "      <th></th>\n",
       "      <th></th>\n",
       "      <th></th>\n",
       "      <th></th>\n",
       "      <th></th>\n",
       "      <th></th>\n",
       "      <th></th>\n",
       "      <th></th>\n",
       "      <th></th>\n",
       "      <th></th>\n",
       "      <th></th>\n",
       "      <th></th>\n",
       "      <th></th>\n",
       "      <th></th>\n",
       "      <th></th>\n",
       "      <th></th>\n",
       "      <th></th>\n",
       "      <th></th>\n",
       "      <th></th>\n",
       "    </tr>\n",
       "  </thead>\n",
       "  <tbody>\n",
       "    <tr>\n",
       "      <th>1</th>\n",
       "      <td>Afghanistan, Islamic Rep. of</td>\n",
       "      <td>AF</td>\n",
       "      <td>AFG</td>\n",
       "      <td>Explicit Fossil Fuel Subsidies - Coal</td>\n",
       "      <td>Parry, Ian; Black, Simon; Vernon, Nate. Septem...</td>\n",
       "      <td>ECGFTEC</td>\n",
       "      <td>Explicit; Coal</td>\n",
       "      <td>Environment, Climate Change, Government Policy...</td>\n",
       "      <td>Percent of GDP</td>\n",
       "      <td>0.0</td>\n",
       "      <td>0.0</td>\n",
       "      <td>0.0</td>\n",
       "      <td>0.000000</td>\n",
       "      <td>0.000000</td>\n",
       "      <td>0.000000</td>\n",
       "      <td>0.000000</td>\n",
       "      <td>0.000000</td>\n",
       "      <td>0.000000</td>\n",
       "      <td>0.000000</td>\n",
       "      <td>0.000000</td>\n",
       "    </tr>\n",
       "    <tr>\n",
       "      <th>2</th>\n",
       "      <td>Afghanistan, Islamic Rep. of</td>\n",
       "      <td>AF</td>\n",
       "      <td>AFG</td>\n",
       "      <td>Explicit Fossil Fuel Subsidies - Coal</td>\n",
       "      <td>Parry, Ian; Black, Simon; Vernon, Nate. Septem...</td>\n",
       "      <td>ECGFTEC</td>\n",
       "      <td>Explicit; Coal</td>\n",
       "      <td>Environment, Climate Change, Government Policy...</td>\n",
       "      <td>US Dollars</td>\n",
       "      <td>0.0</td>\n",
       "      <td>0.0</td>\n",
       "      <td>0.0</td>\n",
       "      <td>0.000000</td>\n",
       "      <td>0.000000</td>\n",
       "      <td>0.000000</td>\n",
       "      <td>0.000000</td>\n",
       "      <td>0.000000</td>\n",
       "      <td>0.000000</td>\n",
       "      <td>0.000000</td>\n",
       "      <td>0.000000</td>\n",
       "    </tr>\n",
       "    <tr>\n",
       "      <th>3</th>\n",
       "      <td>Afghanistan, Islamic Rep. of</td>\n",
       "      <td>AF</td>\n",
       "      <td>AFG</td>\n",
       "      <td>Explicit Fossil Fuel Subsidies - Electricity</td>\n",
       "      <td>Parry, Ian; Black, Simon; Vernon, Nate. Septem...</td>\n",
       "      <td>ECGFTET</td>\n",
       "      <td>Explicit; Electricity</td>\n",
       "      <td>Environment, Climate Change, Government Policy...</td>\n",
       "      <td>Percent of GDP</td>\n",
       "      <td>0.0</td>\n",
       "      <td>0.0</td>\n",
       "      <td>0.0</td>\n",
       "      <td>0.083287</td>\n",
       "      <td>0.375834</td>\n",
       "      <td>0.075661</td>\n",
       "      <td>0.252216</td>\n",
       "      <td>0.247982</td>\n",
       "      <td>0.270226</td>\n",
       "      <td>0.271118</td>\n",
       "      <td>0.245831</td>\n",
       "    </tr>\n",
       "  </tbody>\n",
       "</table>\n",
       "</div>"
      ],
      "text/plain": [
       "                               Country ISO2 ISO3   \n",
       "ObjectId                                           \n",
       "1         Afghanistan, Islamic Rep. of   AF  AFG  \\\n",
       "2         Afghanistan, Islamic Rep. of   AF  AFG   \n",
       "3         Afghanistan, Islamic Rep. of   AF  AFG   \n",
       "\n",
       "                                             Indicator   \n",
       "ObjectId                                                 \n",
       "1                Explicit Fossil Fuel Subsidies - Coal  \\\n",
       "2                Explicit Fossil Fuel Subsidies - Coal   \n",
       "3         Explicit Fossil Fuel Subsidies - Electricity   \n",
       "\n",
       "                                                     Source CTS_Code   \n",
       "ObjectId                                                               \n",
       "1         Parry, Ian; Black, Simon; Vernon, Nate. Septem...  ECGFTEC  \\\n",
       "2         Parry, Ian; Black, Simon; Vernon, Nate. Septem...  ECGFTEC   \n",
       "3         Parry, Ian; Black, Simon; Vernon, Nate. Septem...  ECGFTET   \n",
       "\n",
       "                       CTS_Name   \n",
       "ObjectId                          \n",
       "1                Explicit; Coal  \\\n",
       "2                Explicit; Coal   \n",
       "3         Explicit; Electricity   \n",
       "\n",
       "                                        CTS_Full_Descriptor            Unit   \n",
       "ObjectId                                                                      \n",
       "1         Environment, Climate Change, Government Policy...  Percent of GDP  \\\n",
       "2         Environment, Climate Change, Government Policy...      US Dollars   \n",
       "3         Environment, Climate Change, Government Policy...  Percent of GDP   \n",
       "\n",
       "          F2015  F2016  F2017     F2018     F2019     F2020     F2021   \n",
       "ObjectId                                                                \n",
       "1           0.0    0.0    0.0  0.000000  0.000000  0.000000  0.000000  \\\n",
       "2           0.0    0.0    0.0  0.000000  0.000000  0.000000  0.000000   \n",
       "3           0.0    0.0    0.0  0.083287  0.375834  0.075661  0.252216   \n",
       "\n",
       "             F2022     F2023     F2024     F2025  \n",
       "ObjectId                                          \n",
       "1         0.000000  0.000000  0.000000  0.000000  \n",
       "2         0.000000  0.000000  0.000000  0.000000  \n",
       "3         0.247982  0.270226  0.271118  0.245831  "
      ]
     },
     "execution_count": 3,
     "metadata": {},
     "output_type": "execute_result"
    }
   ],
   "source": [
    "subsidy = pd.read_csv('input/policy/Fossil_Fuel_Subsidies.csv', index_col=0, keep_default_na=False, na_values=\"\")\n",
    "subsidy.head(3)"
   ]
  },
  {
   "cell_type": "code",
   "execution_count": 4,
   "metadata": {},
   "outputs": [
    {
     "name": "stdout",
     "output_type": "stream",
     "text": [
      "Number of Countries: 197\n",
      "Number of Subsidies: 21\n"
     ]
    }
   ],
   "source": [
    "country_nodes = subsidy.ISO2.unique()\n",
    "policy_nodes = subsidy.CTS_Code.unique()\n",
    "print(\"Number of Countries:\", len(country_nodes))\n",
    "print(\"Number of Subsidies:\", len(policy_nodes))"
   ]
  },
  {
   "attachments": {},
   "cell_type": "markdown",
   "metadata": {},
   "source": [
    "Another question would be how do we create groups of subsidies. We'll call the fossil fuel subsidy bi-partite graph S."
   ]
  },
  {
   "cell_type": "code",
   "execution_count": 1,
   "metadata": {},
   "outputs": [
    {
     "ename": "NameError",
     "evalue": "name 'nx' is not defined",
     "output_type": "error",
     "traceback": [
      "\u001b[0;31m---------------------------------------------------------------------------\u001b[0m",
      "\u001b[0;31mNameError\u001b[0m                                 Traceback (most recent call last)",
      "Cell \u001b[0;32mIn[1], line 1\u001b[0m\n\u001b[0;32m----> 1\u001b[0m S \u001b[39m=\u001b[39m nx\u001b[39m.\u001b[39mGraph()\n\u001b[1;32m      2\u001b[0m S\u001b[39m.\u001b[39madd_nodes_from(country_nodes, bipartite\u001b[39m=\u001b[39m\u001b[39m0\u001b[39m)\n\u001b[1;32m      3\u001b[0m S\u001b[39m.\u001b[39madd_nodes_from(policy_nodes, bipartite\u001b[39m=\u001b[39m\u001b[39m1\u001b[39m)\n",
      "\u001b[0;31mNameError\u001b[0m: name 'nx' is not defined"
     ]
    }
   ],
   "source": [
    "S = nx.Graph()\n",
    "S.add_nodes_from(country_nodes, bipartite=0)\n",
    "S.add_nodes_from(policy_nodes, bipartite=1)"
   ]
  },
  {
   "attachments": {},
   "cell_type": "markdown",
   "metadata": {},
   "source": [
    "Note that the following countries do not have the Petroleum field. We'll simply not draw edges."
   ]
  },
  {
   "cell_type": "code",
   "execution_count": 21,
   "metadata": {},
   "outputs": [
    {
     "name": "stdout",
     "output_type": "stream",
     "text": [
      "AI 20\n",
      "{'Implicit; Petroleum'}\n",
      "MH 20\n",
      "{'Implicit; Petroleum'}\n",
      "PW 20\n",
      "{'Implicit; Petroleum'}\n",
      "SM 20\n",
      "{'Implicit; Petroleum'}\n",
      "TV 20\n",
      "{'Implicit; Petroleum'}\n"
     ]
    }
   ],
   "source": [
    "full = set(subsidy[subsidy.ISO2 == \"AF\"].CTS_Name)\n",
    "subsidy_sub = subsidy[subsidy.Unit == \"Percent of GDP\"]\n",
    "for country in country_nodes:\n",
    "    subset = subsidy_sub[subsidy_sub.ISO2 == country]\n",
    "    if len(subset) < 21:\n",
    "        print(country, len(subset))\n",
    "        partial = set(subsidy[subsidy.ISO2 == country].CTS_Name)\n",
    "        print(full - partial)"
   ]
  },
  {
   "attachments": {},
   "cell_type": "markdown",
   "metadata": {},
   "source": [
    "Loop through every country/policy combination and add an edge if the value for specified year was greater than 0."
   ]
  },
  {
   "cell_type": "code",
   "execution_count": 22,
   "metadata": {},
   "outputs": [
    {
     "name": "stdout",
     "output_type": "stream",
     "text": [
      "Number of Edges: 0\n",
      "Number of Possible Edges: 4137\n"
     ]
    }
   ],
   "source": [
    "print(\"Number of Edges:\", S.number_of_edges())\n",
    "print(\"Number of Possible Edges:\", len(country_nodes) * len(policy_nodes))"
   ]
  },
  {
   "attachments": {},
   "cell_type": "markdown",
   "metadata": {},
   "source": [
    "### Change Point Detection\n",
    "\n",
    "NEED TO FINISH"
   ]
  },
  {
   "attachments": {},
   "cell_type": "markdown",
   "metadata": {},
   "source": [
    "### Clustering\n",
    "\n",
    "NEED TO FINSIH"
   ]
  },
  {
   "attachments": {},
   "cell_type": "markdown",
   "metadata": {},
   "source": [
    "# Green Bonds"
   ]
  },
  {
   "attachments": {},
   "cell_type": "markdown",
   "metadata": {},
   "source": [
    "### Intro"
   ]
  },
  {
   "cell_type": "code",
   "execution_count": 23,
   "metadata": {},
   "outputs": [],
   "source": [
    "green_bonds = pd.read_csv(\"input/policy/Green_Bonds.csv\", index_col=0, keep_default_na=False, na_values=\"\")\n",
    "\n",
    "# Filtered Down to countries\n",
    "green_bonds = green_bonds[np.logical_not(green_bonds[\"ISO2\"].isna())]\n",
    "\n",
    "green_bond_country_nodes = green_bonds.ISO2.unique()\n",
    "# Need to figure out the differences between these bonds\n",
    "bonds_nodes = green_bonds[\"CTS_Name\"].unique()"
   ]
  },
  {
   "attachments": {},
   "cell_type": "markdown",
   "metadata": {},
   "source": [
    "Looks likes most years no one invested in bonds. Still very few countries invest in bonds but each year it seems the number increases."
   ]
  },
  {
   "cell_type": "code",
   "execution_count": 24,
   "metadata": {},
   "outputs": [
    {
     "data": {
      "image/png": "[encoded data removed]",
      "text/plain": [
       "<Figure size 640x480 with 1 Axes>"
      ]
     },
     "metadata": {},
     "output_type": "display_data"
    }
   ],
   "source": [
    "# Get the data\n",
    "num_countries = green_bonds[green_bonds.columns[12:]].count().to_list()\n",
    "years = [int(year[1:]) for year in green_bonds.columns[12:]]\n",
    "\n",
    "# Plot\n",
    "fig,ax = plt.subplots()\n",
    "ax.scatter(years, num_countries)\n",
    "ax.set_title(\"Number of Countries using Green Bonds by year\")\n",
    "ax.set_ylabel(\"Number of Countries\")\n",
    "ax.set_xlabel(\"Year\")\n",
    "\n",
    "plt.show()"
   ]
  },
  {
   "attachments": {},
   "cell_type": "markdown",
   "metadata": {},
   "source": [
    "Furthermore we can break the graph down into its two different categories"
   ]
  },
  {
   "cell_type": "code",
   "execution_count": 25,
   "metadata": {},
   "outputs": [
    {
     "data": {
      "image/png": "[encoded data removed]",
      "text/plain": [
       "<Figure size 640x480 with 1 Axes>"
      ]
     },
     "metadata": {},
     "output_type": "display_data"
    }
   ],
   "source": [
    "# Get the data\n",
    "issuances = green_bonds[green_bonds[\"CTS_Name\"] == \"Green Bonds Issuances\"]\n",
    "\n",
    "\n",
    "# Calculate Variables\n",
    "issuance_count = issuances[issuances.columns[12:]].count()\n",
    "nonissuance_count = num_countries - issuance_count\n",
    "y = np.vstack([nonissuance_count, issuance_count])\n",
    "\n",
    "# Plot\n",
    "fig,ax = plt.subplots()\n",
    "# Using years var from last cell\n",
    "ax.stackplot(years, y, labels = [\"Nonissuance Green Bonds\", \"Issuance Green Bonds\",])\n",
    "ax.set_title(\"Number of Countries using Green Bonds by year\")\n",
    "ax.set_ylabel(\"Number of Countries\")\n",
    "ax.set_xlabel(\"Year\")\n",
    "ax.legend(loc = \"upper left\")\n",
    "\n",
    "plt.show()"
   ]
  },
  {
   "cell_type": "code",
   "execution_count": 26,
   "metadata": {},
   "outputs": [
    {
     "data": {
      "image/png": "[encoded data removed]",
      "text/plain": [
       "<Figure size 640x480 with 1 Axes>"
      ]
     },
     "metadata": {},
     "output_type": "display_data"
    }
   ],
   "source": [
    "# Get the data\n",
    "issuances = green_bonds[green_bonds[\"CTS_Name\"] == \"Green Bonds Issuances\"]\n",
    "nonissuances = green_bonds[green_bonds[\"CTS_Name\"] == \"Green Bonds\"]\n",
    "\n",
    "# Calculate Variables\n",
    "issuance_money = issuances[issuances.columns[12:]].fillna(0).sum()\n",
    "nonissuance_money = nonissuances[nonissuances.columns[12:]].fillna(0).sum()\n",
    "y = np.vstack([nonissuance_money, issuance_money])\n",
    "\n",
    "# Plot\n",
    "fig,ax = plt.subplots()\n",
    "# Using years var from last cell\n",
    "ax.stackplot(years, y, labels = [\"Nonissuance Green Bonds\", \"Issuance Green Bonds\",])\n",
    "ax.set_title(\"Number of Countries using Green Bonds by year\")\n",
    "ax.set_ylabel(\"Number of Countries\")\n",
    "ax.set_xlabel(\"Year\")\n",
    "ax.legend(loc = \"upper left\")\n",
    "\n",
    "plt.show()"
   ]
  },
  {
   "attachments": {},
   "cell_type": "markdown",
   "metadata": {},
   "source": [
    "### Graph Building"
   ]
  },
  {
   "attachments": {},
   "cell_type": "markdown",
   "metadata": {},
   "source": [
    "Initializing the nodes in our bipartite graph. Country nodes are on the left and green bond policies are on the right."
   ]
  },
  {
   "cell_type": "code",
   "execution_count": 27,
   "metadata": {},
   "outputs": [],
   "source": [
    "B = nx.Graph()\n",
    "B.add_nodes_from(green_bond_country_nodes, bipartite=0)\n",
    "B.add_nodes_from(bonds_nodes, bipartite=1)"
   ]
  },
  {
   "attachments": {},
   "cell_type": "markdown",
   "metadata": {},
   "source": [
    "We are creating the edge_lists for every single year. This can allow for quick creation of graphs for any specific year."
   ]
  },
  {
   "cell_type": "code",
   "execution_count": 28,
   "metadata": {},
   "outputs": [],
   "source": [
    "green_bonds_temp = green_bonds.set_index([\"ISO2\", \"CTS_Name\"], inplace = False)\n",
    "green_bond_years = []\n",
    "green_bond_dict = {}\n",
    "\n",
    "for year in green_bonds.columns[12:]: #create edge lists for each year\n",
    "    edge_list = []\n",
    "    for country in green_bond_country_nodes: #find every country-bond combo\n",
    "        subset = green_bonds_temp.loc[country]\n",
    "        for bond in subset.index: #bond\n",
    "            weight = subset.loc[bond][year] #edge weights are bond values\n",
    "            if weight > 0:\n",
    "                edge = (country, bond, weight) #create edge\n",
    "                edge_list.append(edge)\n",
    "    # Take out years with no policies\n",
    "    if not (len(edge_list) == 0):\n",
    "        green_bond_years.append(int(year[1:]))\n",
    "        green_bond_dict[int(year[1:])] = edge_list\n",
    "\n"
   ]
  },
  {
   "attachments": {},
   "cell_type": "markdown",
   "metadata": {},
   "source": [
    "Let's create a graph for 2015 and see what it looks like:"
   ]
  },
  {
   "cell_type": "code",
   "execution_count": 29,
   "metadata": {},
   "outputs": [
    {
     "name": "stdout",
     "output_type": "stream",
     "text": [
      "Number of Edges: 20\n",
      "Number of Possible Edges: 152\n"
     ]
    }
   ],
   "source": [
    "B.remove_edges_from(B.edges)\n",
    "B.add_weighted_edges_from(green_bond_dict[2015])\n",
    "print(\"Number of Edges:\", B.number_of_edges())\n",
    "print(\"Number of Possible Edges:\", len(green_bond_country_nodes) * len(bonds_nodes))"
   ]
  },
  {
   "attachments": {},
   "cell_type": "markdown",
   "metadata": {},
   "source": [
    "Let's also create a method to see the number of countries implementing any policies at all:"
   ]
  },
  {
   "cell_type": "code",
   "execution_count": 30,
   "metadata": {},
   "outputs": [
    {
     "name": "stdout",
     "output_type": "stream",
     "text": [
      "Participating Countries: 20\n"
     ]
    }
   ],
   "source": [
    "def country_count(B, country_nodes):\n",
    "    deg_policy, deg_country = bipartite.degrees(B, country_nodes)\n",
    "    sum = 0\n",
    "    for c, d in deg_country:\n",
    "        if d > 0:\n",
    "            sum += 1\n",
    "    return sum\n",
    "print(\"Participating Countries:\", country_count(B, green_bond_country_nodes))"
   ]
  },
  {
   "attachments": {},
   "cell_type": "markdown",
   "metadata": {},
   "source": [
    "### Change Point Detection:"
   ]
  },
  {
   "cell_type": "code",
   "execution_count": 32,
   "metadata": {},
   "outputs": [
    {
     "name": "stderr",
     "output_type": "stream",
     "text": [
      "<class 'networkx.utils.decorators.argmap'> compilation 4:4: FutureWarning: normalized_laplacian_matrix will return a scipy.sparse array instead of a matrix in Networkx 3.0.\n",
      "  import inspect\n"
     ]
    }
   ],
   "source": [
    "windowSize = 6\n",
    "\n",
    "\n",
    "def change_point_detection(windowSize, G, years, edge_dict):\n",
    "\n",
    "    dict_signatures = {}\n",
    "    for year in years:\n",
    "        G.remove_edges_from(G.edges)\n",
    "        G.add_weighted_edges_from(edge_dict[year])\n",
    "\n",
    "\n",
    "        # Create the signless Laplacian but found the normalized laplacian to be better\n",
    "        # A = nx.adjacency_matrix(B)\n",
    "        # D = np.diag(nx.laplacian_matrix(B).diagonal())\n",
    "\n",
    "        laplacian = nx.normalized_laplacian_matrix(G).toarray()\n",
    "        singular_values = np.linalg.svd(laplacian)[1]\n",
    "        l2_norm = np.linalg.norm(singular_values, ord = 2)\n",
    "        norm_singluar_values = singular_values / l2_norm\n",
    "\n",
    "        dict_signatures[year] = norm_singluar_values\n",
    "\n",
    "    window_dicts = {}\n",
    "    for i in range(len(years) - windowSize):\n",
    "        year_subset = years[i:i+windowSize]\n",
    "\n",
    "        # Choose one random signature to start our weights_avg\n",
    "        weights_avg = np.zeros(dict_signatures[2018].shape)\n",
    "\n",
    "        for year in year_subset:\n",
    "            weights_avg += dict_signatures[year] * (1/windowSize)\n",
    "\n",
    "        window_dicts[years[windowSize + i]] = weights_avg / np.linalg.norm(weights_avg, ord = 2)\n",
    "\n",
    "\n",
    "    Z_list = []\n",
    "    year_list = []\n",
    "\n",
    "    for year in window_dicts.keys():\n",
    "        baseline = window_dicts[year]\n",
    "        single_year = dict_signatures[year]\n",
    "        Z = 1-np.transpose(single_year) @ baseline\n",
    "\n",
    "        Z_list.append(Z)\n",
    "        year_list.append(year)\n",
    "\n",
    "    return [Z_list, year_list]\n",
    "    \n",
    "Z_list, year_list = change_point_detection(windowSize, B, green_bond_years, green_bond_dict)\n",
    "\n",
    "    \n"
   ]
  },
  {
   "attachments": {},
   "cell_type": "markdown",
   "metadata": {},
   "source": [
    "Successfully was able to show that the biggest change was in 2010s. Need to update method to take out laplacians that are 0, but I feel like this is important information."
   ]
  },
  {
   "cell_type": "code",
   "execution_count": 33,
   "metadata": {},
   "outputs": [
    {
     "data": {
      "image/png": "[encoded data removed]",
      "text/plain": [
       "<Figure size 640x480 with 1 Axes>"
      ]
     },
     "metadata": {},
     "output_type": "display_data"
    }
   ],
   "source": [
    "fig,ax = plt.subplots()\n",
    "# Using years var from last cell\n",
    "ax.plot(year_list, Z_list)\n",
    "ax.set_title(\"Change Point Detection for Green Bonds \\n Window of 6 years\")\n",
    "ax.set_ylabel(\"Change Value\")\n",
    "ax.set_xlabel(\"Year\")\n",
    "\n",
    "plt.show()\n"
   ]
  },
  {
   "attachments": {},
   "cell_type": "markdown",
   "metadata": {},
   "source": [
    "### Analysis"
   ]
  },
  {
   "attachments": {},
   "cell_type": "markdown",
   "metadata": {},
   "source": [
    "Temporal graph creation:"
   ]
  },
  {
   "cell_type": "code",
   "execution_count": 34,
   "metadata": {},
   "outputs": [
    {
     "ename": "ValueError",
     "evalue": "not enough values to unpack (expected 3, got 1)",
     "output_type": "error",
     "traceback": [
      "\u001b[0;31m---------------------------------------------------------------------------\u001b[0m",
      "\u001b[0;31mValueError\u001b[0m                                Traceback (most recent call last)",
      "Cell \u001b[0;32mIn[34], line 4\u001b[0m\n\u001b[1;32m      2\u001b[0m \u001b[39mfor\u001b[39;00m year \u001b[39min\u001b[39;00m green_bond_years:\n\u001b[1;32m      3\u001b[0m     B\u001b[39m.\u001b[39mremove_edges_from(B\u001b[39m.\u001b[39medges)\n\u001b[0;32m----> 4\u001b[0m     B\u001b[39m.\u001b[39;49madd_weighted_edges_from(\u001b[39mdict\u001b[39;49m[year])\n\u001b[1;32m      5\u001b[0m     countries \u001b[39m=\u001b[39m country_count(B, green_bond_country_nodes) \u001b[39m#participating countries\u001b[39;00m\n\u001b[1;32m      6\u001b[0m     results\u001b[39m.\u001b[39mappend({\u001b[39m\"\u001b[39m\u001b[39mYear\u001b[39m\u001b[39m\"\u001b[39m: year, \u001b[39m\"\u001b[39m\u001b[39mCountries\u001b[39m\u001b[39m\"\u001b[39m: countries, \u001b[39m\"\u001b[39m\u001b[39mEdges\u001b[39m\u001b[39m\"\u001b[39m: B\u001b[39m.\u001b[39mnumber_of_edges()})\n",
      "File \u001b[0;32m~/opt/miniconda3/envs/climate_policy_network_sci/lib/python3.11/site-packages/networkx/classes/graph.py:987\u001b[0m, in \u001b[0;36mGraph.add_weighted_edges_from\u001b[0;34m(self, ebunch_to_add, weight, **attr)\u001b[0m\n\u001b[1;32m    957\u001b[0m \u001b[39mdef\u001b[39;00m \u001b[39madd_weighted_edges_from\u001b[39m(\u001b[39mself\u001b[39m, ebunch_to_add, weight\u001b[39m=\u001b[39m\u001b[39m\"\u001b[39m\u001b[39mweight\u001b[39m\u001b[39m\"\u001b[39m, \u001b[39m*\u001b[39m\u001b[39m*\u001b[39mattr):\n\u001b[1;32m    958\u001b[0m \u001b[39m    \u001b[39m\u001b[39m\"\"\"Add weighted edges in `ebunch_to_add` with specified weight attr\u001b[39;00m\n\u001b[1;32m    959\u001b[0m \n\u001b[1;32m    960\u001b[0m \u001b[39m    Parameters\u001b[39;00m\n\u001b[0;32m   (...)\u001b[0m\n\u001b[1;32m    985\u001b[0m \u001b[39m    >>> G.add_weighted_edges_from([(0, 1, 3.0), (1, 2, 7.5)])\u001b[39;00m\n\u001b[1;32m    986\u001b[0m \u001b[39m    \"\"\"\u001b[39;00m\n\u001b[0;32m--> 987\u001b[0m     \u001b[39mself\u001b[39;49m\u001b[39m.\u001b[39;49madd_edges_from(((u, v, {weight: d}) \u001b[39mfor\u001b[39;49;00m u, v, d \u001b[39min\u001b[39;49;00m ebunch_to_add), \u001b[39m*\u001b[39;49m\u001b[39m*\u001b[39;49mattr)\n",
      "File \u001b[0;32m~/opt/miniconda3/envs/climate_policy_network_sci/lib/python3.11/site-packages/networkx/classes/graph.py:932\u001b[0m, in \u001b[0;36mGraph.add_edges_from\u001b[0;34m(self, ebunch_to_add, **attr)\u001b[0m\n\u001b[1;32m    894\u001b[0m \u001b[39mdef\u001b[39;00m \u001b[39madd_edges_from\u001b[39m(\u001b[39mself\u001b[39m, ebunch_to_add, \u001b[39m*\u001b[39m\u001b[39m*\u001b[39mattr):\n\u001b[1;32m    895\u001b[0m \u001b[39m    \u001b[39m\u001b[39m\"\"\"Add all the edges in ebunch_to_add.\u001b[39;00m\n\u001b[1;32m    896\u001b[0m \n\u001b[1;32m    897\u001b[0m \u001b[39m    Parameters\u001b[39;00m\n\u001b[0;32m   (...)\u001b[0m\n\u001b[1;32m    930\u001b[0m \u001b[39m    >>> G.add_edges_from([(3, 4), (1, 4)], label=\"WN2898\")\u001b[39;00m\n\u001b[1;32m    931\u001b[0m \u001b[39m    \"\"\"\u001b[39;00m\n\u001b[0;32m--> 932\u001b[0m     \u001b[39mfor\u001b[39;00m e \u001b[39min\u001b[39;00m ebunch_to_add:\n\u001b[1;32m    933\u001b[0m         ne \u001b[39m=\u001b[39m \u001b[39mlen\u001b[39m(e)\n\u001b[1;32m    934\u001b[0m         \u001b[39mif\u001b[39;00m ne \u001b[39m==\u001b[39m \u001b[39m3\u001b[39m:\n",
      "File \u001b[0;32m~/opt/miniconda3/envs/climate_policy_network_sci/lib/python3.11/site-packages/networkx/classes/graph.py:987\u001b[0m, in \u001b[0;36m<genexpr>\u001b[0;34m(.0)\u001b[0m\n\u001b[1;32m    957\u001b[0m \u001b[39mdef\u001b[39;00m \u001b[39madd_weighted_edges_from\u001b[39m(\u001b[39mself\u001b[39m, ebunch_to_add, weight\u001b[39m=\u001b[39m\u001b[39m\"\u001b[39m\u001b[39mweight\u001b[39m\u001b[39m\"\u001b[39m, \u001b[39m*\u001b[39m\u001b[39m*\u001b[39mattr):\n\u001b[1;32m    958\u001b[0m \u001b[39m    \u001b[39m\u001b[39m\"\"\"Add weighted edges in `ebunch_to_add` with specified weight attr\u001b[39;00m\n\u001b[1;32m    959\u001b[0m \n\u001b[1;32m    960\u001b[0m \u001b[39m    Parameters\u001b[39;00m\n\u001b[0;32m   (...)\u001b[0m\n\u001b[1;32m    985\u001b[0m \u001b[39m    >>> G.add_weighted_edges_from([(0, 1, 3.0), (1, 2, 7.5)])\u001b[39;00m\n\u001b[1;32m    986\u001b[0m \u001b[39m    \"\"\"\u001b[39;00m\n\u001b[0;32m--> 987\u001b[0m     \u001b[39mself\u001b[39m\u001b[39m.\u001b[39madd_edges_from(((u, v, {weight: d}) \u001b[39mfor\u001b[39;00m u, v, d \u001b[39min\u001b[39;00m ebunch_to_add), \u001b[39m*\u001b[39m\u001b[39m*\u001b[39mattr)\n",
      "\u001b[0;31mValueError\u001b[0m: not enough values to unpack (expected 3, got 1)"
     ]
    }
   ],
   "source": [
    "results = []\n",
    "for year in green_bond_years:\n",
    "    B.remove_edges_from(B.edges)\n",
    "    B.add_weighted_edges_from(dict[year])\n",
    "    countries = country_count(B, green_bond_country_nodes) #participating countries\n",
    "    results.append({\"Year\": year, \"Countries\": countries, \"Edges\": B.number_of_edges()})\n",
    "pd.DataFrame(results)"
   ]
  },
  {
   "attachments": {},
   "cell_type": "markdown",
   "metadata": {},
   "source": [
    "Things to implement temporally: (loop through every year, show how these change)\n",
    "- number of nodes (remove those without any edges)\n",
    "- number of edges (weighted)\n",
    "- number of trianges -> metamorphis coefficient\n",
    "- change point detection\n",
    "- any other correlation measures\n",
    "\n",
    "Node based metrics:\n",
    "- harmonic, closeness, degree, & eigenvector centralities\n",
    "- you can show how it changes over time\n",
    "\n",
    "Clustering:\n",
    "- find out how to cluster bipartite graphs\n",
    "- change point detection"
   ]
  },
  {
   "attachments": {},
   "cell_type": "markdown",
   "metadata": {},
   "source": [
    "### Clustering"
   ]
  },
  {
   "attachments": {},
   "cell_type": "markdown",
   "metadata": {},
   "source": [
    "This code maps each policy and country to its corresponding numerical id that will be used in the BINE code"
   ]
  },
  {
   "cell_type": "code",
   "execution_count": 35,
   "metadata": {},
   "outputs": [],
   "source": [
    "green_bond_node_mapping = {}\n",
    "\n",
    "# Mapping for contries\n",
    "i = 0\n",
    "for country in green_bonds[\"ISO2\"].unique():\n",
    "    green_bond_node_mapping[country] = f\"u{i}\"\n",
    "    i += 1\n",
    "\n",
    "# Mapping for policies\n",
    "j = 0\n",
    "for policy in green_bonds[\"CTS_Name\"].unique():\n",
    "    green_bond_node_mapping[policy] = f\"i{j}\"\n",
    "    j += 1\n",
    "\n",
    "# Reverses the mapping to be id to name\n",
    "inv_green_bond_mapping = {v: k for k, v in green_bond_node_mapping.items()}"
   ]
  },
  {
   "attachments": {},
   "cell_type": "markdown",
   "metadata": {},
   "source": [
    "There are 2 parts to the next code block:\n",
    "\n",
    "1. First, we create edgelists for each graph in a format the BINE algorithm can read\n",
    "1. Second we read each edgelist and create a command to run in the terminal that obtains the BINE embeddings\n",
    "\n",
    "Note: The reason we have to write these commands to a new text file is because we need to run an old version of python for BINE algorithm to work."
   ]
  },
  {
   "cell_type": "code",
   "execution_count": 36,
   "metadata": {},
   "outputs": [],
   "source": [
    "import os\n",
    "\n",
    "# Create graphs BINE can read\n",
    "for year in green_bond_years:\n",
    "    B.remove_edges_from(B.edges)\n",
    "    B.add_weighted_edges_from(green_bond_dict[year])\n",
    "\n",
    "    # Relabels our graph from name to id to work on BINE code\n",
    "    B_integer = nx.relabel_nodes(B, green_bond_node_mapping)\n",
    "\n",
    "    fileName = f\"BiNE-master/data/greenbonds/greenbonds_{year}_edgelist.dat\"\n",
    "    nx.write_weighted_edgelist(B_integer, fileName, delimiter = \"\\t\")\n",
    "\n",
    "# Create commands to run BINE file.\n",
    "with open(\"Green_bond_commands.txt\", \"w\") as f:\n",
    "    for year in green_bond_years:\n",
    "        command = f\"python train.py --train-data ../data/greenbonds/greenbonds_{year}_edgelist.dat --lam 0.025 --d 10 --max-iter 100 --large 2 --vectors-u ../data/greenbonds/vectors_u_{year}.dat --vectors-v ../data/greenbonds/vectors_v_{year}.dat &&\"\n",
    "        f.write(command)\n"
   ]
  },
  {
   "attachments": {},
   "cell_type": "markdown",
   "metadata": {},
   "source": [
    "Now that we have feature representations of our countries we can complete a cluster analysis with them. \n",
    "\n",
    "Between the code block above and the code block below, we must run the commands file to obtain all the BINE embeddings. After we obtain the BINE embeddings, we then can read them into a pandas file for simple analysis."
   ]
  },
  {
   "cell_type": "code",
   "execution_count": 37,
   "metadata": {},
   "outputs": [],
   "source": [
    "bine_embeddings_bonds_dict = {}\n",
    "\n",
    "for year in green_bond_years:\n",
    "\n",
    "    out_mat = []\n",
    "    cols = []\n",
    "    countries = []\n",
    "\n",
    "    # This code is only opening the BINE embeddings for a specific year.\n",
    "    with open(f\"BiNE-master/data/greenbonds/vectors_u_{year}.dat\", \"r\") as f:\n",
    "        for line in f:\n",
    "            data = line.split()\n",
    "\n",
    "            # Parses what country our embedding is of.\n",
    "            countries.append(data[0])\n",
    "\n",
    "            # Obtains the embedding for country\n",
    "            values = [float(elt) for elt in data[1:]]\n",
    "\n",
    "            # Reshapes the embedding\n",
    "            col = np.array(values).reshape((len(values),1))\n",
    "            cols.append(col)\n",
    "\n",
    "        out_mat = np.concatenate(cols, axis =1)\n",
    "\n",
    "    # Changes ids of countries to their actual country names\n",
    "    country_names = [inv_green_bond_mapping[country] for country in countries]\n",
    "\n",
    "    pandas_bine_embeddings_bonds = pd.DataFrame(out_mat, columns = country_names)\n",
    "\n",
    "    bine_embeddings_bonds_dict[year] = pandas_bine_embeddings_bonds"
   ]
  },
  {
   "attachments": {},
   "cell_type": "markdown",
   "metadata": {},
   "source": [
    "Lets view what each embedding looks like for each country"
   ]
  },
  {
   "cell_type": "code",
   "execution_count": 38,
   "metadata": {},
   "outputs": [
    {
     "data": {
      "text/html": [
       "<div>\n",
       "<style scoped>\n",
       "    .dataframe tbody tr th:only-of-type {\n",
       "        vertical-align: middle;\n",
       "    }\n",
       "\n",
       "    .dataframe tbody tr th {\n",
       "        vertical-align: top;\n",
       "    }\n",
       "\n",
       "    .dataframe thead th {\n",
       "        text-align: right;\n",
       "    }\n",
       "</style>\n",
       "<table border=\"1\" class=\"dataframe\">\n",
       "  <thead>\n",
       "    <tr style=\"text-align: right;\">\n",
       "      <th></th>\n",
       "      <th>TW</th>\n",
       "      <th>TH</th>\n",
       "      <th>UA</th>\n",
       "      <th>GB</th>\n",
       "      <th>SG</th>\n",
       "      <th>SK</th>\n",
       "      <th>ZA</th>\n",
       "      <th>ES</th>\n",
       "      <th>SE</th>\n",
       "      <th>CH</th>\n",
       "      <th>...</th>\n",
       "      <th>GG</th>\n",
       "      <th>HU</th>\n",
       "      <th>FI</th>\n",
       "      <th>FR</th>\n",
       "      <th>GE</th>\n",
       "      <th>NZ</th>\n",
       "      <th>LI</th>\n",
       "      <th>IS</th>\n",
       "      <th>IN</th>\n",
       "      <th>PH</th>\n",
       "    </tr>\n",
       "  </thead>\n",
       "  <tbody>\n",
       "    <tr>\n",
       "      <th>0</th>\n",
       "      <td>0.360465</td>\n",
       "      <td>0.191613</td>\n",
       "      <td>0.374990</td>\n",
       "      <td>0.366984</td>\n",
       "      <td>0.326026</td>\n",
       "      <td>0.019438</td>\n",
       "      <td>0.300085</td>\n",
       "      <td>0.437258</td>\n",
       "      <td>0.177176</td>\n",
       "      <td>0.275612</td>\n",
       "      <td>...</td>\n",
       "      <td>0.435629</td>\n",
       "      <td>0.174318</td>\n",
       "      <td>0.399621</td>\n",
       "      <td>0.825742</td>\n",
       "      <td>0.219181</td>\n",
       "      <td>0.611400</td>\n",
       "      <td>0.074630</td>\n",
       "      <td>0.589186</td>\n",
       "      <td>0.217322</td>\n",
       "      <td>0.411551</td>\n",
       "    </tr>\n",
       "    <tr>\n",
       "      <th>1</th>\n",
       "      <td>0.444382</td>\n",
       "      <td>0.359464</td>\n",
       "      <td>0.514755</td>\n",
       "      <td>0.412164</td>\n",
       "      <td>0.370195</td>\n",
       "      <td>0.099489</td>\n",
       "      <td>0.357959</td>\n",
       "      <td>0.582137</td>\n",
       "      <td>0.595769</td>\n",
       "      <td>0.102700</td>\n",
       "      <td>...</td>\n",
       "      <td>0.095939</td>\n",
       "      <td>0.136924</td>\n",
       "      <td>0.089223</td>\n",
       "      <td>0.473211</td>\n",
       "      <td>0.300738</td>\n",
       "      <td>0.110892</td>\n",
       "      <td>0.141813</td>\n",
       "      <td>0.132007</td>\n",
       "      <td>0.531118</td>\n",
       "      <td>0.006947</td>\n",
       "    </tr>\n",
       "    <tr>\n",
       "      <th>2</th>\n",
       "      <td>0.291791</td>\n",
       "      <td>0.462747</td>\n",
       "      <td>0.215559</td>\n",
       "      <td>0.288005</td>\n",
       "      <td>0.097702</td>\n",
       "      <td>0.224796</td>\n",
       "      <td>0.267987</td>\n",
       "      <td>0.138990</td>\n",
       "      <td>0.152244</td>\n",
       "      <td>0.186718</td>\n",
       "      <td>...</td>\n",
       "      <td>0.515764</td>\n",
       "      <td>0.472511</td>\n",
       "      <td>0.494365</td>\n",
       "      <td>0.488093</td>\n",
       "      <td>0.216870</td>\n",
       "      <td>0.022645</td>\n",
       "      <td>0.310646</td>\n",
       "      <td>0.056521</td>\n",
       "      <td>0.129541</td>\n",
       "      <td>0.341459</td>\n",
       "    </tr>\n",
       "    <tr>\n",
       "      <th>3</th>\n",
       "      <td>0.189160</td>\n",
       "      <td>0.089318</td>\n",
       "      <td>0.445759</td>\n",
       "      <td>0.600941</td>\n",
       "      <td>0.465359</td>\n",
       "      <td>0.465045</td>\n",
       "      <td>0.389689</td>\n",
       "      <td>0.474116</td>\n",
       "      <td>0.543860</td>\n",
       "      <td>0.312516</td>\n",
       "      <td>...</td>\n",
       "      <td>0.286948</td>\n",
       "      <td>0.119323</td>\n",
       "      <td>0.113977</td>\n",
       "      <td>0.212222</td>\n",
       "      <td>0.467627</td>\n",
       "      <td>0.501111</td>\n",
       "      <td>0.408074</td>\n",
       "      <td>0.236087</td>\n",
       "      <td>0.150022</td>\n",
       "      <td>0.477939</td>\n",
       "    </tr>\n",
       "    <tr>\n",
       "      <th>4</th>\n",
       "      <td>0.202341</td>\n",
       "      <td>0.265240</td>\n",
       "      <td>0.179494</td>\n",
       "      <td>0.730669</td>\n",
       "      <td>0.125221</td>\n",
       "      <td>0.205035</td>\n",
       "      <td>0.333070</td>\n",
       "      <td>0.624475</td>\n",
       "      <td>0.244820</td>\n",
       "      <td>0.195991</td>\n",
       "      <td>...</td>\n",
       "      <td>0.083416</td>\n",
       "      <td>0.247145</td>\n",
       "      <td>0.507063</td>\n",
       "      <td>0.302105</td>\n",
       "      <td>0.163908</td>\n",
       "      <td>0.388923</td>\n",
       "      <td>0.173432</td>\n",
       "      <td>0.147939</td>\n",
       "      <td>0.114294</td>\n",
       "      <td>0.468409</td>\n",
       "    </tr>\n",
       "    <tr>\n",
       "      <th>5</th>\n",
       "      <td>0.297113</td>\n",
       "      <td>0.009597</td>\n",
       "      <td>0.318254</td>\n",
       "      <td>0.596196</td>\n",
       "      <td>0.079796</td>\n",
       "      <td>0.483082</td>\n",
       "      <td>0.098642</td>\n",
       "      <td>0.412613</td>\n",
       "      <td>0.248311</td>\n",
       "      <td>0.400416</td>\n",
       "      <td>...</td>\n",
       "      <td>0.258407</td>\n",
       "      <td>0.056514</td>\n",
       "      <td>0.177707</td>\n",
       "      <td>0.391584</td>\n",
       "      <td>0.132818</td>\n",
       "      <td>0.110197</td>\n",
       "      <td>0.199281</td>\n",
       "      <td>0.088239</td>\n",
       "      <td>0.154224</td>\n",
       "      <td>0.477313</td>\n",
       "    </tr>\n",
       "    <tr>\n",
       "      <th>6</th>\n",
       "      <td>0.248897</td>\n",
       "      <td>0.310248</td>\n",
       "      <td>0.443670</td>\n",
       "      <td>0.543106</td>\n",
       "      <td>0.305086</td>\n",
       "      <td>0.258153</td>\n",
       "      <td>0.379340</td>\n",
       "      <td>0.368601</td>\n",
       "      <td>0.623421</td>\n",
       "      <td>0.230195</td>\n",
       "      <td>...</td>\n",
       "      <td>0.291302</td>\n",
       "      <td>0.342805</td>\n",
       "      <td>0.436529</td>\n",
       "      <td>0.635330</td>\n",
       "      <td>0.569585</td>\n",
       "      <td>0.234954</td>\n",
       "      <td>0.377983</td>\n",
       "      <td>0.355192</td>\n",
       "      <td>0.393546</td>\n",
       "      <td>0.174080</td>\n",
       "    </tr>\n",
       "    <tr>\n",
       "      <th>7</th>\n",
       "      <td>0.421303</td>\n",
       "      <td>0.441547</td>\n",
       "      <td>0.237482</td>\n",
       "      <td>0.344165</td>\n",
       "      <td>0.560335</td>\n",
       "      <td>0.330991</td>\n",
       "      <td>0.323784</td>\n",
       "      <td>0.249185</td>\n",
       "      <td>0.372659</td>\n",
       "      <td>0.531087</td>\n",
       "      <td>...</td>\n",
       "      <td>0.511372</td>\n",
       "      <td>0.451836</td>\n",
       "      <td>0.435732</td>\n",
       "      <td>0.437856</td>\n",
       "      <td>0.027417</td>\n",
       "      <td>0.240800</td>\n",
       "      <td>0.423283</td>\n",
       "      <td>0.310697</td>\n",
       "      <td>0.439654</td>\n",
       "      <td>0.098117</td>\n",
       "    </tr>\n",
       "    <tr>\n",
       "      <th>8</th>\n",
       "      <td>0.406833</td>\n",
       "      <td>0.429686</td>\n",
       "      <td>0.178031</td>\n",
       "      <td>0.429180</td>\n",
       "      <td>0.073603</td>\n",
       "      <td>0.373213</td>\n",
       "      <td>0.424688</td>\n",
       "      <td>0.213430</td>\n",
       "      <td>0.231858</td>\n",
       "      <td>0.396977</td>\n",
       "      <td>...</td>\n",
       "      <td>0.223349</td>\n",
       "      <td>0.445486</td>\n",
       "      <td>0.224320</td>\n",
       "      <td>0.566230</td>\n",
       "      <td>0.461801</td>\n",
       "      <td>0.062713</td>\n",
       "      <td>0.322293</td>\n",
       "      <td>0.161961</td>\n",
       "      <td>0.286096</td>\n",
       "      <td>0.017653</td>\n",
       "    </tr>\n",
       "    <tr>\n",
       "      <th>9</th>\n",
       "      <td>0.277664</td>\n",
       "      <td>0.351197</td>\n",
       "      <td>0.117629</td>\n",
       "      <td>0.473230</td>\n",
       "      <td>0.547377</td>\n",
       "      <td>0.424705</td>\n",
       "      <td>0.185385</td>\n",
       "      <td>0.348375</td>\n",
       "      <td>0.333194</td>\n",
       "      <td>0.414905</td>\n",
       "      <td>...</td>\n",
       "      <td>0.114262</td>\n",
       "      <td>0.458137</td>\n",
       "      <td>0.109560</td>\n",
       "      <td>0.326086</td>\n",
       "      <td>0.259462</td>\n",
       "      <td>0.379224</td>\n",
       "      <td>0.517734</td>\n",
       "      <td>0.591490</td>\n",
       "      <td>0.596646</td>\n",
       "      <td>0.138657</td>\n",
       "    </tr>\n",
       "  </tbody>\n",
       "</table>\n",
       "<p>10 rows × 63 columns</p>\n",
       "</div>"
      ],
      "text/plain": [
       "         TW        TH        UA        GB        SG        SK        ZA   \n",
       "0  0.360465  0.191613  0.374990  0.366984  0.326026  0.019438  0.300085  \\\n",
       "1  0.444382  0.359464  0.514755  0.412164  0.370195  0.099489  0.357959   \n",
       "2  0.291791  0.462747  0.215559  0.288005  0.097702  0.224796  0.267987   \n",
       "3  0.189160  0.089318  0.445759  0.600941  0.465359  0.465045  0.389689   \n",
       "4  0.202341  0.265240  0.179494  0.730669  0.125221  0.205035  0.333070   \n",
       "5  0.297113  0.009597  0.318254  0.596196  0.079796  0.483082  0.098642   \n",
       "6  0.248897  0.310248  0.443670  0.543106  0.305086  0.258153  0.379340   \n",
       "7  0.421303  0.441547  0.237482  0.344165  0.560335  0.330991  0.323784   \n",
       "8  0.406833  0.429686  0.178031  0.429180  0.073603  0.373213  0.424688   \n",
       "9  0.277664  0.351197  0.117629  0.473230  0.547377  0.424705  0.185385   \n",
       "\n",
       "         ES        SE        CH  ...        GG        HU        FI        FR   \n",
       "0  0.437258  0.177176  0.275612  ...  0.435629  0.174318  0.399621  0.825742  \\\n",
       "1  0.582137  0.595769  0.102700  ...  0.095939  0.136924  0.089223  0.473211   \n",
       "2  0.138990  0.152244  0.186718  ...  0.515764  0.472511  0.494365  0.488093   \n",
       "3  0.474116  0.543860  0.312516  ...  0.286948  0.119323  0.113977  0.212222   \n",
       "4  0.624475  0.244820  0.195991  ...  0.083416  0.247145  0.507063  0.302105   \n",
       "5  0.412613  0.248311  0.400416  ...  0.258407  0.056514  0.177707  0.391584   \n",
       "6  0.368601  0.623421  0.230195  ...  0.291302  0.342805  0.436529  0.635330   \n",
       "7  0.249185  0.372659  0.531087  ...  0.511372  0.451836  0.435732  0.437856   \n",
       "8  0.213430  0.231858  0.396977  ...  0.223349  0.445486  0.224320  0.566230   \n",
       "9  0.348375  0.333194  0.414905  ...  0.114262  0.458137  0.109560  0.326086   \n",
       "\n",
       "         GE        NZ        LI        IS        IN        PH  \n",
       "0  0.219181  0.611400  0.074630  0.589186  0.217322  0.411551  \n",
       "1  0.300738  0.110892  0.141813  0.132007  0.531118  0.006947  \n",
       "2  0.216870  0.022645  0.310646  0.056521  0.129541  0.341459  \n",
       "3  0.467627  0.501111  0.408074  0.236087  0.150022  0.477939  \n",
       "4  0.163908  0.388923  0.173432  0.147939  0.114294  0.468409  \n",
       "5  0.132818  0.110197  0.199281  0.088239  0.154224  0.477313  \n",
       "6  0.569585  0.234954  0.377983  0.355192  0.393546  0.174080  \n",
       "7  0.027417  0.240800  0.423283  0.310697  0.439654  0.098117  \n",
       "8  0.461801  0.062713  0.322293  0.161961  0.286096  0.017653  \n",
       "9  0.259462  0.379224  0.517734  0.591490  0.596646  0.138657  \n",
       "\n",
       "[10 rows x 63 columns]"
      ]
     },
     "execution_count": 38,
     "metadata": {},
     "output_type": "execute_result"
    }
   ],
   "source": [
    "pandas_bine_embeddings_bonds = bine_embeddings_bonds_dict[2021]\n",
    "pandas_bine_embeddings_bonds"
   ]
  },
  {
   "attachments": {},
   "cell_type": "markdown",
   "metadata": {},
   "source": [
    "Before we officially cluster, I will use the Shilloute Score to see how many cluster we should use in our K-Means clustering"
   ]
  },
  {
   "cell_type": "code",
   "execution_count": 42,
   "metadata": {},
   "outputs": [
    {
     "data": {
      "image/png": "[encoded data removed]",
      "text/plain": [
       "<Figure size 640x480 with 1 Axes>"
      ]
     },
     "metadata": {},
     "output_type": "display_data"
    }
   ],
   "source": [
    "from sklearn.cluster import KMeans\n",
    "from sklearn.decomposition import PCA\n",
    "from sklearn.metrics import silhouette_score\n",
    "\n",
    "# First we obtain the clusterings on the BINE embeddings using K\n",
    "\n",
    "X = pandas_bine_embeddings_bonds.transpose()\n",
    "\n",
    "silscore_x = []\n",
    "silscore_y = []\n",
    "\n",
    "for k in range(2,40):\n",
    "    clusterer = KMeans(n_clusters = k, random_state=10, n_init=10)\n",
    "    clustering= clusterer.fit(X)\n",
    "    score = silhouette_score(X, clustering.labels_)\n",
    "\n",
    "    silscore_x.append(k)\n",
    "    silscore_y.append(score)\n",
    "\n",
    "\n",
    "fig, ax = plt.subplots()\n",
    "scatter = ax.plot(silscore_x, silscore_y)\n",
    "ax.set_title(\"Shilhouette Score Plot Green Bonds\")\n",
    "ax.set_ylabel(\"Shilhouette Score\")\n",
    "ax.set_xlabel(\"Number of Clusters\")\n",
    "plt.show()\n",
    "\n"
   ]
  },
  {
   "attachments": {},
   "cell_type": "markdown",
   "metadata": {},
   "source": [
    "From the above shilhouette scores it seems that the best number of clusters is 22, which means there will be about 3 countries per cluster. The clusters will then be pretty small. This also might be because the greenbonds is a pretty sparse dataset."
   ]
  },
  {
   "attachments": {},
   "cell_type": "markdown",
   "metadata": {},
   "source": [
    "Now that we have examined a good clustering of the data, we can visualize our clutering. First we will try the optimal 22 clusters and then try a simplier one like 3 clusters."
   ]
  },
  {
   "attachments": {},
   "cell_type": "markdown",
   "metadata": {},
   "source": [
    "As a baseline we can also look at the clustering if we just look at the column of each adjacency matrix"
   ]
  },
  {
   "cell_type": "code",
   "execution_count": 43,
   "metadata": {},
   "outputs": [],
   "source": [
    "columns = []\n",
    "B.remove_edges_from(B.edges)\n",
    "B.add_weighted_edges_from(green_bond_dict[2021])\n",
    "countries_in_green_bonds = []\n",
    "\n",
    "for node in B.nodes(data=True):\n",
    "\n",
    "    # obtains nodes in partition 0, which is the country nodes\n",
    "    if node[1][\"bipartite\"] == 0:\n",
    "\n",
    "        col = np.zeros((2,1))\n",
    "        # Obtains list of all edges that country is in\n",
    "        for connect in B.edges(node[0], data = True):\n",
    "            # Gets weight for Green Bonds Issuances\n",
    "            if connect[1] == \"Green Bonds Issuances\":\n",
    "                col[0,0] = connect[2][\"weight\"]\n",
    "            # Gets weight for NonGreen Bonds Issuances\n",
    "            else:\n",
    "                col[1,0] = connect[2][\"weight\"]\n",
    "\n",
    "        if not (col.sum() == 0):\n",
    "            countries_in_green_bonds.append(node[0])\n",
    "            columns.append(col)\n",
    "\n",
    "sorted_indicies = np.argsort(np.array(countries_in_green_bonds))\n",
    "graph_data = np.concatenate(columns, axis = 1)[:,sorted_indicies]"
   ]
  },
  {
   "attachments": {},
   "cell_type": "markdown",
   "metadata": {},
   "source": [
    "First we can make the clustering for the year 2021 using the normal clusters"
   ]
  },
  {
   "cell_type": "code",
   "execution_count": 45,
   "metadata": {},
   "outputs": [
    {
     "data": {
      "image/png": "[encoded data removed]",
      "text/plain": [
       "<Figure size 640x480 with 1 Axes>"
      ]
     },
     "metadata": {},
     "output_type": "display_data"
    }
   ],
   "source": [
    "clustering_b = KMeans(n_clusters = 3, n_init= 10).fit(graph_data.transpose())\n",
    "# clustering.labels_\n",
    "\n",
    "fig,ax = plt.subplots()\n",
    "# Using years var from last cell\n",
    "scatter = ax.scatter(graph_data[0, :], graph_data[1,:], c = clustering_b.labels_)\n",
    "ax.set_title(\"Countries Clustering in Greenbond Bond Investments in 2021 \")\n",
    "ax.set_ylabel(\"Nonissuance Green Bonds\")\n",
    "ax.set_xlabel(\"Issuance Green Bonds\")\n",
    "legend1 = ax.legend(*scatter.legend_elements(),\n",
    "                    loc=\"upper left\", title=\"Classes\")\n",
    "ax.add_artist(legend1)\n",
    "\n",
    "plt.show()"
   ]
  },
  {
   "attachments": {},
   "cell_type": "markdown",
   "metadata": {},
   "source": [
    "The following is helper code to get a mapping between the country name abbreviations and the full country name"
   ]
  },
  {
   "cell_type": "code",
   "execution_count": 46,
   "metadata": {},
   "outputs": [],
   "source": [
    "i = 0 \n",
    "country_abv_to_full = {}\n",
    "    \n",
    "country_ab = green_bonds[\"ISO2\"].unique()\n",
    "country_list = green_bonds[\"Country\"].unique()\n",
    "\n",
    "for i in range(len(country_ab)):\n",
    "    country_abv_to_full[country_ab[i]] = country_list[i]\n"
   ]
  },
  {
   "attachments": {},
   "cell_type": "markdown",
   "metadata": {},
   "source": [
    "This code takes the labels of the countries"
   ]
  },
  {
   "cell_type": "code",
   "execution_count": 47,
   "metadata": {},
   "outputs": [
    {
     "name": "stdout",
     "output_type": "stream",
     "text": [
      "Italy\n"
     ]
    }
   ],
   "source": [
    "for abv in np.array(country_names)[clustering.labels_[np.argsort(np.array(country_names))] == 38]:\n",
    "    print(country_abv_to_full[abv])"
   ]
  },
  {
   "cell_type": "code",
   "execution_count": 48,
   "metadata": {},
   "outputs": [
    {
     "name": "stdout",
     "output_type": "stream",
     "text": [
      "Ireland\n",
      "China, P.R.: Macao\n",
      "Norway\n"
     ]
    }
   ],
   "source": [
    "bine_labels = np.array(clustering.labels_)[np.argsort(np.array(country_names))]\n",
    "sorted_countries = np.array(country_names)[np.argsort(np.array(country_names))]\n",
    "for abv in sorted_countries[bine_labels == 0]:\n",
    "    print(country_abv_to_full[abv])"
   ]
  },
  {
   "cell_type": "code",
   "execution_count": 49,
   "metadata": {},
   "outputs": [
    {
     "name": "stdout",
     "output_type": "stream",
     "text": [
      "Japan\n"
     ]
    }
   ],
   "source": [
    "relabeled_bine_labels = np.zeros(bine_labels.shape)\n",
    "\n",
    "i = 0\n",
    "for label in bine_labels:\n",
    "    if label ==1 :\n",
    "        relabeled_bine_labels[i] = 0\n",
    "    elif label == 0:\n",
    "        relabeled_bine_labels[i] = 1\n",
    "    else:\n",
    "        relabeled_bine_labels[i] =2 \n",
    "\n",
    "    i+=1\n",
    "\n",
    "for abv in sorted_countries[relabeled_bine_labels == 0]:\n",
    "    print(country_abv_to_full[abv])\n"
   ]
  },
  {
   "attachments": {},
   "cell_type": "markdown",
   "metadata": {},
   "source": [
    "### Largest Change in Countries\n",
    "\n",
    "Now that we have completed change point detection, we want to be able to analysis what caused the large change between years. For this we need to analysis how much a country changed between years. We can easily accomplish this by calculating the similarity between policies for countries in a range of years and find which country had the largest change between years. We don't use the bine embeddings of countries here because we don't have bine embeddings for every country. A country that is not implementing a policy will not have an embedding which causes challenges when calculating the change over time."
   ]
  },
  {
   "cell_type": "code",
   "execution_count": 50,
   "metadata": {},
   "outputs": [],
   "source": [
    "yearly_adjacency_dict = {}\n",
    "sorted_greenbond_countries = np.sort(green_bond_country_nodes)\n",
    "\n",
    "for year in green_bond_years:\n",
    "    columns = []\n",
    "    B.remove_edges_from(B.edges)\n",
    "    B.add_weighted_edges_from(green_bond_dict[year])\n",
    "    countries_in_green_bonds = []\n",
    "\n",
    "    for node in B.nodes(data=True):\n",
    "\n",
    "        # obtains nodes in partition 0, which is the country nodes\n",
    "        if node[1][\"bipartite\"] == 0:\n",
    "\n",
    "            col = np.zeros((2,1))\n",
    "            # Obtains list of all edges that country is in\n",
    "            for connect in B.edges(node[0], data = True):\n",
    "                # Gets weight for Green Bonds Issuances\n",
    "                if connect[1] == \"Green Bonds Issuances\":\n",
    "                    col[0,0] = connect[2][\"weight\"]\n",
    "                # Gets weight for NonGreen Bonds Issuances\n",
    "                else:\n",
    "                    col[1,0] = connect[2][\"weight\"]\n",
    "\n",
    "            countries_in_green_bonds.append(node[0])\n",
    "            columns.append(col)\n",
    "\n",
    "    sorted_indicies = np.argsort(np.array(countries_in_green_bonds))\n",
    "    graph_data = np.concatenate(columns, axis = 1)[:,sorted_indicies]\n",
    "    \n",
    "\n",
    "    yearly_adjacency_dict[year] = graph_data\n",
    "\n"
   ]
  },
  {
   "attachments": {},
   "cell_type": "markdown",
   "metadata": {},
   "source": [
    "Now that we have a dataframe that stores all of the matrices, we can now compute the differences between years with a given window size."
   ]
  },
  {
   "cell_type": "code",
   "execution_count": 51,
   "metadata": {},
   "outputs": [],
   "source": [
    "window_dicts = {}\n",
    "\n",
    "def country_difference(windowSize, adjacency_dict, years, countries):\n",
    "    \n",
    "    window_dicts = {}\n",
    "    for i in range(len(years) - windowSize):\n",
    "        year_subset = years[i:i+windowSize]\n",
    "\n",
    "        # Choose one random signature to start our weights_avg\n",
    "        weights_avg = np.zeros(adjacency_dict[years[0]].shape)\n",
    "\n",
    "        for year in year_subset:\n",
    "            weights_avg += adjacency_dict[year] * (1/windowSize)\n",
    "\n",
    "        window_dicts[years[windowSize + i]] = weights_avg / np.linalg.norm(weights_avg, ord = 2)\n",
    "\n",
    "\n",
    "    country_change = {}\n",
    "\n",
    "    for year in window_dicts.keys():\n",
    "        baseline = window_dicts[year]\n",
    "        single_year = adjacency_dict[year]\n",
    "        \n",
    "        change = np.power(baseline - single_year, 2).sum(axis = 0)\n",
    "        sort_indices = np.argsort(change)[::-1]\n",
    "        info = (countries[sort_indices], change[sort_indices])\n",
    "\n",
    "        country_change[year] = info\n",
    "\n",
    "    return country_change\n",
    "\n",
    "\n",
    "country_change = country_difference(6,yearly_adjacency_dict, green_bond_years, sorted_greenbond_countries)\n"
   ]
  },
  {
   "cell_type": "code",
   "execution_count": 52,
   "metadata": {},
   "outputs": [
    {
     "data": {
      "image/png": "[encoded data removed]",
      "text/plain": [
       "<Figure size 640x480 with 1 Axes>"
      ]
     },
     "metadata": {},
     "output_type": "display_data"
    }
   ],
   "source": [
    "year = 2014\n",
    "\n",
    "countryOrder_abv, changeScore = country_change[year]\n",
    "\n",
    "countryOrder = [country_abv_to_full[country] for country in countryOrder_abv[changeScore > 0]]\n",
    "changeScore = changeScore[changeScore > 0]\n",
    "\n",
    "fig, ax = plt.subplots()\n",
    "ax.barh(countryOrder[:15], changeScore[:15])\n",
    "ax.set_title(f\"Most Change in Policies in {year}\")\n",
    "ax.set_ylabel(\"Countries\")\n",
    "ax.set_xlabel(\"Change (Euclidean Distance)\")\n",
    "plt.show()"
   ]
  },
  {
   "cell_type": "code",
   "execution_count": 53,
   "metadata": {},
   "outputs": [
    {
     "data": {
      "text/plain": [
       "array(['FR', 'DE', 'US', 'SE', 'NL', 'CA', 'ES', 'IT', 'AT', 'AU', 'PE',\n",
       "       'JP', 'KY', 'GB', 'NZ', 'CN', 'KR', 'VG', 'ZA', 'NO', 'IE', 'PA',\n",
       "       'PH', 'CR', 'GE', 'SC', 'SG', 'FJ', 'FI', 'SI', 'EG', 'EE', 'DK',\n",
       "       'SK', 'CZ', 'CO', 'GR', 'TH', 'CL', 'CH', 'TR', 'BR', 'BM', 'BE',\n",
       "       'BD', 'TW', 'UA', 'AR', 'GG', 'HU', 'HK', 'PK', 'PL', 'PT', 'NG',\n",
       "       'NA', 'MY', 'MX', 'MU', 'MO', 'MH', 'MA', 'LV', 'LU', 'LT', 'LI',\n",
       "       'RO', 'VN', 'RS', 'JE', 'RU', 'IS', 'IN', 'IL', 'ID', 'AE'],\n",
       "      dtype=object)"
      ]
     },
     "execution_count": 53,
     "metadata": {},
     "output_type": "execute_result"
    }
   ],
   "source": [
    "countryOrder_abv"
   ]
  },
  {
   "cell_type": "code",
   "execution_count": 273,
   "metadata": {},
   "outputs": [
    {
     "data": {
      "text/html": [
       "<div>\n",
       "<style scoped>\n",
       "    .dataframe tbody tr th:only-of-type {\n",
       "        vertical-align: middle;\n",
       "    }\n",
       "\n",
       "    .dataframe tbody tr th {\n",
       "        vertical-align: top;\n",
       "    }\n",
       "\n",
       "    .dataframe thead th {\n",
       "        text-align: right;\n",
       "    }\n",
       "</style>\n",
       "<table border=\"1\" class=\"dataframe\">\n",
       "  <thead>\n",
       "    <tr style=\"text-align: right;\">\n",
       "      <th></th>\n",
       "      <th>ISO2</th>\n",
       "      <th>Indicator</th>\n",
       "      <th>F2012</th>\n",
       "      <th>F2013</th>\n",
       "      <th>F2014</th>\n",
       "      <th>F2015</th>\n",
       "      <th>F2016</th>\n",
       "      <th>F2017</th>\n",
       "    </tr>\n",
       "    <tr>\n",
       "      <th>ObjectId</th>\n",
       "      <th></th>\n",
       "      <th></th>\n",
       "      <th></th>\n",
       "      <th></th>\n",
       "      <th></th>\n",
       "      <th></th>\n",
       "      <th></th>\n",
       "      <th></th>\n",
       "    </tr>\n",
       "  </thead>\n",
       "  <tbody>\n",
       "    <tr>\n",
       "      <th>17</th>\n",
       "      <td>CN</td>\n",
       "      <td>Green Bond Issuances by Country</td>\n",
       "      <td>NaN</td>\n",
       "      <td>NaN</td>\n",
       "      <td>0.156816</td>\n",
       "      <td>0.994109</td>\n",
       "      <td>31.30316</td>\n",
       "      <td>31.25946</td>\n",
       "    </tr>\n",
       "  </tbody>\n",
       "</table>\n",
       "</div>"
      ],
      "text/plain": [
       "         ISO2                        Indicator  F2012  F2013     F2014  \\\n",
       "ObjectId                                                                 \n",
       "17         CN  Green Bond Issuances by Country    NaN    NaN  0.156816   \n",
       "\n",
       "             F2015     F2016     F2017  \n",
       "ObjectId                                \n",
       "17        0.994109  31.30316  31.25946  "
      ]
     },
     "execution_count": 273,
     "metadata": {},
     "output_type": "execute_result"
    }
   ],
   "source": [
    "green_bonds[green_bonds[\"ISO2\"] == \"CN\"][[\"ISO2\",\"Indicator\",\"F2012\",\"F2013\", \"F2014\", \"F2015\", \"F2016\", \"F2017\"]]\n"
   ]
  },
  {
   "cell_type": "code",
   "execution_count": 244,
   "metadata": {},
   "outputs": [
    {
     "data": {
      "text/html": [
       "<div>\n",
       "<style scoped>\n",
       "    .dataframe tbody tr th:only-of-type {\n",
       "        vertical-align: middle;\n",
       "    }\n",
       "\n",
       "    .dataframe tbody tr th {\n",
       "        vertical-align: top;\n",
       "    }\n",
       "\n",
       "    .dataframe thead th {\n",
       "        text-align: right;\n",
       "    }\n",
       "</style>\n",
       "<table border=\"1\" class=\"dataframe\">\n",
       "  <thead>\n",
       "    <tr style=\"text-align: right;\">\n",
       "      <th></th>\n",
       "      <th>ISO2</th>\n",
       "      <th>Indicator</th>\n",
       "      <th>F2012</th>\n",
       "      <th>F2013</th>\n",
       "      <th>F2014</th>\n",
       "      <th>F2015</th>\n",
       "      <th>F2016</th>\n",
       "      <th>F2017</th>\n",
       "    </tr>\n",
       "    <tr>\n",
       "      <th>ObjectId</th>\n",
       "      <th></th>\n",
       "      <th></th>\n",
       "      <th></th>\n",
       "      <th></th>\n",
       "      <th></th>\n",
       "      <th></th>\n",
       "      <th></th>\n",
       "      <th></th>\n",
       "    </tr>\n",
       "  </thead>\n",
       "  <tbody>\n",
       "    <tr>\n",
       "      <th>17</th>\n",
       "      <td>CN</td>\n",
       "      <td>Green Bond Issuances by Country</td>\n",
       "      <td>NaN</td>\n",
       "      <td>NaN</td>\n",
       "      <td>0.156816</td>\n",
       "      <td>0.994109</td>\n",
       "      <td>31.30316</td>\n",
       "      <td>31.25946</td>\n",
       "    </tr>\n",
       "  </tbody>\n",
       "</table>\n",
       "</div>"
      ],
      "text/plain": [
       "         ISO2                        Indicator  F2012  F2013     F2014  \\\n",
       "ObjectId                                                                 \n",
       "17         CN  Green Bond Issuances by Country    NaN    NaN  0.156816   \n",
       "\n",
       "             F2015     F2016     F2017  \n",
       "ObjectId                                \n",
       "17        0.994109  31.30316  31.25946  "
      ]
     },
     "execution_count": 244,
     "metadata": {},
     "output_type": "execute_result"
    }
   ],
   "source": [
    "green_bonds[green_bonds[\"ISO2\"] == \"CN\"][[\"ISO2\",\"Indicator\",\"F2012\",\"F2013\", \"F2014\", \"F2015\", \"F2016\", \"F2017\"]]"
   ]
  },
  {
   "cell_type": "code",
   "execution_count": 237,
   "metadata": {},
   "outputs": [
    {
     "data": {
      "text/html": [
       "<div>\n",
       "<style scoped>\n",
       "    .dataframe tbody tr th:only-of-type {\n",
       "        vertical-align: middle;\n",
       "    }\n",
       "\n",
       "    .dataframe tbody tr th {\n",
       "        vertical-align: top;\n",
       "    }\n",
       "\n",
       "    .dataframe thead th {\n",
       "        text-align: right;\n",
       "    }\n",
       "</style>\n",
       "<table border=\"1\" class=\"dataframe\">\n",
       "  <thead>\n",
       "    <tr style=\"text-align: right;\">\n",
       "      <th></th>\n",
       "      <th>ISO2</th>\n",
       "      <th>Indicator</th>\n",
       "      <th>F2012</th>\n",
       "      <th>F2013</th>\n",
       "      <th>F2014</th>\n",
       "      <th>F2015</th>\n",
       "    </tr>\n",
       "    <tr>\n",
       "      <th>ObjectId</th>\n",
       "      <th></th>\n",
       "      <th></th>\n",
       "      <th></th>\n",
       "      <th></th>\n",
       "      <th></th>\n",
       "      <th></th>\n",
       "    </tr>\n",
       "  </thead>\n",
       "  <tbody>\n",
       "    <tr>\n",
       "      <th>96</th>\n",
       "      <td>US</td>\n",
       "      <td>Green Bond Issuances by Country</td>\n",
       "      <td>NaN</td>\n",
       "      <td>0.5</td>\n",
       "      <td>2.1438</td>\n",
       "      <td>8.262994</td>\n",
       "    </tr>\n",
       "  </tbody>\n",
       "</table>\n",
       "</div>"
      ],
      "text/plain": [
       "         ISO2                        Indicator  F2012  F2013   F2014     F2015\n",
       "ObjectId                                                                      \n",
       "96         US  Green Bond Issuances by Country    NaN    0.5  2.1438  8.262994"
      ]
     },
     "execution_count": 237,
     "metadata": {},
     "output_type": "execute_result"
    }
   ],
   "source": [
    "green_bonds[green_bonds[\"ISO2\"] == \"US\"][[\"ISO2\",\"Indicator\",\"F2012\",\"F2013\", \"F2014\", \"F2015\"]]"
   ]
  },
  {
   "attachments": {},
   "cell_type": "markdown",
   "metadata": {},
   "source": [
    "# Environmental Taxes"
   ]
  },
  {
   "attachments": {},
   "cell_type": "markdown",
   "metadata": {},
   "source": [
    "First lets load in the data and take a quick peak.  The final table is a table about how many measures each country implements."
   ]
  },
  {
   "cell_type": "code",
   "execution_count": 54,
   "metadata": {},
   "outputs": [
    {
     "name": "stdout",
     "output_type": "stream",
     "text": [
      "There are 124 unique countries that are implementing environmental taxes\n",
      "Each country typically reports 10 different measures, but there are a few that report less than 10 measures\n"
     ]
    },
    {
     "data": {
      "text/plain": [
       "count\n",
       "10    118\n",
       "8       3\n",
       "6       1\n",
       "5       1\n",
       "4       1\n",
       "Name: count, dtype: int64"
      ]
     },
     "execution_count": 54,
     "metadata": {},
     "output_type": "execute_result"
    }
   ],
   "source": [
    "taxes = pd.read_csv(\"input/policy/Environmental_Taxes.csv\")\n",
    "\n",
    "num_countries = len(taxes[\"Country\"].unique())\n",
    "print(f\"There are {num_countries} unique countries that are implementing environmental taxes\")\n",
    "print(\"Each country typically reports 10 different measures, but there are a few that report less than 10 measures\")\n",
    "\n",
    "taxes.Country.value_counts().value_counts()"
   ]
  },
  {
   "cell_type": "code",
   "execution_count": 55,
   "metadata": {},
   "outputs": [
    {
     "name": "stdout",
     "output_type": "stream",
     "text": [
      "Number of Countries: 197\n",
      "Number of Subsidies: 21\n"
     ]
    }
   ],
   "source": [
    "tax_country_nodes = taxes.ISO2.unique()\n",
    "tax_policy_nodes = taxes.CTS_Code.unique()\n",
    "print(\"Number of Countries:\", len(country_nodes))\n",
    "print(\"Number of Subsidies:\", len(policy_nodes))\n",
    "\n",
    "T = nx.Graph()\n",
    "T.add_nodes_from(country_nodes, bipartite=0)\n",
    "T.add_nodes_from(policy_nodes, bipartite=1)"
   ]
  },
  {
   "cell_type": "code",
   "execution_count": 56,
   "metadata": {},
   "outputs": [
    {
     "name": "stderr",
     "output_type": "stream",
     "text": [
      "/var/folders/19/6hz5c0tn7g317trnm9tqf_900000gn/T/ipykernel_56040/1921600594.py:10: DeprecationWarning: The truth value of an empty array is ambiguous. Returning False, but in future this will result in an error. Use `array.size > 0` to check that an array is not empty.\n",
      "  if weight > 0:\n"
     ]
    }
   ],
   "source": [
    "tax_edge_dict = {}\n",
    "\n",
    "taxes_sub = taxes[taxes.Unit == \"Percent of GDP\"]\n",
    "for year in taxes_sub.columns[10:]:\n",
    "    edge_list = []\n",
    "    for country in tax_country_nodes:\n",
    "        subset = taxes_sub[taxes_sub.ISO2 == country]\n",
    "        for policy in tax_policy_nodes:\n",
    "            weight = subset[subset.CTS_Code == policy][year].values\n",
    "            if weight > 0:\n",
    "                edge = (country, policy, weight[0])\n",
    "                edge_list.append(edge)\n",
    "    tax_edge_dict[int(year[1:])] = edge_list"
   ]
  },
  {
   "cell_type": "code",
   "execution_count": 57,
   "metadata": {},
   "outputs": [
    {
     "ename": "NameError",
     "evalue": "name 'edges' is not defined",
     "output_type": "error",
     "traceback": [
      "\u001b[0;31m---------------------------------------------------------------------------\u001b[0m",
      "\u001b[0;31mNameError\u001b[0m                                 Traceback (most recent call last)",
      "Cell \u001b[0;32mIn[57], line 1\u001b[0m\n\u001b[0;32m----> 1\u001b[0m T\u001b[39m.\u001b[39madd_weighted_edges_from(edges)\n\u001b[1;32m      2\u001b[0m \u001b[39mprint\u001b[39m(\u001b[39m\"\u001b[39m\u001b[39mNumber of Edges:\u001b[39m\u001b[39m\"\u001b[39m, T\u001b[39m.\u001b[39mnumber_of_edges())\n\u001b[1;32m      3\u001b[0m \u001b[39mprint\u001b[39m(\u001b[39m\"\u001b[39m\u001b[39mNumber of Possible Edges:\u001b[39m\u001b[39m\"\u001b[39m, \u001b[39mlen\u001b[39m(country_nodes) \u001b[39m*\u001b[39m \u001b[39mlen\u001b[39m(policy_nodes))\n",
      "\u001b[0;31mNameError\u001b[0m: name 'edges' is not defined"
     ]
    }
   ],
   "source": [
    "T.add_weighted_edges_from(edges)\n",
    "print(\"Number of Edges:\", T.number_of_edges())\n",
    "print(\"Number of Possible Edges:\", len(country_nodes) * len(policy_nodes))"
   ]
  },
  {
   "attachments": {},
   "cell_type": "markdown",
   "metadata": {},
   "source": [
    "### Analysis"
   ]
  },
  {
   "cell_type": "code",
   "execution_count": 58,
   "metadata": {},
   "outputs": [
    {
     "data": {
      "image/png": "[encoded data removed]",
      "text/plain": [
       "<Figure size 640x480 with 1 Axes>"
      ]
     },
     "metadata": {},
     "output_type": "display_data"
    },
    {
     "data": {
      "image/png": "[encoded data removed]",
      "text/plain": [
       "<Figure size 640x480 with 1 Axes>"
      ]
     },
     "metadata": {},
     "output_type": "display_data"
    }
   ],
   "source": [
    "taxes_no_zeros = taxes_sub.fillna(0)\n",
    "graph_years = []\n",
    "graph_count = []\n",
    "graph_country_count = []\n",
    "\n",
    "for year in taxes_sub.columns[10:]:\n",
    "    implement_count = (taxes_no_zeros[year] > 0).sum()\n",
    "\n",
    "    b = taxes_no_zeros[year] > 0\n",
    "    countries = taxes[taxes[\"Unit\"] == \"Percent of GDP\"][\"ISO2\"]\n",
    "    num_countries = len(countries[b].unique())\n",
    "\n",
    "    graph_years.append(int(year[1:]))\n",
    "    graph_count.append(implement_count)\n",
    "    graph_country_count.append(num_countries)\n",
    "\n",
    "# Plot\n",
    "fig,ax = plt.subplots()\n",
    "# Using years var from last cell\n",
    "ax.plot(graph_years, graph_count)\n",
    "ax.set_title(\"Number of Tax Policies being Implemented\")\n",
    "ax.set_ylabel(\"Number of Policies Implemented\")\n",
    "ax.set_xlabel(\"Year\")\n",
    "\n",
    "plt.show()\n",
    "\n",
    "# Plot\n",
    "fig,ax = plt.subplots()\n",
    "# Using years var from last cell\n",
    "ax.plot(graph_years, graph_country_count)\n",
    "ax.set_title(\"Number of Countries Implementing Tax Policies\")\n",
    "ax.set_ylabel(\"Number of Countries implementing\")\n",
    "ax.set_xlabel(\"Year\")\n",
    "\n",
    "plt.show()\n"
   ]
  },
  {
   "attachments": {},
   "cell_type": "markdown",
   "metadata": {},
   "source": [
    "Another simple analysis I want to have is how many countries are implementing tax policies each year."
   ]
  },
  {
   "cell_type": "code",
   "execution_count": 59,
   "metadata": {},
   "outputs": [
    {
     "data": {
      "image/png": "[encoded data removed]",
      "text/plain": [
       "<Figure size 640x480 with 1 Axes>"
      ]
     },
     "metadata": {},
     "output_type": "display_data"
    }
   ],
   "source": [
    "fig,ax = plt.subplots()\n",
    "# Using years var from last cell\n",
    "ax.plot(year_list, Z_list)\n",
    "ax.set_title(\"Change Point Detection for Green Bonds \\n Window of 6 years\")\n",
    "ax.set_ylabel(\"Change Value\")\n",
    "ax.set_xlabel(\"Year\")\n",
    "\n",
    "plt.show()"
   ]
  },
  {
   "attachments": {},
   "cell_type": "markdown",
   "metadata": {},
   "source": [
    "### Change Point "
   ]
  },
  {
   "cell_type": "code",
   "execution_count": 60,
   "metadata": {},
   "outputs": [
    {
     "name": "stderr",
     "output_type": "stream",
     "text": [
      "<class 'networkx.utils.decorators.argmap'> compilation 4:4: FutureWarning: normalized_laplacian_matrix will return a scipy.sparse array instead of a matrix in Networkx 3.0.\n",
      "  import inspect\n"
     ]
    },
    {
     "data": {
      "image/png": "[encoded data removed]",
      "text/plain": [
       "<Figure size 640x480 with 1 Axes>"
      ]
     },
     "metadata": {},
     "output_type": "display_data"
    }
   ],
   "source": [
    "tax_years = []\n",
    "for key in tax_edge_dict.keys():\n",
    "    tax_years.append(key)\n",
    "\n",
    "windowSize = 2\n",
    "Z_list, year_list = change_point_detection(windowSize, T, tax_years, tax_edge_dict)\n",
    "\n",
    "fig,ax = plt.subplots()\n",
    "# Using years var from last cell\n",
    "ax.plot(year_list, Z_list)\n",
    "ax.set_title(\"Change Point Detection Taxes\")\n",
    "ax.set_ylabel(\"Change Value\")\n",
    "ax.set_xlabel(\"Year\")\n",
    "\n",
    "plt.show()"
   ]
  },
  {
   "attachments": {},
   "cell_type": "markdown",
   "metadata": {},
   "source": [
    "### Clustering"
   ]
  },
  {
   "cell_type": "code",
   "execution_count": 61,
   "metadata": {},
   "outputs": [],
   "source": [
    "taxes_node_mapping = {}\n",
    "\n",
    "i = 0\n",
    "for country in taxes[\"ISO2\"].unique():\n",
    "    taxes_node_mapping[country] = f\"u{i}\"\n",
    "    i += 1\n",
    "\n",
    "\n",
    "j = 0\n",
    "for policy in taxes[\"CTS_Code\"].unique():\n",
    "    taxes_node_mapping[policy] = f\"i{j}\"\n",
    "    j += 1\n",
    "\n",
    "inv_taxes_mapping = {v: k for k, v in taxes_node_mapping.items()}"
   ]
  },
  {
   "cell_type": "code",
   "execution_count": 62,
   "metadata": {},
   "outputs": [],
   "source": [
    "# Create files \n",
    "for year in tax_years:\n",
    "    T.remove_edges_from(T.edges)\n",
    "    T.add_weighted_edges_from(tax_edge_dict[year])\n",
    "\n",
    "    T_integer = nx.relabel_nodes(T, taxes_node_mapping)\n",
    "\n",
    "    fileName = f\"BiNE-master/data/taxes/taxes_{year}_edgelist.dat\"\n",
    "    nx.write_weighted_edgelist(T_integer, fileName, delimiter = \"\\t\")\n",
    "\n",
    "with open(\"Taxes_commands.txt\", \"w\") as f:\n",
    "    for year in tax_years:\n",
    "        command = f\"python train.py --train-data ../data/taxes/taxes_{year}_edgelist.dat --lam 0.025 --max-iter 100 --large 2 --vectors-u ../data/taxes/vectors_u_{year}.dat --vectors-v ../data/taxes/vectors_v_{year}.dat &&\"\n",
    "        f.write(command)"
   ]
  },
  {
   "attachments": {},
   "cell_type": "markdown",
   "metadata": {},
   "source": [
    "# Environmental Protection Expenditures"
   ]
  },
  {
   "cell_type": "code",
   "execution_count": 63,
   "metadata": {},
   "outputs": [
    {
     "data": {
      "text/html": [
       "<div>\n",
       "<style scoped>\n",
       "    .dataframe tbody tr th:only-of-type {\n",
       "        vertical-align: middle;\n",
       "    }\n",
       "\n",
       "    .dataframe tbody tr th {\n",
       "        vertical-align: top;\n",
       "    }\n",
       "\n",
       "    .dataframe thead th {\n",
       "        text-align: right;\n",
       "    }\n",
       "</style>\n",
       "<table border=\"1\" class=\"dataframe\">\n",
       "  <thead>\n",
       "    <tr style=\"text-align: right;\">\n",
       "      <th></th>\n",
       "      <th>Country</th>\n",
       "      <th>ISO2</th>\n",
       "      <th>ISO3</th>\n",
       "      <th>Indicator</th>\n",
       "      <th>Source</th>\n",
       "      <th>CTS_Code</th>\n",
       "      <th>CTS_Name</th>\n",
       "      <th>CTS_Full_Descriptor</th>\n",
       "      <th>Unit</th>\n",
       "      <th>F1995</th>\n",
       "      <th>...</th>\n",
       "      <th>F2012</th>\n",
       "      <th>F2013</th>\n",
       "      <th>F2014</th>\n",
       "      <th>F2015</th>\n",
       "      <th>F2016</th>\n",
       "      <th>F2017</th>\n",
       "      <th>F2018</th>\n",
       "      <th>F2019</th>\n",
       "      <th>F2020</th>\n",
       "      <th>F2021</th>\n",
       "    </tr>\n",
       "    <tr>\n",
       "      <th>ObjectId</th>\n",
       "      <th></th>\n",
       "      <th></th>\n",
       "      <th></th>\n",
       "      <th></th>\n",
       "      <th></th>\n",
       "      <th></th>\n",
       "      <th></th>\n",
       "      <th></th>\n",
       "      <th></th>\n",
       "      <th></th>\n",
       "      <th></th>\n",
       "      <th></th>\n",
       "      <th></th>\n",
       "      <th></th>\n",
       "      <th></th>\n",
       "      <th></th>\n",
       "      <th></th>\n",
       "      <th></th>\n",
       "      <th></th>\n",
       "      <th></th>\n",
       "      <th></th>\n",
       "    </tr>\n",
       "  </thead>\n",
       "  <tbody>\n",
       "    <tr>\n",
       "      <th>1</th>\n",
       "      <td>Afghanistan, Islamic Rep. of</td>\n",
       "      <td>AF</td>\n",
       "      <td>AFG</td>\n",
       "      <td>Expenditure on biodiversity &amp; landscape protec...</td>\n",
       "      <td>International Monetary Fund (IMF), Statistics ...</td>\n",
       "      <td>GENB_G14</td>\n",
       "      <td>Expenditure on Biodiversity &amp; Landscape Protec...</td>\n",
       "      <td>Government and Public Sector Finance, Expendit...</td>\n",
       "      <td>Domestic Currency</td>\n",
       "      <td>NaN</td>\n",
       "      <td>...</td>\n",
       "      <td>NaN</td>\n",
       "      <td>NaN</td>\n",
       "      <td>NaN</td>\n",
       "      <td>NaN</td>\n",
       "      <td>1.243785e+08</td>\n",
       "      <td>1.258269e+09</td>\n",
       "      <td>NaN</td>\n",
       "      <td>NaN</td>\n",
       "      <td>NaN</td>\n",
       "      <td>NaN</td>\n",
       "    </tr>\n",
       "    <tr>\n",
       "      <th>2</th>\n",
       "      <td>Afghanistan, Islamic Rep. of</td>\n",
       "      <td>AF</td>\n",
       "      <td>AFG</td>\n",
       "      <td>Expenditure on biodiversity &amp; landscape protec...</td>\n",
       "      <td>International Monetary Fund (IMF), Statistics ...</td>\n",
       "      <td>GENB_G14</td>\n",
       "      <td>Expenditure on Biodiversity &amp; Landscape Protec...</td>\n",
       "      <td>Government and Public Sector Finance, Expendit...</td>\n",
       "      <td>Percent of GDP</td>\n",
       "      <td>NaN</td>\n",
       "      <td>...</td>\n",
       "      <td>NaN</td>\n",
       "      <td>NaN</td>\n",
       "      <td>NaN</td>\n",
       "      <td>NaN</td>\n",
       "      <td>9.433491e-03</td>\n",
       "      <td>9.134202e-02</td>\n",
       "      <td>NaN</td>\n",
       "      <td>NaN</td>\n",
       "      <td>NaN</td>\n",
       "      <td>NaN</td>\n",
       "    </tr>\n",
       "    <tr>\n",
       "      <th>3</th>\n",
       "      <td>Afghanistan, Islamic Rep. of</td>\n",
       "      <td>AF</td>\n",
       "      <td>AFG</td>\n",
       "      <td>Expenditure on environment protection</td>\n",
       "      <td>International Monetary Fund (IMF), Statistics ...</td>\n",
       "      <td>GEN_G14</td>\n",
       "      <td>Environmental Protection Expenditures</td>\n",
       "      <td>Government and Public Sector Finance, Expendit...</td>\n",
       "      <td>Domestic Currency</td>\n",
       "      <td>NaN</td>\n",
       "      <td>...</td>\n",
       "      <td>2.846995e+09</td>\n",
       "      <td>3.344665e+09</td>\n",
       "      <td>2.204964e+09</td>\n",
       "      <td>1.122601e+09</td>\n",
       "      <td>1.702933e+09</td>\n",
       "      <td>2.377937e+09</td>\n",
       "      <td>NaN</td>\n",
       "      <td>NaN</td>\n",
       "      <td>NaN</td>\n",
       "      <td>NaN</td>\n",
       "    </tr>\n",
       "    <tr>\n",
       "      <th>4</th>\n",
       "      <td>Afghanistan, Islamic Rep. of</td>\n",
       "      <td>AF</td>\n",
       "      <td>AFG</td>\n",
       "      <td>Expenditure on environment protection</td>\n",
       "      <td>International Monetary Fund (IMF), Statistics ...</td>\n",
       "      <td>GEN_G14</td>\n",
       "      <td>Environmental Protection Expenditures</td>\n",
       "      <td>Government and Public Sector Finance, Expendit...</td>\n",
       "      <td>Percent of GDP</td>\n",
       "      <td>NaN</td>\n",
       "      <td>...</td>\n",
       "      <td>2.754469e-01</td>\n",
       "      <td>2.994793e-01</td>\n",
       "      <td>1.863813e-01</td>\n",
       "      <td>9.152359e-02</td>\n",
       "      <td>1.291590e-01</td>\n",
       "      <td>1.726226e-01</td>\n",
       "      <td>NaN</td>\n",
       "      <td>NaN</td>\n",
       "      <td>NaN</td>\n",
       "      <td>NaN</td>\n",
       "    </tr>\n",
       "    <tr>\n",
       "      <th>5</th>\n",
       "      <td>Afghanistan, Islamic Rep. of</td>\n",
       "      <td>AF</td>\n",
       "      <td>AFG</td>\n",
       "      <td>Expenditure on environmental protection n.e.c.</td>\n",
       "      <td>International Monetary Fund (IMF), Statistics ...</td>\n",
       "      <td>GENO_G14</td>\n",
       "      <td>Expenditure on Environmental Protection Not El...</td>\n",
       "      <td>Government and Public Sector Finance, Expendit...</td>\n",
       "      <td>Domestic Currency</td>\n",
       "      <td>NaN</td>\n",
       "      <td>...</td>\n",
       "      <td>NaN</td>\n",
       "      <td>NaN</td>\n",
       "      <td>NaN</td>\n",
       "      <td>NaN</td>\n",
       "      <td>9.669078e+07</td>\n",
       "      <td>8.846917e+07</td>\n",
       "      <td>NaN</td>\n",
       "      <td>NaN</td>\n",
       "      <td>NaN</td>\n",
       "      <td>NaN</td>\n",
       "    </tr>\n",
       "  </tbody>\n",
       "</table>\n",
       "<p>5 rows × 36 columns</p>\n",
       "</div>"
      ],
      "text/plain": [
       "                               Country ISO2 ISO3   \n",
       "ObjectId                                           \n",
       "1         Afghanistan, Islamic Rep. of   AF  AFG  \\\n",
       "2         Afghanistan, Islamic Rep. of   AF  AFG   \n",
       "3         Afghanistan, Islamic Rep. of   AF  AFG   \n",
       "4         Afghanistan, Islamic Rep. of   AF  AFG   \n",
       "5         Afghanistan, Islamic Rep. of   AF  AFG   \n",
       "\n",
       "                                                  Indicator   \n",
       "ObjectId                                                      \n",
       "1         Expenditure on biodiversity & landscape protec...  \\\n",
       "2         Expenditure on biodiversity & landscape protec...   \n",
       "3                     Expenditure on environment protection   \n",
       "4                     Expenditure on environment protection   \n",
       "5            Expenditure on environmental protection n.e.c.   \n",
       "\n",
       "                                                     Source  CTS_Code   \n",
       "ObjectId                                                                \n",
       "1         International Monetary Fund (IMF), Statistics ...  GENB_G14  \\\n",
       "2         International Monetary Fund (IMF), Statistics ...  GENB_G14   \n",
       "3         International Monetary Fund (IMF), Statistics ...   GEN_G14   \n",
       "4         International Monetary Fund (IMF), Statistics ...   GEN_G14   \n",
       "5         International Monetary Fund (IMF), Statistics ...  GENO_G14   \n",
       "\n",
       "                                                   CTS_Name   \n",
       "ObjectId                                                      \n",
       "1         Expenditure on Biodiversity & Landscape Protec...  \\\n",
       "2         Expenditure on Biodiversity & Landscape Protec...   \n",
       "3                     Environmental Protection Expenditures   \n",
       "4                     Environmental Protection Expenditures   \n",
       "5         Expenditure on Environmental Protection Not El...   \n",
       "\n",
       "                                        CTS_Full_Descriptor   \n",
       "ObjectId                                                      \n",
       "1         Government and Public Sector Finance, Expendit...  \\\n",
       "2         Government and Public Sector Finance, Expendit...   \n",
       "3         Government and Public Sector Finance, Expendit...   \n",
       "4         Government and Public Sector Finance, Expendit...   \n",
       "5         Government and Public Sector Finance, Expendit...   \n",
       "\n",
       "                       Unit  F1995  ...         F2012         F2013   \n",
       "ObjectId                            ...                               \n",
       "1         Domestic Currency    NaN  ...           NaN           NaN  \\\n",
       "2            Percent of GDP    NaN  ...           NaN           NaN   \n",
       "3         Domestic Currency    NaN  ...  2.846995e+09  3.344665e+09   \n",
       "4            Percent of GDP    NaN  ...  2.754469e-01  2.994793e-01   \n",
       "5         Domestic Currency    NaN  ...           NaN           NaN   \n",
       "\n",
       "                 F2014         F2015         F2016         F2017  F2018   \n",
       "ObjectId                                                                  \n",
       "1                  NaN           NaN  1.243785e+08  1.258269e+09    NaN  \\\n",
       "2                  NaN           NaN  9.433491e-03  9.134202e-02    NaN   \n",
       "3         2.204964e+09  1.122601e+09  1.702933e+09  2.377937e+09    NaN   \n",
       "4         1.863813e-01  9.152359e-02  1.291590e-01  1.726226e-01    NaN   \n",
       "5                  NaN           NaN  9.669078e+07  8.846917e+07    NaN   \n",
       "\n",
       "          F2019  F2020  F2021  \n",
       "ObjectId                       \n",
       "1           NaN    NaN    NaN  \n",
       "2           NaN    NaN    NaN  \n",
       "3           NaN    NaN    NaN  \n",
       "4           NaN    NaN    NaN  \n",
       "5           NaN    NaN    NaN  \n",
       "\n",
       "[5 rows x 36 columns]"
      ]
     },
     "execution_count": 63,
     "metadata": {},
     "output_type": "execute_result"
    }
   ],
   "source": [
    "expenditures = pd.read_csv(\"input/policy/Environmental_Protection_Expenditures.csv\", index_col=0, keep_default_na=False, na_values=\"\")\n",
    "expenditures.head(5)"
   ]
  },
  {
   "cell_type": "code",
   "execution_count": 64,
   "metadata": {},
   "outputs": [
    {
     "name": "stdout",
     "output_type": "stream",
     "text": [
      "Number of countries: 197\n",
      "Number of expenditures: 21\n"
     ]
    }
   ],
   "source": [
    "exp_country_nodes = expenditures.ISO2.unique()\n",
    "exp_policy_nodes = expenditures.CTS_Code.unique()\n",
    "print(\"Number of countries:\", len(country_nodes))\n",
    "print(\"Number of expenditures:\", len(policy_nodes))\n",
    "\n",
    "E = nx.Graph()\n",
    "E.add_nodes_from(country_nodes, bipartite=0)\n",
    "E.add_nodes_from(policy_nodes, bipartite=1)"
   ]
  },
  {
   "cell_type": "code",
   "execution_count": 65,
   "metadata": {},
   "outputs": [],
   "source": [
    "expenditure_edge_dict = {}\n",
    "\n",
    "exp_sub = expenditures[expenditures.Unit == \"Percent of GDP\"]\n",
    "for year in exp_sub.columns[9:]:\n",
    "    edge_list = []\n",
    "    for country in exp_country_nodes:\n",
    "        subset = exp_sub[exp_sub.ISO2 == country]\n",
    "        for policy in exp_policy_nodes:\n",
    "            weight = subset[subset.CTS_Code == policy][year].values\n",
    "            if weight.size > 0 and weight > 0:\n",
    "                edge = (country, policy, weight[0])\n",
    "                edge_list.append(edge)\n",
    "    expenditure_edge_dict[int(year[1:])] = edge_list\n",
    "    \n"
   ]
  },
  {
   "cell_type": "code",
   "execution_count": 43,
   "metadata": {},
   "outputs": [
    {
     "name": "stdout",
     "output_type": "stream",
     "text": [
      "Number of possible edges: 4137\n"
     ]
    },
    {
     "ename": "NameError",
     "evalue": "name 'edges' is not defined",
     "output_type": "error",
     "traceback": [
      "\u001b[0;31m---------------------------------------------------------------------------\u001b[0m",
      "\u001b[0;31mNameError\u001b[0m                                 Traceback (most recent call last)",
      "\u001b[0;32m<ipython-input-43-0684ef93f694>\u001b[0m in \u001b[0;36m<module>\u001b[0;34m\u001b[0m\n\u001b[1;32m      1\u001b[0m \u001b[0mprint\u001b[0m\u001b[0;34m(\u001b[0m\u001b[0;34m\"Number of possible edges:\"\u001b[0m\u001b[0;34m,\u001b[0m \u001b[0mlen\u001b[0m\u001b[0;34m(\u001b[0m\u001b[0mcountry_nodes\u001b[0m\u001b[0;34m)\u001b[0m \u001b[0;34m*\u001b[0m \u001b[0mlen\u001b[0m\u001b[0;34m(\u001b[0m\u001b[0mpolicy_nodes\u001b[0m\u001b[0;34m)\u001b[0m\u001b[0;34m)\u001b[0m\u001b[0;34m\u001b[0m\u001b[0;34m\u001b[0m\u001b[0m\n\u001b[0;32m----> 2\u001b[0;31m \u001b[0mprint\u001b[0m\u001b[0;34m(\u001b[0m\u001b[0;34m\"Number of edges:\"\u001b[0m\u001b[0;34m,\u001b[0m \u001b[0mlen\u001b[0m\u001b[0;34m(\u001b[0m\u001b[0medges\u001b[0m\u001b[0;34m)\u001b[0m\u001b[0;34m)\u001b[0m\u001b[0;34m\u001b[0m\u001b[0;34m\u001b[0m\u001b[0m\n\u001b[0m",
      "\u001b[0;31mNameError\u001b[0m: name 'edges' is not defined"
     ]
    }
   ],
   "source": [
    "print(\"Number of possible edges:\", len(country_nodes) * len(policy_nodes))\n",
    "print(\"Number of edges:\", len(edges))"
   ]
  },
  {
   "attachments": {},
   "cell_type": "markdown",
   "metadata": {},
   "source": [
    "### Change Point Detection"
   ]
  },
  {
   "cell_type": "code",
   "execution_count": 66,
   "metadata": {},
   "outputs": [
    {
     "name": "stderr",
     "output_type": "stream",
     "text": [
      "<class 'networkx.utils.decorators.argmap'> compilation 4:4: FutureWarning: normalized_laplacian_matrix will return a scipy.sparse array instead of a matrix in Networkx 3.0.\n",
      "  import inspect\n"
     ]
    },
    {
     "data": {
      "image/png": "[encoded data removed]",
      "text/plain": [
       "<Figure size 640x480 with 1 Axes>"
      ]
     },
     "metadata": {},
     "output_type": "display_data"
    }
   ],
   "source": [
    "expenditures_years = []\n",
    "for key in expenditure_edge_dict.keys():\n",
    "    expenditures_years.append(key)\n",
    "\n",
    "windowSize = 3\n",
    "Z_list, year_list = change_point_detection(windowSize, E, expenditures_years, expenditure_edge_dict)\n",
    "\n",
    "\n",
    "fig,ax = plt.subplots()\n",
    "# Using years var from last cell\n",
    "ax.plot(year_list, Z_list)\n",
    "ax.set_title(\"Change Point Detection Expenditures\")\n",
    "ax.set_ylabel(\"Change Value\")\n",
    "ax.set_xlabel(\"Year\")\n",
    "\n",
    "plt.show()"
   ]
  },
  {
   "attachments": {},
   "cell_type": "markdown",
   "metadata": {},
   "source": [
    "### Analysis"
   ]
  },
  {
   "cell_type": "code",
   "execution_count": 89,
   "metadata": {},
   "outputs": [
    {
     "name": "stdout",
     "output_type": "stream",
     "text": [
      "{'AU', 'HK', 'IL', 'NL', 'CA', 'JP', 'LV', 'NO', 'Green Bonds', 'RO', 'US', 'BR', 'VN', 'GG', 'CL', 'MX', 'FI', 'NZ', 'IN', 'MU', 'FR', 'MY', 'SE', 'CH', 'IS', 'ID', 'IE', 'DK', 'RU', 'HU', 'JE', 'TW', 'GR', 'KR', 'LI', 'PH', 'BM', 'BE', 'SG', 'TR', 'UA', 'LU', 'PK', 'CZ', 'GE', 'ES', 'Green Bonds Issuances', 'CO', 'MO', 'IT', 'DE', 'PL', 'RS', 'BD', 'VG', 'SK', 'TH', 'KY', 'GB', 'CN', 'ZA', 'AE', 'PT', 'AT', 'AR'}\n",
      "{'CR'}\n",
      "{'EG'}\n",
      "{'EE'}\n",
      "{'FJ'}\n",
      "{'LT'}\n",
      "{'MH'}\n",
      "{'MA'}\n",
      "{'NA'}\n",
      "{'NG'}\n",
      "{'PA'}\n",
      "{'PE'}\n",
      "{'SC'}\n",
      "{'SI'}\n"
     ]
    }
   ],
   "source": [
    "for comp in nx.connected_components(B):\n",
    "    print(comp)"
   ]
  },
  {
   "attachments": {},
   "cell_type": "markdown",
   "metadata": {},
   "source": [
    "### Clustering"
   ]
  },
  {
   "cell_type": "code",
   "execution_count": 45,
   "metadata": {},
   "outputs": [],
   "source": [
    "expenditures_node_mapping = {}\n",
    "\n",
    "i = 0\n",
    "for country in expenditures[\"ISO2\"].unique():\n",
    "    expenditures_node_mapping[country] = f\"u{i}\"\n",
    "    i += 1\n",
    "\n",
    "\n",
    "j = 0\n",
    "for policy in expenditures[\"CTS_Code\"].unique():\n",
    "    expenditures_node_mapping[policy] = f\"i{j}\"\n",
    "    j += 1\n",
    "\n",
    "inv_taxes_mapping = {v: k for k, v in expenditures_node_mapping.items()}"
   ]
  },
  {
   "cell_type": "code",
   "execution_count": 47,
   "metadata": {},
   "outputs": [],
   "source": [
    "# Create files \n",
    "for year in expenditures_years:\n",
    "    E.remove_edges_from(E.edges)\n",
    "    E.add_weighted_edges_from(expenditure_edge_dict[year])\n",
    "\n",
    "    E_integer = nx.relabel_nodes(E, expenditures_node_mapping)\n",
    "\n",
    "    fileName = f\"BiNE-master/data/expenditures/expenditures_{year}_edgelist.dat\"\n",
    "    nx.write_weighted_edgelist(E_integer, fileName, delimiter = \"\\t\")\n",
    "\n",
    "# Writes command line prompt to file\n",
    "with open(\"Expenditures_commands.txt\", \"w\") as f:\n",
    "    for year in tax_years:\n",
    "        command = f\"python train.py --train-data ../data/expenditures/expenditures_{year}_edgelist.dat --lam 0.025 --max-iter 100 --large 2 --vectors-u ../data/expenditures/vectors_u_{year}.dat --vectors-v ../data/expenditures/vectors_v_{year}.dat &&\"\n",
    "        f.write(command)"
   ]
  }
 ],
 "metadata": {
  "kernelspec": {
   "display_name": "Python 3",
   "language": "python",
   "name": "python3"
  },
  "language_info": {
   "codemirror_mode": {
    "name": "ipython",
    "version": 3
   },
   "file_extension": ".py",
   "mimetype": "text/x-python",
   "name": "python",
   "nbconvert_exporter": "python",
   "pygments_lexer": "ipython3",
   "version": "3.11.3"
  },
  "orig_nbformat": 4
 },
 "nbformat": 4,
 "nbformat_minor": 2
}
