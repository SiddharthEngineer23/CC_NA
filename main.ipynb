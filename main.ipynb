{
 "cells": [
  {
   "cell_type": "code",
   "execution_count": 1,
   "metadata": {},
   "outputs": [],
   "source": [
    "import pandas as pd\n",
    "import numpy as np\n",
    "import networkx as nx"
   ]
  },
  {
   "attachments": {},
   "cell_type": "markdown",
   "metadata": {},
   "source": [
    "### Building First Bi-Partite Graph"
   ]
  },
  {
   "attachments": {},
   "cell_type": "markdown",
   "metadata": {},
   "source": [
    "Note that we need to keep values titled \"NA\" because that's Namibia's ISO2 code. Also, Kosovo doesn't have an ISO3 so we can't use that."
   ]
  },
  {
   "cell_type": "code",
   "execution_count": 3,
   "metadata": {},
   "outputs": [
    {
     "data": {
      "text/html": [
       "<div>\n",
       "<style scoped>\n",
       "    .dataframe tbody tr th:only-of-type {\n",
       "        vertical-align: middle;\n",
       "    }\n",
       "\n",
       "    .dataframe tbody tr th {\n",
       "        vertical-align: top;\n",
       "    }\n",
       "\n",
       "    .dataframe thead th {\n",
       "        text-align: right;\n",
       "    }\n",
       "</style>\n",
       "<table border=\"1\" class=\"dataframe\">\n",
       "  <thead>\n",
       "    <tr style=\"text-align: right;\">\n",
       "      <th></th>\n",
       "      <th>Country</th>\n",
       "      <th>ISO2</th>\n",
       "      <th>ISO3</th>\n",
       "      <th>Indicator</th>\n",
       "      <th>Source</th>\n",
       "      <th>CTS_Code</th>\n",
       "      <th>CTS_Name</th>\n",
       "      <th>CTS_Full_Descriptor</th>\n",
       "      <th>Unit</th>\n",
       "      <th>F2015</th>\n",
       "      <th>F2016</th>\n",
       "      <th>F2017</th>\n",
       "      <th>F2018</th>\n",
       "      <th>F2019</th>\n",
       "      <th>F2020</th>\n",
       "      <th>F2021</th>\n",
       "      <th>F2022</th>\n",
       "      <th>F2023</th>\n",
       "      <th>F2024</th>\n",
       "      <th>F2025</th>\n",
       "    </tr>\n",
       "    <tr>\n",
       "      <th>ObjectId</th>\n",
       "      <th></th>\n",
       "      <th></th>\n",
       "      <th></th>\n",
       "      <th></th>\n",
       "      <th></th>\n",
       "      <th></th>\n",
       "      <th></th>\n",
       "      <th></th>\n",
       "      <th></th>\n",
       "      <th></th>\n",
       "      <th></th>\n",
       "      <th></th>\n",
       "      <th></th>\n",
       "      <th></th>\n",
       "      <th></th>\n",
       "      <th></th>\n",
       "      <th></th>\n",
       "      <th></th>\n",
       "      <th></th>\n",
       "      <th></th>\n",
       "    </tr>\n",
       "  </thead>\n",
       "  <tbody>\n",
       "    <tr>\n",
       "      <th>1</th>\n",
       "      <td>Afghanistan, Islamic Rep. of</td>\n",
       "      <td>AF</td>\n",
       "      <td>AFG</td>\n",
       "      <td>Explicit Fossil Fuel Subsidies - Coal</td>\n",
       "      <td>Parry, Ian; Black, Simon; Vernon, Nate. Septem...</td>\n",
       "      <td>ECGFTEC</td>\n",
       "      <td>Explicit; Coal</td>\n",
       "      <td>Environment, Climate Change, Government Policy...</td>\n",
       "      <td>Percent of GDP</td>\n",
       "      <td>0.0</td>\n",
       "      <td>0.0</td>\n",
       "      <td>0.0</td>\n",
       "      <td>0.000000</td>\n",
       "      <td>0.000000</td>\n",
       "      <td>0.000000</td>\n",
       "      <td>0.000000</td>\n",
       "      <td>0.000000</td>\n",
       "      <td>0.000000</td>\n",
       "      <td>0.000000</td>\n",
       "      <td>0.000000</td>\n",
       "    </tr>\n",
       "    <tr>\n",
       "      <th>2</th>\n",
       "      <td>Afghanistan, Islamic Rep. of</td>\n",
       "      <td>AF</td>\n",
       "      <td>AFG</td>\n",
       "      <td>Explicit Fossil Fuel Subsidies - Coal</td>\n",
       "      <td>Parry, Ian; Black, Simon; Vernon, Nate. Septem...</td>\n",
       "      <td>ECGFTEC</td>\n",
       "      <td>Explicit; Coal</td>\n",
       "      <td>Environment, Climate Change, Government Policy...</td>\n",
       "      <td>US Dollars</td>\n",
       "      <td>0.0</td>\n",
       "      <td>0.0</td>\n",
       "      <td>0.0</td>\n",
       "      <td>0.000000</td>\n",
       "      <td>0.000000</td>\n",
       "      <td>0.000000</td>\n",
       "      <td>0.000000</td>\n",
       "      <td>0.000000</td>\n",
       "      <td>0.000000</td>\n",
       "      <td>0.000000</td>\n",
       "      <td>0.000000</td>\n",
       "    </tr>\n",
       "    <tr>\n",
       "      <th>3</th>\n",
       "      <td>Afghanistan, Islamic Rep. of</td>\n",
       "      <td>AF</td>\n",
       "      <td>AFG</td>\n",
       "      <td>Explicit Fossil Fuel Subsidies - Electricity</td>\n",
       "      <td>Parry, Ian; Black, Simon; Vernon, Nate. Septem...</td>\n",
       "      <td>ECGFTET</td>\n",
       "      <td>Explicit; Electricity</td>\n",
       "      <td>Environment, Climate Change, Government Policy...</td>\n",
       "      <td>Percent of GDP</td>\n",
       "      <td>0.0</td>\n",
       "      <td>0.0</td>\n",
       "      <td>0.0</td>\n",
       "      <td>0.083287</td>\n",
       "      <td>0.375834</td>\n",
       "      <td>0.075661</td>\n",
       "      <td>0.252216</td>\n",
       "      <td>0.247982</td>\n",
       "      <td>0.270226</td>\n",
       "      <td>0.271118</td>\n",
       "      <td>0.245831</td>\n",
       "    </tr>\n",
       "  </tbody>\n",
       "</table>\n",
       "</div>"
      ],
      "text/plain": [
       "                               Country ISO2 ISO3  \\\n",
       "ObjectId                                           \n",
       "1         Afghanistan, Islamic Rep. of   AF  AFG   \n",
       "2         Afghanistan, Islamic Rep. of   AF  AFG   \n",
       "3         Afghanistan, Islamic Rep. of   AF  AFG   \n",
       "\n",
       "                                             Indicator  \\\n",
       "ObjectId                                                 \n",
       "1                Explicit Fossil Fuel Subsidies - Coal   \n",
       "2                Explicit Fossil Fuel Subsidies - Coal   \n",
       "3         Explicit Fossil Fuel Subsidies - Electricity   \n",
       "\n",
       "                                                     Source CTS_Code  \\\n",
       "ObjectId                                                               \n",
       "1         Parry, Ian; Black, Simon; Vernon, Nate. Septem...  ECGFTEC   \n",
       "2         Parry, Ian; Black, Simon; Vernon, Nate. Septem...  ECGFTEC   \n",
       "3         Parry, Ian; Black, Simon; Vernon, Nate. Septem...  ECGFTET   \n",
       "\n",
       "                       CTS_Name  \\\n",
       "ObjectId                          \n",
       "1                Explicit; Coal   \n",
       "2                Explicit; Coal   \n",
       "3         Explicit; Electricity   \n",
       "\n",
       "                                        CTS_Full_Descriptor            Unit  \\\n",
       "ObjectId                                                                      \n",
       "1         Environment, Climate Change, Government Policy...  Percent of GDP   \n",
       "2         Environment, Climate Change, Government Policy...      US Dollars   \n",
       "3         Environment, Climate Change, Government Policy...  Percent of GDP   \n",
       "\n",
       "          F2015  F2016  F2017     F2018     F2019     F2020     F2021  \\\n",
       "ObjectId                                                                \n",
       "1           0.0    0.0    0.0  0.000000  0.000000  0.000000  0.000000   \n",
       "2           0.0    0.0    0.0  0.000000  0.000000  0.000000  0.000000   \n",
       "3           0.0    0.0    0.0  0.083287  0.375834  0.075661  0.252216   \n",
       "\n",
       "             F2022     F2023     F2024     F2025  \n",
       "ObjectId                                          \n",
       "1         0.000000  0.000000  0.000000  0.000000  \n",
       "2         0.000000  0.000000  0.000000  0.000000  \n",
       "3         0.247982  0.270226  0.271118  0.245831  "
      ]
     },
     "execution_count": 3,
     "metadata": {},
     "output_type": "execute_result"
    }
   ],
   "source": [
    "subsidy = pd.read_csv('input/policy/Fossil_Fuel_Subsidies.csv', index_col=0, keep_default_na=False, na_values=\"\")\n",
    "subsidy.head(3)"
   ]
  },
  {
   "cell_type": "code",
   "execution_count": 4,
   "metadata": {},
   "outputs": [
    {
     "name": "stdout",
     "output_type": "stream",
     "text": [
      "Number of Countries: 197\n",
      "Number of Subsidies: 21\n"
     ]
    }
   ],
   "source": [
    "country_nodes = subsidy.ISO2.unique()\n",
    "policy_nodes = subsidy.CTS_Code.unique()\n",
    "print(\"Number of Countries:\", len(country_nodes))\n",
    "print(\"Number of Subsidies:\", len(policy_nodes))"
   ]
  },
  {
   "attachments": {},
   "cell_type": "markdown",
   "metadata": {},
   "source": [
    "Another question would be how do we create groups of subsidies."
   ]
  },
  {
   "cell_type": "code",
   "execution_count": 5,
   "metadata": {},
   "outputs": [],
   "source": [
    "B = nx.Graph()\n",
    "B.add_nodes_from(country_nodes, bipartite=0)\n",
    "B.add_nodes_from(policy_nodes, bipartite=1)"
   ]
  },
  {
   "attachments": {},
   "cell_type": "markdown",
   "metadata": {},
   "source": [
    "Note that the following countries do not have the Petroleum field. We'll simply not draw edges."
   ]
  },
  {
   "cell_type": "code",
   "execution_count": 6,
   "metadata": {},
   "outputs": [
    {
     "name": "stdout",
     "output_type": "stream",
     "text": [
      "AI 20\n",
      "{'Implicit; Petroleum'}\n",
      "MH 20\n",
      "{'Implicit; Petroleum'}\n",
      "PW 20\n",
      "{'Implicit; Petroleum'}\n",
      "SM 20\n",
      "{'Implicit; Petroleum'}\n",
      "TV 20\n",
      "{'Implicit; Petroleum'}\n"
     ]
    }
   ],
   "source": [
    "full = set(subsidy[subsidy.ISO2 == \"AF\"].CTS_Name)\n",
    "subsidy_sub = subsidy[subsidy.Unit == \"Percent of GDP\"]\n",
    "for country in country_nodes:\n",
    "    subset = subsidy_sub[subsidy_sub.ISO2 == country]\n",
    "    if len(subset) < 21:\n",
    "        print(country, len(subset))\n",
    "        partial = set(subsidy[subsidy.ISO2 == country].CTS_Name)\n",
    "        print(full - partial)"
   ]
  },
  {
   "attachments": {},
   "cell_type": "markdown",
   "metadata": {},
   "source": [
    "Loop through every country/policy combination and add an edge if the value for specified year was greater than 0."
   ]
  },
  {
   "cell_type": "code",
   "execution_count": 7,
   "metadata": {},
   "outputs": [],
   "source": [
    "df_temp = subsidy[subsidy.Unit == \"Percent of GDP\"]\n",
    "df_temp.set_index([\"ISO2\", \"CTS_Code\"], inplace = True)\n",
    "edge_list = []\n",
    "year = \"F2018\"\n",
    "\n",
    "for country in country_nodes:\n",
    "    subset = df_temp.loc[country]\n",
    "    for policy_code in subset.index:\n",
    "        weight = subset.loc[policy_code][year]\n",
    "        if weight > 0:\n",
    "            edge = (country, policy_code, weight)\n",
    "            edge_list.append(edge)\n",
    "\n",
    "B.add_weighted_edges_from(edge_list)"
   ]
  },
  {
   "cell_type": "code",
   "execution_count": 8,
   "metadata": {},
   "outputs": [
    {
     "name": "stdout",
     "output_type": "stream",
     "text": [
      "Number of Edges: 2625\n",
      "Number of Possible Edges: 4137\n"
     ]
    }
   ],
   "source": [
    "print(\"Number of Edges:\", B.number_of_edges())\n",
    "print(\"Number of Possible Edges:\", len(country_nodes) * len(policy_nodes))"
   ]
  },
  {
   "attachments": {},
   "cell_type": "markdown",
   "metadata": {},
   "source": [
    "### Green Bonds Graph"
   ]
  },
  {
   "cell_type": "code",
   "execution_count": 94,
   "metadata": {},
   "outputs": [],
   "source": [
    "green_bonds = pd.read_csv(\"input/policy/Green_Bonds.csv\", index_col=0, keep_default_na=False, na_values=\"\")\n",
    "\n",
    "# Filtered Down to countries\n",
    "green_bonds = green_bonds[np.logical_not(green_bonds[\"ISO2\"].isna())]\n",
    "\n",
    "green_bond_country_nodes = green_bonds.ISO2.unique()\n",
    "\n",
    "# Need to figure out the differences between these bonds\n",
    "bonds_nodes = green_bonds[\"CTS_Name\"].unique()"
   ]
  },
  {
   "attachments": {},
   "cell_type": "markdown",
   "metadata": {},
   "source": [
    "Looks likes most years no one invested in bonds. Still very few countries invest in bonds but each year it seems the number increases."
   ]
  },
  {
   "cell_type": "code",
   "execution_count": 95,
   "metadata": {},
   "outputs": [
    {
     "ename": "TypeError",
     "evalue": "'PandasArray' object is not callable",
     "output_type": "error",
     "traceback": [
      "\u001b[0;31m---------------------------------------------------------------------------\u001b[0m",
      "\u001b[0;31mTypeError\u001b[0m                                 Traceback (most recent call last)",
      "\u001b[0;32m<ipython-input-95-6af7675343bc>\u001b[0m in \u001b[0;36m<module>\u001b[0;34m\u001b[0m\n\u001b[1;32m      2\u001b[0m \u001b[0;34m\u001b[0m\u001b[0m\n\u001b[1;32m      3\u001b[0m \u001b[0;31m# Get the data\u001b[0m\u001b[0;34m\u001b[0m\u001b[0;34m\u001b[0m\u001b[0;34m\u001b[0m\u001b[0m\n\u001b[0;32m----> 4\u001b[0;31m \u001b[0mnum_countries\u001b[0m \u001b[0;34m=\u001b[0m \u001b[0mgreen_bonds\u001b[0m\u001b[0;34m[\u001b[0m\u001b[0mgreen_bonds\u001b[0m\u001b[0;34m.\u001b[0m\u001b[0mcolumns\u001b[0m\u001b[0;34m[\u001b[0m\u001b[0;36m12\u001b[0m\u001b[0;34m:\u001b[0m\u001b[0;34m]\u001b[0m\u001b[0;34m]\u001b[0m\u001b[0;34m.\u001b[0m\u001b[0mcount\u001b[0m\u001b[0;34m(\u001b[0m\u001b[0;34m)\u001b[0m\u001b[0;34m.\u001b[0m\u001b[0marray\u001b[0m\u001b[0;34m(\u001b[0m\u001b[0;34m)\u001b[0m\u001b[0;34m\u001b[0m\u001b[0;34m\u001b[0m\u001b[0m\n\u001b[0m\u001b[1;32m      5\u001b[0m \u001b[0myears\u001b[0m \u001b[0;34m=\u001b[0m \u001b[0;34m[\u001b[0m\u001b[0mint\u001b[0m\u001b[0;34m(\u001b[0m\u001b[0myear\u001b[0m\u001b[0;34m[\u001b[0m\u001b[0;36m1\u001b[0m\u001b[0;34m:\u001b[0m\u001b[0;34m]\u001b[0m\u001b[0;34m)\u001b[0m \u001b[0;32mfor\u001b[0m \u001b[0myear\u001b[0m \u001b[0;32min\u001b[0m \u001b[0mgreen_bonds\u001b[0m\u001b[0;34m.\u001b[0m\u001b[0mindex\u001b[0m\u001b[0;34m]\u001b[0m\u001b[0;34m\u001b[0m\u001b[0;34m\u001b[0m\u001b[0m\n\u001b[1;32m      6\u001b[0m \u001b[0;34m\u001b[0m\u001b[0m\n",
      "\u001b[0;31mTypeError\u001b[0m: 'PandasArray' object is not callable"
     ]
    }
   ],
   "source": [
    "import matplotlib.pyplot as plt\n",
    "\n",
    "# Get the data\n",
    "num_countries = green_bonds[green_bonds.columns[12:]].count().array()\n",
    "years = [int(year[1:]) for year in green_bonds.index]\n",
    "\n",
    "# Plot\n",
    "fig,ax = plt.subplots()\n",
    "ax.scatter(years, num_countries)\n",
    "ax.set_title(\"Number of Countries using Green Bonds by year\")\n",
    "ax.set_ylabel(\"Number of Countries\")\n",
    "ax.set_xlabel(\"Year\")\n",
    "\n",
    "plt.show()"
   ]
  },
  {
   "attachments": {},
   "cell_type": "markdown",
   "metadata": {},
   "source": [
    "Furthermore we can break the graph down into its two different categories"
   ]
  },
  {
   "cell_type": "code",
   "execution_count": null,
   "metadata": {},
   "outputs": [
    {
     "data": {
      "image/png": "[encoded data removed]",
      "text/plain": [
       "<Figure size 432x288 with 1 Axes>"
      ]
     },
     "metadata": {
      "needs_background": "light"
     },
     "output_type": "display_data"
    }
   ],
   "source": [
    "import matplotlib.pyplot as plt\n",
    "\n",
    "# Get the data\n",
    "issuances = green_bonds[green_bonds[\"CTS_Name\"] == \"Green Bonds Issuances\"]\n",
    "\n",
    "# Calculate Variables\n",
    "issuance_count = issuances[issuances.columns[12:]].count()\n",
    "nonissuance_count = num_countries - issuance_count\n",
    "y = np.vstack([nonissuance_count, issuance_count])\n",
    "\n",
    "# Plot\n",
    "fig,ax = plt.subplots()\n",
    "# Using years var from last cell\n",
    "ax.stackplot(years, y, labels = [\"Nonissuance Green Bonds\", \"Issuance Green Bonds\",])\n",
    "ax.set_title(\"Number of Countries using Green Bonds by year\")\n",
    "ax.set_ylabel(\"Number of Countries\")\n",
    "ax.set_xlabel(\"Year\")\n",
    "ax.legend(loc = \"upper left\")\n",
    "\n",
    "plt.show()"
   ]
  },
  {
   "cell_type": "code",
   "execution_count": null,
   "metadata": {},
   "outputs": [],
   "source": [
    "Bonds = nx.Graph()\n",
    "Bonds.add_nodes_from(green_bond_country_nodes, bipartite=0)\n",
    "Bonds.add_nodes_from(bonds_nodes, bipartite=1)"
   ]
  },
  {
   "cell_type": "code",
   "execution_count": null,
   "metadata": {},
   "outputs": [],
   "source": [
    "green_bonds_temp = green_bonds.set_index([\"ISO2\", \"CTS_Name\"], inplace = False)\n",
    "green_bonds_temp\n",
    "edge_list = []\n",
    "year = \"F2015\"\n",
    "\n",
    "for country in green_bond_country_nodes:\n",
    "    subset = green_bonds_temp.loc[country]\n",
    "    for bond in subset.index:\n",
    "        weight = subset.loc[bond][year]\n",
    "        if weight > 0:\n",
    "            edge = (country, bond, weight)\n",
    "            edge_list.append(edge)\n",
    "\n",
    "Bonds.add_weighted_edges_from(edge_list)"
   ]
  },
  {
   "attachments": {},
   "cell_type": "markdown",
   "metadata": {},
   "source": [
    "### Environmental Taxes"
   ]
  },
  {
   "attachments": {},
   "cell_type": "markdown",
   "metadata": {},
   "source": [
    "First lets load in the data and take a quick peak.  The final table is a table about how many measures each country implements."
   ]
  },
  {
   "cell_type": "code",
   "execution_count": 9,
   "metadata": {},
   "outputs": [
    {
     "name": "stdout",
     "output_type": "stream",
     "text": [
      "There are 124 unique countries that are implementing environmental taxes\n",
      "Each country typically reports 10 different measures, but there are a few that report less than 10 measures\n"
     ]
    },
    {
     "data": {
      "text/plain": [
       "10    118\n",
       "8       3\n",
       "6       1\n",
       "5       1\n",
       "4       1\n",
       "Name: Country, dtype: int64"
      ]
     },
     "execution_count": 9,
     "metadata": {},
     "output_type": "execute_result"
    }
   ],
   "source": [
    "taxes = pd.read_csv(\"input/policy/Environmental_Taxes.csv\")\n",
    "\n",
    "num_countries = len(taxes[\"Country\"].unique())\n",
    "print(f\"There are {num_countries} unique countries that are implementing environmental taxes\")\n",
    "print(\"Each country typically reports 10 different measures, but there are a few that report less than 10 measures\")\n",
    "\n",
    "taxes.Country.value_counts().value_counts()"
   ]
  },
  {
   "cell_type": "code",
   "execution_count": 11,
   "metadata": {},
   "outputs": [
    {
     "name": "stdout",
     "output_type": "stream",
     "text": [
      "Number of Countries: 124\n",
      "Number of Subsidies: 5\n"
     ]
    }
   ],
   "source": [
    "country_nodes = taxes.ISO2.unique()\n",
    "policy_nodes = taxes.CTS_Code.unique()\n",
    "print(\"Number of Countries:\", len(country_nodes))\n",
    "print(\"Number of Subsidies:\", len(policy_nodes))\n",
    "\n",
    "B = nx.Graph()\n",
    "B.add_nodes_from(country_nodes, bipartite=0)\n",
    "B.add_nodes_from(policy_nodes, bipartite=1)"
   ]
  },
  {
   "cell_type": "code",
   "execution_count": null,
   "metadata": {},
   "outputs": [],
   "source": [
    "edges = []\n",
    "year = \"F2018\"\n",
    "taxes_sub = taxes[taxes.Unit == \"Percent of GDP\"]\n",
    "for country in country_nodes:\n",
    "    subset = taxes_sub[taxes_sub.ISO2 == country]\n",
    "    for policy in policy_nodes:\n",
    "        weight = subset[subset.CTS_Code == policy][year].values\n",
    "        if weight > 0:\n",
    "            edge = (country, policy, weight[0])\n",
    "            edges.append(edge)"
   ]
  },
  {
   "cell_type": "code",
   "execution_count": 75,
   "metadata": {},
   "outputs": [
    {
     "name": "stdout",
     "output_type": "stream",
     "text": [
      "Number of Edges: 415\n",
      "Number of Possible Edges: 620\n"
     ]
    }
   ],
   "source": [
    "B.add_weighted_edges_from(edges)\n",
    "print(\"Number of Edges:\", B.number_of_edges())\n",
    "print(\"Number of Possible Edges:\", len(country_nodes) * len(policy_nodes))"
   ]
  },
  {
   "attachments": {},
   "cell_type": "markdown",
   "metadata": {},
   "source": [
    "### Environmental Protection Expenditures"
   ]
  },
  {
   "cell_type": "code",
   "execution_count": null,
   "metadata": {},
   "outputs": [],
   "source": [
    "expenditures = pd.read_csv(\"input/policy/Environmental_Protection_Expenditures.csv\")\n",
    "# testing"
   ]
  },
  {
   "attachments": {},
   "cell_type": "markdown",
   "metadata": {},
   "source": [
    "### Analysis"
   ]
  },
  {
   "cell_type": "code",
   "execution_count": 96,
   "metadata": {},
   "outputs": [
    {
     "name": "stdout",
     "output_type": "stream",
     "text": [
      "{'KH', 'BY', 'QA', 'HU', 'LC', 'GQ', 'ECGFTT', 'HR', 'SR', 'ZW', 'AE', 'ET', 'CD', 'LY', 'IQ', 'SS', 'ECGFTP', 'ECGFTI', 'BO', 'BA', 'RW', 'ECGFTIP', 'GA', 'ECGFTIF', 'NI', 'DO', 'SV', 'ID', 'ECGFT', 'RS', 'BT', 'PS', 'CN', 'UA', 'CR', 'DK', 'SC', 'TG', 'ECGFTEC', 'SY', 'NA', 'NR', 'MK', 'NL', 'IR', 'LU', 'DE', 'CM', 'WS', 'KI', 'DZ', 'CO', 'TO', 'LT', 'TZ', 'GT', 'XK', 'ECGFTET', 'ECGFTIR', 'ECGFTIL', 'CG', 'NE', 'PK', 'IS', 'BD', 'ECGFTEN', 'MY', 'TR', 'ZM', 'MX', 'SG', 'BB', 'KG', 'SE', 'LB', 'ECGFTE', 'CH', 'ML', 'KW', 'BF', 'GB', 'AW', 'MT', 'MZ', 'SO', 'MU', 'NG', 'ECGFTIN', 'AR', 'IL', 'MR', 'MO', 'TW', 'ECGFTIA', 'ECGFTIG', 'AG', 'TL', 'OM', 'IN', 'AF', 'ECGFTIC', 'KM', 'TN', 'IE', 'GY', 'JO', 'ECGFTIW', 'BR', 'MW', 'FM', 'NP', 'AU', 'BN', 'PE', 'TT', 'GD', 'ECGFTIT', 'GR', 'AT', 'AM', 'GE', 'FJ', 'MA', 'VC', 'ECGFTEP', 'BZ', 'CV', 'CF', 'BH', 'CZ', 'NZ', 'FI', 'RO', 'PA', 'MM', 'EG', 'FR', 'US', 'MN', 'LK', 'PT', 'TM', 'SI', 'VN', 'BE', 'VU', 'PL', 'CI', 'PH', 'MG', 'YE', 'RU', 'ES', 'LA', 'ECGFTC', 'HT', 'NO', 'LS', 'LV', 'KR', 'EC', 'KN', 'SB', 'PY', 'IT', 'GN', 'TH', 'BG', 'BW', 'TD', 'JM', 'ST', 'GH', 'ZA', 'MD', 'CA', 'UZ', 'AL', 'ME', 'BJ', 'CY', 'JP', 'MS', 'SD', 'TJ', 'ECGFTN', 'AO', 'SZ', 'KZ', 'CL', 'PR', 'MV', 'VE', 'HN', 'PG', 'KE', 'DJ', 'DM', 'AZ', 'SK', 'SN', 'SA', 'BI', 'UY', 'BS', 'HK', 'ER', 'EE', 'UG'}\n",
      "{'AI'}\n",
      "{'GM'}\n",
      "{'GW'}\n",
      "{'LR'}\n",
      "{'MH'}\n",
      "{'PW'}\n",
      "{'SM'}\n",
      "{'SL'}\n",
      "{'TV'}\n"
     ]
    }
   ],
   "source": [
    "for comp in nx.connected_components(B):\n",
    "    print(comp)"
   ]
  }
 ],
 "metadata": {
  "kernelspec": {
   "display_name": "Python 3",
   "language": "python",
   "name": "python3"
  },
  "language_info": {
   "codemirror_mode": {
    "name": "ipython",
    "version": 3
   },
   "file_extension": ".py",
   "mimetype": "text/x-python",
   "name": "python",
   "nbconvert_exporter": "python",
   "pygments_lexer": "ipython3",
   "version": "3.9.6"
  },
  "orig_nbformat": 4,
  "vscode": {
   "interpreter": {
    "hash": "40d3a090f54c6569ab1632332b64b2c03c39dcf918b08424e98f38b5ae0af88f"
   }
  }
 },
 "nbformat": 4,
 "nbformat_minor": 2
}
