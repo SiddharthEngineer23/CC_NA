{
 "cells": [
  {
   "cell_type": "code",
   "execution_count": 1,
   "metadata": {},
   "outputs": [],
   "source": [
    "import sys\n",
    "sys.path.append(\"../\")\n",
    "from ccna.policy_net import PolicyNet"
   ]
  },
  {
   "cell_type": "code",
   "execution_count": 2,
   "metadata": {},
   "outputs": [],
   "source": [
    "pn = PolicyNet(\"/Users/sengineer/Library/CloudStorage/OneDrive-AIR/Github/CC_NA/\")"
   ]
  },
  {
   "cell_type": "code",
   "execution_count": 3,
   "metadata": {},
   "outputs": [
    {
     "data": {
      "text/plain": [
       "NodeView(('MH', 'LS', 'KR', 'CI', 'GW', 'SB', 'TJ', 'HK', 'ST', 'MV', 'NA', 'GE', 'CO', 'KH', 'GT', 'MK', 'BN', 'MO', 'CD', 'HU', 'HR', 'SC', 'AR', 'SI', 'AL', 'KN', 'SZ', 'JO', 'TD', 'ML', 'LY', 'AI', 'IL', 'ZW', 'ZM', 'PW', 'CF', 'CN', 'GH', 'MG', 'CR', 'NG', 'BH', 'KW', 'BE', 'MZ', 'AF', 'BD', 'AO', 'DK', 'SM', 'GM', 'HN', 'DZ', 'PA', 'VC', 'SR', 'KZ', 'TZ', 'SG', 'GQ', 'CZ', 'NP', 'IT', 'MA', 'LR', 'SE', 'IN', 'GY', 'LV', 'FJ', 'LU', 'CG', 'PH', 'SK', 'VU', 'GR', 'MD', 'KE', 'SY', 'PR', 'IQ', 'PG', 'PS', 'ID', 'CA', 'UZ', 'BJ', 'CM', 'NO', 'OM', 'BG', 'MY', 'PL', 'CH', 'TO', 'ET', 'NZ', 'DE', 'ME', 'AZ', 'IE', 'CK', 'CV', 'FI', 'WS', 'NL', 'MX', 'NE', 'BI', 'CY', 'BT', 'FM', 'SO', 'BB', 'EG', 'PE', 'US', 'AE', 'DO', 'GB', 'IS', 'GN', 'SN', 'LA', 'QA', 'UG', 'LK', 'EE', 'AM', 'SV', 'TT', 'MS', 'TN', 'MM', 'AU', 'NR', 'PY', 'GA', 'MN', 'BY', 'TW', 'BS', 'TV', 'BW', 'MU', 'MR', 'MT', 'AT', 'PK', 'YE', 'XK', 'TG', 'RO', 'BO', 'UA', 'HT', 'VN', 'LB', 'PT', 'ES', 'RU', 'AW', 'JM', 'IR', 'SA', 'NI', 'UY', 'BZ', 'LT', 'RS', 'VE', 'TM', 'GD', 'TH', 'RW', 'SD', 'TL', 'KM', 'CL', 'KG', 'KI', 'AG', 'DM', 'MW', 'JP', 'ER', 'SL', 'BA', 'EC', 'ZA', 'SS', 'BR', 'LC', 'DJ', 'FR', 'BF', 'TR', 'Explicit; Natural Gas', 'Total Implicit and Explicit; Electricity', 'Explicit; Electricity', 'Environmental Taxes', 'Explicit; Coal', 'Implicit; Accidents', 'Total Implicit and Explicit; Coal', 'Taxes on Resources', 'Implicit; Congestion', 'Environmental Protection Expenditures', 'Implicit; Petroleum', 'Total Implicit and Explicit', 'Taxes on Energy (Including Fuel for Transport)', 'Expenditure on Waste Water Management', 'Expenditure on Environmental Protection Not Elsewhere Classified', 'Expenditure on Environmental Protection R&D', 'Implicit; Road Damage', 'Implicit; Local Air Pollution', 'Expenditure on Waste Management', 'Implicit; Foregone Vat', 'Taxes on Transport (Excluding Fuel for Transport)', 'Implicit; Global Warming', 'Explicit', 'Explicit; Petroleum', 'Total Implicit and Explicit; Natural Gas', 'Implicit', 'Implicit; Natural Gas', 'Total Implicit and Explicit; Petroleum', 'Implicit; Electricity', 'Expenditure on Pollution Abatement', 'Expenditure on Biodiversity & Landscape Protection', 'Implicit; Coal', 'Taxes on Pollution'))"
      ]
     },
     "execution_count": 3,
     "metadata": {},
     "output_type": "execute_result"
    }
   ],
   "source": [
    "pn.G.nodes()"
   ]
  }
 ],
 "metadata": {
  "kernelspec": {
   "display_name": "env",
   "language": "python",
   "name": "python3"
  },
  "language_info": {
   "codemirror_mode": {
    "name": "ipython",
    "version": 3
   },
   "file_extension": ".py",
   "mimetype": "text/x-python",
   "name": "python",
   "nbconvert_exporter": "python",
   "pygments_lexer": "ipython3",
   "version": "3.9.6"
  },
  "orig_nbformat": 4
 },
 "nbformat": 4,
 "nbformat_minor": 2
}
