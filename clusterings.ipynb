{
 "cells": [
  {
   "attachments": {},
   "cell_type": "markdown",
   "metadata": {},
   "source": [
    "# Clustering Data"
   ]
  },
  {
   "attachments": {},
   "cell_type": "markdown",
   "metadata": {},
   "source": [
    "### Loading in data:"
   ]
  },
  {
   "cell_type": "code",
   "execution_count": 1,
   "metadata": {},
   "outputs": [],
   "source": [
    "import pandas as pd\n",
    "import numpy as np\n",
    "import networkx as nx\n",
    "from typing import Set, Tuple, List"
   ]
  },
  {
   "cell_type": "code",
   "execution_count": 2,
   "metadata": {},
   "outputs": [],
   "source": [
    "def obtain_country_and_policies(df : pd.DataFrame) -> Tuple[Set, Set]:\n",
    "    county_nodes = set(df[\"ISO2\"].unique())\n",
    "    policy_nodes = set(df[\"CTS_Name\"].unique())\n",
    "    \n",
    "    return (county_nodes, policy_nodes)\n",
    "\n",
    "# Load in Subsidy data\n",
    "subsidy = pd.read_csv('input/policy/Fossil_Fuel_Subsidies.csv', index_col=0, keep_default_na=False, na_values=\"\")\n",
    "sub_country_nodes, sub_policy_nodes = obtain_country_and_policies(subsidy)\n",
    "# print(\"Number of Countries:\", len(subsidy_country_nodes))\n",
    "# print(\"Number of Subsidies:\", len(subsidy_policy_nodes))\n",
    "\n",
    "\n",
    "# Load in green bonds\n",
    "green_bonds = pd.read_csv(\"input/policy/Green_Bonds.csv\", index_col=0, keep_default_na=False, na_values=\"\")\n",
    "# Filtered Down to countries\n",
    "green_bonds = green_bonds[np.logical_not(green_bonds[\"ISO2\"].isna())]\n",
    "bond_country_nodes, bond_policy_nodes = obtain_country_and_policies(green_bonds)\n",
    "\n",
    "\n",
    "# Load in Taxes\n",
    "taxes = pd.read_csv(\"input/policy/Environmental_Taxes.csv\", index_col=0, keep_default_na=False, na_values=\"\")\n",
    "tax_country_nodes, tax_policy_nodes = obtain_country_and_policies(taxes)\n",
    "\n",
    "\n",
    "# Load in Expenditures:\n",
    "expenditures = pd.read_csv(\"input/policy/Environmental_Protection_Expenditures.csv\", index_col=0, keep_default_na=False, na_values=\"\")\n",
    "exp_country_nodes, exp_policy_nodes = obtain_country_and_policies(expenditures)"
   ]
  },
  {
   "attachments": {},
   "cell_type": "markdown",
   "metadata": {},
   "source": [
    "### Creating Multigraph\n",
    "\n",
    "We will be constructing a dataset that includes all policy types and all \n",
    "\n",
    "We will create a multigraph that has attributes for each edge and node allowing us to develop our entire graph at once. Each node will have an attribute called policy, which denotes what category of policy that node is in. For country nodes, the policy attribute can have multiple values as a country can participate in multiple different policy types, but for the policy nodes there can only be one value for that policy attribute\n",
    "\n",
    "Edges will have a single attribute, the year. Given a year, the graph will return the edges and connection between policies and countries in a given year."
   ]
  },
  {
   "attachments": {},
   "cell_type": "markdown",
   "metadata": {},
   "source": [
    "Now we need to add the nodes to the graph. We will first add all the country nodes with each node having an attribute called policy that lists what policies this country have implemented. With this list we can filter down the nodes to countries that have or are currently investing in a specific policy. "
   ]
  },
  {
   "cell_type": "code",
   "execution_count": 3,
   "metadata": {},
   "outputs": [],
   "source": [
    "G = nx.MultiGraph()\n",
    "\n",
    "# Territories are included in this.\n",
    "all_countries = tax_country_nodes | exp_country_nodes | bond_country_nodes | sub_country_nodes\n",
    "country_node_attributes = {}\n",
    "\n",
    "for country in all_countries:\n",
    "    policies = []\n",
    "    if country in tax_country_nodes:\n",
    "        policies.append(\"Environmental Taxes\")\n",
    "    if country in exp_country_nodes:\n",
    "        policies.append(\"Environmental Protection Expenditures\")\n",
    "    if country in bond_country_nodes:\n",
    "        policies.append(\"Green Bonds\")\n",
    "    if country in sub_country_nodes:\n",
    "        policies.append(\"Environmental Subsidies\")\n",
    "        \n",
    "    country_node_attributes[country] = {\"bipartite\" : 0, \"policies\" : policies}\n",
    "    \n",
    "G.add_nodes_from(all_countries)\n",
    "nx.set_node_attributes(G,country_node_attributes)\n",
    "    \n",
    "# Now we will add the policy nodes using a very similar approach:\n",
    "all_policies = tax_policy_nodes | exp_policy_nodes  | bond_policy_nodes  | sub_policy_nodes\n",
    "policy_node_attributes = {}\n",
    "\n",
    "for policy in all_policies:\n",
    "    policies = []\n",
    "    if policy in tax_policy_nodes:\n",
    "        policies.append(\"Environmental Taxes\")\n",
    "    elif policy in exp_policy_nodes:\n",
    "        policies.append(\"Environmental Protection Expenditures\")\n",
    "    elif policy in bond_policy_nodes:\n",
    "        policies.append(\"Green Bonds\")\n",
    "    elif policy in sub_policy_nodes:\n",
    "        policies.append(\"Environmental Subsidies\")\n",
    "        \n",
    "    policy_node_attributes[policy] = {\"bipartite\" : 1, \"policies\" : policies}\n",
    "    \n",
    "G.add_nodes_from(all_policies)\n",
    "nx.set_node_attributes(G, policy_node_attributes)"
   ]
  },
  {
   "attachments": {},
   "cell_type": "markdown",
   "metadata": {},
   "source": [
    "Now we need to add the edges between all the policies and their nodes"
   ]
  },
  {
   "cell_type": "code",
   "execution_count": 6,
   "metadata": {},
   "outputs": [],
   "source": [
    "def add_edges(G : nx.MultiGraph, df : pd.DataFrame, countries : Set[str], policies : Set[str]) -> List[int]:\n",
    "    \"\"\"Adds the edge data from the dataframe into the graph. Returns the list of years that this policy is invested in\n",
    "    \n",
    "    Returns a list of years where there were policies implemented\n",
    "    \"\"\"\n",
    "    \n",
    "    # obtain the columns that correspond to the year\n",
    "    years = df.filter(regex= \"F\\d\\d\\d\\d\", axis = 1).columns\n",
    "    df_temp = df.set_index(keys = [\"ISO2\", \"CTS_Name\"])\n",
    "    return_years = []\n",
    "    \n",
    "    edge_key = 0\n",
    "    for year in years:\n",
    "        year_edge_list = []\n",
    "        for ind in df_temp.index:\n",
    "            country = ind[0]\n",
    "            policy = ind[1]\n",
    "            weight = df_temp.loc[ind].at[year]\n",
    "            \n",
    "            if weight > 0:\n",
    "                edge_data = {\"weight\" : weight, \"year\" : int(year[1:])}\n",
    "                \n",
    "                edge = (country, policy, edge_key, edge_data) #create edge\n",
    "                year_edge_list.append(edge)\n",
    "                edge_key += 1\n",
    "\n",
    "        # Take out years with no policies\n",
    "        if not (len(year_edge_list) == 0):         \n",
    "            G.add_edges_from(year_edge_list)\n",
    "            return_years.append(int(year[1:]))\n",
    "    return return_years\n",
    "\n",
    "taxes_sub = taxes[taxes.Unit == \"Percent of GDP\"].fillna(0)\n",
    "tax_years = add_edges(G, taxes_sub, tax_country_nodes, tax_policy_nodes)\n",
    "\n",
    "green_bonds_sub = green_bonds.fillna(0)\n",
    "bond_years = add_edges(G, green_bonds_sub, bond_country_nodes, bond_policy_nodes)\n",
    "\n",
    "subsidy_sub = subsidy_sub = subsidy[subsidy[\"Unit\"] == \"Percent of GDP\"]\n",
    "subsidy_years = add_edges(G, subsidy_sub, sub_country_nodes, sub_policy_nodes)\n",
    "\n",
    "\n",
    "exp_sub = expenditures[expenditures[\"Unit\"] == \"Percent of GDP\"]\n",
    "exp_years = add_edges(G, exp_sub, exp_country_nodes, exp_policy_nodes)\n",
    "\n"
   ]
  },
  {
   "attachments": {},
   "cell_type": "markdown",
   "metadata": {},
   "source": [
    "Now that we have created a graph containing all the data, lets create methods to subgraph this multigraph so we can analysis specific policies or specific years"
   ]
  },
  {
   "cell_type": "code",
   "execution_count": 7,
   "metadata": {},
   "outputs": [],
   "source": [
    "def return_subgraph_year(G : nx.MultiGraph, year : int) -> nx.MultiGraph:\n",
    "    \"\"\"Helper function to return the subgraph of G for the specificed year\"\"\"\n",
    "    \n",
    "    # If a node has no edge, it will be removed. We don't want this so we make a copy of the nodes and will add them back into the graph latter.\n",
    "    sub_graph = nx.MultiGraph()\n",
    "    \n",
    "    # Add nodes to subgraph\n",
    "    nodes = G.nodes(data=True)\n",
    "    sub_graph.add_nodes_from(nodes)\n",
    "    \n",
    "    # Add edges to subgraph\n",
    "    edges = [(u, v, key, data) for u, v, key, data in G.edges(keys=True, data=True) if data[\"year\"] == year]\n",
    "    sub_graph.add_edges_from(edges)\n",
    "    \n",
    "    return sub_graph\n",
    "\n",
    "def return_subgraph_policy(G : nx.MultiGraph, filter_policy : str) -> nx.MultiGraph:\n",
    "    \"\"\"Helper function to return the subgraph of G for the specificed year\"\"\"\n",
    "    \n",
    "    sub_graph = nx.MultiGraph()\n",
    "    \n",
    "    # Adds subset of Nodes that are affiliated with a specific policy (Countries that take part in a type of policy)\n",
    "    nodes = [(node, data) for node, data in G.nodes(data=True) if filter_policy in data[\"policies\"]]\n",
    "    sub_graph.add_nodes_from(nodes)\n",
    "    \n",
    "    # Adds Edges between nodes \n",
    "    node_names = sub_graph.nodes()\n",
    "    edges = [(node_country, node_policy, key, data) for node_country, node_policy, key, data in G.edges(keys=True, data=True) if node_policy in node_names]\n",
    "    sub_graph.add_edges_from(edges)\n",
    "\n",
    "    return sub_graph"
   ]
  },
  {
   "attachments": {},
   "cell_type": "markdown",
   "metadata": {},
   "source": [
    "### Create Bidirectional Lookup table"
   ]
  },
  {
   "cell_type": "code",
   "execution_count": 8,
   "metadata": {},
   "outputs": [],
   "source": [
    "# Creates a Two-way look up table\n",
    "class TwoWayDict(dict):\n",
    "    \n",
    "    def __setitem__(self, key, value):\n",
    "        # Remove any previous connections with these values\n",
    "        if key in self:\n",
    "            del self[key]\n",
    "        if value in self:\n",
    "            del self[value]\n",
    "        dict.__setitem__(self, key, value)\n",
    "        dict.__setitem__(self, value, key)\n",
    "\n",
    "    def __delitem__(self, key):\n",
    "        dict.__delitem__(self, self[key])\n",
    "        dict.__delitem__(self, key)\n",
    "\n",
    "    def __len__(self):\n",
    "        \"\"\"Returns the number of connections\"\"\"\n",
    "        return dict.__len__(self) // 2\n",
    "    \n",
    "    def from_dict(self, user_dict):\n",
    "        for key, value in user_dict.items():\n",
    "            dict.__setitem__(self, key, value)\n",
    "            dict.__setitem__(self, value, key)\n",
    "    "
   ]
  },
  {
   "cell_type": "code",
   "execution_count": 54,
   "metadata": {},
   "outputs": [
    {
     "data": {
      "text/plain": [
       "Index(['name', 'alpha-2', 'alpha-3', 'country-code', 'iso_3166-2', 'region',\n",
       "       'sub-region', 'intermediate-region', 'region-code', 'sub-region-code',\n",
       "       'intermediate-region-code'],\n",
       "      dtype='object')"
      ]
     },
     "execution_count": 54,
     "metadata": {},
     "output_type": "execute_result"
    }
   ],
   "source": [
    "pd.read_csv(\"input/continents2.csv\").columns"
   ]
  },
  {
   "cell_type": "code",
   "execution_count": 55,
   "metadata": {},
   "outputs": [],
   "source": [
    "# Create Country Name Lookup Table\n",
    "country_name_conversion = pd.read_csv(\"input/continents2.csv\")\n",
    "country_name_conversion.rename(columns = {\"name\" : \"Country Name\", \"alpha-2\" : \"ISO2\", \"alpha-3\" : \"ISO3\", }, inplace = True)\n",
    "\n",
    "two_way_country_lookup = TwoWayDict()\n",
    "oneway_lookup = country_name_conversion.set_index(\"Country Name\")[\"ISO2\"].to_dict()\n",
    "two_way_country_lookup.from_dict(oneway_lookup)"
   ]
  },
  {
   "cell_type": "code",
   "execution_count": 10,
   "metadata": {},
   "outputs": [],
   "source": [
    "policy_G = return_subgraph_policy(G, \"Green Bonds\")\n",
    "year_G = return_subgraph_year(policy_G, 2010)"
   ]
  },
  {
   "attachments": {},
   "cell_type": "markdown",
   "metadata": {},
   "source": [
    "### Clusterings"
   ]
  },
  {
   "attachments": {},
   "cell_type": "markdown",
   "metadata": {},
   "source": []
  },
  {
   "cell_type": "code",
   "execution_count": 80,
   "metadata": {},
   "outputs": [],
   "source": [
    "# TODO: Create the bine embeddings for specific graph and all the nodes within it. \n",
    "# TODO: Add functionality to create embeddings from a graph\n",
    "# TODO: Add in functionality to check if these embeddings already exist\n",
    " \n",
    "countries = (country for country, data in year_G.nodes(data = True) if data[\"bipartite\"] == 0)\n"
   ]
  },
  {
   "cell_type": "code",
   "execution_count": 14,
   "metadata": {},
   "outputs": [],
   "source": [
    "green_bond_node_mapping = {}\n",
    "\n",
    "# Mapping for contries\n",
    "i = 0\n",
    "for country in green_bonds[\"ISO2\"].unique():\n",
    "    green_bond_node_mapping[country] = f\"u{i}\"\n",
    "    i += 1\n",
    "\n",
    "# Mapping for policies\n",
    "j = 0\n",
    "for policy in green_bonds[\"CTS_Name\"].unique():\n",
    "    green_bond_node_mapping[policy] = f\"i{j}\"\n",
    "    j += 1\n",
    "\n",
    "# Reverses the mapping to be id to name\n",
    "inv_green_bond_mapping = {v: k for k, v in green_bond_node_mapping.items()}"
   ]
  },
  {
   "cell_type": "code",
   "execution_count": null,
   "metadata": {},
   "outputs": [],
   "source": [
    "# Create graphs BINE can read\n",
    "for year in green_bond_years:\n",
    "    B.remove_edges_from(B.edges)\n",
    "    B.add_weighted_edges_from(green_bond_dict[year])\n",
    "\n",
    "    # Relabels our graph from name to id to work on BINE code\n",
    "    B_integer = nx.relabel_nodes(B, green_bond_node_mapping)\n",
    "\n",
    "    fileName = f\"BiNE-master/data/greenbonds/greenbonds_{year}_edgelist.dat\"\n",
    "    nx.write_weighted_edgelist(B_integer, fileName, delimiter = \"\\t\")"
   ]
  },
  {
   "cell_type": "code",
   "execution_count": 16,
   "metadata": {},
   "outputs": [],
   "source": [
    "bine_embeddings_bonds_dict = {}\n",
    "\n",
    "for year in bond_years:\n",
    "\n",
    "    out_mat = []\n",
    "    cols = []\n",
    "    countries = []\n",
    "\n",
    "    # This code is only opening the BINE embeddings for a specific year.\n",
    "    with open(f\"BiNE-master/data/greenbonds/vectors_u_{year}.dat\", \"r\") as f:\n",
    "        for line in f:\n",
    "            data = line.split()\n",
    "\n",
    "            # Parses what country our embedding is of.\n",
    "            countries.append(data[0])\n",
    "\n",
    "            # Obtains the embedding for country\n",
    "            values = [float(elt) for elt in data[1:]]\n",
    "\n",
    "            # Reshapes the embedding\n",
    "            col = np.array(values).reshape((len(values),1))\n",
    "            cols.append(col)\n",
    "\n",
    "        out_mat = np.concatenate(cols, axis =1)\n",
    "\n",
    "    # Changes ids of countries to their actual country names\n",
    "    country_names = [inv_green_bond_mapping[country] for country in countries]\n",
    "\n",
    "    pandas_bine_embeddings_bonds = pd.DataFrame(out_mat, columns = country_names)\n",
    "\n",
    "    bine_embeddings_bonds_dict[year] = pandas_bine_embeddings_bonds"
   ]
  },
  {
   "cell_type": "code",
   "execution_count": 17,
   "metadata": {},
   "outputs": [
    {
     "data": {
      "text/html": [
       "<div>\n",
       "<style scoped>\n",
       "    .dataframe tbody tr th:only-of-type {\n",
       "        vertical-align: middle;\n",
       "    }\n",
       "\n",
       "    .dataframe tbody tr th {\n",
       "        vertical-align: top;\n",
       "    }\n",
       "\n",
       "    .dataframe thead th {\n",
       "        text-align: right;\n",
       "    }\n",
       "</style>\n",
       "<table border=\"1\" class=\"dataframe\">\n",
       "  <thead>\n",
       "    <tr style=\"text-align: right;\">\n",
       "      <th></th>\n",
       "      <th>TW</th>\n",
       "      <th>TH</th>\n",
       "      <th>UA</th>\n",
       "      <th>GB</th>\n",
       "      <th>SG</th>\n",
       "      <th>SK</th>\n",
       "      <th>ZA</th>\n",
       "      <th>ES</th>\n",
       "      <th>SE</th>\n",
       "      <th>CH</th>\n",
       "      <th>...</th>\n",
       "      <th>GG</th>\n",
       "      <th>HU</th>\n",
       "      <th>FI</th>\n",
       "      <th>FR</th>\n",
       "      <th>GE</th>\n",
       "      <th>NZ</th>\n",
       "      <th>LI</th>\n",
       "      <th>IS</th>\n",
       "      <th>IN</th>\n",
       "      <th>PH</th>\n",
       "    </tr>\n",
       "  </thead>\n",
       "  <tbody>\n",
       "    <tr>\n",
       "      <th>0</th>\n",
       "      <td>0.360465</td>\n",
       "      <td>0.191613</td>\n",
       "      <td>0.374990</td>\n",
       "      <td>0.366984</td>\n",
       "      <td>0.326026</td>\n",
       "      <td>0.019438</td>\n",
       "      <td>0.300085</td>\n",
       "      <td>0.437258</td>\n",
       "      <td>0.177176</td>\n",
       "      <td>0.275612</td>\n",
       "      <td>...</td>\n",
       "      <td>0.435629</td>\n",
       "      <td>0.174318</td>\n",
       "      <td>0.399621</td>\n",
       "      <td>0.825742</td>\n",
       "      <td>0.219181</td>\n",
       "      <td>0.611400</td>\n",
       "      <td>0.074630</td>\n",
       "      <td>0.589186</td>\n",
       "      <td>0.217322</td>\n",
       "      <td>0.411551</td>\n",
       "    </tr>\n",
       "    <tr>\n",
       "      <th>1</th>\n",
       "      <td>0.444382</td>\n",
       "      <td>0.359464</td>\n",
       "      <td>0.514755</td>\n",
       "      <td>0.412164</td>\n",
       "      <td>0.370195</td>\n",
       "      <td>0.099489</td>\n",
       "      <td>0.357959</td>\n",
       "      <td>0.582137</td>\n",
       "      <td>0.595769</td>\n",
       "      <td>0.102700</td>\n",
       "      <td>...</td>\n",
       "      <td>0.095939</td>\n",
       "      <td>0.136924</td>\n",
       "      <td>0.089223</td>\n",
       "      <td>0.473211</td>\n",
       "      <td>0.300738</td>\n",
       "      <td>0.110892</td>\n",
       "      <td>0.141813</td>\n",
       "      <td>0.132007</td>\n",
       "      <td>0.531118</td>\n",
       "      <td>0.006947</td>\n",
       "    </tr>\n",
       "    <tr>\n",
       "      <th>2</th>\n",
       "      <td>0.291791</td>\n",
       "      <td>0.462747</td>\n",
       "      <td>0.215559</td>\n",
       "      <td>0.288005</td>\n",
       "      <td>0.097702</td>\n",
       "      <td>0.224796</td>\n",
       "      <td>0.267987</td>\n",
       "      <td>0.138990</td>\n",
       "      <td>0.152244</td>\n",
       "      <td>0.186718</td>\n",
       "      <td>...</td>\n",
       "      <td>0.515764</td>\n",
       "      <td>0.472511</td>\n",
       "      <td>0.494365</td>\n",
       "      <td>0.488093</td>\n",
       "      <td>0.216870</td>\n",
       "      <td>0.022645</td>\n",
       "      <td>0.310646</td>\n",
       "      <td>0.056521</td>\n",
       "      <td>0.129541</td>\n",
       "      <td>0.341459</td>\n",
       "    </tr>\n",
       "    <tr>\n",
       "      <th>3</th>\n",
       "      <td>0.189160</td>\n",
       "      <td>0.089318</td>\n",
       "      <td>0.445759</td>\n",
       "      <td>0.600941</td>\n",
       "      <td>0.465359</td>\n",
       "      <td>0.465045</td>\n",
       "      <td>0.389689</td>\n",
       "      <td>0.474116</td>\n",
       "      <td>0.543860</td>\n",
       "      <td>0.312516</td>\n",
       "      <td>...</td>\n",
       "      <td>0.286948</td>\n",
       "      <td>0.119323</td>\n",
       "      <td>0.113977</td>\n",
       "      <td>0.212222</td>\n",
       "      <td>0.467627</td>\n",
       "      <td>0.501111</td>\n",
       "      <td>0.408074</td>\n",
       "      <td>0.236087</td>\n",
       "      <td>0.150022</td>\n",
       "      <td>0.477939</td>\n",
       "    </tr>\n",
       "    <tr>\n",
       "      <th>4</th>\n",
       "      <td>0.202341</td>\n",
       "      <td>0.265240</td>\n",
       "      <td>0.179494</td>\n",
       "      <td>0.730669</td>\n",
       "      <td>0.125221</td>\n",
       "      <td>0.205035</td>\n",
       "      <td>0.333070</td>\n",
       "      <td>0.624475</td>\n",
       "      <td>0.244820</td>\n",
       "      <td>0.195991</td>\n",
       "      <td>...</td>\n",
       "      <td>0.083416</td>\n",
       "      <td>0.247145</td>\n",
       "      <td>0.507063</td>\n",
       "      <td>0.302105</td>\n",
       "      <td>0.163908</td>\n",
       "      <td>0.388923</td>\n",
       "      <td>0.173432</td>\n",
       "      <td>0.147939</td>\n",
       "      <td>0.114294</td>\n",
       "      <td>0.468409</td>\n",
       "    </tr>\n",
       "    <tr>\n",
       "      <th>5</th>\n",
       "      <td>0.297113</td>\n",
       "      <td>0.009597</td>\n",
       "      <td>0.318254</td>\n",
       "      <td>0.596196</td>\n",
       "      <td>0.079796</td>\n",
       "      <td>0.483082</td>\n",
       "      <td>0.098642</td>\n",
       "      <td>0.412613</td>\n",
       "      <td>0.248311</td>\n",
       "      <td>0.400416</td>\n",
       "      <td>...</td>\n",
       "      <td>0.258407</td>\n",
       "      <td>0.056514</td>\n",
       "      <td>0.177707</td>\n",
       "      <td>0.391584</td>\n",
       "      <td>0.132818</td>\n",
       "      <td>0.110197</td>\n",
       "      <td>0.199281</td>\n",
       "      <td>0.088239</td>\n",
       "      <td>0.154224</td>\n",
       "      <td>0.477313</td>\n",
       "    </tr>\n",
       "    <tr>\n",
       "      <th>6</th>\n",
       "      <td>0.248897</td>\n",
       "      <td>0.310248</td>\n",
       "      <td>0.443670</td>\n",
       "      <td>0.543106</td>\n",
       "      <td>0.305086</td>\n",
       "      <td>0.258153</td>\n",
       "      <td>0.379340</td>\n",
       "      <td>0.368601</td>\n",
       "      <td>0.623421</td>\n",
       "      <td>0.230195</td>\n",
       "      <td>...</td>\n",
       "      <td>0.291302</td>\n",
       "      <td>0.342805</td>\n",
       "      <td>0.436529</td>\n",
       "      <td>0.635330</td>\n",
       "      <td>0.569585</td>\n",
       "      <td>0.234954</td>\n",
       "      <td>0.377983</td>\n",
       "      <td>0.355192</td>\n",
       "      <td>0.393546</td>\n",
       "      <td>0.174080</td>\n",
       "    </tr>\n",
       "    <tr>\n",
       "      <th>7</th>\n",
       "      <td>0.421303</td>\n",
       "      <td>0.441547</td>\n",
       "      <td>0.237482</td>\n",
       "      <td>0.344165</td>\n",
       "      <td>0.560335</td>\n",
       "      <td>0.330991</td>\n",
       "      <td>0.323784</td>\n",
       "      <td>0.249185</td>\n",
       "      <td>0.372659</td>\n",
       "      <td>0.531087</td>\n",
       "      <td>...</td>\n",
       "      <td>0.511372</td>\n",
       "      <td>0.451836</td>\n",
       "      <td>0.435732</td>\n",
       "      <td>0.437856</td>\n",
       "      <td>0.027417</td>\n",
       "      <td>0.240800</td>\n",
       "      <td>0.423283</td>\n",
       "      <td>0.310697</td>\n",
       "      <td>0.439654</td>\n",
       "      <td>0.098117</td>\n",
       "    </tr>\n",
       "    <tr>\n",
       "      <th>8</th>\n",
       "      <td>0.406833</td>\n",
       "      <td>0.429686</td>\n",
       "      <td>0.178031</td>\n",
       "      <td>0.429180</td>\n",
       "      <td>0.073603</td>\n",
       "      <td>0.373213</td>\n",
       "      <td>0.424688</td>\n",
       "      <td>0.213430</td>\n",
       "      <td>0.231858</td>\n",
       "      <td>0.396977</td>\n",
       "      <td>...</td>\n",
       "      <td>0.223349</td>\n",
       "      <td>0.445486</td>\n",
       "      <td>0.224320</td>\n",
       "      <td>0.566230</td>\n",
       "      <td>0.461801</td>\n",
       "      <td>0.062713</td>\n",
       "      <td>0.322293</td>\n",
       "      <td>0.161961</td>\n",
       "      <td>0.286096</td>\n",
       "      <td>0.017653</td>\n",
       "    </tr>\n",
       "    <tr>\n",
       "      <th>9</th>\n",
       "      <td>0.277664</td>\n",
       "      <td>0.351197</td>\n",
       "      <td>0.117629</td>\n",
       "      <td>0.473230</td>\n",
       "      <td>0.547377</td>\n",
       "      <td>0.424705</td>\n",
       "      <td>0.185385</td>\n",
       "      <td>0.348375</td>\n",
       "      <td>0.333194</td>\n",
       "      <td>0.414905</td>\n",
       "      <td>...</td>\n",
       "      <td>0.114262</td>\n",
       "      <td>0.458137</td>\n",
       "      <td>0.109560</td>\n",
       "      <td>0.326086</td>\n",
       "      <td>0.259462</td>\n",
       "      <td>0.379224</td>\n",
       "      <td>0.517734</td>\n",
       "      <td>0.591490</td>\n",
       "      <td>0.596646</td>\n",
       "      <td>0.138657</td>\n",
       "    </tr>\n",
       "  </tbody>\n",
       "</table>\n",
       "<p>10 rows × 63 columns</p>\n",
       "</div>"
      ],
      "text/plain": [
       "         TW        TH        UA        GB        SG        SK        ZA   \n",
       "0  0.360465  0.191613  0.374990  0.366984  0.326026  0.019438  0.300085  \\\n",
       "1  0.444382  0.359464  0.514755  0.412164  0.370195  0.099489  0.357959   \n",
       "2  0.291791  0.462747  0.215559  0.288005  0.097702  0.224796  0.267987   \n",
       "3  0.189160  0.089318  0.445759  0.600941  0.465359  0.465045  0.389689   \n",
       "4  0.202341  0.265240  0.179494  0.730669  0.125221  0.205035  0.333070   \n",
       "5  0.297113  0.009597  0.318254  0.596196  0.079796  0.483082  0.098642   \n",
       "6  0.248897  0.310248  0.443670  0.543106  0.305086  0.258153  0.379340   \n",
       "7  0.421303  0.441547  0.237482  0.344165  0.560335  0.330991  0.323784   \n",
       "8  0.406833  0.429686  0.178031  0.429180  0.073603  0.373213  0.424688   \n",
       "9  0.277664  0.351197  0.117629  0.473230  0.547377  0.424705  0.185385   \n",
       "\n",
       "         ES        SE        CH  ...        GG        HU        FI        FR   \n",
       "0  0.437258  0.177176  0.275612  ...  0.435629  0.174318  0.399621  0.825742  \\\n",
       "1  0.582137  0.595769  0.102700  ...  0.095939  0.136924  0.089223  0.473211   \n",
       "2  0.138990  0.152244  0.186718  ...  0.515764  0.472511  0.494365  0.488093   \n",
       "3  0.474116  0.543860  0.312516  ...  0.286948  0.119323  0.113977  0.212222   \n",
       "4  0.624475  0.244820  0.195991  ...  0.083416  0.247145  0.507063  0.302105   \n",
       "5  0.412613  0.248311  0.400416  ...  0.258407  0.056514  0.177707  0.391584   \n",
       "6  0.368601  0.623421  0.230195  ...  0.291302  0.342805  0.436529  0.635330   \n",
       "7  0.249185  0.372659  0.531087  ...  0.511372  0.451836  0.435732  0.437856   \n",
       "8  0.213430  0.231858  0.396977  ...  0.223349  0.445486  0.224320  0.566230   \n",
       "9  0.348375  0.333194  0.414905  ...  0.114262  0.458137  0.109560  0.326086   \n",
       "\n",
       "         GE        NZ        LI        IS        IN        PH  \n",
       "0  0.219181  0.611400  0.074630  0.589186  0.217322  0.411551  \n",
       "1  0.300738  0.110892  0.141813  0.132007  0.531118  0.006947  \n",
       "2  0.216870  0.022645  0.310646  0.056521  0.129541  0.341459  \n",
       "3  0.467627  0.501111  0.408074  0.236087  0.150022  0.477939  \n",
       "4  0.163908  0.388923  0.173432  0.147939  0.114294  0.468409  \n",
       "5  0.132818  0.110197  0.199281  0.088239  0.154224  0.477313  \n",
       "6  0.569585  0.234954  0.377983  0.355192  0.393546  0.174080  \n",
       "7  0.027417  0.240800  0.423283  0.310697  0.439654  0.098117  \n",
       "8  0.461801  0.062713  0.322293  0.161961  0.286096  0.017653  \n",
       "9  0.259462  0.379224  0.517734  0.591490  0.596646  0.138657  \n",
       "\n",
       "[10 rows x 63 columns]"
      ]
     },
     "execution_count": 17,
     "metadata": {},
     "output_type": "execute_result"
    }
   ],
   "source": [
    "pandas_bine_embeddings_bonds = bine_embeddings_bonds_dict[2021]\n",
    "pandas_bine_embeddings_bonds"
   ]
  },
  {
   "cell_type": "code",
   "execution_count": 94,
   "metadata": {},
   "outputs": [
    {
     "data": {
      "text/html": [
       "<style>#sk-container-id-7 {color: black;background-color: white;}#sk-container-id-7 pre{padding: 0;}#sk-container-id-7 div.sk-toggleable {background-color: white;}#sk-container-id-7 label.sk-toggleable__label {cursor: pointer;display: block;width: 100%;margin-bottom: 0;padding: 0.3em;box-sizing: border-box;text-align: center;}#sk-container-id-7 label.sk-toggleable__label-arrow:before {content: \"▸\";float: left;margin-right: 0.25em;color: #696969;}#sk-container-id-7 label.sk-toggleable__label-arrow:hover:before {color: black;}#sk-container-id-7 div.sk-estimator:hover label.sk-toggleable__label-arrow:before {color: black;}#sk-container-id-7 div.sk-toggleable__content {max-height: 0;max-width: 0;overflow: hidden;text-align: left;background-color: #f0f8ff;}#sk-container-id-7 div.sk-toggleable__content pre {margin: 0.2em;color: black;border-radius: 0.25em;background-color: #f0f8ff;}#sk-container-id-7 input.sk-toggleable__control:checked~div.sk-toggleable__content {max-height: 200px;max-width: 100%;overflow: auto;}#sk-container-id-7 input.sk-toggleable__control:checked~label.sk-toggleable__label-arrow:before {content: \"▾\";}#sk-container-id-7 div.sk-estimator input.sk-toggleable__control:checked~label.sk-toggleable__label {background-color: #d4ebff;}#sk-container-id-7 div.sk-label input.sk-toggleable__control:checked~label.sk-toggleable__label {background-color: #d4ebff;}#sk-container-id-7 input.sk-hidden--visually {border: 0;clip: rect(1px 1px 1px 1px);clip: rect(1px, 1px, 1px, 1px);height: 1px;margin: -1px;overflow: hidden;padding: 0;position: absolute;width: 1px;}#sk-container-id-7 div.sk-estimator {font-family: monospace;background-color: #f0f8ff;border: 1px dotted black;border-radius: 0.25em;box-sizing: border-box;margin-bottom: 0.5em;}#sk-container-id-7 div.sk-estimator:hover {background-color: #d4ebff;}#sk-container-id-7 div.sk-parallel-item::after {content: \"\";width: 100%;border-bottom: 1px solid gray;flex-grow: 1;}#sk-container-id-7 div.sk-label:hover label.sk-toggleable__label {background-color: #d4ebff;}#sk-container-id-7 div.sk-serial::before {content: \"\";position: absolute;border-left: 1px solid gray;box-sizing: border-box;top: 0;bottom: 0;left: 50%;z-index: 0;}#sk-container-id-7 div.sk-serial {display: flex;flex-direction: column;align-items: center;background-color: white;padding-right: 0.2em;padding-left: 0.2em;position: relative;}#sk-container-id-7 div.sk-item {position: relative;z-index: 1;}#sk-container-id-7 div.sk-parallel {display: flex;align-items: stretch;justify-content: center;background-color: white;position: relative;}#sk-container-id-7 div.sk-item::before, #sk-container-id-7 div.sk-parallel-item::before {content: \"\";position: absolute;border-left: 1px solid gray;box-sizing: border-box;top: 0;bottom: 0;left: 50%;z-index: -1;}#sk-container-id-7 div.sk-parallel-item {display: flex;flex-direction: column;z-index: 1;position: relative;background-color: white;}#sk-container-id-7 div.sk-parallel-item:first-child::after {align-self: flex-end;width: 50%;}#sk-container-id-7 div.sk-parallel-item:last-child::after {align-self: flex-start;width: 50%;}#sk-container-id-7 div.sk-parallel-item:only-child::after {width: 0;}#sk-container-id-7 div.sk-dashed-wrapped {border: 1px dashed gray;margin: 0 0.4em 0.5em 0.4em;box-sizing: border-box;padding-bottom: 0.4em;background-color: white;}#sk-container-id-7 div.sk-label label {font-family: monospace;font-weight: bold;display: inline-block;line-height: 1.2em;}#sk-container-id-7 div.sk-label-container {text-align: center;}#sk-container-id-7 div.sk-container {/* jupyter's `normalize.less` sets `[hidden] { display: none; }` but bootstrap.min.css set `[hidden] { display: none !important; }` so we also need the `!important` here to be able to override the default hidden behavior on the sphinx rendered scikit-learn.org. See: https://github.com/scikit-learn/scikit-learn/issues/21755 */display: inline-block !important;position: relative;}#sk-container-id-7 div.sk-text-repr-fallback {display: none;}</style><div id=\"sk-container-id-7\" class=\"sk-top-container\"><div class=\"sk-text-repr-fallback\"><pre>TSNE(n_iter=10000, perplexity=15)</pre><b>In a Jupyter environment, please rerun this cell to show the HTML representation or trust the notebook. <br />On GitHub, the HTML representation is unable to render, please try loading this page with nbviewer.org.</b></div><div class=\"sk-container\" hidden><div class=\"sk-item\"><div class=\"sk-estimator sk-toggleable\"><input class=\"sk-toggleable__control sk-hidden--visually\" id=\"sk-estimator-id-7\" type=\"checkbox\" checked><label for=\"sk-estimator-id-7\" class=\"sk-toggleable__label sk-toggleable__label-arrow\">TSNE</label><div class=\"sk-toggleable__content\"><pre>TSNE(n_iter=10000, perplexity=15)</pre></div></div></div></div></div>"
      ],
      "text/plain": [
       "TSNE(n_iter=10000, perplexity=15)"
      ]
     },
     "execution_count": 94,
     "metadata": {},
     "output_type": "execute_result"
    }
   ],
   "source": [
    "from sklearn.manifold import TSNE\n",
    "\n",
    "pandas_bine_embeddings_bonds = bine_embeddings_bonds_dict[2021]\n",
    "X = pandas_bine_embeddings_bonds.transpose()\n",
    "tsne = TSNE(perplexity=15, n_iter=10000)\n",
    "\n",
    "tsne.fit(X)\n",
    "\n"
   ]
  },
  {
   "cell_type": "code",
   "execution_count": 95,
   "metadata": {},
   "outputs": [
    {
     "data": {
      "application/vnd.plotly.v1+json": {
       "config": {
        "plotlyServerURL": "https://plot.ly"
       },
       "data": [
        {
         "customdata": [
          [
           "Taiwan"
          ],
          [
           "Thailand"
          ],
          [
           "Singapore"
          ],
          [
           "United Arab Emirates"
          ],
          [
           "Bangladesh"
          ],
          [
           "Korea, Republic of"
          ],
          [
           "Japan"
          ],
          [
           "Israel"
          ],
          [
           "Indonesia"
          ],
          [
           "Hong Kong"
          ],
          [
           "China"
          ],
          [
           "Macao"
          ],
          [
           "Turkey"
          ],
          [
           "Malaysia"
          ],
          [
           "Pakistan"
          ],
          [
           "Vietnam"
          ],
          [
           "Georgia"
          ],
          [
           "India"
          ],
          [
           "Philippines"
          ]
         ],
         "hovertemplate": "region=Asia<br>x=%{x}<br>y=%{y}<br>country_name=%{customdata[0]}<extra></extra>",
         "legendgroup": "Asia",
         "marker": {
          "color": "#636efa",
          "symbol": "circle"
         },
         "mode": "markers",
         "name": "Asia",
         "orientation": "v",
         "showlegend": true,
         "type": "scatter",
         "x": [
          1.9972256422042847,
          3.6778619289398193,
          -0.31578129529953003,
          1.5180696249008179,
          10.933544158935547,
          0.016403190791606903,
          -3.3684651851654053,
          5.854730606079102,
          5.457254886627197,
          5.909717082977295,
          9.181191444396973,
          1.345882534980774,
          0.7814541459083557,
          -0.7359513640403748,
          -1.869446039199829,
          3.0469970703125,
          7.885322093963623,
          4.365161895751953,
          -3.528470516204834
         ],
         "xaxis": "x",
         "y": [
          0.6325711011886597,
          1.0403687953948975,
          -7.024486541748047,
          -3.264829635620117,
          -1.466326117515564,
          3.582932472229004,
          0.9867028594017029,
          7.361425399780273,
          1.6338582038879395,
          -6.970639228820801,
          2.9335336685180664,
          6.158977031707764,
          -1.9376789331436157,
          -7.607814311981201,
          0.32501113414764404,
          6.686436653137207,
          1.0654895305633545,
          -0.7828498482704163,
          -2.082914113998413
         ],
         "yaxis": "y"
        },
        {
         "customdata": [
          [
           "Ukraine"
          ],
          [
           "United Kingdom"
          ],
          [
           "Slovakia"
          ],
          [
           "Spain"
          ],
          [
           "Sweden"
          ],
          [
           "Switzerland"
          ],
          [
           "Luxembourg"
          ],
          [
           "Russia"
          ],
          [
           "Belgium"
          ],
          [
           "Austria"
          ],
          [
           "Latvia"
          ],
          [
           "Jersey"
          ],
          [
           "Italy"
          ],
          [
           "Ireland"
          ],
          [
           "Denmark"
          ],
          [
           "Czech Republic"
          ],
          [
           "Serbia"
          ],
          [
           "Poland"
          ],
          [
           "Romania"
          ],
          [
           "Portugal"
          ],
          [
           "Norway"
          ],
          [
           "Netherlands"
          ],
          [
           "Germany"
          ],
          [
           "Greece"
          ],
          [
           "Guernsey"
          ],
          [
           "Hungary"
          ],
          [
           "Finland"
          ],
          [
           "France"
          ],
          [
           "Liechtenstein"
          ],
          [
           "Iceland"
          ]
         ],
         "hovertemplate": "region=Europe<br>x=%{x}<br>y=%{y}<br>country_name=%{customdata[0]}<extra></extra>",
         "legendgroup": "Europe",
         "marker": {
          "color": "#EF553B",
          "symbol": "circle"
         },
         "mode": "markers",
         "name": "Europe",
         "orientation": "v",
         "showlegend": true,
         "type": "scatter",
         "x": [
          4.844424247741699,
          8.960216522216797,
          3.846029758453369,
          9.32042407989502,
          5.630620956420898,
          4.629588603973389,
          7.0614237785339355,
          -0.2166203111410141,
          6.209279537200928,
          6.684659004211426,
          2.790370225906372,
          -2.926414966583252,
          6.214919567108154,
          0.8416140079498291,
          2.0721254348754883,
          3.220271587371826,
          -2.5747063159942627,
          2.8159420490264893,
          9.48533821105957,
          9.02692699432373,
          0.6681658029556274,
          9.688240051269531,
          7.690552234649658,
          -0.1366339772939682,
          1.8163095712661743,
          3.9483540058135986,
          -0.8150975108146667,
          5.988504409790039,
          4.272286891937256,
          12.128313064575195
         ],
         "xaxis": "x",
         "y": [
          -3.919424295425415,
          -7.865825653076172,
          5.691058158874512,
          -7.533253192901611,
          -4.9017157554626465,
          4.824192523956299,
          0.5971716642379761,
          0.3874690532684326,
          -2.1819069385528564,
          -2.227898597717285,
          -3.496875524520874,
          -1.7024184465408325,
          -6.2024688720703125,
          4.256890773773193,
          -4.322203636169434,
          -6.766442775726318,
          0.054915282875299454,
          0.22346842288970947,
          -0.8119440674781799,
          -2.7696292400360107,
          5.267906188964844,
          -6.0527873039245605,
          -9.518830299377441,
          -3.4077556133270264,
          -1.6213198900222778,
          1.6923989057540894,
          -3.5614941120147705,
          -8.957715034484863,
          3.6700408458709717,
          -3.7944133281707764
         ],
         "yaxis": "y"
        },
        {
         "customdata": [
          [
           "South Africa"
          ],
          [
           "Mauritius"
          ]
         ],
         "hovertemplate": "region=Africa<br>x=%{x}<br>y=%{y}<br>country_name=%{customdata[0]}<extra></extra>",
         "legendgroup": "Africa",
         "marker": {
          "color": "#00cc96",
          "symbol": "circle"
         },
         "mode": "markers",
         "name": "Africa",
         "orientation": "v",
         "showlegend": true,
         "type": "scatter",
         "x": [
          5.894302845001221,
          6.309346675872803
         ],
         "xaxis": "x",
         "y": [
          0.4285714626312256,
          4.893524169921875
         ],
         "yaxis": "y"
        },
        {
         "customdata": [
          [
           "Cayman Islands"
          ],
          [
           "Canada"
          ],
          [
           "Bermuda"
          ],
          [
           "Virgin Islands (British)"
          ],
          [
           "Brazil"
          ],
          [
           "Argentina"
          ],
          [
           "Chile"
          ],
          [
           "Colombia"
          ],
          [
           "Mexico"
          ],
          [
           "United States"
          ]
         ],
         "hovertemplate": "region=Americas<br>x=%{x}<br>y=%{y}<br>country_name=%{customdata[0]}<extra></extra>",
         "legendgroup": "Americas",
         "marker": {
          "color": "#ab63fa",
          "symbol": "circle"
         },
         "mode": "markers",
         "name": "Americas",
         "orientation": "v",
         "showlegend": true,
         "type": "scatter",
         "x": [
          2.7283623218536377,
          7.9111104011535645,
          9.655684471130371,
          4.143017768859863,
          10.114068984985352,
          6.549928188323975,
          0.1030808836221695,
          -0.25705671310424805,
          3.544097661972046,
          5.599203586578369
         ],
         "xaxis": "x",
         "y": [
          -8.28718090057373,
          3.7448062896728516,
          -2.1904828548431396,
          2.704794406890869,
          -3.0233242511749268,
          1.8376282453536987,
          2.427018642425537,
          -0.46948280930519104,
          -3.592839479446411,
          -10.863934516906738
         ],
         "yaxis": "y"
        },
        {
         "customdata": [
          [
           "Australia"
          ],
          [
           "New Zealand"
          ]
         ],
         "hovertemplate": "region=Oceania<br>x=%{x}<br>y=%{y}<br>country_name=%{customdata[0]}<extra></extra>",
         "legendgroup": "Oceania",
         "marker": {
          "color": "#FFA15A",
          "symbol": "circle"
         },
         "mode": "markers",
         "name": "Oceania",
         "orientation": "v",
         "showlegend": true,
         "type": "scatter",
         "x": [
          2.3345654010772705,
          12.340615272521973
         ],
         "xaxis": "x",
         "y": [
          2.491124153137207,
          -3.1570591926574707
         ],
         "yaxis": "y"
        }
       ],
       "layout": {
        "height": 500,
        "legend": {
         "title": {
          "text": "region"
         },
         "tracegroupgap": 0
        },
        "margin": {
         "t": 60
        },
        "template": {
         "data": {
          "bar": [
           {
            "error_x": {
             "color": "#2a3f5f"
            },
            "error_y": {
             "color": "#2a3f5f"
            },
            "marker": {
             "line": {
              "color": "#E5ECF6",
              "width": 0.5
             },
             "pattern": {
              "fillmode": "overlay",
              "size": 10,
              "solidity": 0.2
             }
            },
            "type": "bar"
           }
          ],
          "barpolar": [
           {
            "marker": {
             "line": {
              "color": "#E5ECF6",
              "width": 0.5
             },
             "pattern": {
              "fillmode": "overlay",
              "size": 10,
              "solidity": 0.2
             }
            },
            "type": "barpolar"
           }
          ],
          "carpet": [
           {
            "aaxis": {
             "endlinecolor": "#2a3f5f",
             "gridcolor": "white",
             "linecolor": "white",
             "minorgridcolor": "white",
             "startlinecolor": "#2a3f5f"
            },
            "baxis": {
             "endlinecolor": "#2a3f5f",
             "gridcolor": "white",
             "linecolor": "white",
             "minorgridcolor": "white",
             "startlinecolor": "#2a3f5f"
            },
            "type": "carpet"
           }
          ],
          "choropleth": [
           {
            "colorbar": {
             "outlinewidth": 0,
             "ticks": ""
            },
            "type": "choropleth"
           }
          ],
          "contour": [
           {
            "colorbar": {
             "outlinewidth": 0,
             "ticks": ""
            },
            "colorscale": [
             [
              0,
              "#0d0887"
             ],
             [
              0.1111111111111111,
              "#46039f"
             ],
             [
              0.2222222222222222,
              "#7201a8"
             ],
             [
              0.3333333333333333,
              "#9c179e"
             ],
             [
              0.4444444444444444,
              "#bd3786"
             ],
             [
              0.5555555555555556,
              "#d8576b"
             ],
             [
              0.6666666666666666,
              "#ed7953"
             ],
             [
              0.7777777777777778,
              "#fb9f3a"
             ],
             [
              0.8888888888888888,
              "#fdca26"
             ],
             [
              1,
              "#f0f921"
             ]
            ],
            "type": "contour"
           }
          ],
          "contourcarpet": [
           {
            "colorbar": {
             "outlinewidth": 0,
             "ticks": ""
            },
            "type": "contourcarpet"
           }
          ],
          "heatmap": [
           {
            "colorbar": {
             "outlinewidth": 0,
             "ticks": ""
            },
            "colorscale": [
             [
              0,
              "#0d0887"
             ],
             [
              0.1111111111111111,
              "#46039f"
             ],
             [
              0.2222222222222222,
              "#7201a8"
             ],
             [
              0.3333333333333333,
              "#9c179e"
             ],
             [
              0.4444444444444444,
              "#bd3786"
             ],
             [
              0.5555555555555556,
              "#d8576b"
             ],
             [
              0.6666666666666666,
              "#ed7953"
             ],
             [
              0.7777777777777778,
              "#fb9f3a"
             ],
             [
              0.8888888888888888,
              "#fdca26"
             ],
             [
              1,
              "#f0f921"
             ]
            ],
            "type": "heatmap"
           }
          ],
          "heatmapgl": [
           {
            "colorbar": {
             "outlinewidth": 0,
             "ticks": ""
            },
            "colorscale": [
             [
              0,
              "#0d0887"
             ],
             [
              0.1111111111111111,
              "#46039f"
             ],
             [
              0.2222222222222222,
              "#7201a8"
             ],
             [
              0.3333333333333333,
              "#9c179e"
             ],
             [
              0.4444444444444444,
              "#bd3786"
             ],
             [
              0.5555555555555556,
              "#d8576b"
             ],
             [
              0.6666666666666666,
              "#ed7953"
             ],
             [
              0.7777777777777778,
              "#fb9f3a"
             ],
             [
              0.8888888888888888,
              "#fdca26"
             ],
             [
              1,
              "#f0f921"
             ]
            ],
            "type": "heatmapgl"
           }
          ],
          "histogram": [
           {
            "marker": {
             "pattern": {
              "fillmode": "overlay",
              "size": 10,
              "solidity": 0.2
             }
            },
            "type": "histogram"
           }
          ],
          "histogram2d": [
           {
            "colorbar": {
             "outlinewidth": 0,
             "ticks": ""
            },
            "colorscale": [
             [
              0,
              "#0d0887"
             ],
             [
              0.1111111111111111,
              "#46039f"
             ],
             [
              0.2222222222222222,
              "#7201a8"
             ],
             [
              0.3333333333333333,
              "#9c179e"
             ],
             [
              0.4444444444444444,
              "#bd3786"
             ],
             [
              0.5555555555555556,
              "#d8576b"
             ],
             [
              0.6666666666666666,
              "#ed7953"
             ],
             [
              0.7777777777777778,
              "#fb9f3a"
             ],
             [
              0.8888888888888888,
              "#fdca26"
             ],
             [
              1,
              "#f0f921"
             ]
            ],
            "type": "histogram2d"
           }
          ],
          "histogram2dcontour": [
           {
            "colorbar": {
             "outlinewidth": 0,
             "ticks": ""
            },
            "colorscale": [
             [
              0,
              "#0d0887"
             ],
             [
              0.1111111111111111,
              "#46039f"
             ],
             [
              0.2222222222222222,
              "#7201a8"
             ],
             [
              0.3333333333333333,
              "#9c179e"
             ],
             [
              0.4444444444444444,
              "#bd3786"
             ],
             [
              0.5555555555555556,
              "#d8576b"
             ],
             [
              0.6666666666666666,
              "#ed7953"
             ],
             [
              0.7777777777777778,
              "#fb9f3a"
             ],
             [
              0.8888888888888888,
              "#fdca26"
             ],
             [
              1,
              "#f0f921"
             ]
            ],
            "type": "histogram2dcontour"
           }
          ],
          "mesh3d": [
           {
            "colorbar": {
             "outlinewidth": 0,
             "ticks": ""
            },
            "type": "mesh3d"
           }
          ],
          "parcoords": [
           {
            "line": {
             "colorbar": {
              "outlinewidth": 0,
              "ticks": ""
             }
            },
            "type": "parcoords"
           }
          ],
          "pie": [
           {
            "automargin": true,
            "type": "pie"
           }
          ],
          "scatter": [
           {
            "fillpattern": {
             "fillmode": "overlay",
             "size": 10,
             "solidity": 0.2
            },
            "type": "scatter"
           }
          ],
          "scatter3d": [
           {
            "line": {
             "colorbar": {
              "outlinewidth": 0,
              "ticks": ""
             }
            },
            "marker": {
             "colorbar": {
              "outlinewidth": 0,
              "ticks": ""
             }
            },
            "type": "scatter3d"
           }
          ],
          "scattercarpet": [
           {
            "marker": {
             "colorbar": {
              "outlinewidth": 0,
              "ticks": ""
             }
            },
            "type": "scattercarpet"
           }
          ],
          "scattergeo": [
           {
            "marker": {
             "colorbar": {
              "outlinewidth": 0,
              "ticks": ""
             }
            },
            "type": "scattergeo"
           }
          ],
          "scattergl": [
           {
            "marker": {
             "colorbar": {
              "outlinewidth": 0,
              "ticks": ""
             }
            },
            "type": "scattergl"
           }
          ],
          "scattermapbox": [
           {
            "marker": {
             "colorbar": {
              "outlinewidth": 0,
              "ticks": ""
             }
            },
            "type": "scattermapbox"
           }
          ],
          "scatterpolar": [
           {
            "marker": {
             "colorbar": {
              "outlinewidth": 0,
              "ticks": ""
             }
            },
            "type": "scatterpolar"
           }
          ],
          "scatterpolargl": [
           {
            "marker": {
             "colorbar": {
              "outlinewidth": 0,
              "ticks": ""
             }
            },
            "type": "scatterpolargl"
           }
          ],
          "scatterternary": [
           {
            "marker": {
             "colorbar": {
              "outlinewidth": 0,
              "ticks": ""
             }
            },
            "type": "scatterternary"
           }
          ],
          "surface": [
           {
            "colorbar": {
             "outlinewidth": 0,
             "ticks": ""
            },
            "colorscale": [
             [
              0,
              "#0d0887"
             ],
             [
              0.1111111111111111,
              "#46039f"
             ],
             [
              0.2222222222222222,
              "#7201a8"
             ],
             [
              0.3333333333333333,
              "#9c179e"
             ],
             [
              0.4444444444444444,
              "#bd3786"
             ],
             [
              0.5555555555555556,
              "#d8576b"
             ],
             [
              0.6666666666666666,
              "#ed7953"
             ],
             [
              0.7777777777777778,
              "#fb9f3a"
             ],
             [
              0.8888888888888888,
              "#fdca26"
             ],
             [
              1,
              "#f0f921"
             ]
            ],
            "type": "surface"
           }
          ],
          "table": [
           {
            "cells": {
             "fill": {
              "color": "#EBF0F8"
             },
             "line": {
              "color": "white"
             }
            },
            "header": {
             "fill": {
              "color": "#C8D4E3"
             },
             "line": {
              "color": "white"
             }
            },
            "type": "table"
           }
          ]
         },
         "layout": {
          "annotationdefaults": {
           "arrowcolor": "#2a3f5f",
           "arrowhead": 0,
           "arrowwidth": 1
          },
          "autotypenumbers": "strict",
          "coloraxis": {
           "colorbar": {
            "outlinewidth": 0,
            "ticks": ""
           }
          },
          "colorscale": {
           "diverging": [
            [
             0,
             "#8e0152"
            ],
            [
             0.1,
             "#c51b7d"
            ],
            [
             0.2,
             "#de77ae"
            ],
            [
             0.3,
             "#f1b6da"
            ],
            [
             0.4,
             "#fde0ef"
            ],
            [
             0.5,
             "#f7f7f7"
            ],
            [
             0.6,
             "#e6f5d0"
            ],
            [
             0.7,
             "#b8e186"
            ],
            [
             0.8,
             "#7fbc41"
            ],
            [
             0.9,
             "#4d9221"
            ],
            [
             1,
             "#276419"
            ]
           ],
           "sequential": [
            [
             0,
             "#0d0887"
            ],
            [
             0.1111111111111111,
             "#46039f"
            ],
            [
             0.2222222222222222,
             "#7201a8"
            ],
            [
             0.3333333333333333,
             "#9c179e"
            ],
            [
             0.4444444444444444,
             "#bd3786"
            ],
            [
             0.5555555555555556,
             "#d8576b"
            ],
            [
             0.6666666666666666,
             "#ed7953"
            ],
            [
             0.7777777777777778,
             "#fb9f3a"
            ],
            [
             0.8888888888888888,
             "#fdca26"
            ],
            [
             1,
             "#f0f921"
            ]
           ],
           "sequentialminus": [
            [
             0,
             "#0d0887"
            ],
            [
             0.1111111111111111,
             "#46039f"
            ],
            [
             0.2222222222222222,
             "#7201a8"
            ],
            [
             0.3333333333333333,
             "#9c179e"
            ],
            [
             0.4444444444444444,
             "#bd3786"
            ],
            [
             0.5555555555555556,
             "#d8576b"
            ],
            [
             0.6666666666666666,
             "#ed7953"
            ],
            [
             0.7777777777777778,
             "#fb9f3a"
            ],
            [
             0.8888888888888888,
             "#fdca26"
            ],
            [
             1,
             "#f0f921"
            ]
           ]
          },
          "colorway": [
           "#636efa",
           "#EF553B",
           "#00cc96",
           "#ab63fa",
           "#FFA15A",
           "#19d3f3",
           "#FF6692",
           "#B6E880",
           "#FF97FF",
           "#FECB52"
          ],
          "font": {
           "color": "#2a3f5f"
          },
          "geo": {
           "bgcolor": "white",
           "lakecolor": "white",
           "landcolor": "#E5ECF6",
           "showlakes": true,
           "showland": true,
           "subunitcolor": "white"
          },
          "hoverlabel": {
           "align": "left"
          },
          "hovermode": "closest",
          "mapbox": {
           "style": "light"
          },
          "paper_bgcolor": "white",
          "plot_bgcolor": "#E5ECF6",
          "polar": {
           "angularaxis": {
            "gridcolor": "white",
            "linecolor": "white",
            "ticks": ""
           },
           "bgcolor": "#E5ECF6",
           "radialaxis": {
            "gridcolor": "white",
            "linecolor": "white",
            "ticks": ""
           }
          },
          "scene": {
           "xaxis": {
            "backgroundcolor": "#E5ECF6",
            "gridcolor": "white",
            "gridwidth": 2,
            "linecolor": "white",
            "showbackground": true,
            "ticks": "",
            "zerolinecolor": "white"
           },
           "yaxis": {
            "backgroundcolor": "#E5ECF6",
            "gridcolor": "white",
            "gridwidth": 2,
            "linecolor": "white",
            "showbackground": true,
            "ticks": "",
            "zerolinecolor": "white"
           },
           "zaxis": {
            "backgroundcolor": "#E5ECF6",
            "gridcolor": "white",
            "gridwidth": 2,
            "linecolor": "white",
            "showbackground": true,
            "ticks": "",
            "zerolinecolor": "white"
           }
          },
          "shapedefaults": {
           "line": {
            "color": "#2a3f5f"
           }
          },
          "ternary": {
           "aaxis": {
            "gridcolor": "white",
            "linecolor": "white",
            "ticks": ""
           },
           "baxis": {
            "gridcolor": "white",
            "linecolor": "white",
            "ticks": ""
           },
           "bgcolor": "#E5ECF6",
           "caxis": {
            "gridcolor": "white",
            "linecolor": "white",
            "ticks": ""
           }
          },
          "title": {
           "x": 0.05
          },
          "xaxis": {
           "automargin": true,
           "gridcolor": "white",
           "linecolor": "white",
           "ticks": "",
           "title": {
            "standoff": 15
           },
           "zerolinecolor": "white",
           "zerolinewidth": 2
          },
          "yaxis": {
           "automargin": true,
           "gridcolor": "white",
           "linecolor": "white",
           "ticks": "",
           "title": {
            "standoff": 15
           },
           "zerolinecolor": "white",
           "zerolinewidth": 2
          }
         }
        },
        "title": {
         "text": "T-SNE Distribution"
        },
        "width": 600,
        "xaxis": {
         "anchor": "y",
         "domain": [
          0,
          1
         ],
         "title": {
          "text": "x"
         }
        },
        "yaxis": {
         "anchor": "x",
         "domain": [
          0,
          1
         ],
         "scaleanchor": "x",
         "scaleratio": 1,
         "title": {
          "text": "y"
         }
        }
       }
      }
     },
     "metadata": {},
     "output_type": "display_data"
    }
   ],
   "source": [
    "import plotly.express as px\n",
    "import nbformat\n",
    "\n",
    "\n",
    "x = tsne.embedding_[:,0]\n",
    "y = tsne.embedding_[:,1]\n",
    "labels = X.index\n",
    "\n",
    "df = pd.DataFrame(tsne.embedding_).set_index(labels)\n",
    "df.rename({0:\"x\", 1:\"y\"}, axis=1, inplace=True)\n",
    "\n",
    "country_to_region = country_name_conversion[[\"Country Name\",\"region\"]].set_index(\"Country Name\").to_dict()[\"region\"]\n",
    "\n",
    "country_names = []\n",
    "regions = []\n",
    "for ISO2 in X.index:\n",
    "    country_names.append(two_way_country_lookup[ISO2])\n",
    "for country in country_names:\n",
    "  regions.append(country_to_region[country])\n",
    "    \n",
    "df[\"country_name\"] = country_names\n",
    "df[\"region\"] = regions\n",
    "\n",
    "\n",
    "\n",
    "\n",
    "fig = px.scatter(df, x = \"x\", y = \"y\", color = \"region\", hover_data = [\"country_name\"], width=600, height=500)\n",
    "fig.update_layout(title = \"T-SNE Distribution\")\n",
    "\n",
    "fig.update_yaxes(\n",
    "    scaleanchor=\"x\",\n",
    "    scaleratio=1,\n",
    "  )\n",
    "\n",
    "fig.show()\n"
   ]
  }
 ],
 "metadata": {
  "kernelspec": {
   "display_name": "climate_policy_network_sci",
   "language": "python",
   "name": "python3"
  },
  "language_info": {
   "codemirror_mode": {
    "name": "ipython",
    "version": 3
   },
   "file_extension": ".py",
   "mimetype": "text/x-python",
   "name": "python",
   "nbconvert_exporter": "python",
   "pygments_lexer": "ipython3",
   "version": "3.11.3"
  },
  "orig_nbformat": 4
 },
 "nbformat": 4,
 "nbformat_minor": 2
}
